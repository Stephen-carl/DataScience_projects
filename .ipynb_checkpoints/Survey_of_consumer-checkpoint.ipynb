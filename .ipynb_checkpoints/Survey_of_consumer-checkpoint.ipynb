{
 "cells": [
  {
   "cell_type": "code",
   "execution_count": 81,
   "id": "bcfc7d23-9c35-47b3-872a-fa38c7c67801",
   "metadata": {},
   "outputs": [],
   "source": [
    "import pandas as pd\n",
    "import plotly.express as px\n",
    "import numpy as np\n",
    "import seaborn as sns\n",
    "import matplotlib.pyplot as plt\n",
    "\n",
    "from scipy.stats.mstats import trimmed_var\n",
    "from sklearn.preprocessing import StandardScaler\n",
    "from sklearn.pipeline import make_pipeline\n",
    "from sklearn.cluster import KMeans\n",
    "from sklearn.decomposition import PCA\n",
    "from sklearn.metrics import silhouette_score"
   ]
  },
  {
   "cell_type": "code",
   "execution_count": 3,
   "id": "bb9de3c1-ab09-4c74-bb26-4d1982242554",
   "metadata": {},
   "outputs": [
    {
     "data": {
      "text/plain": [
       "(22975, 357)"
      ]
     },
     "execution_count": 3,
     "metadata": {},
     "output_type": "execute_result"
    }
   ],
   "source": [
    "df = pd.read_csv(\"C:/Users/HP/Documents/Stephen/DataScience_projects/SCFP2022.csv\")\n",
    "df.shape"
   ]
  },
  {
   "cell_type": "code",
   "execution_count": 4,
   "id": "799015e1-132c-44c5-adee-f23f04fc5e1d",
   "metadata": {},
   "outputs": [
    {
     "data": {
      "text/html": [
       "<div>\n",
       "<style scoped>\n",
       "    .dataframe tbody tr th:only-of-type {\n",
       "        vertical-align: middle;\n",
       "    }\n",
       "\n",
       "    .dataframe tbody tr th {\n",
       "        vertical-align: top;\n",
       "    }\n",
       "\n",
       "    .dataframe thead th {\n",
       "        text-align: right;\n",
       "    }\n",
       "</style>\n",
       "<table border=\"1\" class=\"dataframe\">\n",
       "  <thead>\n",
       "    <tr style=\"text-align: right;\">\n",
       "      <th></th>\n",
       "      <th>YY1</th>\n",
       "      <th>Y1</th>\n",
       "      <th>WGT</th>\n",
       "      <th>HHSEX</th>\n",
       "      <th>AGE</th>\n",
       "      <th>AGECL</th>\n",
       "      <th>EDUC</th>\n",
       "      <th>EDCL</th>\n",
       "      <th>MARRIED</th>\n",
       "      <th>KIDS</th>\n",
       "      <th>...</th>\n",
       "      <th>NWCAT</th>\n",
       "      <th>INCCAT</th>\n",
       "      <th>ASSETCAT</th>\n",
       "      <th>NINCCAT</th>\n",
       "      <th>NINC2CAT</th>\n",
       "      <th>NWPCTLECAT</th>\n",
       "      <th>INCPCTLECAT</th>\n",
       "      <th>NINCPCTLECAT</th>\n",
       "      <th>INCQRTCAT</th>\n",
       "      <th>NINCQRTCAT</th>\n",
       "    </tr>\n",
       "  </thead>\n",
       "  <tbody>\n",
       "    <tr>\n",
       "      <th>0</th>\n",
       "      <td>1</td>\n",
       "      <td>11</td>\n",
       "      <td>3027.956120</td>\n",
       "      <td>2</td>\n",
       "      <td>70</td>\n",
       "      <td>5</td>\n",
       "      <td>9</td>\n",
       "      <td>3</td>\n",
       "      <td>2</td>\n",
       "      <td>2</td>\n",
       "      <td>...</td>\n",
       "      <td>4</td>\n",
       "      <td>2</td>\n",
       "      <td>4</td>\n",
       "      <td>2</td>\n",
       "      <td>1</td>\n",
       "      <td>8</td>\n",
       "      <td>3</td>\n",
       "      <td>3</td>\n",
       "      <td>2</td>\n",
       "      <td>1</td>\n",
       "    </tr>\n",
       "    <tr>\n",
       "      <th>1</th>\n",
       "      <td>1</td>\n",
       "      <td>12</td>\n",
       "      <td>3054.900065</td>\n",
       "      <td>2</td>\n",
       "      <td>70</td>\n",
       "      <td>5</td>\n",
       "      <td>9</td>\n",
       "      <td>3</td>\n",
       "      <td>2</td>\n",
       "      <td>2</td>\n",
       "      <td>...</td>\n",
       "      <td>4</td>\n",
       "      <td>2</td>\n",
       "      <td>5</td>\n",
       "      <td>2</td>\n",
       "      <td>1</td>\n",
       "      <td>8</td>\n",
       "      <td>3</td>\n",
       "      <td>3</td>\n",
       "      <td>2</td>\n",
       "      <td>1</td>\n",
       "    </tr>\n",
       "    <tr>\n",
       "      <th>2</th>\n",
       "      <td>1</td>\n",
       "      <td>13</td>\n",
       "      <td>3163.637766</td>\n",
       "      <td>2</td>\n",
       "      <td>70</td>\n",
       "      <td>5</td>\n",
       "      <td>9</td>\n",
       "      <td>3</td>\n",
       "      <td>2</td>\n",
       "      <td>2</td>\n",
       "      <td>...</td>\n",
       "      <td>4</td>\n",
       "      <td>2</td>\n",
       "      <td>4</td>\n",
       "      <td>2</td>\n",
       "      <td>1</td>\n",
       "      <td>8</td>\n",
       "      <td>3</td>\n",
       "      <td>3</td>\n",
       "      <td>1</td>\n",
       "      <td>1</td>\n",
       "    </tr>\n",
       "    <tr>\n",
       "      <th>3</th>\n",
       "      <td>1</td>\n",
       "      <td>14</td>\n",
       "      <td>3166.228463</td>\n",
       "      <td>2</td>\n",
       "      <td>70</td>\n",
       "      <td>5</td>\n",
       "      <td>9</td>\n",
       "      <td>3</td>\n",
       "      <td>2</td>\n",
       "      <td>2</td>\n",
       "      <td>...</td>\n",
       "      <td>3</td>\n",
       "      <td>2</td>\n",
       "      <td>4</td>\n",
       "      <td>1</td>\n",
       "      <td>1</td>\n",
       "      <td>6</td>\n",
       "      <td>3</td>\n",
       "      <td>2</td>\n",
       "      <td>1</td>\n",
       "      <td>1</td>\n",
       "    </tr>\n",
       "    <tr>\n",
       "      <th>4</th>\n",
       "      <td>1</td>\n",
       "      <td>15</td>\n",
       "      <td>3235.624715</td>\n",
       "      <td>2</td>\n",
       "      <td>70</td>\n",
       "      <td>5</td>\n",
       "      <td>9</td>\n",
       "      <td>3</td>\n",
       "      <td>2</td>\n",
       "      <td>2</td>\n",
       "      <td>...</td>\n",
       "      <td>3</td>\n",
       "      <td>2</td>\n",
       "      <td>4</td>\n",
       "      <td>2</td>\n",
       "      <td>1</td>\n",
       "      <td>8</td>\n",
       "      <td>3</td>\n",
       "      <td>3</td>\n",
       "      <td>1</td>\n",
       "      <td>1</td>\n",
       "    </tr>\n",
       "    <tr>\n",
       "      <th>5</th>\n",
       "      <td>2</td>\n",
       "      <td>21</td>\n",
       "      <td>236.634754</td>\n",
       "      <td>1</td>\n",
       "      <td>46</td>\n",
       "      <td>3</td>\n",
       "      <td>12</td>\n",
       "      <td>4</td>\n",
       "      <td>2</td>\n",
       "      <td>0</td>\n",
       "      <td>...</td>\n",
       "      <td>4</td>\n",
       "      <td>5</td>\n",
       "      <td>5</td>\n",
       "      <td>5</td>\n",
       "      <td>2</td>\n",
       "      <td>8</td>\n",
       "      <td>9</td>\n",
       "      <td>9</td>\n",
       "      <td>4</td>\n",
       "      <td>4</td>\n",
       "    </tr>\n",
       "    <tr>\n",
       "      <th>6</th>\n",
       "      <td>2</td>\n",
       "      <td>22</td>\n",
       "      <td>245.848398</td>\n",
       "      <td>1</td>\n",
       "      <td>46</td>\n",
       "      <td>3</td>\n",
       "      <td>12</td>\n",
       "      <td>4</td>\n",
       "      <td>2</td>\n",
       "      <td>0</td>\n",
       "      <td>...</td>\n",
       "      <td>4</td>\n",
       "      <td>5</td>\n",
       "      <td>5</td>\n",
       "      <td>5</td>\n",
       "      <td>2</td>\n",
       "      <td>8</td>\n",
       "      <td>9</td>\n",
       "      <td>9</td>\n",
       "      <td>4</td>\n",
       "      <td>4</td>\n",
       "    </tr>\n",
       "    <tr>\n",
       "      <th>7</th>\n",
       "      <td>2</td>\n",
       "      <td>23</td>\n",
       "      <td>253.103477</td>\n",
       "      <td>1</td>\n",
       "      <td>46</td>\n",
       "      <td>3</td>\n",
       "      <td>12</td>\n",
       "      <td>4</td>\n",
       "      <td>2</td>\n",
       "      <td>0</td>\n",
       "      <td>...</td>\n",
       "      <td>4</td>\n",
       "      <td>5</td>\n",
       "      <td>5</td>\n",
       "      <td>5</td>\n",
       "      <td>2</td>\n",
       "      <td>8</td>\n",
       "      <td>9</td>\n",
       "      <td>9</td>\n",
       "      <td>4</td>\n",
       "      <td>4</td>\n",
       "    </tr>\n",
       "    <tr>\n",
       "      <th>8</th>\n",
       "      <td>2</td>\n",
       "      <td>24</td>\n",
       "      <td>252.908118</td>\n",
       "      <td>1</td>\n",
       "      <td>46</td>\n",
       "      <td>3</td>\n",
       "      <td>12</td>\n",
       "      <td>4</td>\n",
       "      <td>2</td>\n",
       "      <td>0</td>\n",
       "      <td>...</td>\n",
       "      <td>4</td>\n",
       "      <td>5</td>\n",
       "      <td>5</td>\n",
       "      <td>5</td>\n",
       "      <td>2</td>\n",
       "      <td>8</td>\n",
       "      <td>9</td>\n",
       "      <td>9</td>\n",
       "      <td>4</td>\n",
       "      <td>4</td>\n",
       "    </tr>\n",
       "    <tr>\n",
       "      <th>9</th>\n",
       "      <td>2</td>\n",
       "      <td>25</td>\n",
       "      <td>253.811312</td>\n",
       "      <td>1</td>\n",
       "      <td>46</td>\n",
       "      <td>3</td>\n",
       "      <td>12</td>\n",
       "      <td>4</td>\n",
       "      <td>2</td>\n",
       "      <td>0</td>\n",
       "      <td>...</td>\n",
       "      <td>4</td>\n",
       "      <td>5</td>\n",
       "      <td>5</td>\n",
       "      <td>5</td>\n",
       "      <td>2</td>\n",
       "      <td>8</td>\n",
       "      <td>9</td>\n",
       "      <td>9</td>\n",
       "      <td>4</td>\n",
       "      <td>4</td>\n",
       "    </tr>\n",
       "  </tbody>\n",
       "</table>\n",
       "<p>10 rows × 357 columns</p>\n",
       "</div>"
      ],
      "text/plain": [
       "   YY1  Y1          WGT  HHSEX  AGE  AGECL  EDUC  EDCL  MARRIED  KIDS  ...  \\\n",
       "0    1  11  3027.956120      2   70      5     9     3        2     2  ...   \n",
       "1    1  12  3054.900065      2   70      5     9     3        2     2  ...   \n",
       "2    1  13  3163.637766      2   70      5     9     3        2     2  ...   \n",
       "3    1  14  3166.228463      2   70      5     9     3        2     2  ...   \n",
       "4    1  15  3235.624715      2   70      5     9     3        2     2  ...   \n",
       "5    2  21   236.634754      1   46      3    12     4        2     0  ...   \n",
       "6    2  22   245.848398      1   46      3    12     4        2     0  ...   \n",
       "7    2  23   253.103477      1   46      3    12     4        2     0  ...   \n",
       "8    2  24   252.908118      1   46      3    12     4        2     0  ...   \n",
       "9    2  25   253.811312      1   46      3    12     4        2     0  ...   \n",
       "\n",
       "   NWCAT  INCCAT  ASSETCAT  NINCCAT  NINC2CAT  NWPCTLECAT  INCPCTLECAT  \\\n",
       "0      4       2         4        2         1           8            3   \n",
       "1      4       2         5        2         1           8            3   \n",
       "2      4       2         4        2         1           8            3   \n",
       "3      3       2         4        1         1           6            3   \n",
       "4      3       2         4        2         1           8            3   \n",
       "5      4       5         5        5         2           8            9   \n",
       "6      4       5         5        5         2           8            9   \n",
       "7      4       5         5        5         2           8            9   \n",
       "8      4       5         5        5         2           8            9   \n",
       "9      4       5         5        5         2           8            9   \n",
       "\n",
       "   NINCPCTLECAT  INCQRTCAT  NINCQRTCAT  \n",
       "0             3          2           1  \n",
       "1             3          2           1  \n",
       "2             3          1           1  \n",
       "3             2          1           1  \n",
       "4             3          1           1  \n",
       "5             9          4           4  \n",
       "6             9          4           4  \n",
       "7             9          4           4  \n",
       "8             9          4           4  \n",
       "9             9          4           4  \n",
       "\n",
       "[10 rows x 357 columns]"
      ]
     },
     "execution_count": 4,
     "metadata": {},
     "output_type": "execute_result"
    }
   ],
   "source": [
    "df.head(10)"
   ]
  },
  {
   "cell_type": "code",
   "execution_count": 5,
   "id": "ed11876c-82f6-4c1f-b853-ff6539e188d4",
   "metadata": {},
   "outputs": [],
   "source": [
    "# i need to get the extracts i want to work on, so i will do that, and check for the features, i would want to use\n",
    "# Aim is to show the distrubution and clusters of middle class business onwers for a campaign team to know the kind of service to render to the various clusters\n"
   ]
  },
  {
   "cell_type": "code",
   "execution_count": 6,
   "id": "a8cca4ae-da4c-413a-800c-f4c1150e0b33",
   "metadata": {},
   "outputs": [
    {
     "data": {
      "text/plain": [
       "count    22975.000000\n",
       "mean         3.620022\n",
       "std          1.829824\n",
       "min          1.000000\n",
       "25%          2.000000\n",
       "50%          4.000000\n",
       "75%          6.000000\n",
       "max          6.000000\n",
       "Name: INCCAT, dtype: float64"
      ]
     },
     "execution_count": 6,
     "metadata": {},
     "output_type": "execute_result"
    }
   ],
   "source": [
    "df[\"INCCAT\"].describe()"
   ]
  },
  {
   "cell_type": "code",
   "execution_count": 7,
   "id": "46dea692-757d-417b-b81a-62bb77701639",
   "metadata": {},
   "outputs": [],
   "source": [
    "# replace the groups with the percentile groups\n",
    "inccat_dict = {\n",
    "    1: \"0-20\",\n",
    "    2: \"21-39.9\",\n",
    "    3: \"40-59.9\",\n",
    "    4: \"60-79.9\",\n",
    "    5: \"80-89.9\",\n",
    "    6: \"90-100\",\n",
    "}\n",
    "# replace INCCAT with the inccat group, group by Business owners, get the value count, rename the normalized cloumn, send to frame and reset the index\n",
    "df_inccat = df[\"INCCAT\"].replace(inccat_dict).groupby(df[\"HBUS\"]).value_counts(normalize = True).rename(\"Frequency\").to_frame().reset_index()"
   ]
  },
  {
   "cell_type": "code",
   "execution_count": 8,
   "id": "f90e8ce9-1b3f-46d5-9690-ab5ecfa41db3",
   "metadata": {},
   "outputs": [
    {
     "data": {
      "text/html": [
       "<div>\n",
       "<style scoped>\n",
       "    .dataframe tbody tr th:only-of-type {\n",
       "        vertical-align: middle;\n",
       "    }\n",
       "\n",
       "    .dataframe tbody tr th {\n",
       "        vertical-align: top;\n",
       "    }\n",
       "\n",
       "    .dataframe thead th {\n",
       "        text-align: right;\n",
       "    }\n",
       "</style>\n",
       "<table border=\"1\" class=\"dataframe\">\n",
       "  <thead>\n",
       "    <tr style=\"text-align: right;\">\n",
       "      <th></th>\n",
       "      <th>HBUS</th>\n",
       "      <th>INCCAT</th>\n",
       "      <th>Frequency</th>\n",
       "    </tr>\n",
       "  </thead>\n",
       "  <tbody>\n",
       "    <tr>\n",
       "      <th>0</th>\n",
       "      <td>0</td>\n",
       "      <td>0-20</td>\n",
       "      <td>0.217373</td>\n",
       "    </tr>\n",
       "    <tr>\n",
       "      <th>1</th>\n",
       "      <td>0</td>\n",
       "      <td>21-39.9</td>\n",
       "      <td>0.202664</td>\n",
       "    </tr>\n",
       "    <tr>\n",
       "      <th>2</th>\n",
       "      <td>0</td>\n",
       "      <td>40-59.9</td>\n",
       "      <td>0.190186</td>\n",
       "    </tr>\n",
       "    <tr>\n",
       "      <th>3</th>\n",
       "      <td>0</td>\n",
       "      <td>60-79.9</td>\n",
       "      <td>0.173247</td>\n",
       "    </tr>\n",
       "    <tr>\n",
       "      <th>4</th>\n",
       "      <td>0</td>\n",
       "      <td>90-100</td>\n",
       "      <td>0.118995</td>\n",
       "    </tr>\n",
       "    <tr>\n",
       "      <th>5</th>\n",
       "      <td>0</td>\n",
       "      <td>80-89.9</td>\n",
       "      <td>0.097535</td>\n",
       "    </tr>\n",
       "    <tr>\n",
       "      <th>6</th>\n",
       "      <td>1</td>\n",
       "      <td>90-100</td>\n",
       "      <td>0.622142</td>\n",
       "    </tr>\n",
       "    <tr>\n",
       "      <th>7</th>\n",
       "      <td>1</td>\n",
       "      <td>60-79.9</td>\n",
       "      <td>0.103977</td>\n",
       "    </tr>\n",
       "    <tr>\n",
       "      <th>8</th>\n",
       "      <td>1</td>\n",
       "      <td>80-89.9</td>\n",
       "      <td>0.101159</td>\n",
       "    </tr>\n",
       "    <tr>\n",
       "      <th>9</th>\n",
       "      <td>1</td>\n",
       "      <td>40-59.9</td>\n",
       "      <td>0.062167</td>\n",
       "    </tr>\n",
       "    <tr>\n",
       "      <th>10</th>\n",
       "      <td>1</td>\n",
       "      <td>0-20</td>\n",
       "      <td>0.059818</td>\n",
       "    </tr>\n",
       "    <tr>\n",
       "      <th>11</th>\n",
       "      <td>1</td>\n",
       "      <td>21-39.9</td>\n",
       "      <td>0.050736</td>\n",
       "    </tr>\n",
       "  </tbody>\n",
       "</table>\n",
       "</div>"
      ],
      "text/plain": [
       "    HBUS   INCCAT  Frequency\n",
       "0      0     0-20   0.217373\n",
       "1      0  21-39.9   0.202664\n",
       "2      0  40-59.9   0.190186\n",
       "3      0  60-79.9   0.173247\n",
       "4      0   90-100   0.118995\n",
       "5      0  80-89.9   0.097535\n",
       "6      1   90-100   0.622142\n",
       "7      1  60-79.9   0.103977\n",
       "8      1  80-89.9   0.101159\n",
       "9      1  40-59.9   0.062167\n",
       "10     1     0-20   0.059818\n",
       "11     1  21-39.9   0.050736"
      ]
     },
     "execution_count": 8,
     "metadata": {},
     "output_type": "execute_result"
    }
   ],
   "source": [
    "df_inccat.head(12)"
   ]
  },
  {
   "cell_type": "code",
   "execution_count": 67,
   "id": "ae738d89-e560-493e-a5ac-7dbf1248cdf1",
   "metadata": {},
   "outputs": [
    {
     "ename": "AttributeError",
     "evalue": "'numpy.int64' object has no attribute 'startswith'",
     "output_type": "error",
     "traceback": [
      "\u001b[1;31m---------------------------------------------------------------------------\u001b[0m",
      "\u001b[1;31mAttributeError\u001b[0m                            Traceback (most recent call last)",
      "Cell \u001b[1;32mIn[67], line 1\u001b[0m\n\u001b[1;32m----> 1\u001b[0m sns\u001b[38;5;241m.\u001b[39mbarplot(data \u001b[38;5;241m=\u001b[39m df_inccat, x \u001b[38;5;241m=\u001b[39m \u001b[38;5;124m\"\u001b[39m\u001b[38;5;124mINCCAT\u001b[39m\u001b[38;5;124m\"\u001b[39m, y \u001b[38;5;241m=\u001b[39m \u001b[38;5;124m\"\u001b[39m\u001b[38;5;124mFrequency\u001b[39m\u001b[38;5;124m\"\u001b[39m, hue \u001b[38;5;241m=\u001b[39m \u001b[38;5;124m\"\u001b[39m\u001b[38;5;124mHBUS\u001b[39m\u001b[38;5;124m\"\u001b[39m)\n\u001b[0;32m      2\u001b[0m plt\u001b[38;5;241m.\u001b[39mtitle(\u001b[38;5;124m\"\u001b[39m\u001b[38;5;124mIncome Distribution: Business Owners vs. Non-Business Owners\u001b[39m\u001b[38;5;124m\"\u001b[39m)\n\u001b[0;32m      3\u001b[0m plt\u001b[38;5;241m.\u001b[39mxlabel(\u001b[38;5;124m\"\u001b[39m\u001b[38;5;124mIncome Category\u001b[39m\u001b[38;5;124m\"\u001b[39m)\n",
      "File \u001b[1;32m~\\anaconda3\\Lib\\site-packages\\seaborn\\categorical.py:2763\u001b[0m, in \u001b[0;36mbarplot\u001b[1;34m(data, x, y, hue, order, hue_order, estimator, errorbar, n_boot, units, seed, orient, color, palette, saturation, width, errcolor, errwidth, capsize, dodge, ci, ax, **kwargs)\u001b[0m\n\u001b[0;32m   2760\u001b[0m \u001b[38;5;28;01mif\u001b[39;00m ax \u001b[38;5;129;01mis\u001b[39;00m \u001b[38;5;28;01mNone\u001b[39;00m:\n\u001b[0;32m   2761\u001b[0m     ax \u001b[38;5;241m=\u001b[39m plt\u001b[38;5;241m.\u001b[39mgca()\n\u001b[1;32m-> 2763\u001b[0m plotter\u001b[38;5;241m.\u001b[39mplot(ax, kwargs)\n\u001b[0;32m   2764\u001b[0m \u001b[38;5;28;01mreturn\u001b[39;00m ax\n",
      "File \u001b[1;32m~\\anaconda3\\Lib\\site-packages\\seaborn\\categorical.py:1587\u001b[0m, in \u001b[0;36m_BarPlotter.plot\u001b[1;34m(self, ax, bar_kws)\u001b[0m\n\u001b[0;32m   1585\u001b[0m \u001b[38;5;250m\u001b[39m\u001b[38;5;124;03m\"\"\"Make the plot.\"\"\"\u001b[39;00m\n\u001b[0;32m   1586\u001b[0m \u001b[38;5;28mself\u001b[39m\u001b[38;5;241m.\u001b[39mdraw_bars(ax, bar_kws)\n\u001b[1;32m-> 1587\u001b[0m \u001b[38;5;28mself\u001b[39m\u001b[38;5;241m.\u001b[39mannotate_axes(ax)\n\u001b[0;32m   1588\u001b[0m \u001b[38;5;28;01mif\u001b[39;00m \u001b[38;5;28mself\u001b[39m\u001b[38;5;241m.\u001b[39morient \u001b[38;5;241m==\u001b[39m \u001b[38;5;124m\"\u001b[39m\u001b[38;5;124mh\u001b[39m\u001b[38;5;124m\"\u001b[39m:\n\u001b[0;32m   1589\u001b[0m     ax\u001b[38;5;241m.\u001b[39minvert_yaxis()\n",
      "File \u001b[1;32m~\\anaconda3\\Lib\\site-packages\\seaborn\\categorical.py:767\u001b[0m, in \u001b[0;36m_CategoricalPlotter.annotate_axes\u001b[1;34m(self, ax)\u001b[0m\n\u001b[0;32m    764\u001b[0m     ax\u001b[38;5;241m.\u001b[39mset_ylim(\u001b[38;5;241m-\u001b[39m\u001b[38;5;241m.5\u001b[39m, \u001b[38;5;28mlen\u001b[39m(\u001b[38;5;28mself\u001b[39m\u001b[38;5;241m.\u001b[39mplot_data) \u001b[38;5;241m-\u001b[39m \u001b[38;5;241m.5\u001b[39m, auto\u001b[38;5;241m=\u001b[39m\u001b[38;5;28;01mNone\u001b[39;00m)\n\u001b[0;32m    766\u001b[0m \u001b[38;5;28;01mif\u001b[39;00m \u001b[38;5;28mself\u001b[39m\u001b[38;5;241m.\u001b[39mhue_names \u001b[38;5;129;01mis\u001b[39;00m \u001b[38;5;129;01mnot\u001b[39;00m \u001b[38;5;28;01mNone\u001b[39;00m:\n\u001b[1;32m--> 767\u001b[0m     ax\u001b[38;5;241m.\u001b[39mlegend(loc\u001b[38;5;241m=\u001b[39m\u001b[38;5;124m\"\u001b[39m\u001b[38;5;124mbest\u001b[39m\u001b[38;5;124m\"\u001b[39m, title\u001b[38;5;241m=\u001b[39m\u001b[38;5;28mself\u001b[39m\u001b[38;5;241m.\u001b[39mhue_title)\n",
      "File \u001b[1;32m~\\anaconda3\\Lib\\site-packages\\matplotlib\\axes\\_axes.py:322\u001b[0m, in \u001b[0;36mAxes.legend\u001b[1;34m(self, *args, **kwargs)\u001b[0m\n\u001b[0;32m    204\u001b[0m \u001b[38;5;129m@_docstring\u001b[39m\u001b[38;5;241m.\u001b[39mdedent_interpd\n\u001b[0;32m    205\u001b[0m \u001b[38;5;28;01mdef\u001b[39;00m \u001b[38;5;21mlegend\u001b[39m(\u001b[38;5;28mself\u001b[39m, \u001b[38;5;241m*\u001b[39margs, \u001b[38;5;241m*\u001b[39m\u001b[38;5;241m*\u001b[39mkwargs):\n\u001b[0;32m    206\u001b[0m \u001b[38;5;250m    \u001b[39m\u001b[38;5;124;03m\"\"\"\u001b[39;00m\n\u001b[0;32m    207\u001b[0m \u001b[38;5;124;03m    Place a legend on the Axes.\u001b[39;00m\n\u001b[0;32m    208\u001b[0m \n\u001b[1;32m   (...)\u001b[0m\n\u001b[0;32m    320\u001b[0m \u001b[38;5;124;03m    .. plot:: gallery/text_labels_and_annotations/legend.py\u001b[39;00m\n\u001b[0;32m    321\u001b[0m \u001b[38;5;124;03m    \"\"\"\u001b[39;00m\n\u001b[1;32m--> 322\u001b[0m     handles, labels, kwargs \u001b[38;5;241m=\u001b[39m mlegend\u001b[38;5;241m.\u001b[39m_parse_legend_args([\u001b[38;5;28mself\u001b[39m], \u001b[38;5;241m*\u001b[39margs, \u001b[38;5;241m*\u001b[39m\u001b[38;5;241m*\u001b[39mkwargs)\n\u001b[0;32m    323\u001b[0m     \u001b[38;5;28mself\u001b[39m\u001b[38;5;241m.\u001b[39mlegend_ \u001b[38;5;241m=\u001b[39m mlegend\u001b[38;5;241m.\u001b[39mLegend(\u001b[38;5;28mself\u001b[39m, handles, labels, \u001b[38;5;241m*\u001b[39m\u001b[38;5;241m*\u001b[39mkwargs)\n\u001b[0;32m    324\u001b[0m     \u001b[38;5;28mself\u001b[39m\u001b[38;5;241m.\u001b[39mlegend_\u001b[38;5;241m.\u001b[39m_remove_method \u001b[38;5;241m=\u001b[39m \u001b[38;5;28mself\u001b[39m\u001b[38;5;241m.\u001b[39m_remove_legend\n",
      "File \u001b[1;32m~\\anaconda3\\Lib\\site-packages\\matplotlib\\legend.py:1361\u001b[0m, in \u001b[0;36m_parse_legend_args\u001b[1;34m(axs, handles, labels, *args, **kwargs)\u001b[0m\n\u001b[0;32m   1357\u001b[0m     handles \u001b[38;5;241m=\u001b[39m [handle \u001b[38;5;28;01mfor\u001b[39;00m handle, label\n\u001b[0;32m   1358\u001b[0m                \u001b[38;5;129;01min\u001b[39;00m \u001b[38;5;28mzip\u001b[39m(_get_legend_handles(axs, handlers), labels)]\n\u001b[0;32m   1360\u001b[0m \u001b[38;5;28;01melif\u001b[39;00m \u001b[38;5;28mlen\u001b[39m(args) \u001b[38;5;241m==\u001b[39m \u001b[38;5;241m0\u001b[39m:  \u001b[38;5;66;03m# 0 args: automatically detect labels and handles.\u001b[39;00m\n\u001b[1;32m-> 1361\u001b[0m     handles, labels \u001b[38;5;241m=\u001b[39m _get_legend_handles_labels(axs, handlers)\n\u001b[0;32m   1362\u001b[0m     \u001b[38;5;28;01mif\u001b[39;00m \u001b[38;5;129;01mnot\u001b[39;00m handles:\n\u001b[0;32m   1363\u001b[0m         log\u001b[38;5;241m.\u001b[39mwarning(\n\u001b[0;32m   1364\u001b[0m             \u001b[38;5;124m\"\u001b[39m\u001b[38;5;124mNo artists with labels found to put in legend.  Note that \u001b[39m\u001b[38;5;124m\"\u001b[39m\n\u001b[0;32m   1365\u001b[0m             \u001b[38;5;124m\"\u001b[39m\u001b[38;5;124martists whose label start with an underscore are ignored \u001b[39m\u001b[38;5;124m\"\u001b[39m\n\u001b[0;32m   1366\u001b[0m             \u001b[38;5;124m\"\u001b[39m\u001b[38;5;124mwhen legend() is called with no argument.\u001b[39m\u001b[38;5;124m\"\u001b[39m)\n",
      "File \u001b[1;32m~\\anaconda3\\Lib\\site-packages\\matplotlib\\legend.py:1291\u001b[0m, in \u001b[0;36m_get_legend_handles_labels\u001b[1;34m(axs, legend_handler_map)\u001b[0m\n\u001b[0;32m   1289\u001b[0m \u001b[38;5;28;01mfor\u001b[39;00m handle \u001b[38;5;129;01min\u001b[39;00m _get_legend_handles(axs, legend_handler_map):\n\u001b[0;32m   1290\u001b[0m     label \u001b[38;5;241m=\u001b[39m handle\u001b[38;5;241m.\u001b[39mget_label()\n\u001b[1;32m-> 1291\u001b[0m     \u001b[38;5;28;01mif\u001b[39;00m label \u001b[38;5;129;01mand\u001b[39;00m \u001b[38;5;129;01mnot\u001b[39;00m label\u001b[38;5;241m.\u001b[39mstartswith(\u001b[38;5;124m'\u001b[39m\u001b[38;5;124m_\u001b[39m\u001b[38;5;124m'\u001b[39m):\n\u001b[0;32m   1292\u001b[0m         handles\u001b[38;5;241m.\u001b[39mappend(handle)\n\u001b[0;32m   1293\u001b[0m         labels\u001b[38;5;241m.\u001b[39mappend(label)\n",
      "\u001b[1;31mAttributeError\u001b[0m: 'numpy.int64' object has no attribute 'startswith'"
     ]
    },
    {
     "data": {
      "image/png": "[encoded data removed]",
      "text/plain": [
       "<Figure size 640x480 with 1 Axes>"
      ]
     },
     "metadata": {},
     "output_type": "display_data"
    }
   ],
   "source": [
    "sns.barplot(data = df_inccat, x = \"INCCAT\", y = \"Frequency\", hue = \"HBUS\")\n",
    "plt.title(\"Income Distribution: Business Owners vs. Non-Business Owners\")\n",
    "plt.xlabel(\"Income Category\")\n",
    "plt.ylabel(\"Frequency\");"
   ]
  },
  {
   "cell_type": "code",
   "execution_count": 10,
   "id": "0755efbd-07e6-4bdf-a0b7-3fff61aa8aae",
   "metadata": {},
   "outputs": [
    {
     "name": "stdout",
     "output_type": "stream",
     "text": [
      "HBUS\n",
      "0    0.722046\n",
      "1    0.277954\n",
      "Name: proportion, dtype: float64\n"
     ]
    },
    {
     "data": {
      "text/plain": [
       "<Axes: xlabel='HBUS'>"
      ]
     },
     "execution_count": 10,
     "metadata": {},
     "output_type": "execute_result"
    },
    {
     "data": {
      "image/png": "[encoded data removed]",
      "text/plain": [
       "<Figure size 640x480 with 1 Axes>"
      ]
     },
     "metadata": {},
     "output_type": "display_data"
    }
   ],
   "source": [
    "# percentage of business owners to non-business owners\n",
    "print(df[\"HBUS\"].value_counts(normalize=True))\n",
    "df[\"HBUS\"].value_counts(normalize=True).plot(kind = \"bar\")"
   ]
  },
  {
   "cell_type": "code",
   "execution_count": 12,
   "id": "b3a1af57-737d-4628-bc87-afa0234935f7",
   "metadata": {},
   "outputs": [
    {
     "data": {
      "text/plain": [
       "pandas.core.series.Series"
      ]
     },
     "execution_count": 12,
     "metadata": {},
     "output_type": "execute_result"
    }
   ],
   "source": [
    "type(df[\"HBUS\"].value_counts(normalize=True))"
   ]
  },
  {
   "cell_type": "code",
   "execution_count": 14,
   "id": "494be230-93db-427a-b7bf-20c434ba12e0",
   "metadata": {},
   "outputs": [
    {
     "name": "stdout",
     "output_type": "stream",
     "text": [
      "The percentage of business onwers is 27.8%\n",
      "The percentage of non-business onwers is 72.2%\n"
     ]
    }
   ],
   "source": [
    "norm = df[\"HBUS\"].value_counts(normalize=True)\n",
    "print(f\"The percentage of business onwers is {round(norm[1] * 100, 2 )}%\")\n",
    "print(f\"The percentage of non-business onwers is {round(norm[0] * 100, 2 )}%\")"
   ]
  },
  {
   "cell_type": "code",
   "execution_count": 16,
   "id": "67c73948-d35b-4ec2-820d-77d469065a10",
   "metadata": {},
   "outputs": [],
   "source": [
    "# now i need to get the middle class business owner"
   ]
  },
  {
   "cell_type": "code",
   "execution_count": 18,
   "id": "5ae7100a-fdad-4dcd-b1fa-ab48d174db34",
   "metadata": {},
   "outputs": [
    {
     "data": {
      "text/plain": [
       "count    2.297500e+04\n",
       "mean     1.592855e+06\n",
       "std      1.244271e+07\n",
       "min      0.000000e+00\n",
       "25%      4.215556e+04\n",
       "50%      9.403933e+04\n",
       "75%      2.648234e+05\n",
       "max      4.582309e+08\n",
       "Name: INCOME, dtype: float64"
      ]
     },
     "execution_count": 18,
     "metadata": {},
     "output_type": "execute_result"
    }
   ],
   "source": [
    "df[\"INCOME\"].describe()"
   ]
  },
  {
   "cell_type": "code",
   "execution_count": 20,
   "id": "051be0f5-58c3-45a5-b7c1-1808f44795d2",
   "metadata": {},
   "outputs": [
    {
     "data": {
      "text/plain": [
       "(2609, 357)"
      ]
     },
     "execution_count": 20,
     "metadata": {},
     "output_type": "execute_result"
    }
   ],
   "source": [
    "# business ow ners from 500,000 to 10,000,000\n",
    "mask = ((df[\"HBUS\"] == 1) & ((df[\"INCOME\"] >= 5e5) & (df[\"INCOME\"] < 1e7)))\n",
    "df = df[mask]\n",
    "df.shape"
   ]
  },
  {
   "cell_type": "code",
   "execution_count": 22,
   "id": "a02c70f1-a7eb-4d27-a573-1528b7ba3881",
   "metadata": {},
   "outputs": [
    {
     "data": {
      "image/png": "[encoded data removed]",
      "text/plain": [
       "<Figure size 640x480 with 1 Axes>"
      ]
     },
     "metadata": {},
     "output_type": "display_data"
    }
   ],
   "source": [
    "# lets see their age distribution\n",
    "df[\"AGE\"].plot(kind = \"hist\");\n",
    "plt.xlabel(\"Age\")\n",
    "plt.ylabel(\"Frequency (Count)\")\n",
    "plt.title(\"Age Distribution of Middle Class Business Owners\");"
   ]
  },
  {
   "cell_type": "code",
   "execution_count": 24,
   "id": "02ee96d9-0fcd-45e9-b452-873c5411a045",
   "metadata": {},
   "outputs": [
    {
     "data": {
      "text/plain": [
       "BUS         3.072826e+14\n",
       "NHNFIN      4.243244e+14\n",
       "NFIN        4.577662e+14\n",
       "NETWORTH    1.082962e+15\n",
       "ASSET       1.112757e+15\n",
       "dtype: float64"
      ]
     },
     "execution_count": 24,
     "metadata": {},
     "output_type": "execute_result"
    }
   ],
   "source": [
    "# getting the top 5 featuers for the clustering\n",
    "df_five = df.apply(trimmed_var).sort_values().tail(5)\n",
    "df_five"
   ]
  },
  {
   "cell_type": "code",
   "execution_count": 28,
   "id": "bc909e9c-f1dc-4af7-8c5c-8e8528d97ac5",
   "metadata": {},
   "outputs": [
    {
     "data": {
      "text/plain": [
       "['BUS', 'NHNFIN', 'NFIN', 'NETWORTH', 'ASSET']"
      ]
     },
     "execution_count": 28,
     "metadata": {},
     "output_type": "execute_result"
    }
   ],
   "source": [
    "features = df_five.index.to_list()\n",
    "features"
   ]
  },
  {
   "cell_type": "code",
   "execution_count": 30,
   "id": "3eee5a86-2c20-4def-bbc1-760b52cfbe11",
   "metadata": {},
   "outputs": [
    {
     "data": {
      "text/plain": [
       "(2609, 5)"
      ]
     },
     "execution_count": 30,
     "metadata": {},
     "output_type": "execute_result"
    }
   ],
   "source": [
    "X = df[features]\n",
    "X.shape"
   ]
  },
  {
   "cell_type": "code",
   "execution_count": 38,
   "id": "97c5fc9e-0bd9-4172-a9ed-a1b751594d85",
   "metadata": {},
   "outputs": [
    {
     "name": "stderr",
     "output_type": "stream",
     "text": [
      "C:\\Users\\HP\\anaconda3\\Lib\\site-packages\\sklearn\\cluster\\_kmeans.py:870: FutureWarning: The default value of `n_init` will change from 10 to 'auto' in 1.4. Set the value of `n_init` explicitly to suppress the warning\n",
      "  warnings.warn(\n",
      "C:\\Users\\HP\\anaconda3\\Lib\\site-packages\\sklearn\\cluster\\_kmeans.py:870: FutureWarning: The default value of `n_init` will change from 10 to 'auto' in 1.4. Set the value of `n_init` explicitly to suppress the warning\n",
      "  warnings.warn(\n",
      "C:\\Users\\HP\\anaconda3\\Lib\\site-packages\\sklearn\\cluster\\_kmeans.py:870: FutureWarning: The default value of `n_init` will change from 10 to 'auto' in 1.4. Set the value of `n_init` explicitly to suppress the warning\n",
      "  warnings.warn(\n",
      "C:\\Users\\HP\\anaconda3\\Lib\\site-packages\\sklearn\\cluster\\_kmeans.py:870: FutureWarning: The default value of `n_init` will change from 10 to 'auto' in 1.4. Set the value of `n_init` explicitly to suppress the warning\n",
      "  warnings.warn(\n",
      "C:\\Users\\HP\\anaconda3\\Lib\\site-packages\\sklearn\\cluster\\_kmeans.py:870: FutureWarning: The default value of `n_init` will change from 10 to 'auto' in 1.4. Set the value of `n_init` explicitly to suppress the warning\n",
      "  warnings.warn(\n",
      "C:\\Users\\HP\\anaconda3\\Lib\\site-packages\\sklearn\\cluster\\_kmeans.py:870: FutureWarning: The default value of `n_init` will change from 10 to 'auto' in 1.4. Set the value of `n_init` explicitly to suppress the warning\n",
      "  warnings.warn(\n",
      "C:\\Users\\HP\\anaconda3\\Lib\\site-packages\\sklearn\\cluster\\_kmeans.py:870: FutureWarning: The default value of `n_init` will change from 10 to 'auto' in 1.4. Set the value of `n_init` explicitly to suppress the warning\n",
      "  warnings.warn(\n",
      "C:\\Users\\HP\\anaconda3\\Lib\\site-packages\\sklearn\\cluster\\_kmeans.py:870: FutureWarning: The default value of `n_init` will change from 10 to 'auto' in 1.4. Set the value of `n_init` explicitly to suppress the warning\n",
      "  warnings.warn(\n",
      "C:\\Users\\HP\\anaconda3\\Lib\\site-packages\\sklearn\\cluster\\_kmeans.py:870: FutureWarning: The default value of `n_init` will change from 10 to 'auto' in 1.4. Set the value of `n_init` explicitly to suppress the warning\n",
      "  warnings.warn(\n",
      "C:\\Users\\HP\\anaconda3\\Lib\\site-packages\\sklearn\\cluster\\_kmeans.py:870: FutureWarning: The default value of `n_init` will change from 10 to 'auto' in 1.4. Set the value of `n_init` explicitly to suppress the warning\n",
      "  warnings.warn(\n",
      "C:\\Users\\HP\\anaconda3\\Lib\\site-packages\\sklearn\\cluster\\_kmeans.py:870: FutureWarning: The default value of `n_init` will change from 10 to 'auto' in 1.4. Set the value of `n_init` explicitly to suppress the warning\n",
      "  warnings.warn(\n"
     ]
    },
    {
     "name": "stdout",
     "output_type": "stream",
     "text": [
      "[5473.207379091608, 3348.9020486360464, 2502.2775368028533, 1896.1945909584385, 1436.6657149109096, 1220.1742047883783, 1010.15801030683, 849.5412658415142, 712.2413819154552, 621.3349319992699, 553.560442618184]\n",
      "[0.8058967011429147, 0.7032355195111673, 0.6891057790557716, 0.646423953007697, 0.6113966822193238, 0.6124619026742388, 0.5773018974605347, 0.5785752863293081, 0.5677422697851997, 0.48220604693037866, 0.4781843715020375]\n"
     ]
    }
   ],
   "source": [
    "n_clust = range(2,13)\n",
    "inertia = []\n",
    "ss = []\n",
    "for k in n_clust:\n",
    "    model = make_pipeline(StandardScaler(), KMeans(n_clusters= k, random_state=42))\n",
    "    model.fit(X)\n",
    "    # get inertia\n",
    "    inertia.append(model.named_steps[\"kmeans\"].inertia_)\n",
    "    ss.append(silhouette_score(X, (model.named_steps[\"kmeans\"].labels_)))\n",
    "\n",
    "print(f\"{inertia}\")\n",
    "print(f\"{ss}\")"
   ]
  },
  {
   "cell_type": "code",
   "execution_count": 60,
   "id": "abf5ea3c-cb0f-4974-897a-e284cd4f73dd",
   "metadata": {},
   "outputs": [
    {
     "data": {
      "application/vnd.plotly.v1+json": {
       "config": {
        "plotlyServerURL": "https://plot.ly"
       },
       "data": [
        {
         "hovertemplate": "x=%{x}<br>y=%{y}<extra></extra>",
         "legendgroup": "",
         "line": {
          "color": "#636efa",
          "dash": "solid"
         },
         "marker": {
          "symbol": "circle"
         },
         "mode": "lines",
         "name": "",
         "orientation": "v",
         "showlegend": false,
         "type": "scatter",
         "x": [
          2,
          3,
          4,
          5,
          6,
          7,
          8,
          9,
          10,
          11,
          12
         ],
         "xaxis": "x",
         "y": [
          5473.207379091608,
          3348.9020486360464,
          2502.2775368028533,
          1896.1945909584385,
          1436.6657149109096,
          1220.1742047883783,
          1010.15801030683,
          849.5412658415142,
          712.2413819154552,
          621.3349319992699,
          553.560442618184
         ],
         "yaxis": "y"
        }
       ],
       "layout": {
        "autosize": true,
        "legend": {
         "tracegroupgap": 0
        },
        "template": {
         "data": {
          "bar": [
           {
            "error_x": {
             "color": "#2a3f5f"
            },
            "error_y": {
             "color": "#2a3f5f"
            },
            "marker": {
             "line": {
              "color": "#E5ECF6",
              "width": 0.5
             },
             "pattern": {
              "fillmode": "overlay",
              "size": 10,
              "solidity": 0.2
             }
            },
            "type": "bar"
           }
          ],
          "barpolar": [
           {
            "marker": {
             "line": {
              "color": "#E5ECF6",
              "width": 0.5
             },
             "pattern": {
              "fillmode": "overlay",
              "size": 10,
              "solidity": 0.2
             }
            },
            "type": "barpolar"
           }
          ],
          "carpet": [
           {
            "aaxis": {
             "endlinecolor": "#2a3f5f",
             "gridcolor": "white",
             "linecolor": "white",
             "minorgridcolor": "white",
             "startlinecolor": "#2a3f5f"
            },
            "baxis": {
             "endlinecolor": "#2a3f5f",
             "gridcolor": "white",
             "linecolor": "white",
             "minorgridcolor": "white",
             "startlinecolor": "#2a3f5f"
            },
            "type": "carpet"
           }
          ],
          "choropleth": [
           {
            "colorbar": {
             "outlinewidth": 0,
             "ticks": ""
            },
            "type": "choropleth"
           }
          ],
          "contour": [
           {
            "colorbar": {
             "outlinewidth": 0,
             "ticks": ""
            },
            "colorscale": [
             [
              0,
              "#0d0887"
             ],
             [
              0.1111111111111111,
              "#46039f"
             ],
             [
              0.2222222222222222,
              "#7201a8"
             ],
             [
              0.3333333333333333,
              "#9c179e"
             ],
             [
              0.4444444444444444,
              "#bd3786"
             ],
             [
              0.5555555555555556,
              "#d8576b"
             ],
             [
              0.6666666666666666,
              "#ed7953"
             ],
             [
              0.7777777777777778,
              "#fb9f3a"
             ],
             [
              0.8888888888888888,
              "#fdca26"
             ],
             [
              1,
              "#f0f921"
             ]
            ],
            "type": "contour"
           }
          ],
          "contourcarpet": [
           {
            "colorbar": {
             "outlinewidth": 0,
             "ticks": ""
            },
            "type": "contourcarpet"
           }
          ],
          "heatmap": [
           {
            "colorbar": {
             "outlinewidth": 0,
             "ticks": ""
            },
            "colorscale": [
             [
              0,
              "#0d0887"
             ],
             [
              0.1111111111111111,
              "#46039f"
             ],
             [
              0.2222222222222222,
              "#7201a8"
             ],
             [
              0.3333333333333333,
              "#9c179e"
             ],
             [
              0.4444444444444444,
              "#bd3786"
             ],
             [
              0.5555555555555556,
              "#d8576b"
             ],
             [
              0.6666666666666666,
              "#ed7953"
             ],
             [
              0.7777777777777778,
              "#fb9f3a"
             ],
             [
              0.8888888888888888,
              "#fdca26"
             ],
             [
              1,
              "#f0f921"
             ]
            ],
            "type": "heatmap"
           }
          ],
          "heatmapgl": [
           {
            "colorbar": {
             "outlinewidth": 0,
             "ticks": ""
            },
            "colorscale": [
             [
              0,
              "#0d0887"
             ],
             [
              0.1111111111111111,
              "#46039f"
             ],
             [
              0.2222222222222222,
              "#7201a8"
             ],
             [
              0.3333333333333333,
              "#9c179e"
             ],
             [
              0.4444444444444444,
              "#bd3786"
             ],
             [
              0.5555555555555556,
              "#d8576b"
             ],
             [
              0.6666666666666666,
              "#ed7953"
             ],
             [
              0.7777777777777778,
              "#fb9f3a"
             ],
             [
              0.8888888888888888,
              "#fdca26"
             ],
             [
              1,
              "#f0f921"
             ]
            ],
            "type": "heatmapgl"
           }
          ],
          "histogram": [
           {
            "marker": {
             "pattern": {
              "fillmode": "overlay",
              "size": 10,
              "solidity": 0.2
             }
            },
            "type": "histogram"
           }
          ],
          "histogram2d": [
           {
            "colorbar": {
             "outlinewidth": 0,
             "ticks": ""
            },
            "colorscale": [
             [
              0,
              "#0d0887"
             ],
             [
              0.1111111111111111,
              "#46039f"
             ],
             [
              0.2222222222222222,
              "#7201a8"
             ],
             [
              0.3333333333333333,
              "#9c179e"
             ],
             [
              0.4444444444444444,
              "#bd3786"
             ],
             [
              0.5555555555555556,
              "#d8576b"
             ],
             [
              0.6666666666666666,
              "#ed7953"
             ],
             [
              0.7777777777777778,
              "#fb9f3a"
             ],
             [
              0.8888888888888888,
              "#fdca26"
             ],
             [
              1,
              "#f0f921"
             ]
            ],
            "type": "histogram2d"
           }
          ],
          "histogram2dcontour": [
           {
            "colorbar": {
             "outlinewidth": 0,
             "ticks": ""
            },
            "colorscale": [
             [
              0,
              "#0d0887"
             ],
             [
              0.1111111111111111,
              "#46039f"
             ],
             [
              0.2222222222222222,
              "#7201a8"
             ],
             [
              0.3333333333333333,
              "#9c179e"
             ],
             [
              0.4444444444444444,
              "#bd3786"
             ],
             [
              0.5555555555555556,
              "#d8576b"
             ],
             [
              0.6666666666666666,
              "#ed7953"
             ],
             [
              0.7777777777777778,
              "#fb9f3a"
             ],
             [
              0.8888888888888888,
              "#fdca26"
             ],
             [
              1,
              "#f0f921"
             ]
            ],
            "type": "histogram2dcontour"
           }
          ],
          "mesh3d": [
           {
            "colorbar": {
             "outlinewidth": 0,
             "ticks": ""
            },
            "type": "mesh3d"
           }
          ],
          "parcoords": [
           {
            "line": {
             "colorbar": {
              "outlinewidth": 0,
              "ticks": ""
             }
            },
            "type": "parcoords"
           }
          ],
          "pie": [
           {
            "automargin": true,
            "type": "pie"
           }
          ],
          "scatter": [
           {
            "fillpattern": {
             "fillmode": "overlay",
             "size": 10,
             "solidity": 0.2
            },
            "type": "scatter"
           }
          ],
          "scatter3d": [
           {
            "line": {
             "colorbar": {
              "outlinewidth": 0,
              "ticks": ""
             }
            },
            "marker": {
             "colorbar": {
              "outlinewidth": 0,
              "ticks": ""
             }
            },
            "type": "scatter3d"
           }
          ],
          "scattercarpet": [
           {
            "marker": {
             "colorbar": {
              "outlinewidth": 0,
              "ticks": ""
             }
            },
            "type": "scattercarpet"
           }
          ],
          "scattergeo": [
           {
            "marker": {
             "colorbar": {
              "outlinewidth": 0,
              "ticks": ""
             }
            },
            "type": "scattergeo"
           }
          ],
          "scattergl": [
           {
            "marker": {
             "colorbar": {
              "outlinewidth": 0,
              "ticks": ""
             }
            },
            "type": "scattergl"
           }
          ],
          "scattermapbox": [
           {
            "marker": {
             "colorbar": {
              "outlinewidth": 0,
              "ticks": ""
             }
            },
            "type": "scattermapbox"
           }
          ],
          "scatterpolar": [
           {
            "marker": {
             "colorbar": {
              "outlinewidth": 0,
              "ticks": ""
             }
            },
            "type": "scatterpolar"
           }
          ],
          "scatterpolargl": [
           {
            "marker": {
             "colorbar": {
              "outlinewidth": 0,
              "ticks": ""
             }
            },
            "type": "scatterpolargl"
           }
          ],
          "scatterternary": [
           {
            "marker": {
             "colorbar": {
              "outlinewidth": 0,
              "ticks": ""
             }
            },
            "type": "scatterternary"
           }
          ],
          "surface": [
           {
            "colorbar": {
             "outlinewidth": 0,
             "ticks": ""
            },
            "colorscale": [
             [
              0,
              "#0d0887"
             ],
             [
              0.1111111111111111,
              "#46039f"
             ],
             [
              0.2222222222222222,
              "#7201a8"
             ],
             [
              0.3333333333333333,
              "#9c179e"
             ],
             [
              0.4444444444444444,
              "#bd3786"
             ],
             [
              0.5555555555555556,
              "#d8576b"
             ],
             [
              0.6666666666666666,
              "#ed7953"
             ],
             [
              0.7777777777777778,
              "#fb9f3a"
             ],
             [
              0.8888888888888888,
              "#fdca26"
             ],
             [
              1,
              "#f0f921"
             ]
            ],
            "type": "surface"
           }
          ],
          "table": [
           {
            "cells": {
             "fill": {
              "color": "#EBF0F8"
             },
             "line": {
              "color": "white"
             }
            },
            "header": {
             "fill": {
              "color": "#C8D4E3"
             },
             "line": {
              "color": "white"
             }
            },
            "type": "table"
           }
          ]
         },
         "layout": {
          "annotationdefaults": {
           "arrowcolor": "#2a3f5f",
           "arrowhead": 0,
           "arrowwidth": 1
          },
          "autotypenumbers": "strict",
          "coloraxis": {
           "colorbar": {
            "outlinewidth": 0,
            "ticks": ""
           }
          },
          "colorscale": {
           "diverging": [
            [
             0,
             "#8e0152"
            ],
            [
             0.1,
             "#c51b7d"
            ],
            [
             0.2,
             "#de77ae"
            ],
            [
             0.3,
             "#f1b6da"
            ],
            [
             0.4,
             "#fde0ef"
            ],
            [
             0.5,
             "#f7f7f7"
            ],
            [
             0.6,
             "#e6f5d0"
            ],
            [
             0.7,
             "#b8e186"
            ],
            [
             0.8,
             "#7fbc41"
            ],
            [
             0.9,
             "#4d9221"
            ],
            [
             1,
             "#276419"
            ]
           ],
           "sequential": [
            [
             0,
             "#0d0887"
            ],
            [
             0.1111111111111111,
             "#46039f"
            ],
            [
             0.2222222222222222,
             "#7201a8"
            ],
            [
             0.3333333333333333,
             "#9c179e"
            ],
            [
             0.4444444444444444,
             "#bd3786"
            ],
            [
             0.5555555555555556,
             "#d8576b"
            ],
            [
             0.6666666666666666,
             "#ed7953"
            ],
            [
             0.7777777777777778,
             "#fb9f3a"
            ],
            [
             0.8888888888888888,
             "#fdca26"
            ],
            [
             1,
             "#f0f921"
            ]
           ],
           "sequentialminus": [
            [
             0,
             "#0d0887"
            ],
            [
             0.1111111111111111,
             "#46039f"
            ],
            [
             0.2222222222222222,
             "#7201a8"
            ],
            [
             0.3333333333333333,
             "#9c179e"
            ],
            [
             0.4444444444444444,
             "#bd3786"
            ],
            [
             0.5555555555555556,
             "#d8576b"
            ],
            [
             0.6666666666666666,
             "#ed7953"
            ],
            [
             0.7777777777777778,
             "#fb9f3a"
            ],
            [
             0.8888888888888888,
             "#fdca26"
            ],
            [
             1,
             "#f0f921"
            ]
           ]
          },
          "colorway": [
           "#636efa",
           "#EF553B",
           "#00cc96",
           "#ab63fa",
           "#FFA15A",
           "#19d3f3",
           "#FF6692",
           "#B6E880",
           "#FF97FF",
           "#FECB52"
          ],
          "font": {
           "color": "#2a3f5f"
          },
          "geo": {
           "bgcolor": "white",
           "lakecolor": "white",
           "landcolor": "#E5ECF6",
           "showlakes": true,
           "showland": true,
           "subunitcolor": "white"
          },
          "hoverlabel": {
           "align": "left"
          },
          "hovermode": "closest",
          "mapbox": {
           "style": "light"
          },
          "paper_bgcolor": "white",
          "plot_bgcolor": "#E5ECF6",
          "polar": {
           "angularaxis": {
            "gridcolor": "white",
            "linecolor": "white",
            "ticks": ""
           },
           "bgcolor": "#E5ECF6",
           "radialaxis": {
            "gridcolor": "white",
            "linecolor": "white",
            "ticks": ""
           }
          },
          "scene": {
           "xaxis": {
            "backgroundcolor": "#E5ECF6",
            "gridcolor": "white",
            "gridwidth": 2,
            "linecolor": "white",
            "showbackground": true,
            "ticks": "",
            "zerolinecolor": "white"
           },
           "yaxis": {
            "backgroundcolor": "#E5ECF6",
            "gridcolor": "white",
            "gridwidth": 2,
            "linecolor": "white",
            "showbackground": true,
            "ticks": "",
            "zerolinecolor": "white"
           },
           "zaxis": {
            "backgroundcolor": "#E5ECF6",
            "gridcolor": "white",
            "gridwidth": 2,
            "linecolor": "white",
            "showbackground": true,
            "ticks": "",
            "zerolinecolor": "white"
           }
          },
          "shapedefaults": {
           "line": {
            "color": "#2a3f5f"
           }
          },
          "ternary": {
           "aaxis": {
            "gridcolor": "white",
            "linecolor": "white",
            "ticks": ""
           },
           "baxis": {
            "gridcolor": "white",
            "linecolor": "white",
            "ticks": ""
           },
           "bgcolor": "#E5ECF6",
           "caxis": {
            "gridcolor": "white",
            "linecolor": "white",
            "ticks": ""
           }
          },
          "title": {
           "x": 0.05
          },
          "xaxis": {
           "automargin": true,
           "gridcolor": "white",
           "linecolor": "white",
           "ticks": "",
           "title": {
            "standoff": 15
           },
           "zerolinecolor": "white",
           "zerolinewidth": 2
          },
          "yaxis": {
           "automargin": true,
           "gridcolor": "white",
           "linecolor": "white",
           "ticks": "",
           "title": {
            "standoff": 15
           },
           "zerolinecolor": "white",
           "zerolinewidth": 2
          }
         }
        },
        "title": {
         "text": "Inertia chart"
        },
        "xaxis": {
         "anchor": "y",
         "autorange": true,
         "domain": [
          0,
          1
         ],
         "range": [
          2,
          12
         ],
         "title": {
          "text": "No. of clusters"
         },
         "type": "linear"
        },
        "yaxis": {
         "anchor": "x",
         "autorange": true,
         "domain": [
          0,
          1
         ],
         "range": [
          280.246723925216,
          5746.521097784576
         ],
         "title": {
          "text": "Inertia"
         },
         "type": "linear"
        }
       }
      },
      "image/png": "[encoded data removed]",
      "text/html": [
       "<div>                            <div id=\"1d679b19-e319-439a-9bf5-f42ae61f6431\" class=\"plotly-graph-div\" style=\"height:525px; width:100%;\"></div>            <script type=\"text/javascript\">                require([\"plotly\"], function(Plotly) {                    window.PLOTLYENV=window.PLOTLYENV || {};                                    if (document.getElementById(\"1d679b19-e319-439a-9bf5-f42ae61f6431\")) {                    Plotly.newPlot(                        \"1d679b19-e319-439a-9bf5-f42ae61f6431\",                        [{\"hovertemplate\":\"x=%{x}<br>y=%{y}<extra></extra>\",\"legendgroup\":\"\",\"line\":{\"color\":\"#636efa\",\"dash\":\"solid\"},\"marker\":{\"symbol\":\"circle\"},\"mode\":\"lines\",\"name\":\"\",\"orientation\":\"v\",\"showlegend\":false,\"x\":[2,3,4,5,6,7,8,9,10,11,12],\"xaxis\":\"x\",\"y\":[5473.207379091608,3348.9020486360464,2502.2775368028533,1896.1945909584385,1436.6657149109096,1220.1742047883783,1010.15801030683,849.5412658415142,712.2413819154552,621.3349319992699,553.560442618184],\"yaxis\":\"y\",\"type\":\"scatter\"}],                        {\"template\":{\"data\":{\"histogram2dcontour\":[{\"type\":\"histogram2dcontour\",\"colorbar\":{\"outlinewidth\":0,\"ticks\":\"\"},\"colorscale\":[[0.0,\"#0d0887\"],[0.1111111111111111,\"#46039f\"],[0.2222222222222222,\"#7201a8\"],[0.3333333333333333,\"#9c179e\"],[0.4444444444444444,\"#bd3786\"],[0.5555555555555556,\"#d8576b\"],[0.6666666666666666,\"#ed7953\"],[0.7777777777777778,\"#fb9f3a\"],[0.8888888888888888,\"#fdca26\"],[1.0,\"#f0f921\"]]}],\"choropleth\":[{\"type\":\"choropleth\",\"colorbar\":{\"outlinewidth\":0,\"ticks\":\"\"}}],\"histogram2d\":[{\"type\":\"histogram2d\",\"colorbar\":{\"outlinewidth\":0,\"ticks\":\"\"},\"colorscale\":[[0.0,\"#0d0887\"],[0.1111111111111111,\"#46039f\"],[0.2222222222222222,\"#7201a8\"],[0.3333333333333333,\"#9c179e\"],[0.4444444444444444,\"#bd3786\"],[0.5555555555555556,\"#d8576b\"],[0.6666666666666666,\"#ed7953\"],[0.7777777777777778,\"#fb9f3a\"],[0.8888888888888888,\"#fdca26\"],[1.0,\"#f0f921\"]]}],\"heatmap\":[{\"type\":\"heatmap\",\"colorbar\":{\"outlinewidth\":0,\"ticks\":\"\"},\"colorscale\":[[0.0,\"#0d0887\"],[0.1111111111111111,\"#46039f\"],[0.2222222222222222,\"#7201a8\"],[0.3333333333333333,\"#9c179e\"],[0.4444444444444444,\"#bd3786\"],[0.5555555555555556,\"#d8576b\"],[0.6666666666666666,\"#ed7953\"],[0.7777777777777778,\"#fb9f3a\"],[0.8888888888888888,\"#fdca26\"],[1.0,\"#f0f921\"]]}],\"heatmapgl\":[{\"type\":\"heatmapgl\",\"colorbar\":{\"outlinewidth\":0,\"ticks\":\"\"},\"colorscale\":[[0.0,\"#0d0887\"],[0.1111111111111111,\"#46039f\"],[0.2222222222222222,\"#7201a8\"],[0.3333333333333333,\"#9c179e\"],[0.4444444444444444,\"#bd3786\"],[0.5555555555555556,\"#d8576b\"],[0.6666666666666666,\"#ed7953\"],[0.7777777777777778,\"#fb9f3a\"],[0.8888888888888888,\"#fdca26\"],[1.0,\"#f0f921\"]]}],\"contourcarpet\":[{\"type\":\"contourcarpet\",\"colorbar\":{\"outlinewidth\":0,\"ticks\":\"\"}}],\"contour\":[{\"type\":\"contour\",\"colorbar\":{\"outlinewidth\":0,\"ticks\":\"\"},\"colorscale\":[[0.0,\"#0d0887\"],[0.1111111111111111,\"#46039f\"],[0.2222222222222222,\"#7201a8\"],[0.3333333333333333,\"#9c179e\"],[0.4444444444444444,\"#bd3786\"],[0.5555555555555556,\"#d8576b\"],[0.6666666666666666,\"#ed7953\"],[0.7777777777777778,\"#fb9f3a\"],[0.8888888888888888,\"#fdca26\"],[1.0,\"#f0f921\"]]}],\"surface\":[{\"type\":\"surface\",\"colorbar\":{\"outlinewidth\":0,\"ticks\":\"\"},\"colorscale\":[[0.0,\"#0d0887\"],[0.1111111111111111,\"#46039f\"],[0.2222222222222222,\"#7201a8\"],[0.3333333333333333,\"#9c179e\"],[0.4444444444444444,\"#bd3786\"],[0.5555555555555556,\"#d8576b\"],[0.6666666666666666,\"#ed7953\"],[0.7777777777777778,\"#fb9f3a\"],[0.8888888888888888,\"#fdca26\"],[1.0,\"#f0f921\"]]}],\"mesh3d\":[{\"type\":\"mesh3d\",\"colorbar\":{\"outlinewidth\":0,\"ticks\":\"\"}}],\"scatter\":[{\"fillpattern\":{\"fillmode\":\"overlay\",\"size\":10,\"solidity\":0.2},\"type\":\"scatter\"}],\"parcoords\":[{\"type\":\"parcoords\",\"line\":{\"colorbar\":{\"outlinewidth\":0,\"ticks\":\"\"}}}],\"scatterpolargl\":[{\"type\":\"scatterpolargl\",\"marker\":{\"colorbar\":{\"outlinewidth\":0,\"ticks\":\"\"}}}],\"bar\":[{\"error_x\":{\"color\":\"#2a3f5f\"},\"error_y\":{\"color\":\"#2a3f5f\"},\"marker\":{\"line\":{\"color\":\"#E5ECF6\",\"width\":0.5},\"pattern\":{\"fillmode\":\"overlay\",\"size\":10,\"solidity\":0.2}},\"type\":\"bar\"}],\"scattergeo\":[{\"type\":\"scattergeo\",\"marker\":{\"colorbar\":{\"outlinewidth\":0,\"ticks\":\"\"}}}],\"scatterpolar\":[{\"type\":\"scatterpolar\",\"marker\":{\"colorbar\":{\"outlinewidth\":0,\"ticks\":\"\"}}}],\"histogram\":[{\"marker\":{\"pattern\":{\"fillmode\":\"overlay\",\"size\":10,\"solidity\":0.2}},\"type\":\"histogram\"}],\"scattergl\":[{\"type\":\"scattergl\",\"marker\":{\"colorbar\":{\"outlinewidth\":0,\"ticks\":\"\"}}}],\"scatter3d\":[{\"type\":\"scatter3d\",\"line\":{\"colorbar\":{\"outlinewidth\":0,\"ticks\":\"\"}},\"marker\":{\"colorbar\":{\"outlinewidth\":0,\"ticks\":\"\"}}}],\"scattermapbox\":[{\"type\":\"scattermapbox\",\"marker\":{\"colorbar\":{\"outlinewidth\":0,\"ticks\":\"\"}}}],\"scatterternary\":[{\"type\":\"scatterternary\",\"marker\":{\"colorbar\":{\"outlinewidth\":0,\"ticks\":\"\"}}}],\"scattercarpet\":[{\"type\":\"scattercarpet\",\"marker\":{\"colorbar\":{\"outlinewidth\":0,\"ticks\":\"\"}}}],\"carpet\":[{\"aaxis\":{\"endlinecolor\":\"#2a3f5f\",\"gridcolor\":\"white\",\"linecolor\":\"white\",\"minorgridcolor\":\"white\",\"startlinecolor\":\"#2a3f5f\"},\"baxis\":{\"endlinecolor\":\"#2a3f5f\",\"gridcolor\":\"white\",\"linecolor\":\"white\",\"minorgridcolor\":\"white\",\"startlinecolor\":\"#2a3f5f\"},\"type\":\"carpet\"}],\"table\":[{\"cells\":{\"fill\":{\"color\":\"#EBF0F8\"},\"line\":{\"color\":\"white\"}},\"header\":{\"fill\":{\"color\":\"#C8D4E3\"},\"line\":{\"color\":\"white\"}},\"type\":\"table\"}],\"barpolar\":[{\"marker\":{\"line\":{\"color\":\"#E5ECF6\",\"width\":0.5},\"pattern\":{\"fillmode\":\"overlay\",\"size\":10,\"solidity\":0.2}},\"type\":\"barpolar\"}],\"pie\":[{\"automargin\":true,\"type\":\"pie\"}]},\"layout\":{\"autotypenumbers\":\"strict\",\"colorway\":[\"#636efa\",\"#EF553B\",\"#00cc96\",\"#ab63fa\",\"#FFA15A\",\"#19d3f3\",\"#FF6692\",\"#B6E880\",\"#FF97FF\",\"#FECB52\"],\"font\":{\"color\":\"#2a3f5f\"},\"hovermode\":\"closest\",\"hoverlabel\":{\"align\":\"left\"},\"paper_bgcolor\":\"white\",\"plot_bgcolor\":\"#E5ECF6\",\"polar\":{\"bgcolor\":\"#E5ECF6\",\"angularaxis\":{\"gridcolor\":\"white\",\"linecolor\":\"white\",\"ticks\":\"\"},\"radialaxis\":{\"gridcolor\":\"white\",\"linecolor\":\"white\",\"ticks\":\"\"}},\"ternary\":{\"bgcolor\":\"#E5ECF6\",\"aaxis\":{\"gridcolor\":\"white\",\"linecolor\":\"white\",\"ticks\":\"\"},\"baxis\":{\"gridcolor\":\"white\",\"linecolor\":\"white\",\"ticks\":\"\"},\"caxis\":{\"gridcolor\":\"white\",\"linecolor\":\"white\",\"ticks\":\"\"}},\"coloraxis\":{\"colorbar\":{\"outlinewidth\":0,\"ticks\":\"\"}},\"colorscale\":{\"sequential\":[[0.0,\"#0d0887\"],[0.1111111111111111,\"#46039f\"],[0.2222222222222222,\"#7201a8\"],[0.3333333333333333,\"#9c179e\"],[0.4444444444444444,\"#bd3786\"],[0.5555555555555556,\"#d8576b\"],[0.6666666666666666,\"#ed7953\"],[0.7777777777777778,\"#fb9f3a\"],[0.8888888888888888,\"#fdca26\"],[1.0,\"#f0f921\"]],\"sequentialminus\":[[0.0,\"#0d0887\"],[0.1111111111111111,\"#46039f\"],[0.2222222222222222,\"#7201a8\"],[0.3333333333333333,\"#9c179e\"],[0.4444444444444444,\"#bd3786\"],[0.5555555555555556,\"#d8576b\"],[0.6666666666666666,\"#ed7953\"],[0.7777777777777778,\"#fb9f3a\"],[0.8888888888888888,\"#fdca26\"],[1.0,\"#f0f921\"]],\"diverging\":[[0,\"#8e0152\"],[0.1,\"#c51b7d\"],[0.2,\"#de77ae\"],[0.3,\"#f1b6da\"],[0.4,\"#fde0ef\"],[0.5,\"#f7f7f7\"],[0.6,\"#e6f5d0\"],[0.7,\"#b8e186\"],[0.8,\"#7fbc41\"],[0.9,\"#4d9221\"],[1,\"#276419\"]]},\"xaxis\":{\"gridcolor\":\"white\",\"linecolor\":\"white\",\"ticks\":\"\",\"title\":{\"standoff\":15},\"zerolinecolor\":\"white\",\"automargin\":true,\"zerolinewidth\":2},\"yaxis\":{\"gridcolor\":\"white\",\"linecolor\":\"white\",\"ticks\":\"\",\"title\":{\"standoff\":15},\"zerolinecolor\":\"white\",\"automargin\":true,\"zerolinewidth\":2},\"scene\":{\"xaxis\":{\"backgroundcolor\":\"#E5ECF6\",\"gridcolor\":\"white\",\"linecolor\":\"white\",\"showbackground\":true,\"ticks\":\"\",\"zerolinecolor\":\"white\",\"gridwidth\":2},\"yaxis\":{\"backgroundcolor\":\"#E5ECF6\",\"gridcolor\":\"white\",\"linecolor\":\"white\",\"showbackground\":true,\"ticks\":\"\",\"zerolinecolor\":\"white\",\"gridwidth\":2},\"zaxis\":{\"backgroundcolor\":\"#E5ECF6\",\"gridcolor\":\"white\",\"linecolor\":\"white\",\"showbackground\":true,\"ticks\":\"\",\"zerolinecolor\":\"white\",\"gridwidth\":2}},\"shapedefaults\":{\"line\":{\"color\":\"#2a3f5f\"}},\"annotationdefaults\":{\"arrowcolor\":\"#2a3f5f\",\"arrowhead\":0,\"arrowwidth\":1},\"geo\":{\"bgcolor\":\"white\",\"landcolor\":\"#E5ECF6\",\"subunitcolor\":\"white\",\"showland\":true,\"showlakes\":true,\"lakecolor\":\"white\"},\"title\":{\"x\":0.05},\"mapbox\":{\"style\":\"light\"}}},\"xaxis\":{\"anchor\":\"y\",\"domain\":[0.0,1.0],\"title\":{\"text\":\"No. of clusters\"}},\"yaxis\":{\"anchor\":\"x\",\"domain\":[0.0,1.0],\"title\":{\"text\":\"Inertia\"}},\"legend\":{\"tracegroupgap\":0},\"title\":{\"text\":\"Inertia chart\"}},                        {\"responsive\": true}                    ).then(function(){\n",
       "                            \n",
       "var gd = document.getElementById('1d679b19-e319-439a-9bf5-f42ae61f6431');\n",
       "var x = new MutationObserver(function (mutations, observer) {{\n",
       "        var display = window.getComputedStyle(gd).display;\n",
       "        if (!display || display === 'none') {{\n",
       "            console.log([gd, 'removed!']);\n",
       "            Plotly.purge(gd);\n",
       "            observer.disconnect();\n",
       "        }}\n",
       "}});\n",
       "\n",
       "// Listen for the removal of the full notebook cells\n",
       "var notebookContainer = gd.closest('#notebook-container');\n",
       "if (notebookContainer) {{\n",
       "    x.observe(notebookContainer, {childList: true});\n",
       "}}\n",
       "\n",
       "// Listen for the clearing of the current output cell\n",
       "var outputEl = gd.closest('.output');\n",
       "if (outputEl) {{\n",
       "    x.observe(outputEl, {childList: true});\n",
       "}}\n",
       "\n",
       "                        })                };                });            </script>        </div>"
      ]
     },
     "metadata": {},
     "output_type": "display_data"
    }
   ],
   "source": [
    "# then get the line plot to visualize it\n",
    "fig = px.line(x = n_clust, y = inertia, title = \"Inertia chart\")\n",
    "fig.update_layout(xaxis_title = \"No. of clusters\", yaxis_title = \"Inertia\")\n",
    "fig.show()"
   ]
  },
  {
   "cell_type": "code",
   "execution_count": 62,
   "id": "7821fbb0-7ac8-40f5-a0cf-47d38d2f464d",
   "metadata": {},
   "outputs": [
    {
     "data": {
      "application/vnd.plotly.v1+json": {
       "config": {
        "plotlyServerURL": "https://plot.ly"
       },
       "data": [
        {
         "hovertemplate": "x=%{x}<br>y=%{y}<extra></extra>",
         "legendgroup": "",
         "line": {
          "color": "#636efa",
          "dash": "solid"
         },
         "marker": {
          "symbol": "circle"
         },
         "mode": "lines",
         "name": "",
         "orientation": "v",
         "showlegend": false,
         "type": "scatter",
         "x": [
          2,
          3,
          4,
          5,
          6,
          7,
          8,
          9,
          10,
          11,
          12
         ],
         "xaxis": "x",
         "y": [
          0.8058967011429147,
          0.7032355195111673,
          0.6891057790557716,
          0.646423953007697,
          0.6113966822193238,
          0.6124619026742388,
          0.5773018974605347,
          0.5785752863293081,
          0.5677422697851997,
          0.48220604693037866,
          0.4781843715020375
         ],
         "yaxis": "y"
        }
       ],
       "layout": {
        "autosize": true,
        "legend": {
         "tracegroupgap": 0
        },
        "template": {
         "data": {
          "bar": [
           {
            "error_x": {
             "color": "#2a3f5f"
            },
            "error_y": {
             "color": "#2a3f5f"
            },
            "marker": {
             "line": {
              "color": "#E5ECF6",
              "width": 0.5
             },
             "pattern": {
              "fillmode": "overlay",
              "size": 10,
              "solidity": 0.2
             }
            },
            "type": "bar"
           }
          ],
          "barpolar": [
           {
            "marker": {
             "line": {
              "color": "#E5ECF6",
              "width": 0.5
             },
             "pattern": {
              "fillmode": "overlay",
              "size": 10,
              "solidity": 0.2
             }
            },
            "type": "barpolar"
           }
          ],
          "carpet": [
           {
            "aaxis": {
             "endlinecolor": "#2a3f5f",
             "gridcolor": "white",
             "linecolor": "white",
             "minorgridcolor": "white",
             "startlinecolor": "#2a3f5f"
            },
            "baxis": {
             "endlinecolor": "#2a3f5f",
             "gridcolor": "white",
             "linecolor": "white",
             "minorgridcolor": "white",
             "startlinecolor": "#2a3f5f"
            },
            "type": "carpet"
           }
          ],
          "choropleth": [
           {
            "colorbar": {
             "outlinewidth": 0,
             "ticks": ""
            },
            "type": "choropleth"
           }
          ],
          "contour": [
           {
            "colorbar": {
             "outlinewidth": 0,
             "ticks": ""
            },
            "colorscale": [
             [
              0,
              "#0d0887"
             ],
             [
              0.1111111111111111,
              "#46039f"
             ],
             [
              0.2222222222222222,
              "#7201a8"
             ],
             [
              0.3333333333333333,
              "#9c179e"
             ],
             [
              0.4444444444444444,
              "#bd3786"
             ],
             [
              0.5555555555555556,
              "#d8576b"
             ],
             [
              0.6666666666666666,
              "#ed7953"
             ],
             [
              0.7777777777777778,
              "#fb9f3a"
             ],
             [
              0.8888888888888888,
              "#fdca26"
             ],
             [
              1,
              "#f0f921"
             ]
            ],
            "type": "contour"
           }
          ],
          "contourcarpet": [
           {
            "colorbar": {
             "outlinewidth": 0,
             "ticks": ""
            },
            "type": "contourcarpet"
           }
          ],
          "heatmap": [
           {
            "colorbar": {
             "outlinewidth": 0,
             "ticks": ""
            },
            "colorscale": [
             [
              0,
              "#0d0887"
             ],
             [
              0.1111111111111111,
              "#46039f"
             ],
             [
              0.2222222222222222,
              "#7201a8"
             ],
             [
              0.3333333333333333,
              "#9c179e"
             ],
             [
              0.4444444444444444,
              "#bd3786"
             ],
             [
              0.5555555555555556,
              "#d8576b"
             ],
             [
              0.6666666666666666,
              "#ed7953"
             ],
             [
              0.7777777777777778,
              "#fb9f3a"
             ],
             [
              0.8888888888888888,
              "#fdca26"
             ],
             [
              1,
              "#f0f921"
             ]
            ],
            "type": "heatmap"
           }
          ],
          "heatmapgl": [
           {
            "colorbar": {
             "outlinewidth": 0,
             "ticks": ""
            },
            "colorscale": [
             [
              0,
              "#0d0887"
             ],
             [
              0.1111111111111111,
              "#46039f"
             ],
             [
              0.2222222222222222,
              "#7201a8"
             ],
             [
              0.3333333333333333,
              "#9c179e"
             ],
             [
              0.4444444444444444,
              "#bd3786"
             ],
             [
              0.5555555555555556,
              "#d8576b"
             ],
             [
              0.6666666666666666,
              "#ed7953"
             ],
             [
              0.7777777777777778,
              "#fb9f3a"
             ],
             [
              0.8888888888888888,
              "#fdca26"
             ],
             [
              1,
              "#f0f921"
             ]
            ],
            "type": "heatmapgl"
           }
          ],
          "histogram": [
           {
            "marker": {
             "pattern": {
              "fillmode": "overlay",
              "size": 10,
              "solidity": 0.2
             }
            },
            "type": "histogram"
           }
          ],
          "histogram2d": [
           {
            "colorbar": {
             "outlinewidth": 0,
             "ticks": ""
            },
            "colorscale": [
             [
              0,
              "#0d0887"
             ],
             [
              0.1111111111111111,
              "#46039f"
             ],
             [
              0.2222222222222222,
              "#7201a8"
             ],
             [
              0.3333333333333333,
              "#9c179e"
             ],
             [
              0.4444444444444444,
              "#bd3786"
             ],
             [
              0.5555555555555556,
              "#d8576b"
             ],
             [
              0.6666666666666666,
              "#ed7953"
             ],
             [
              0.7777777777777778,
              "#fb9f3a"
             ],
             [
              0.8888888888888888,
              "#fdca26"
             ],
             [
              1,
              "#f0f921"
             ]
            ],
            "type": "histogram2d"
           }
          ],
          "histogram2dcontour": [
           {
            "colorbar": {
             "outlinewidth": 0,
             "ticks": ""
            },
            "colorscale": [
             [
              0,
              "#0d0887"
             ],
             [
              0.1111111111111111,
              "#46039f"
             ],
             [
              0.2222222222222222,
              "#7201a8"
             ],
             [
              0.3333333333333333,
              "#9c179e"
             ],
             [
              0.4444444444444444,
              "#bd3786"
             ],
             [
              0.5555555555555556,
              "#d8576b"
             ],
             [
              0.6666666666666666,
              "#ed7953"
             ],
             [
              0.7777777777777778,
              "#fb9f3a"
             ],
             [
              0.8888888888888888,
              "#fdca26"
             ],
             [
              1,
              "#f0f921"
             ]
            ],
            "type": "histogram2dcontour"
           }
          ],
          "mesh3d": [
           {
            "colorbar": {
             "outlinewidth": 0,
             "ticks": ""
            },
            "type": "mesh3d"
           }
          ],
          "parcoords": [
           {
            "line": {
             "colorbar": {
              "outlinewidth": 0,
              "ticks": ""
             }
            },
            "type": "parcoords"
           }
          ],
          "pie": [
           {
            "automargin": true,
            "type": "pie"
           }
          ],
          "scatter": [
           {
            "fillpattern": {
             "fillmode": "overlay",
             "size": 10,
             "solidity": 0.2
            },
            "type": "scatter"
           }
          ],
          "scatter3d": [
           {
            "line": {
             "colorbar": {
              "outlinewidth": 0,
              "ticks": ""
             }
            },
            "marker": {
             "colorbar": {
              "outlinewidth": 0,
              "ticks": ""
             }
            },
            "type": "scatter3d"
           }
          ],
          "scattercarpet": [
           {
            "marker": {
             "colorbar": {
              "outlinewidth": 0,
              "ticks": ""
             }
            },
            "type": "scattercarpet"
           }
          ],
          "scattergeo": [
           {
            "marker": {
             "colorbar": {
              "outlinewidth": 0,
              "ticks": ""
             }
            },
            "type": "scattergeo"
           }
          ],
          "scattergl": [
           {
            "marker": {
             "colorbar": {
              "outlinewidth": 0,
              "ticks": ""
             }
            },
            "type": "scattergl"
           }
          ],
          "scattermapbox": [
           {
            "marker": {
             "colorbar": {
              "outlinewidth": 0,
              "ticks": ""
             }
            },
            "type": "scattermapbox"
           }
          ],
          "scatterpolar": [
           {
            "marker": {
             "colorbar": {
              "outlinewidth": 0,
              "ticks": ""
             }
            },
            "type": "scatterpolar"
           }
          ],
          "scatterpolargl": [
           {
            "marker": {
             "colorbar": {
              "outlinewidth": 0,
              "ticks": ""
             }
            },
            "type": "scatterpolargl"
           }
          ],
          "scatterternary": [
           {
            "marker": {
             "colorbar": {
              "outlinewidth": 0,
              "ticks": ""
             }
            },
            "type": "scatterternary"
           }
          ],
          "surface": [
           {
            "colorbar": {
             "outlinewidth": 0,
             "ticks": ""
            },
            "colorscale": [
             [
              0,
              "#0d0887"
             ],
             [
              0.1111111111111111,
              "#46039f"
             ],
             [
              0.2222222222222222,
              "#7201a8"
             ],
             [
              0.3333333333333333,
              "#9c179e"
             ],
             [
              0.4444444444444444,
              "#bd3786"
             ],
             [
              0.5555555555555556,
              "#d8576b"
             ],
             [
              0.6666666666666666,
              "#ed7953"
             ],
             [
              0.7777777777777778,
              "#fb9f3a"
             ],
             [
              0.8888888888888888,
              "#fdca26"
             ],
             [
              1,
              "#f0f921"
             ]
            ],
            "type": "surface"
           }
          ],
          "table": [
           {
            "cells": {
             "fill": {
              "color": "#EBF0F8"
             },
             "line": {
              "color": "white"
             }
            },
            "header": {
             "fill": {
              "color": "#C8D4E3"
             },
             "line": {
              "color": "white"
             }
            },
            "type": "table"
           }
          ]
         },
         "layout": {
          "annotationdefaults": {
           "arrowcolor": "#2a3f5f",
           "arrowhead": 0,
           "arrowwidth": 1
          },
          "autotypenumbers": "strict",
          "coloraxis": {
           "colorbar": {
            "outlinewidth": 0,
            "ticks": ""
           }
          },
          "colorscale": {
           "diverging": [
            [
             0,
             "#8e0152"
            ],
            [
             0.1,
             "#c51b7d"
            ],
            [
             0.2,
             "#de77ae"
            ],
            [
             0.3,
             "#f1b6da"
            ],
            [
             0.4,
             "#fde0ef"
            ],
            [
             0.5,
             "#f7f7f7"
            ],
            [
             0.6,
             "#e6f5d0"
            ],
            [
             0.7,
             "#b8e186"
            ],
            [
             0.8,
             "#7fbc41"
            ],
            [
             0.9,
             "#4d9221"
            ],
            [
             1,
             "#276419"
            ]
           ],
           "sequential": [
            [
             0,
             "#0d0887"
            ],
            [
             0.1111111111111111,
             "#46039f"
            ],
            [
             0.2222222222222222,
             "#7201a8"
            ],
            [
             0.3333333333333333,
             "#9c179e"
            ],
            [
             0.4444444444444444,
             "#bd3786"
            ],
            [
             0.5555555555555556,
             "#d8576b"
            ],
            [
             0.6666666666666666,
             "#ed7953"
            ],
            [
             0.7777777777777778,
             "#fb9f3a"
            ],
            [
             0.8888888888888888,
             "#fdca26"
            ],
            [
             1,
             "#f0f921"
            ]
           ],
           "sequentialminus": [
            [
             0,
             "#0d0887"
            ],
            [
             0.1111111111111111,
             "#46039f"
            ],
            [
             0.2222222222222222,
             "#7201a8"
            ],
            [
             0.3333333333333333,
             "#9c179e"
            ],
            [
             0.4444444444444444,
             "#bd3786"
            ],
            [
             0.5555555555555556,
             "#d8576b"
            ],
            [
             0.6666666666666666,
             "#ed7953"
            ],
            [
             0.7777777777777778,
             "#fb9f3a"
            ],
            [
             0.8888888888888888,
             "#fdca26"
            ],
            [
             1,
             "#f0f921"
            ]
           ]
          },
          "colorway": [
           "#636efa",
           "#EF553B",
           "#00cc96",
           "#ab63fa",
           "#FFA15A",
           "#19d3f3",
           "#FF6692",
           "#B6E880",
           "#FF97FF",
           "#FECB52"
          ],
          "font": {
           "color": "#2a3f5f"
          },
          "geo": {
           "bgcolor": "white",
           "lakecolor": "white",
           "landcolor": "#E5ECF6",
           "showlakes": true,
           "showland": true,
           "subunitcolor": "white"
          },
          "hoverlabel": {
           "align": "left"
          },
          "hovermode": "closest",
          "mapbox": {
           "style": "light"
          },
          "paper_bgcolor": "white",
          "plot_bgcolor": "#E5ECF6",
          "polar": {
           "angularaxis": {
            "gridcolor": "white",
            "linecolor": "white",
            "ticks": ""
           },
           "bgcolor": "#E5ECF6",
           "radialaxis": {
            "gridcolor": "white",
            "linecolor": "white",
            "ticks": ""
           }
          },
          "scene": {
           "xaxis": {
            "backgroundcolor": "#E5ECF6",
            "gridcolor": "white",
            "gridwidth": 2,
            "linecolor": "white",
            "showbackground": true,
            "ticks": "",
            "zerolinecolor": "white"
           },
           "yaxis": {
            "backgroundcolor": "#E5ECF6",
            "gridcolor": "white",
            "gridwidth": 2,
            "linecolor": "white",
            "showbackground": true,
            "ticks": "",
            "zerolinecolor": "white"
           },
           "zaxis": {
            "backgroundcolor": "#E5ECF6",
            "gridcolor": "white",
            "gridwidth": 2,
            "linecolor": "white",
            "showbackground": true,
            "ticks": "",
            "zerolinecolor": "white"
           }
          },
          "shapedefaults": {
           "line": {
            "color": "#2a3f5f"
           }
          },
          "ternary": {
           "aaxis": {
            "gridcolor": "white",
            "linecolor": "white",
            "ticks": ""
           },
           "baxis": {
            "gridcolor": "white",
            "linecolor": "white",
            "ticks": ""
           },
           "bgcolor": "#E5ECF6",
           "caxis": {
            "gridcolor": "white",
            "linecolor": "white",
            "ticks": ""
           }
          },
          "title": {
           "x": 0.05
          },
          "xaxis": {
           "automargin": true,
           "gridcolor": "white",
           "linecolor": "white",
           "ticks": "",
           "title": {
            "standoff": 15
           },
           "zerolinecolor": "white",
           "zerolinewidth": 2
          },
          "yaxis": {
           "automargin": true,
           "gridcolor": "white",
           "linecolor": "white",
           "ticks": "",
           "title": {
            "standoff": 15
           },
           "zerolinecolor": "white",
           "zerolinewidth": 2
          }
         }
        },
        "title": {
         "text": "Silhouette Score Chart"
        },
        "xaxis": {
         "anchor": "y",
         "autorange": true,
         "domain": [
          0,
          1
         ],
         "range": [
          2,
          12
         ],
         "title": {
          "text": "No. of clusters"
         },
         "type": "linear"
        },
        "yaxis": {
         "anchor": "x",
         "autorange": true,
         "domain": [
          0,
          1
         ],
         "range": [
          0.45997813096643325,
          0.8241029416785189
         ],
         "title": {
          "text": "Silhouette Score"
         },
         "type": "linear"
        }
       }
      },
      "image/png": "[encoded data removed]",
      "text/html": [
       "<div>                            <div id=\"e510610d-a881-4f11-8ca3-9a0a442aa841\" class=\"plotly-graph-div\" style=\"height:525px; width:100%;\"></div>            <script type=\"text/javascript\">                require([\"plotly\"], function(Plotly) {                    window.PLOTLYENV=window.PLOTLYENV || {};                                    if (document.getElementById(\"e510610d-a881-4f11-8ca3-9a0a442aa841\")) {                    Plotly.newPlot(                        \"e510610d-a881-4f11-8ca3-9a0a442aa841\",                        [{\"hovertemplate\":\"x=%{x}<br>y=%{y}<extra></extra>\",\"legendgroup\":\"\",\"line\":{\"color\":\"#636efa\",\"dash\":\"solid\"},\"marker\":{\"symbol\":\"circle\"},\"mode\":\"lines\",\"name\":\"\",\"orientation\":\"v\",\"showlegend\":false,\"x\":[2,3,4,5,6,7,8,9,10,11,12],\"xaxis\":\"x\",\"y\":[0.8058967011429147,0.7032355195111673,0.6891057790557716,0.646423953007697,0.6113966822193238,0.6124619026742388,0.5773018974605347,0.5785752863293081,0.5677422697851997,0.48220604693037866,0.4781843715020375],\"yaxis\":\"y\",\"type\":\"scatter\"}],                        {\"template\":{\"data\":{\"histogram2dcontour\":[{\"type\":\"histogram2dcontour\",\"colorbar\":{\"outlinewidth\":0,\"ticks\":\"\"},\"colorscale\":[[0.0,\"#0d0887\"],[0.1111111111111111,\"#46039f\"],[0.2222222222222222,\"#7201a8\"],[0.3333333333333333,\"#9c179e\"],[0.4444444444444444,\"#bd3786\"],[0.5555555555555556,\"#d8576b\"],[0.6666666666666666,\"#ed7953\"],[0.7777777777777778,\"#fb9f3a\"],[0.8888888888888888,\"#fdca26\"],[1.0,\"#f0f921\"]]}],\"choropleth\":[{\"type\":\"choropleth\",\"colorbar\":{\"outlinewidth\":0,\"ticks\":\"\"}}],\"histogram2d\":[{\"type\":\"histogram2d\",\"colorbar\":{\"outlinewidth\":0,\"ticks\":\"\"},\"colorscale\":[[0.0,\"#0d0887\"],[0.1111111111111111,\"#46039f\"],[0.2222222222222222,\"#7201a8\"],[0.3333333333333333,\"#9c179e\"],[0.4444444444444444,\"#bd3786\"],[0.5555555555555556,\"#d8576b\"],[0.6666666666666666,\"#ed7953\"],[0.7777777777777778,\"#fb9f3a\"],[0.8888888888888888,\"#fdca26\"],[1.0,\"#f0f921\"]]}],\"heatmap\":[{\"type\":\"heatmap\",\"colorbar\":{\"outlinewidth\":0,\"ticks\":\"\"},\"colorscale\":[[0.0,\"#0d0887\"],[0.1111111111111111,\"#46039f\"],[0.2222222222222222,\"#7201a8\"],[0.3333333333333333,\"#9c179e\"],[0.4444444444444444,\"#bd3786\"],[0.5555555555555556,\"#d8576b\"],[0.6666666666666666,\"#ed7953\"],[0.7777777777777778,\"#fb9f3a\"],[0.8888888888888888,\"#fdca26\"],[1.0,\"#f0f921\"]]}],\"heatmapgl\":[{\"type\":\"heatmapgl\",\"colorbar\":{\"outlinewidth\":0,\"ticks\":\"\"},\"colorscale\":[[0.0,\"#0d0887\"],[0.1111111111111111,\"#46039f\"],[0.2222222222222222,\"#7201a8\"],[0.3333333333333333,\"#9c179e\"],[0.4444444444444444,\"#bd3786\"],[0.5555555555555556,\"#d8576b\"],[0.6666666666666666,\"#ed7953\"],[0.7777777777777778,\"#fb9f3a\"],[0.8888888888888888,\"#fdca26\"],[1.0,\"#f0f921\"]]}],\"contourcarpet\":[{\"type\":\"contourcarpet\",\"colorbar\":{\"outlinewidth\":0,\"ticks\":\"\"}}],\"contour\":[{\"type\":\"contour\",\"colorbar\":{\"outlinewidth\":0,\"ticks\":\"\"},\"colorscale\":[[0.0,\"#0d0887\"],[0.1111111111111111,\"#46039f\"],[0.2222222222222222,\"#7201a8\"],[0.3333333333333333,\"#9c179e\"],[0.4444444444444444,\"#bd3786\"],[0.5555555555555556,\"#d8576b\"],[0.6666666666666666,\"#ed7953\"],[0.7777777777777778,\"#fb9f3a\"],[0.8888888888888888,\"#fdca26\"],[1.0,\"#f0f921\"]]}],\"surface\":[{\"type\":\"surface\",\"colorbar\":{\"outlinewidth\":0,\"ticks\":\"\"},\"colorscale\":[[0.0,\"#0d0887\"],[0.1111111111111111,\"#46039f\"],[0.2222222222222222,\"#7201a8\"],[0.3333333333333333,\"#9c179e\"],[0.4444444444444444,\"#bd3786\"],[0.5555555555555556,\"#d8576b\"],[0.6666666666666666,\"#ed7953\"],[0.7777777777777778,\"#fb9f3a\"],[0.8888888888888888,\"#fdca26\"],[1.0,\"#f0f921\"]]}],\"mesh3d\":[{\"type\":\"mesh3d\",\"colorbar\":{\"outlinewidth\":0,\"ticks\":\"\"}}],\"scatter\":[{\"fillpattern\":{\"fillmode\":\"overlay\",\"size\":10,\"solidity\":0.2},\"type\":\"scatter\"}],\"parcoords\":[{\"type\":\"parcoords\",\"line\":{\"colorbar\":{\"outlinewidth\":0,\"ticks\":\"\"}}}],\"scatterpolargl\":[{\"type\":\"scatterpolargl\",\"marker\":{\"colorbar\":{\"outlinewidth\":0,\"ticks\":\"\"}}}],\"bar\":[{\"error_x\":{\"color\":\"#2a3f5f\"},\"error_y\":{\"color\":\"#2a3f5f\"},\"marker\":{\"line\":{\"color\":\"#E5ECF6\",\"width\":0.5},\"pattern\":{\"fillmode\":\"overlay\",\"size\":10,\"solidity\":0.2}},\"type\":\"bar\"}],\"scattergeo\":[{\"type\":\"scattergeo\",\"marker\":{\"colorbar\":{\"outlinewidth\":0,\"ticks\":\"\"}}}],\"scatterpolar\":[{\"type\":\"scatterpolar\",\"marker\":{\"colorbar\":{\"outlinewidth\":0,\"ticks\":\"\"}}}],\"histogram\":[{\"marker\":{\"pattern\":{\"fillmode\":\"overlay\",\"size\":10,\"solidity\":0.2}},\"type\":\"histogram\"}],\"scattergl\":[{\"type\":\"scattergl\",\"marker\":{\"colorbar\":{\"outlinewidth\":0,\"ticks\":\"\"}}}],\"scatter3d\":[{\"type\":\"scatter3d\",\"line\":{\"colorbar\":{\"outlinewidth\":0,\"ticks\":\"\"}},\"marker\":{\"colorbar\":{\"outlinewidth\":0,\"ticks\":\"\"}}}],\"scattermapbox\":[{\"type\":\"scattermapbox\",\"marker\":{\"colorbar\":{\"outlinewidth\":0,\"ticks\":\"\"}}}],\"scatterternary\":[{\"type\":\"scatterternary\",\"marker\":{\"colorbar\":{\"outlinewidth\":0,\"ticks\":\"\"}}}],\"scattercarpet\":[{\"type\":\"scattercarpet\",\"marker\":{\"colorbar\":{\"outlinewidth\":0,\"ticks\":\"\"}}}],\"carpet\":[{\"aaxis\":{\"endlinecolor\":\"#2a3f5f\",\"gridcolor\":\"white\",\"linecolor\":\"white\",\"minorgridcolor\":\"white\",\"startlinecolor\":\"#2a3f5f\"},\"baxis\":{\"endlinecolor\":\"#2a3f5f\",\"gridcolor\":\"white\",\"linecolor\":\"white\",\"minorgridcolor\":\"white\",\"startlinecolor\":\"#2a3f5f\"},\"type\":\"carpet\"}],\"table\":[{\"cells\":{\"fill\":{\"color\":\"#EBF0F8\"},\"line\":{\"color\":\"white\"}},\"header\":{\"fill\":{\"color\":\"#C8D4E3\"},\"line\":{\"color\":\"white\"}},\"type\":\"table\"}],\"barpolar\":[{\"marker\":{\"line\":{\"color\":\"#E5ECF6\",\"width\":0.5},\"pattern\":{\"fillmode\":\"overlay\",\"size\":10,\"solidity\":0.2}},\"type\":\"barpolar\"}],\"pie\":[{\"automargin\":true,\"type\":\"pie\"}]},\"layout\":{\"autotypenumbers\":\"strict\",\"colorway\":[\"#636efa\",\"#EF553B\",\"#00cc96\",\"#ab63fa\",\"#FFA15A\",\"#19d3f3\",\"#FF6692\",\"#B6E880\",\"#FF97FF\",\"#FECB52\"],\"font\":{\"color\":\"#2a3f5f\"},\"hovermode\":\"closest\",\"hoverlabel\":{\"align\":\"left\"},\"paper_bgcolor\":\"white\",\"plot_bgcolor\":\"#E5ECF6\",\"polar\":{\"bgcolor\":\"#E5ECF6\",\"angularaxis\":{\"gridcolor\":\"white\",\"linecolor\":\"white\",\"ticks\":\"\"},\"radialaxis\":{\"gridcolor\":\"white\",\"linecolor\":\"white\",\"ticks\":\"\"}},\"ternary\":{\"bgcolor\":\"#E5ECF6\",\"aaxis\":{\"gridcolor\":\"white\",\"linecolor\":\"white\",\"ticks\":\"\"},\"baxis\":{\"gridcolor\":\"white\",\"linecolor\":\"white\",\"ticks\":\"\"},\"caxis\":{\"gridcolor\":\"white\",\"linecolor\":\"white\",\"ticks\":\"\"}},\"coloraxis\":{\"colorbar\":{\"outlinewidth\":0,\"ticks\":\"\"}},\"colorscale\":{\"sequential\":[[0.0,\"#0d0887\"],[0.1111111111111111,\"#46039f\"],[0.2222222222222222,\"#7201a8\"],[0.3333333333333333,\"#9c179e\"],[0.4444444444444444,\"#bd3786\"],[0.5555555555555556,\"#d8576b\"],[0.6666666666666666,\"#ed7953\"],[0.7777777777777778,\"#fb9f3a\"],[0.8888888888888888,\"#fdca26\"],[1.0,\"#f0f921\"]],\"sequentialminus\":[[0.0,\"#0d0887\"],[0.1111111111111111,\"#46039f\"],[0.2222222222222222,\"#7201a8\"],[0.3333333333333333,\"#9c179e\"],[0.4444444444444444,\"#bd3786\"],[0.5555555555555556,\"#d8576b\"],[0.6666666666666666,\"#ed7953\"],[0.7777777777777778,\"#fb9f3a\"],[0.8888888888888888,\"#fdca26\"],[1.0,\"#f0f921\"]],\"diverging\":[[0,\"#8e0152\"],[0.1,\"#c51b7d\"],[0.2,\"#de77ae\"],[0.3,\"#f1b6da\"],[0.4,\"#fde0ef\"],[0.5,\"#f7f7f7\"],[0.6,\"#e6f5d0\"],[0.7,\"#b8e186\"],[0.8,\"#7fbc41\"],[0.9,\"#4d9221\"],[1,\"#276419\"]]},\"xaxis\":{\"gridcolor\":\"white\",\"linecolor\":\"white\",\"ticks\":\"\",\"title\":{\"standoff\":15},\"zerolinecolor\":\"white\",\"automargin\":true,\"zerolinewidth\":2},\"yaxis\":{\"gridcolor\":\"white\",\"linecolor\":\"white\",\"ticks\":\"\",\"title\":{\"standoff\":15},\"zerolinecolor\":\"white\",\"automargin\":true,\"zerolinewidth\":2},\"scene\":{\"xaxis\":{\"backgroundcolor\":\"#E5ECF6\",\"gridcolor\":\"white\",\"linecolor\":\"white\",\"showbackground\":true,\"ticks\":\"\",\"zerolinecolor\":\"white\",\"gridwidth\":2},\"yaxis\":{\"backgroundcolor\":\"#E5ECF6\",\"gridcolor\":\"white\",\"linecolor\":\"white\",\"showbackground\":true,\"ticks\":\"\",\"zerolinecolor\":\"white\",\"gridwidth\":2},\"zaxis\":{\"backgroundcolor\":\"#E5ECF6\",\"gridcolor\":\"white\",\"linecolor\":\"white\",\"showbackground\":true,\"ticks\":\"\",\"zerolinecolor\":\"white\",\"gridwidth\":2}},\"shapedefaults\":{\"line\":{\"color\":\"#2a3f5f\"}},\"annotationdefaults\":{\"arrowcolor\":\"#2a3f5f\",\"arrowhead\":0,\"arrowwidth\":1},\"geo\":{\"bgcolor\":\"white\",\"landcolor\":\"#E5ECF6\",\"subunitcolor\":\"white\",\"showland\":true,\"showlakes\":true,\"lakecolor\":\"white\"},\"title\":{\"x\":0.05},\"mapbox\":{\"style\":\"light\"}}},\"xaxis\":{\"anchor\":\"y\",\"domain\":[0.0,1.0],\"title\":{\"text\":\"No. of clusters\"}},\"yaxis\":{\"anchor\":\"x\",\"domain\":[0.0,1.0],\"title\":{\"text\":\"Silhouette Score\"}},\"legend\":{\"tracegroupgap\":0},\"title\":{\"text\":\"Silhouette Score Chart\"}},                        {\"responsive\": true}                    ).then(function(){\n",
       "                            \n",
       "var gd = document.getElementById('e510610d-a881-4f11-8ca3-9a0a442aa841');\n",
       "var x = new MutationObserver(function (mutations, observer) {{\n",
       "        var display = window.getComputedStyle(gd).display;\n",
       "        if (!display || display === 'none') {{\n",
       "            console.log([gd, 'removed!']);\n",
       "            Plotly.purge(gd);\n",
       "            observer.disconnect();\n",
       "        }}\n",
       "}});\n",
       "\n",
       "// Listen for the removal of the full notebook cells\n",
       "var notebookContainer = gd.closest('#notebook-container');\n",
       "if (notebookContainer) {{\n",
       "    x.observe(notebookContainer, {childList: true});\n",
       "}}\n",
       "\n",
       "// Listen for the clearing of the current output cell\n",
       "var outputEl = gd.closest('.output');\n",
       "if (outputEl) {{\n",
       "    x.observe(outputEl, {childList: true});\n",
       "}}\n",
       "\n",
       "                        })                };                });            </script>        </div>"
      ]
     },
     "metadata": {},
     "output_type": "display_data"
    }
   ],
   "source": [
    "# then get the line plot to visualize it\n",
    "fig = px.line(x = n_clust, y = ss, title = \"Silhouette Score Chart\")\n",
    "fig.update_layout(xaxis_title = \"No. of clusters\", yaxis_title = \"Silhouette Score\")\n",
    "fig.show()"
   ]
  },
  {
   "cell_type": "code",
   "execution_count": 58,
   "id": "3fb913a5-4110-494d-9a69-b6a526271e97",
   "metadata": {},
   "outputs": [
    {
     "name": "stderr",
     "output_type": "stream",
     "text": [
      "C:\\Users\\HP\\anaconda3\\Lib\\site-packages\\sklearn\\cluster\\_kmeans.py:870: FutureWarning:\n",
      "\n",
      "The default value of `n_init` will change from 10 to 'auto' in 1.4. Set the value of `n_init` explicitly to suppress the warning\n",
      "\n"
     ]
    },
    {
     "name": "stdout",
     "output_type": "stream",
     "text": [
      " Final inertia: 553.56\n",
      "Final Silhoutte score: 0.48\n"
     ]
    }
   ],
   "source": [
    "# so the final model will have 4 clusters\n",
    "final_model = make_pipeline(StandardScaler(), KMeans(n_clusters=4, random_state=42))\n",
    "final_model.fit(X)\n",
    "final_inertia = model.named_steps[\"kmeans\"].inertia_\n",
    "final_ss = silhouette_score(X, model.named_steps[\"kmeans\"].labels_)\n",
    "\n",
    "print(f\" Final inertia: {round(final_inertia, 2)}\")\n",
    "print(f\"Final Silhoutte score: {final_ss:.2f}\")"
   ]
  },
  {
   "cell_type": "code",
   "execution_count": null,
   "id": "9412c4e7-cb5f-4dcb-8ab6-d6d3afbe3741",
   "metadata": {},
   "outputs": [],
   "source": []
  },
  {
   "cell_type": "markdown",
   "id": "e2aba546-182b-4541-9da7-69708b796ea3",
   "metadata": {},
   "source": [
    "#### Communication\n",
    "**I need to get display the clusters and how they relate, scatterplot and the bar chart**"
   ]
  },
  {
   "cell_type": "code",
   "execution_count": 75,
   "id": "6883ab6b-ecbb-4178-bc2c-b44cf5f7d978",
   "metadata": {},
   "outputs": [
    {
     "data": {
      "text/html": [
       "<div>\n",
       "<style scoped>\n",
       "    .dataframe tbody tr th:only-of-type {\n",
       "        vertical-align: middle;\n",
       "    }\n",
       "\n",
       "    .dataframe tbody tr th {\n",
       "        vertical-align: top;\n",
       "    }\n",
       "\n",
       "    .dataframe thead th {\n",
       "        text-align: right;\n",
       "    }\n",
       "</style>\n",
       "<table border=\"1\" class=\"dataframe\">\n",
       "  <thead>\n",
       "    <tr style=\"text-align: right;\">\n",
       "      <th></th>\n",
       "      <th>BUS</th>\n",
       "      <th>NHNFIN</th>\n",
       "      <th>NFIN</th>\n",
       "      <th>NETWORTH</th>\n",
       "      <th>ASSET</th>\n",
       "    </tr>\n",
       "  </thead>\n",
       "  <tbody>\n",
       "    <tr>\n",
       "      <th>0</th>\n",
       "      <td>9.548216e+06</td>\n",
       "      <td>1.255444e+07</td>\n",
       "      <td>1.523436e+07</td>\n",
       "      <td>2.845581e+07</td>\n",
       "      <td>2.941073e+07</td>\n",
       "    </tr>\n",
       "    <tr>\n",
       "      <th>1</th>\n",
       "      <td>2.032110e+08</td>\n",
       "      <td>2.401749e+08</td>\n",
       "      <td>2.529565e+08</td>\n",
       "      <td>4.065952e+08</td>\n",
       "      <td>4.076089e+08</td>\n",
       "    </tr>\n",
       "    <tr>\n",
       "      <th>2</th>\n",
       "      <td>7.940438e+07</td>\n",
       "      <td>9.210039e+07</td>\n",
       "      <td>9.750448e+07</td>\n",
       "      <td>1.453408e+08</td>\n",
       "      <td>1.472065e+08</td>\n",
       "    </tr>\n",
       "    <tr>\n",
       "      <th>3</th>\n",
       "      <td>5.668050e+08</td>\n",
       "      <td>5.695251e+08</td>\n",
       "      <td>5.785231e+08</td>\n",
       "      <td>6.274648e+08</td>\n",
       "      <td>6.306810e+08</td>\n",
       "    </tr>\n",
       "  </tbody>\n",
       "</table>\n",
       "</div>"
      ],
      "text/plain": [
       "            BUS        NHNFIN          NFIN      NETWORTH         ASSET\n",
       "0  9.548216e+06  1.255444e+07  1.523436e+07  2.845581e+07  2.941073e+07\n",
       "1  2.032110e+08  2.401749e+08  2.529565e+08  4.065952e+08  4.076089e+08\n",
       "2  7.940438e+07  9.210039e+07  9.750448e+07  1.453408e+08  1.472065e+08\n",
       "3  5.668050e+08  5.695251e+08  5.785231e+08  6.274648e+08  6.306810e+08"
      ]
     },
     "execution_count": 75,
     "metadata": {},
     "output_type": "execute_result"
    }
   ],
   "source": [
    "labels = final_model.named_steps[\"kmeans\"].labels_\n",
    "feat_dist = X.groupby(labels).mean()\n",
    "feat_dist"
   ]
  },
  {
   "cell_type": "code",
   "execution_count": 77,
   "id": "617c13b3-32d3-4d76-bb92-32b57cbe3c40",
   "metadata": {},
   "outputs": [
    {
     "data": {
      "application/vnd.plotly.v1+json": {
       "config": {
        "plotlyServerURL": "https://plot.ly"
       },
       "data": [
        {
         "alignmentgroup": "True",
         "hovertemplate": "variable=BUS<br>index=%{x}<br>value=%{y}<extra></extra>",
         "legendgroup": "BUS",
         "marker": {
          "color": "#636efa",
          "pattern": {
           "shape": ""
          }
         },
         "name": "BUS",
         "offsetgroup": "BUS",
         "orientation": "v",
         "showlegend": true,
         "textposition": "auto",
         "type": "bar",
         "x": [
          0,
          1,
          2,
          3
         ],
         "xaxis": "x",
         "y": [
          9548216.309412861,
          203211000.22727272,
          79404383.01369864,
          566805000
         ],
         "yaxis": "y"
        },
        {
         "alignmentgroup": "True",
         "hovertemplate": "variable=NHNFIN<br>index=%{x}<br>value=%{y}<extra></extra>",
         "legendgroup": "NHNFIN",
         "marker": {
          "color": "#EF553B",
          "pattern": {
           "shape": ""
          }
         },
         "name": "NHNFIN",
         "offsetgroup": "NHNFIN",
         "orientation": "v",
         "showlegend": true,
         "textposition": "auto",
         "type": "bar",
         "x": [
          0,
          1,
          2,
          3
         ],
         "xaxis": "x",
         "y": [
          12554436.929636532,
          240174870.79545453,
          92100392.9589041,
          569525060
         ],
         "yaxis": "y"
        },
        {
         "alignmentgroup": "True",
         "hovertemplate": "variable=NFIN<br>index=%{x}<br>value=%{y}<extra></extra>",
         "legendgroup": "NFIN",
         "marker": {
          "color": "#00cc96",
          "pattern": {
           "shape": ""
          }
         },
         "name": "NFIN",
         "offsetgroup": "NFIN",
         "orientation": "v",
         "showlegend": true,
         "textposition": "auto",
         "type": "bar",
         "x": [
          0,
          1,
          2,
          3
         ],
         "xaxis": "x",
         "y": [
          15234358.411463188,
          252956461.70454547,
          97504475.15068494,
          578523060
         ],
         "yaxis": "y"
        },
        {
         "alignmentgroup": "True",
         "hovertemplate": "variable=NETWORTH<br>index=%{x}<br>value=%{y}<extra></extra>",
         "legendgroup": "NETWORTH",
         "marker": {
          "color": "#ab63fa",
          "pattern": {
           "shape": ""
          }
         },
         "name": "NETWORTH",
         "offsetgroup": "NETWORTH",
         "orientation": "v",
         "showlegend": true,
         "textposition": "auto",
         "type": "bar",
         "x": [
          0,
          1,
          2,
          3
         ],
         "xaxis": "x",
         "y": [
          28455808.711556382,
          406595150.5681818,
          145340827.73424658,
          627464760
         ],
         "yaxis": "y"
        },
        {
         "alignmentgroup": "True",
         "hovertemplate": "variable=ASSET<br>index=%{x}<br>value=%{y}<extra></extra>",
         "legendgroup": "ASSET",
         "marker": {
          "color": "#FFA15A",
          "pattern": {
           "shape": ""
          }
         },
         "name": "ASSET",
         "offsetgroup": "ASSET",
         "orientation": "v",
         "showlegend": true,
         "textposition": "auto",
         "type": "bar",
         "x": [
          0,
          1,
          2,
          3
         ],
         "xaxis": "x",
         "y": [
          29410733.48555452,
          407608922.15909094,
          147206536.77534246,
          630680960
         ],
         "yaxis": "y"
        }
       ],
       "layout": {
        "autosize": true,
        "barmode": "group",
        "legend": {
         "title": {
          "text": "variable"
         },
         "tracegroupgap": 0
        },
        "template": {
         "data": {
          "bar": [
           {
            "error_x": {
             "color": "#2a3f5f"
            },
            "error_y": {
             "color": "#2a3f5f"
            },
            "marker": {
             "line": {
              "color": "#E5ECF6",
              "width": 0.5
             },
             "pattern": {
              "fillmode": "overlay",
              "size": 10,
              "solidity": 0.2
             }
            },
            "type": "bar"
           }
          ],
          "barpolar": [
           {
            "marker": {
             "line": {
              "color": "#E5ECF6",
              "width": 0.5
             },
             "pattern": {
              "fillmode": "overlay",
              "size": 10,
              "solidity": 0.2
             }
            },
            "type": "barpolar"
           }
          ],
          "carpet": [
           {
            "aaxis": {
             "endlinecolor": "#2a3f5f",
             "gridcolor": "white",
             "linecolor": "white",
             "minorgridcolor": "white",
             "startlinecolor": "#2a3f5f"
            },
            "baxis": {
             "endlinecolor": "#2a3f5f",
             "gridcolor": "white",
             "linecolor": "white",
             "minorgridcolor": "white",
             "startlinecolor": "#2a3f5f"
            },
            "type": "carpet"
           }
          ],
          "choropleth": [
           {
            "colorbar": {
             "outlinewidth": 0,
             "ticks": ""
            },
            "type": "choropleth"
           }
          ],
          "contour": [
           {
            "colorbar": {
             "outlinewidth": 0,
             "ticks": ""
            },
            "colorscale": [
             [
              0,
              "#0d0887"
             ],
             [
              0.1111111111111111,
              "#46039f"
             ],
             [
              0.2222222222222222,
              "#7201a8"
             ],
             [
              0.3333333333333333,
              "#9c179e"
             ],
             [
              0.4444444444444444,
              "#bd3786"
             ],
             [
              0.5555555555555556,
              "#d8576b"
             ],
             [
              0.6666666666666666,
              "#ed7953"
             ],
             [
              0.7777777777777778,
              "#fb9f3a"
             ],
             [
              0.8888888888888888,
              "#fdca26"
             ],
             [
              1,
              "#f0f921"
             ]
            ],
            "type": "contour"
           }
          ],
          "contourcarpet": [
           {
            "colorbar": {
             "outlinewidth": 0,
             "ticks": ""
            },
            "type": "contourcarpet"
           }
          ],
          "heatmap": [
           {
            "colorbar": {
             "outlinewidth": 0,
             "ticks": ""
            },
            "colorscale": [
             [
              0,
              "#0d0887"
             ],
             [
              0.1111111111111111,
              "#46039f"
             ],
             [
              0.2222222222222222,
              "#7201a8"
             ],
             [
              0.3333333333333333,
              "#9c179e"
             ],
             [
              0.4444444444444444,
              "#bd3786"
             ],
             [
              0.5555555555555556,
              "#d8576b"
             ],
             [
              0.6666666666666666,
              "#ed7953"
             ],
             [
              0.7777777777777778,
              "#fb9f3a"
             ],
             [
              0.8888888888888888,
              "#fdca26"
             ],
             [
              1,
              "#f0f921"
             ]
            ],
            "type": "heatmap"
           }
          ],
          "heatmapgl": [
           {
            "colorbar": {
             "outlinewidth": 0,
             "ticks": ""
            },
            "colorscale": [
             [
              0,
              "#0d0887"
             ],
             [
              0.1111111111111111,
              "#46039f"
             ],
             [
              0.2222222222222222,
              "#7201a8"
             ],
             [
              0.3333333333333333,
              "#9c179e"
             ],
             [
              0.4444444444444444,
              "#bd3786"
             ],
             [
              0.5555555555555556,
              "#d8576b"
             ],
             [
              0.6666666666666666,
              "#ed7953"
             ],
             [
              0.7777777777777778,
              "#fb9f3a"
             ],
             [
              0.8888888888888888,
              "#fdca26"
             ],
             [
              1,
              "#f0f921"
             ]
            ],
            "type": "heatmapgl"
           }
          ],
          "histogram": [
           {
            "marker": {
             "pattern": {
              "fillmode": "overlay",
              "size": 10,
              "solidity": 0.2
             }
            },
            "type": "histogram"
           }
          ],
          "histogram2d": [
           {
            "colorbar": {
             "outlinewidth": 0,
             "ticks": ""
            },
            "colorscale": [
             [
              0,
              "#0d0887"
             ],
             [
              0.1111111111111111,
              "#46039f"
             ],
             [
              0.2222222222222222,
              "#7201a8"
             ],
             [
              0.3333333333333333,
              "#9c179e"
             ],
             [
              0.4444444444444444,
              "#bd3786"
             ],
             [
              0.5555555555555556,
              "#d8576b"
             ],
             [
              0.6666666666666666,
              "#ed7953"
             ],
             [
              0.7777777777777778,
              "#fb9f3a"
             ],
             [
              0.8888888888888888,
              "#fdca26"
             ],
             [
              1,
              "#f0f921"
             ]
            ],
            "type": "histogram2d"
           }
          ],
          "histogram2dcontour": [
           {
            "colorbar": {
             "outlinewidth": 0,
             "ticks": ""
            },
            "colorscale": [
             [
              0,
              "#0d0887"
             ],
             [
              0.1111111111111111,
              "#46039f"
             ],
             [
              0.2222222222222222,
              "#7201a8"
             ],
             [
              0.3333333333333333,
              "#9c179e"
             ],
             [
              0.4444444444444444,
              "#bd3786"
             ],
             [
              0.5555555555555556,
              "#d8576b"
             ],
             [
              0.6666666666666666,
              "#ed7953"
             ],
             [
              0.7777777777777778,
              "#fb9f3a"
             ],
             [
              0.8888888888888888,
              "#fdca26"
             ],
             [
              1,
              "#f0f921"
             ]
            ],
            "type": "histogram2dcontour"
           }
          ],
          "mesh3d": [
           {
            "colorbar": {
             "outlinewidth": 0,
             "ticks": ""
            },
            "type": "mesh3d"
           }
          ],
          "parcoords": [
           {
            "line": {
             "colorbar": {
              "outlinewidth": 0,
              "ticks": ""
             }
            },
            "type": "parcoords"
           }
          ],
          "pie": [
           {
            "automargin": true,
            "type": "pie"
           }
          ],
          "scatter": [
           {
            "fillpattern": {
             "fillmode": "overlay",
             "size": 10,
             "solidity": 0.2
            },
            "type": "scatter"
           }
          ],
          "scatter3d": [
           {
            "line": {
             "colorbar": {
              "outlinewidth": 0,
              "ticks": ""
             }
            },
            "marker": {
             "colorbar": {
              "outlinewidth": 0,
              "ticks": ""
             }
            },
            "type": "scatter3d"
           }
          ],
          "scattercarpet": [
           {
            "marker": {
             "colorbar": {
              "outlinewidth": 0,
              "ticks": ""
             }
            },
            "type": "scattercarpet"
           }
          ],
          "scattergeo": [
           {
            "marker": {
             "colorbar": {
              "outlinewidth": 0,
              "ticks": ""
             }
            },
            "type": "scattergeo"
           }
          ],
          "scattergl": [
           {
            "marker": {
             "colorbar": {
              "outlinewidth": 0,
              "ticks": ""
             }
            },
            "type": "scattergl"
           }
          ],
          "scattermapbox": [
           {
            "marker": {
             "colorbar": {
              "outlinewidth": 0,
              "ticks": ""
             }
            },
            "type": "scattermapbox"
           }
          ],
          "scatterpolar": [
           {
            "marker": {
             "colorbar": {
              "outlinewidth": 0,
              "ticks": ""
             }
            },
            "type": "scatterpolar"
           }
          ],
          "scatterpolargl": [
           {
            "marker": {
             "colorbar": {
              "outlinewidth": 0,
              "ticks": ""
             }
            },
            "type": "scatterpolargl"
           }
          ],
          "scatterternary": [
           {
            "marker": {
             "colorbar": {
              "outlinewidth": 0,
              "ticks": ""
             }
            },
            "type": "scatterternary"
           }
          ],
          "surface": [
           {
            "colorbar": {
             "outlinewidth": 0,
             "ticks": ""
            },
            "colorscale": [
             [
              0,
              "#0d0887"
             ],
             [
              0.1111111111111111,
              "#46039f"
             ],
             [
              0.2222222222222222,
              "#7201a8"
             ],
             [
              0.3333333333333333,
              "#9c179e"
             ],
             [
              0.4444444444444444,
              "#bd3786"
             ],
             [
              0.5555555555555556,
              "#d8576b"
             ],
             [
              0.6666666666666666,
              "#ed7953"
             ],
             [
              0.7777777777777778,
              "#fb9f3a"
             ],
             [
              0.8888888888888888,
              "#fdca26"
             ],
             [
              1,
              "#f0f921"
             ]
            ],
            "type": "surface"
           }
          ],
          "table": [
           {
            "cells": {
             "fill": {
              "color": "#EBF0F8"
             },
             "line": {
              "color": "white"
             }
            },
            "header": {
             "fill": {
              "color": "#C8D4E3"
             },
             "line": {
              "color": "white"
             }
            },
            "type": "table"
           }
          ]
         },
         "layout": {
          "annotationdefaults": {
           "arrowcolor": "#2a3f5f",
           "arrowhead": 0,
           "arrowwidth": 1
          },
          "autotypenumbers": "strict",
          "coloraxis": {
           "colorbar": {
            "outlinewidth": 0,
            "ticks": ""
           }
          },
          "colorscale": {
           "diverging": [
            [
             0,
             "#8e0152"
            ],
            [
             0.1,
             "#c51b7d"
            ],
            [
             0.2,
             "#de77ae"
            ],
            [
             0.3,
             "#f1b6da"
            ],
            [
             0.4,
             "#fde0ef"
            ],
            [
             0.5,
             "#f7f7f7"
            ],
            [
             0.6,
             "#e6f5d0"
            ],
            [
             0.7,
             "#b8e186"
            ],
            [
             0.8,
             "#7fbc41"
            ],
            [
             0.9,
             "#4d9221"
            ],
            [
             1,
             "#276419"
            ]
           ],
           "sequential": [
            [
             0,
             "#0d0887"
            ],
            [
             0.1111111111111111,
             "#46039f"
            ],
            [
             0.2222222222222222,
             "#7201a8"
            ],
            [
             0.3333333333333333,
             "#9c179e"
            ],
            [
             0.4444444444444444,
             "#bd3786"
            ],
            [
             0.5555555555555556,
             "#d8576b"
            ],
            [
             0.6666666666666666,
             "#ed7953"
            ],
            [
             0.7777777777777778,
             "#fb9f3a"
            ],
            [
             0.8888888888888888,
             "#fdca26"
            ],
            [
             1,
             "#f0f921"
            ]
           ],
           "sequentialminus": [
            [
             0,
             "#0d0887"
            ],
            [
             0.1111111111111111,
             "#46039f"
            ],
            [
             0.2222222222222222,
             "#7201a8"
            ],
            [
             0.3333333333333333,
             "#9c179e"
            ],
            [
             0.4444444444444444,
             "#bd3786"
            ],
            [
             0.5555555555555556,
             "#d8576b"
            ],
            [
             0.6666666666666666,
             "#ed7953"
            ],
            [
             0.7777777777777778,
             "#fb9f3a"
            ],
            [
             0.8888888888888888,
             "#fdca26"
            ],
            [
             1,
             "#f0f921"
            ]
           ]
          },
          "colorway": [
           "#636efa",
           "#EF553B",
           "#00cc96",
           "#ab63fa",
           "#FFA15A",
           "#19d3f3",
           "#FF6692",
           "#B6E880",
           "#FF97FF",
           "#FECB52"
          ],
          "font": {
           "color": "#2a3f5f"
          },
          "geo": {
           "bgcolor": "white",
           "lakecolor": "white",
           "landcolor": "#E5ECF6",
           "showlakes": true,
           "showland": true,
           "subunitcolor": "white"
          },
          "hoverlabel": {
           "align": "left"
          },
          "hovermode": "closest",
          "mapbox": {
           "style": "light"
          },
          "paper_bgcolor": "white",
          "plot_bgcolor": "#E5ECF6",
          "polar": {
           "angularaxis": {
            "gridcolor": "white",
            "linecolor": "white",
            "ticks": ""
           },
           "bgcolor": "#E5ECF6",
           "radialaxis": {
            "gridcolor": "white",
            "linecolor": "white",
            "ticks": ""
           }
          },
          "scene": {
           "xaxis": {
            "backgroundcolor": "#E5ECF6",
            "gridcolor": "white",
            "gridwidth": 2,
            "linecolor": "white",
            "showbackground": true,
            "ticks": "",
            "zerolinecolor": "white"
           },
           "yaxis": {
            "backgroundcolor": "#E5ECF6",
            "gridcolor": "white",
            "gridwidth": 2,
            "linecolor": "white",
            "showbackground": true,
            "ticks": "",
            "zerolinecolor": "white"
           },
           "zaxis": {
            "backgroundcolor": "#E5ECF6",
            "gridcolor": "white",
            "gridwidth": 2,
            "linecolor": "white",
            "showbackground": true,
            "ticks": "",
            "zerolinecolor": "white"
           }
          },
          "shapedefaults": {
           "line": {
            "color": "#2a3f5f"
           }
          },
          "ternary": {
           "aaxis": {
            "gridcolor": "white",
            "linecolor": "white",
            "ticks": ""
           },
           "baxis": {
            "gridcolor": "white",
            "linecolor": "white",
            "ticks": ""
           },
           "bgcolor": "#E5ECF6",
           "caxis": {
            "gridcolor": "white",
            "linecolor": "white",
            "ticks": ""
           }
          },
          "title": {
           "x": 0.05
          },
          "xaxis": {
           "automargin": true,
           "gridcolor": "white",
           "linecolor": "white",
           "ticks": "",
           "title": {
            "standoff": 15
           },
           "zerolinecolor": "white",
           "zerolinewidth": 2
          },
          "yaxis": {
           "automargin": true,
           "gridcolor": "white",
           "linecolor": "white",
           "ticks": "",
           "title": {
            "standoff": 15
           },
           "zerolinecolor": "white",
           "zerolinewidth": 2
          }
         }
        },
        "title": {
         "text": "Feature Distribution"
        },
        "xaxis": {
         "anchor": "y",
         "autorange": true,
         "domain": [
          0,
          1
         ],
         "range": [
          -0.5,
          3.5
         ],
         "title": {
          "text": "Features"
         },
         "type": "linear"
        },
        "yaxis": {
         "anchor": "x",
         "autorange": true,
         "domain": [
          0,
          1
         ],
         "range": [
          0,
          663874694.7368422
         ],
         "title": {
          "text": "Frequency (Count)"
         },
         "type": "linear"
        }
       }
      },
      "image/png": "[encoded data removed]",
      "text/html": [
       "<div>                            <div id=\"6ed18680-b587-4bae-9792-b46d346beec5\" class=\"plotly-graph-div\" style=\"height:525px; width:100%;\"></div>            <script type=\"text/javascript\">                require([\"plotly\"], function(Plotly) {                    window.PLOTLYENV=window.PLOTLYENV || {};                                    if (document.getElementById(\"6ed18680-b587-4bae-9792-b46d346beec5\")) {                    Plotly.newPlot(                        \"6ed18680-b587-4bae-9792-b46d346beec5\",                        [{\"alignmentgroup\":\"True\",\"hovertemplate\":\"variable=BUS<br>index=%{x}<br>value=%{y}<extra></extra>\",\"legendgroup\":\"BUS\",\"marker\":{\"color\":\"#636efa\",\"pattern\":{\"shape\":\"\"}},\"name\":\"BUS\",\"offsetgroup\":\"BUS\",\"orientation\":\"v\",\"showlegend\":true,\"textposition\":\"auto\",\"x\":[0,1,2,3],\"xaxis\":\"x\",\"y\":[9548216.309412861,203211000.22727272,79404383.01369864,566805000.0],\"yaxis\":\"y\",\"type\":\"bar\"},{\"alignmentgroup\":\"True\",\"hovertemplate\":\"variable=NHNFIN<br>index=%{x}<br>value=%{y}<extra></extra>\",\"legendgroup\":\"NHNFIN\",\"marker\":{\"color\":\"#EF553B\",\"pattern\":{\"shape\":\"\"}},\"name\":\"NHNFIN\",\"offsetgroup\":\"NHNFIN\",\"orientation\":\"v\",\"showlegend\":true,\"textposition\":\"auto\",\"x\":[0,1,2,3],\"xaxis\":\"x\",\"y\":[12554436.929636532,240174870.79545453,92100392.9589041,569525060.0],\"yaxis\":\"y\",\"type\":\"bar\"},{\"alignmentgroup\":\"True\",\"hovertemplate\":\"variable=NFIN<br>index=%{x}<br>value=%{y}<extra></extra>\",\"legendgroup\":\"NFIN\",\"marker\":{\"color\":\"#00cc96\",\"pattern\":{\"shape\":\"\"}},\"name\":\"NFIN\",\"offsetgroup\":\"NFIN\",\"orientation\":\"v\",\"showlegend\":true,\"textposition\":\"auto\",\"x\":[0,1,2,3],\"xaxis\":\"x\",\"y\":[15234358.411463188,252956461.70454547,97504475.15068494,578523060.0],\"yaxis\":\"y\",\"type\":\"bar\"},{\"alignmentgroup\":\"True\",\"hovertemplate\":\"variable=NETWORTH<br>index=%{x}<br>value=%{y}<extra></extra>\",\"legendgroup\":\"NETWORTH\",\"marker\":{\"color\":\"#ab63fa\",\"pattern\":{\"shape\":\"\"}},\"name\":\"NETWORTH\",\"offsetgroup\":\"NETWORTH\",\"orientation\":\"v\",\"showlegend\":true,\"textposition\":\"auto\",\"x\":[0,1,2,3],\"xaxis\":\"x\",\"y\":[28455808.711556382,406595150.5681818,145340827.73424658,627464760.0],\"yaxis\":\"y\",\"type\":\"bar\"},{\"alignmentgroup\":\"True\",\"hovertemplate\":\"variable=ASSET<br>index=%{x}<br>value=%{y}<extra></extra>\",\"legendgroup\":\"ASSET\",\"marker\":{\"color\":\"#FFA15A\",\"pattern\":{\"shape\":\"\"}},\"name\":\"ASSET\",\"offsetgroup\":\"ASSET\",\"orientation\":\"v\",\"showlegend\":true,\"textposition\":\"auto\",\"x\":[0,1,2,3],\"xaxis\":\"x\",\"y\":[29410733.48555452,407608922.15909094,147206536.77534246,630680960.0],\"yaxis\":\"y\",\"type\":\"bar\"}],                        {\"template\":{\"data\":{\"histogram2dcontour\":[{\"type\":\"histogram2dcontour\",\"colorbar\":{\"outlinewidth\":0,\"ticks\":\"\"},\"colorscale\":[[0.0,\"#0d0887\"],[0.1111111111111111,\"#46039f\"],[0.2222222222222222,\"#7201a8\"],[0.3333333333333333,\"#9c179e\"],[0.4444444444444444,\"#bd3786\"],[0.5555555555555556,\"#d8576b\"],[0.6666666666666666,\"#ed7953\"],[0.7777777777777778,\"#fb9f3a\"],[0.8888888888888888,\"#fdca26\"],[1.0,\"#f0f921\"]]}],\"choropleth\":[{\"type\":\"choropleth\",\"colorbar\":{\"outlinewidth\":0,\"ticks\":\"\"}}],\"histogram2d\":[{\"type\":\"histogram2d\",\"colorbar\":{\"outlinewidth\":0,\"ticks\":\"\"},\"colorscale\":[[0.0,\"#0d0887\"],[0.1111111111111111,\"#46039f\"],[0.2222222222222222,\"#7201a8\"],[0.3333333333333333,\"#9c179e\"],[0.4444444444444444,\"#bd3786\"],[0.5555555555555556,\"#d8576b\"],[0.6666666666666666,\"#ed7953\"],[0.7777777777777778,\"#fb9f3a\"],[0.8888888888888888,\"#fdca26\"],[1.0,\"#f0f921\"]]}],\"heatmap\":[{\"type\":\"heatmap\",\"colorbar\":{\"outlinewidth\":0,\"ticks\":\"\"},\"colorscale\":[[0.0,\"#0d0887\"],[0.1111111111111111,\"#46039f\"],[0.2222222222222222,\"#7201a8\"],[0.3333333333333333,\"#9c179e\"],[0.4444444444444444,\"#bd3786\"],[0.5555555555555556,\"#d8576b\"],[0.6666666666666666,\"#ed7953\"],[0.7777777777777778,\"#fb9f3a\"],[0.8888888888888888,\"#fdca26\"],[1.0,\"#f0f921\"]]}],\"heatmapgl\":[{\"type\":\"heatmapgl\",\"colorbar\":{\"outlinewidth\":0,\"ticks\":\"\"},\"colorscale\":[[0.0,\"#0d0887\"],[0.1111111111111111,\"#46039f\"],[0.2222222222222222,\"#7201a8\"],[0.3333333333333333,\"#9c179e\"],[0.4444444444444444,\"#bd3786\"],[0.5555555555555556,\"#d8576b\"],[0.6666666666666666,\"#ed7953\"],[0.7777777777777778,\"#fb9f3a\"],[0.8888888888888888,\"#fdca26\"],[1.0,\"#f0f921\"]]}],\"contourcarpet\":[{\"type\":\"contourcarpet\",\"colorbar\":{\"outlinewidth\":0,\"ticks\":\"\"}}],\"contour\":[{\"type\":\"contour\",\"colorbar\":{\"outlinewidth\":0,\"ticks\":\"\"},\"colorscale\":[[0.0,\"#0d0887\"],[0.1111111111111111,\"#46039f\"],[0.2222222222222222,\"#7201a8\"],[0.3333333333333333,\"#9c179e\"],[0.4444444444444444,\"#bd3786\"],[0.5555555555555556,\"#d8576b\"],[0.6666666666666666,\"#ed7953\"],[0.7777777777777778,\"#fb9f3a\"],[0.8888888888888888,\"#fdca26\"],[1.0,\"#f0f921\"]]}],\"surface\":[{\"type\":\"surface\",\"colorbar\":{\"outlinewidth\":0,\"ticks\":\"\"},\"colorscale\":[[0.0,\"#0d0887\"],[0.1111111111111111,\"#46039f\"],[0.2222222222222222,\"#7201a8\"],[0.3333333333333333,\"#9c179e\"],[0.4444444444444444,\"#bd3786\"],[0.5555555555555556,\"#d8576b\"],[0.6666666666666666,\"#ed7953\"],[0.7777777777777778,\"#fb9f3a\"],[0.8888888888888888,\"#fdca26\"],[1.0,\"#f0f921\"]]}],\"mesh3d\":[{\"type\":\"mesh3d\",\"colorbar\":{\"outlinewidth\":0,\"ticks\":\"\"}}],\"scatter\":[{\"fillpattern\":{\"fillmode\":\"overlay\",\"size\":10,\"solidity\":0.2},\"type\":\"scatter\"}],\"parcoords\":[{\"type\":\"parcoords\",\"line\":{\"colorbar\":{\"outlinewidth\":0,\"ticks\":\"\"}}}],\"scatterpolargl\":[{\"type\":\"scatterpolargl\",\"marker\":{\"colorbar\":{\"outlinewidth\":0,\"ticks\":\"\"}}}],\"bar\":[{\"error_x\":{\"color\":\"#2a3f5f\"},\"error_y\":{\"color\":\"#2a3f5f\"},\"marker\":{\"line\":{\"color\":\"#E5ECF6\",\"width\":0.5},\"pattern\":{\"fillmode\":\"overlay\",\"size\":10,\"solidity\":0.2}},\"type\":\"bar\"}],\"scattergeo\":[{\"type\":\"scattergeo\",\"marker\":{\"colorbar\":{\"outlinewidth\":0,\"ticks\":\"\"}}}],\"scatterpolar\":[{\"type\":\"scatterpolar\",\"marker\":{\"colorbar\":{\"outlinewidth\":0,\"ticks\":\"\"}}}],\"histogram\":[{\"marker\":{\"pattern\":{\"fillmode\":\"overlay\",\"size\":10,\"solidity\":0.2}},\"type\":\"histogram\"}],\"scattergl\":[{\"type\":\"scattergl\",\"marker\":{\"colorbar\":{\"outlinewidth\":0,\"ticks\":\"\"}}}],\"scatter3d\":[{\"type\":\"scatter3d\",\"line\":{\"colorbar\":{\"outlinewidth\":0,\"ticks\":\"\"}},\"marker\":{\"colorbar\":{\"outlinewidth\":0,\"ticks\":\"\"}}}],\"scattermapbox\":[{\"type\":\"scattermapbox\",\"marker\":{\"colorbar\":{\"outlinewidth\":0,\"ticks\":\"\"}}}],\"scatterternary\":[{\"type\":\"scatterternary\",\"marker\":{\"colorbar\":{\"outlinewidth\":0,\"ticks\":\"\"}}}],\"scattercarpet\":[{\"type\":\"scattercarpet\",\"marker\":{\"colorbar\":{\"outlinewidth\":0,\"ticks\":\"\"}}}],\"carpet\":[{\"aaxis\":{\"endlinecolor\":\"#2a3f5f\",\"gridcolor\":\"white\",\"linecolor\":\"white\",\"minorgridcolor\":\"white\",\"startlinecolor\":\"#2a3f5f\"},\"baxis\":{\"endlinecolor\":\"#2a3f5f\",\"gridcolor\":\"white\",\"linecolor\":\"white\",\"minorgridcolor\":\"white\",\"startlinecolor\":\"#2a3f5f\"},\"type\":\"carpet\"}],\"table\":[{\"cells\":{\"fill\":{\"color\":\"#EBF0F8\"},\"line\":{\"color\":\"white\"}},\"header\":{\"fill\":{\"color\":\"#C8D4E3\"},\"line\":{\"color\":\"white\"}},\"type\":\"table\"}],\"barpolar\":[{\"marker\":{\"line\":{\"color\":\"#E5ECF6\",\"width\":0.5},\"pattern\":{\"fillmode\":\"overlay\",\"size\":10,\"solidity\":0.2}},\"type\":\"barpolar\"}],\"pie\":[{\"automargin\":true,\"type\":\"pie\"}]},\"layout\":{\"autotypenumbers\":\"strict\",\"colorway\":[\"#636efa\",\"#EF553B\",\"#00cc96\",\"#ab63fa\",\"#FFA15A\",\"#19d3f3\",\"#FF6692\",\"#B6E880\",\"#FF97FF\",\"#FECB52\"],\"font\":{\"color\":\"#2a3f5f\"},\"hovermode\":\"closest\",\"hoverlabel\":{\"align\":\"left\"},\"paper_bgcolor\":\"white\",\"plot_bgcolor\":\"#E5ECF6\",\"polar\":{\"bgcolor\":\"#E5ECF6\",\"angularaxis\":{\"gridcolor\":\"white\",\"linecolor\":\"white\",\"ticks\":\"\"},\"radialaxis\":{\"gridcolor\":\"white\",\"linecolor\":\"white\",\"ticks\":\"\"}},\"ternary\":{\"bgcolor\":\"#E5ECF6\",\"aaxis\":{\"gridcolor\":\"white\",\"linecolor\":\"white\",\"ticks\":\"\"},\"baxis\":{\"gridcolor\":\"white\",\"linecolor\":\"white\",\"ticks\":\"\"},\"caxis\":{\"gridcolor\":\"white\",\"linecolor\":\"white\",\"ticks\":\"\"}},\"coloraxis\":{\"colorbar\":{\"outlinewidth\":0,\"ticks\":\"\"}},\"colorscale\":{\"sequential\":[[0.0,\"#0d0887\"],[0.1111111111111111,\"#46039f\"],[0.2222222222222222,\"#7201a8\"],[0.3333333333333333,\"#9c179e\"],[0.4444444444444444,\"#bd3786\"],[0.5555555555555556,\"#d8576b\"],[0.6666666666666666,\"#ed7953\"],[0.7777777777777778,\"#fb9f3a\"],[0.8888888888888888,\"#fdca26\"],[1.0,\"#f0f921\"]],\"sequentialminus\":[[0.0,\"#0d0887\"],[0.1111111111111111,\"#46039f\"],[0.2222222222222222,\"#7201a8\"],[0.3333333333333333,\"#9c179e\"],[0.4444444444444444,\"#bd3786\"],[0.5555555555555556,\"#d8576b\"],[0.6666666666666666,\"#ed7953\"],[0.7777777777777778,\"#fb9f3a\"],[0.8888888888888888,\"#fdca26\"],[1.0,\"#f0f921\"]],\"diverging\":[[0,\"#8e0152\"],[0.1,\"#c51b7d\"],[0.2,\"#de77ae\"],[0.3,\"#f1b6da\"],[0.4,\"#fde0ef\"],[0.5,\"#f7f7f7\"],[0.6,\"#e6f5d0\"],[0.7,\"#b8e186\"],[0.8,\"#7fbc41\"],[0.9,\"#4d9221\"],[1,\"#276419\"]]},\"xaxis\":{\"gridcolor\":\"white\",\"linecolor\":\"white\",\"ticks\":\"\",\"title\":{\"standoff\":15},\"zerolinecolor\":\"white\",\"automargin\":true,\"zerolinewidth\":2},\"yaxis\":{\"gridcolor\":\"white\",\"linecolor\":\"white\",\"ticks\":\"\",\"title\":{\"standoff\":15},\"zerolinecolor\":\"white\",\"automargin\":true,\"zerolinewidth\":2},\"scene\":{\"xaxis\":{\"backgroundcolor\":\"#E5ECF6\",\"gridcolor\":\"white\",\"linecolor\":\"white\",\"showbackground\":true,\"ticks\":\"\",\"zerolinecolor\":\"white\",\"gridwidth\":2},\"yaxis\":{\"backgroundcolor\":\"#E5ECF6\",\"gridcolor\":\"white\",\"linecolor\":\"white\",\"showbackground\":true,\"ticks\":\"\",\"zerolinecolor\":\"white\",\"gridwidth\":2},\"zaxis\":{\"backgroundcolor\":\"#E5ECF6\",\"gridcolor\":\"white\",\"linecolor\":\"white\",\"showbackground\":true,\"ticks\":\"\",\"zerolinecolor\":\"white\",\"gridwidth\":2}},\"shapedefaults\":{\"line\":{\"color\":\"#2a3f5f\"}},\"annotationdefaults\":{\"arrowcolor\":\"#2a3f5f\",\"arrowhead\":0,\"arrowwidth\":1},\"geo\":{\"bgcolor\":\"white\",\"landcolor\":\"#E5ECF6\",\"subunitcolor\":\"white\",\"showland\":true,\"showlakes\":true,\"lakecolor\":\"white\"},\"title\":{\"x\":0.05},\"mapbox\":{\"style\":\"light\"}}},\"xaxis\":{\"anchor\":\"y\",\"domain\":[0.0,1.0],\"title\":{\"text\":\"Features\"}},\"yaxis\":{\"anchor\":\"x\",\"domain\":[0.0,1.0],\"title\":{\"text\":\"Frequency (Count)\"}},\"legend\":{\"title\":{\"text\":\"variable\"},\"tracegroupgap\":0},\"title\":{\"text\":\"Feature Distribution\"},\"barmode\":\"group\"},                        {\"responsive\": true}                    ).then(function(){\n",
       "                            \n",
       "var gd = document.getElementById('6ed18680-b587-4bae-9792-b46d346beec5');\n",
       "var x = new MutationObserver(function (mutations, observer) {{\n",
       "        var display = window.getComputedStyle(gd).display;\n",
       "        if (!display || display === 'none') {{\n",
       "            console.log([gd, 'removed!']);\n",
       "            Plotly.purge(gd);\n",
       "            observer.disconnect();\n",
       "        }}\n",
       "}});\n",
       "\n",
       "// Listen for the removal of the full notebook cells\n",
       "var notebookContainer = gd.closest('#notebook-container');\n",
       "if (notebookContainer) {{\n",
       "    x.observe(notebookContainer, {childList: true});\n",
       "}}\n",
       "\n",
       "// Listen for the clearing of the current output cell\n",
       "var outputEl = gd.closest('.output');\n",
       "if (outputEl) {{\n",
       "    x.observe(outputEl, {childList: true});\n",
       "}}\n",
       "\n",
       "                        })                };                });            </script>        </div>"
      ]
     },
     "metadata": {},
     "output_type": "display_data"
    }
   ],
   "source": [
    "# plot the bar graph to view the distribution\n",
    "fig = px.bar(feat_dist, barmode= \"group\", title = \"Feature Distribution\")\n",
    "fig.update_layout(xaxis_title = \"Features\", yaxis_title = \"Frequency (Count)\")\n",
    "fig.show();"
   ]
  },
  {
   "cell_type": "code",
   "execution_count": 97,
   "id": "b7001778-3c1b-4bf9-ab6a-9ef026fd3a61",
   "metadata": {},
   "outputs": [
    {
     "name": "stdout",
     "output_type": "stream",
     "text": [
      "[0.90396881 0.09284863]\n",
      "Cumulative Variance Explained: [0.90396881 0.99681744]\n"
     ]
    }
   ],
   "source": [
    "# Scatterplot\n",
    "# I need to get the PCA Principal Component Analysi, to reduce the multi-dimensionality and collinearity of the data.\n",
    "thePCA = PCA(n_components= 2 , random_state=42)\n",
    "x_PCA = thePCA.fit_transform(X)\n",
    "\n",
    "df_PCA = pd.DataFrame(x_PCA, columns=[\"PC1\",\"PC2\"])\n",
    "\n",
    "# get the explained variances\n",
    "print(thePCA.explained_variance_ratio_)\n",
    "print(\"Cumulative Variance Explained:\", np.cumsum(thePCA.explained_variance_ratio_))"
   ]
  },
  {
   "cell_type": "code",
   "execution_count": 89,
   "id": "682785c1-d693-499d-9f3e-2bb2a7a99138",
   "metadata": {},
   "outputs": [
    {
     "data": {
      "text/html": [
       "<div>\n",
       "<style scoped>\n",
       "    .dataframe tbody tr th:only-of-type {\n",
       "        vertical-align: middle;\n",
       "    }\n",
       "\n",
       "    .dataframe tbody tr th {\n",
       "        vertical-align: top;\n",
       "    }\n",
       "\n",
       "    .dataframe thead th {\n",
       "        text-align: right;\n",
       "    }\n",
       "</style>\n",
       "<table border=\"1\" class=\"dataframe\">\n",
       "  <thead>\n",
       "    <tr style=\"text-align: right;\">\n",
       "      <th></th>\n",
       "      <th>PC!</th>\n",
       "      <th>PC2</th>\n",
       "    </tr>\n",
       "  </thead>\n",
       "  <tbody>\n",
       "    <tr>\n",
       "      <th>0</th>\n",
       "      <td>-8.971554e+07</td>\n",
       "      <td>-4.829602e+06</td>\n",
       "    </tr>\n",
       "    <tr>\n",
       "      <th>1</th>\n",
       "      <td>-8.971611e+07</td>\n",
       "      <td>-4.830012e+06</td>\n",
       "    </tr>\n",
       "    <tr>\n",
       "      <th>2</th>\n",
       "      <td>-8.971720e+07</td>\n",
       "      <td>-4.829549e+06</td>\n",
       "    </tr>\n",
       "    <tr>\n",
       "      <th>3</th>\n",
       "      <td>-7.923639e+07</td>\n",
       "      <td>-7.701481e+06</td>\n",
       "    </tr>\n",
       "    <tr>\n",
       "      <th>4</th>\n",
       "      <td>-5.465501e+07</td>\n",
       "      <td>-1.443843e+07</td>\n",
       "    </tr>\n",
       "  </tbody>\n",
       "</table>\n",
       "</div>"
      ],
      "text/plain": [
       "            PC!           PC2\n",
       "0 -8.971554e+07 -4.829602e+06\n",
       "1 -8.971611e+07 -4.830012e+06\n",
       "2 -8.971720e+07 -4.829549e+06\n",
       "3 -7.923639e+07 -7.701481e+06\n",
       "4 -5.465501e+07 -1.443843e+07"
      ]
     },
     "execution_count": 89,
     "metadata": {},
     "output_type": "execute_result"
    }
   ],
   "source": [
    "df_PCA.head()"
   ]
  },
  {
   "cell_type": "code",
   "execution_count": 99,
   "id": "ae425d3b-8b47-475c-af76-087c696ff0e6",
   "metadata": {},
   "outputs": [
    {
     "data": {
      "application/vnd.plotly.v1+json": {
       "config": {
        "plotlyServerURL": "https://plot.ly"
       },
       "data": [
        {
         "hovertemplate": "color=0<br>PC1=%{x}<br>PC2=%{y}<extra></extra>",
         "legendgroup": "0",
         "marker": {
          "color": "#636efa",
          "symbol": "circle"
         },
         "mode": "markers",
         "name": "0",
         "showlegend": true,
         "type": "scattergl",
         "x": [
          -89715535.8157864,
          -89716109.67530152,
          -89717203.3196917,
          -79236387.02027632,
          -54655008.58222453,
          -34123656.13226867,
          -38647806.43368043,
          -44362030.126978576,
          -36489578.11762849,
          -37977124.35221942,
          -43068165.62180444,
          -45930089.75280763,
          -45273041.40992828,
          -48134189.66902647,
          -50315520.15061471,
          -89760032.53383419,
          -89790955.97031689,
          -89758179.75171663,
          -89766869.8027888,
          -89793179.30885793,
          -9202596.937232679,
          -4329895.429350907,
          -84450797.0309993,
          -84431259.61210138,
          -84431259.61210138,
          -84973710.30150223,
          -84450797.0309993,
          -82024998.88095273,
          -79246364.81683898,
          -76679450.43549314,
          -80353808.11966291,
          -82768330.13743511,
          88461473.56640175,
          89398675.94222438,
          88082947.76180144,
          88227004.9696494,
          89089544.77236511,
          -88870311.19668339,
          -88870885.056199,
          -88872163.97880092,
          -88872163.97880092,
          -88872737.83831653,
          -68302036.46610132,
          -67948197.67583464,
          -65101731.65092322,
          -66960725.25933232,
          -67726872.02840887,
          62261980.25871927,
          -6942945.026019696,
          -12112761.95217297,
          1674651.705647462,
          -12114614.734290522,
          -12114614.734290522,
          -84292458.96276198,
          -84249335.65610643,
          -84449859.03205474,
          -84853061.9492841,
          -84542877.52457939,
          -65575590.18558639,
          -65570404.549656846,
          -65573291.665716045,
          -65567862.211578205,
          -65563394.064052306,
          56040320.807821594,
          55113872.80382478,
          37257549.993551195,
          54662221.626089446,
          48026333.05621231,
          -82888652.5229172,
          -82888652.5229172,
          -82888652.5229172,
          -82888652.5229172,
          -82886799.74079965,
          -69463559.83951066,
          -72342901.71486755,
          -72098109.34867606,
          -72216483.12199868,
          -67670010.81846105,
          -32190991.595895626,
          -32148933.44182729,
          -32204146.34893022,
          -32192728.480565634,
          -32150786.223944835,
          -89844502.44623631,
          -92120756.86922479,
          -88807707.797368,
          -90926403.49135078,
          -90611924.72259377,
          -62896851.164168715,
          -55626667.91214785,
          -63592397.24315566,
          -56428460.09179016,
          -60495918.26738109,
          -24281267.022099692,
          -58641719.71059694,
          -42427966.05269628,
          -51304786.91359822,
          41345774.474150084,
          39887564.619390115,
          42640139.13530645,
          44606010.3433026,
          43402188.375934325,
          31662789.963795826,
          35656891.99179084,
          1427743.161168673,
          8037473.189512778,
          25498257.346108183,
          18671859.293193113,
          16463071.165134693,
          16787945.846399743,
          10333465.173935875,
          20656595.323243495,
          -88557657.29799595,
          -88554992.2387999,
          -88609297.2038131,
          -88538013.81652673,
          -88475451.84632342,
          -74653504.32017478,
          -73530056.9837092,
          -77261890.51331978,
          -73553286.14094277,
          -76939039.57291879,
          -68605326.13623783,
          -69752517.40352581,
          -69756309.96131189,
          -69756783.63150723,
          -69758406.56163776,
          -81698088.85975483,
          -79763892.09338132,
          -80106817.29181516,
          -82260522.70580639,
          -82231353.17419408,
          -98941899.75218119,
          -98944359.30072922,
          -98941899.75218119,
          -98941899.75218119,
          -98944055.91751397,
          21849896.037508074,
          21848043.255390525,
          21839552.698091537,
          21849192.515325695,
          21848043.255390525,
          -87677597.67235313,
          -91860558.41794112,
          -93980068.94006126,
          -94083564.87603456,
          -93870104.50808963,
          -61626633.64251267,
          -62270922.72839098,
          -66401808.6731494,
          -59518445.183655724,
          -97815068.11318964,
          -97894332.42129391,
          -98292771.51906602,
          -98361307.83641909,
          -98413225.27359194,
          -1458187.5384828018,
          -2691995.1240869854,
          -1619850.530565685,
          -75245.17769546609,
          -1524117.1779659167,
          -22523692.601033457,
          -22523692.601033457,
          -22521839.81891591,
          -22525545.383151006,
          -22523692.601033457,
          -87640240.28064395,
          -86259979.09850325,
          -87112026.44821799,
          -92479070.34546795,
          -84464131.55758332,
          -25844593.98545935,
          -25841844.78059237,
          -25841376.057640873,
          -25844134.28148528,
          -25843122.932742327,
          -67854107.41648817,
          -66842810.097569354,
          -67663132.86923803,
          -67531443.81441227,
          -67346270.07468323,
          -95836748.73180072,
          -95834956.0366896,
          -95351076.95689043,
          -95628375.92967841,
          -95970480.24102451,
          -71853322.29783504,
          -71853322.29783504,
          -71853322.29783504,
          -71853322.29783504,
          -71851469.51571748,
          -66451965.680845656,
          -66454856.020949036,
          -66451521.01313745,
          -66453744.35167851,
          -66453114.40575854,
          -90183399.10697228,
          -90185251.88908982,
          -90183399.10697228,
          -90185251.88908982,
          -90187104.67120737,
          -100604090.83234301,
          -100606960.12992103,
          -100608681.70846786,
          -100608681.70846786,
          -100609829.42749909,
          32102441.92548763,
          32094397.10594143,
          32162649.17986933,
          32359301.520998407,
          32078753.20460182,
          -61283569.37366792,
          -61280126.21657429,
          -61282421.65463671,
          -61287586.39027719,
          -61286438.67124598,
          49360633.30121253,
          -59311561.50633732,
          -61747992.56890046,
          -59311561.50633732,
          -60462674.22362615,
          -55291004.515355326,
          -74072100.31635392,
          -74091809.18756413,
          -74093661.96968168,
          -74093661.96968168,
          -74082169.37032998,
          -36302470.62187487,
          -36559904.84735324,
          -36172604.249200515,
          -36201335.74757979,
          -36089857.533868186,
          -86704754.22704838,
          -87165482.42109714,
          -87067344.96614292,
          -87231690.67777638,
          -86448339.59883842,
          -83420026.42530686,
          -86291838.70750655,
          -79343905.76670088,
          -80270296.82547495,
          -81011409.6724942,
          -75290432.28205092,
          -75290432.28205092,
          -75290432.28205092,
          -75290432.28205092,
          -75290432.28205092,
          -20632872.648903158,
          -17850103.085898716,
          -22226484.919030998,
          -22370142.41092741,
          -21282238.99007299,
          -66224257.40324779,
          -66231297.97529447,
          -66224257.40324779,
          -66190351.49049666,
          -66197762.618966855,
          -55256631.37192332,
          -55242179.67140643,
          -55310344.02845187,
          -55237177.15968906,
          -55230692.422277644,
          -43811283.654414386,
          -42664529.02578382,
          -45775291.90033232,
          -47169311.03178687,
          -44207652.50848719,
          55404453.841211215,
          68948657.1862385,
          70026155.27385712,
          65297124.66527129,
          73631349.44195452,
          -75816603.61781085,
          -74932575.83137213,
          -74393534.4981778,
          -75967535.19110528,
          -75918673.28929365,
          8273522.566827932,
          12885056.948917534,
          -39038506.922121525,
          -43895690.668110155,
          -42820275.63101745,
          -97940775.80784757,
          -97903334.42090386,
          -98387221.5333581,
          -97974663.6402564,
          -97950998.70896055,
          -98365506.22933747,
          -98361800.66510236,
          -98361800.66510236,
          -98361800.66510236,
          -98363653.44721992,
          -87937769.55443369,
          -81963123.29895619,
          -83966260.46938255,
          -71349164.15306033,
          -71389884.70349906,
          -74083031.98623393,
          -73987350.6824266,
          -73936692.76438302,
          -73915131.11105523,
          -74007645.76538454,
          -80798140.20399645,
          -84820549.97709596,
          -80798140.20399645,
          -82522030.10675335,
          -84096516.21793805,
          -68180797.83109015,
          -68197590.99236493,
          -66177637.76408659,
          49030216.07516137,
          4047826.256585124,
          46136276.75091034,
          -2041508.7739379965,
          26095857.23088815,
          -96411042.44792582,
          -96412321.3705278,
          -96411042.44792582,
          -96411042.44792582,
          -96411042.44792582,
          -28642903.81833085,
          -46041547.00450674,
          -35829027.06507468,
          -33359436.187933713,
          -58310808.75423208,
          -73243945.78749773,
          -73986035.63084745,
          -71474406.90066698,
          -71378752.21628715,
          -70484624.37236477,
          -33977532.2891283,
          -34433379.14354336,
          -35143318.14124433,
          -33545121.74833386,
          -34931844.54836337,
          -96262609.17870483,
          -96174749.85477264,
          -96260756.39658727,
          -96252899.53036429,
          -96273843.99362694,
          6450695.547357282,
          2484500.59498216,
          1533935.0664425842,
          2486353.377099708,
          1190801.395315759,
          -87450766.41661406,
          -87069841.43351252,
          -88353538.02389632,
          -89823802.09989962,
          -89164646.5273807,
          -59735559.453974985,
          -61679556.033280104,
          -63296680.03286311,
          -59811004.69876082,
          -63146451.98175108,
          -81745754.9445455,
          -81736491.03395778,
          -81726851.2167236,
          -70635539.88758397,
          -81751313.29089814,
          -77150899.91316397,
          -77152752.69528154,
          -77151474.54313157,
          -77152752.69528154,
          -77153741.05882578,
          -75124666.94494976,
          -75074167.8379583,
          -74238784.0082138,
          -75041976.54877031,
          -75032388.05215646,
          -85615324.0376201,
          -89401978.06604469,
          -87115332.05575567,
          -88802843.64018595,
          -89538582.8063777,
          -80911971.73448458,
          -80895308.2358766,
          -80894732.83545703,
          -80854508.73772603,
          -80829225.01915225,
          21878858.308125187,
          14724727.555220628,
          29061429.160211816,
          15698133.521682335,
          22999398.473746393,
          -7891004.595792518,
          -7808128.217793417,
          -7922926.089547732,
          -7789164.658411113,
          -7947634.407701937,
          -90216682.62012054,
          -90300676.4243095,
          -90255731.7877869,
          -90302547.23130742,
          -90155422.3938212,
          -30111338.750403553,
          -30109485.968286004,
          -30109485.968286004,
          -30107633.186168455,
          -30107633.186168455,
          -86014088.40362537,
          -86011661.76199222,
          -86012235.6215078,
          -86010382.83939025,
          -86012235.6215078,
          -95508679.00416149,
          -95571447.08193383,
          -96905787.41226262,
          -96271818.64223571,
          -95925402.1708181,
          -93663490.10066475,
          -93222174.28555897,
          -93661895.1029768,
          -93509489.26935181,
          -93668087.14040546,
          -69518661.70100084,
          -69522367.26523595,
          -69520514.48311837,
          -69520514.48311837,
          -69520514.48311837,
          -91890489.35878965,
          -91903310.61104308,
          -91892156.86269546,
          -91892342.14090718,
          -91859918.45385008,
          -45451245.53271333,
          -26071522.921565745,
          -35966954.829717584,
          -44300708.44073111,
          -45917036.216936335,
          22290413.115016818,
          22288560.332899272,
          22288560.332899272,
          22288560.332899272,
          22288560.332899272,
          -61644370.58275154,
          -61832425.20565883,
          -62123397.21186103,
          -61533467.345370814,
          -62097275.86707277,
          3355049.8835434974,
          3354531.6395728756,
          3350342.746920342,
          3353011.8232141943,
          3351824.9726143815,
          -97780079.25444621,
          -98056941.21840721,
          -98002733.70187254,
          -97385490.57491332,
          -98308909.17912692,
          -77090785.15530019,
          -77087079.59106506,
          -77087079.59106506,
          -77087079.59106506,
          -77388942.7376539,
          -97071105.95577465,
          -97033158.83791813,
          -96994884.1045256,
          -97048426.83261131,
          -97047465.52599935,
          -51287677.07792743,
          -51093622.19797747,
          -54281041.32625283,
          -55145360.241481304,
          -50638974.69597667,
          -90387957.1249226,
          -92334803.45510277,
          -90620553.36958002,
          -91784307.94615571,
          -92266652.34094714,
          -11465126.504260963,
          -11472925.031976933,
          -11465023.070866799,
          -11462606.380929038,
          -11463158.796149898,
          -76151446.82421832,
          -74520322.41991036,
          -74629875.29596254,
          -75340753.8015699,
          -75410850.18297842,
          -61340487.57749835,
          -48939306.30623768,
          -56315394.481359266,
          -55501275.18312711,
          -49847132.18785011,
          -88317066.11787939,
          -87853468.62625259,
          -88869414.40894401,
          -88349948.91824657,
          -88880203.48611334,
          32583323.532107633,
          30930488.022058528,
          -72144413.52860753,
          -72144413.52860753,
          -72140707.96437247,
          -72144413.52860753,
          -72144413.52860753,
          -11850918.080437839,
          2343591.3788628113,
          -40208203.45860715,
          -23168126.399822365,
          -24805376.06968867,
          -61825269.31455175,
          -61822970.79468139,
          -61822970.79468139,
          -61824120.05461658,
          -61812627.45526485,
          -88820622.01452507,
          -88544127.81572336,
          -88830403.14929135,
          -88819487.49126317,
          -88491581.80883008,
          -52254858.41316683,
          -53629352.14846907,
          -51501761.34476257,
          -50694034.708503276,
          -55707860.8096452,
          -51403105.85072854,
          -51403105.85072854,
          -51403105.85072854,
          -51403105.85072854,
          -51403105.85072854,
          -85696223.91907133,
          -85694371.13695379,
          -85694371.13695379,
          -85694371.13695379,
          -85692518.35483623,
          37572002.15220426,
          38083191.30874808,
          38315081.80393389,
          37751491.18266634,
          37485920.72716207,
          -57635907.3643834,
          -57612937.574719526,
          -57640498.24050825,
          -57634875.43988334,
          -57630037.56565659,
          30195351.040867575,
          30149031.48792887,
          30149031.48792887,
          30539968.514731545,
          30358395.867211822,
          -56904497.59746323,
          -55996542.32231179,
          -48618789.13795871,
          -60537061.47538266,
          -62903684.53349676,
          -43929419.68825904,
          -42130921.82127995,
          -40409486.27936202,
          -41571464.84010209,
          -44159933.51030572,
          -18253351.852639914,
          -18253351.852639914,
          -18253351.852639914,
          -18253351.852639914,
          -18255204.634757455,
          -70939818.50578025,
          -70939818.50578025,
          -70941671.28789778,
          -70939818.50578025,
          -70937965.72366267,
          -75878009.2824887,
          -72998995.38327025,
          -81125492.23025663,
          -79341502.32532252,
          -74394536.73061322,
          -49798381.08136474,
          -52265044.8072544,
          -52553448.297707096,
          -50465061.33085542,
          -49529193.03666088,
          -96049621.91531444,
          -96047780.62579623,
          -96049633.40791379,
          -96052060.04954696,
          -96049621.91531444,
          -91941964.40529135,
          -91981364.88441154,
          -91213529.58505034,
          -92819421.62113106,
          -88336674.182887,
          -41151143.834010005,
          -41152996.616127566,
          -41151143.834010005,
          -41151143.834010005,
          -41152996.616127566,
          -96789698.68215403,
          -96789883.96036583,
          -96789883.96036583,
          -96789698.68215403,
          -96789698.68215403,
          -88427044.92762272,
          -88914338.2928304,
          -88427044.92762272,
          -88427044.92762272,
          -88914338.2928304,
          -72633100.50370817,
          -66521329.723469295,
          -70607065.24561733,
          -62783597.24387695,
          -71487972.93798421,
          -48731891.968716554,
          -52052386.58119364,
          -50521509.19492172,
          -53731735.99221196,
          -50717416.85698924,
          -19071905.146952987,
          -29374618.942536503,
          -19538036.573414184,
          -18913124.7472179,
          -18624994.842840523,
          -70853942.43633287,
          -69991476.30322194,
          -70638325.90305516,
          -67490324.51720025,
          -70918627.3963162,
          -96050062.4439364,
          -95299716.90812989,
          -95521801.93740594,
          -94008173.87379625,
          -95015103.08420329,
          -37062068.32154851,
          -36572929.326918334,
          -37286619.74665971,
          -36905768.97036521,
          -36371363.10051057,
          31918775.83124816,
          -2977051.127470468,
          -30881101.941448957,
          -25996246.91563798,
          -20017064.007717498,
          -74379978.18324713,
          -74844982.71923871,
          -70661286.47977987,
          -71721036.43101357,
          -73246362.14941546,
          -95012644.676312,
          -94825574.97059648,
          -89561480.08741136,
          -89561480.08741136,
          -89561480.08741136,
          -89563332.86952887,
          -89561480.08741136,
          -94682902.4029241,
          -94800540.03008407,
          -94954955.54130599,
          -95068118.88682225,
          -94715973.1279071,
          -92314431.4290518,
          -92068278.8203017,
          -92074734.7583246,
          -92539415.90176214,
          -92445543.71894291,
          -60066774.452203035,
          -45113083.8184869,
          -44952202.433937624,
          -69202927.7251802,
          -49360930.082567215,
          -93832007.03569959,
          -93832580.89521518,
          -93832007.03569959,
          -93832007.03569959,
          -93832580.89521518,
          -86807434.90116806,
          -87167202.24750839,
          -87828317.84793714,
          -86820780.28263736,
          -88327419.75973997,
          -56977479.44151623,
          -56950065.388337776,
          -56994252.571039565,
          -56967149.97023529,
          -56971872.04993087,
          -89871469.79835829,
          -89873322.58047585,
          -89871469.79835829,
          -89873322.58047585,
          -89870895.93884267,
          -96054151.67944196,
          -95492040.07209222,
          -94718169.4292451,
          -95018600.25070098,
          -95352531.76813143,
          -95095384.47241089,
          -95563579.0037784,
          -79045745.82382523,
          -75486991.36199452,
          -62702965.1451672,
          -76390183.46273877,
          -76091617.49105985,
          -17551563.253533665,
          -13704389.891059758,
          5220329.601700565,
          -1777778.7357093017,
          -5146032.8349025715,
          12789752.533029707,
          10186938.528689843,
          10551226.960464884,
          11201889.705413327,
          4501621.947278189,
          -83006250.0716436,
          -74610555.06084014,
          -73323561.13523735,
          -6908794.692547275,
          -53474368.5644094,
          -62685886.39708398,
          -71776533.95335704,
          -71751814.0947529,
          -71770647.99146841,
          -71774866.44945124,
          -71808149.3715722,
          -77859984.55399904,
          -78319688.52806754,
          -78612749.81153625,
          -74882252.06197023,
          14130413.374411928,
          14130413.374411928,
          14130413.374411928,
          14130413.374411928,
          14134118.938647022,
          -42369800.312335946,
          -42369800.312335946,
          -42371653.0944535,
          -42369800.312335946,
          -42369800.312335946,
          -55307478.65615202,
          -24697039.907616522,
          -43979659.67112476,
          -43620162.43880275,
          -47376719.314743765,
          -62365459.40828497,
          -62250836.79798307,
          -62377525.867152296,
          -62869984.51982518,
          -62655504.4169262,
          -94943228.6906412,
          -94943228.6906412,
          -94941375.90852365,
          -94941375.90852365,
          -94943228.6906412,
          -94417724.6024042,
          -94354167.6434913,
          -94341772.02818407,
          -94344903.73290353,
          -94371405.0494655,
          -30816739.314630833,
          -39178595.8522521,
          -38784702.29329069,
          -36159881.5293114,
          -28099554.47162958,
          -26668787.722667117,
          -26666934.940549564,
          -26666934.940549564,
          -26668787.722667117,
          -26668787.722667117,
          21955390.590495784,
          21953537.80837824,
          22089072.841127973,
          21951685.02626068,
          21953537.80837824,
          -83381569.82279342,
          -83225936.12491937,
          -83222045.28247252,
          -83225750.84670761,
          -83442526.35446078,
          -97621496.18776762,
          -96222778.55836716,
          -96277756.14125676,
          -97503638.85593472,
          -96824710.168635,
          -57410729.90346326,
          -52317963.23362825,
          -17802440.553655773,
          -22092338.50536314,
          -46621533.02926375,
          -94520177.35071145,
          -93988974.74072695,
          -94862440.05790944,
          -94008695.10453655,
          -95336783.23535115,
          -89377880.23983145,
          -88210232.1456974,
          -91077635.68394978,
          -88134380.9899761,
          -90327168.94628292,
          -73808799.5343709,
          -73808799.5343709,
          -73810652.31648846,
          -73808799.5343709,
          -73808799.5343709,
          -95139311.33575216,
          -95172984.6518527,
          -100014584.67610762,
          -99942836.898957,
          -100128011.1287393,
          -100203998.86486544,
          -99951238.22959724,
          -80793770.06281456,
          -80793770.06281456,
          -80795622.84493211,
          -80793770.06281456,
          -80796196.70444769,
          -66065071.748685166,
          -65790314.305739716,
          -72448450.78038235,
          -72049542.6568844,
          -68343350.67794745,
          -63664418.54347694,
          -51021855.73441034,
          -51021409.996657535,
          -51020706.47447515,
          -60938819.715003416,
          -67309691.96877944,
          -67434177.61154413,
          -71170980.68386637,
          -67936233.27308682,
          -73717039.62433642,
          -80692992.20103984,
          -80603738.9024349,
          -80911037.04287842,
          -80768758.66290422,
          -80601499.61760084,
          -86808978.82123189,
          -85681554.82482886,
          -87045280.63012442,
          -83478423.5291055,
          -84464042.81572968,
          -82369322.45383152,
          -82566355.34618738,
          -83165132.38841417,
          -83434267.61274594,
          -86876790.43601954,
          -95328873.04704794,
          -94983233.7865761,
          -87005120.9403209,
          -95395804.40872836,
          -93948274.426843,
          -89378432.0566095,
          -89371954.04172719,
          -90451154.09100452,
          -93868330.5100711,
          -94057157.42757107,
          -23264180.350319166,
          -23101259.72496532,
          -23076016.714527674,
          -23085346.615982525,
          -23181180.92835453,
          -83160854.9373984,
          -82144573.65402953,
          -83206644.64480284,
          -82244179.7734526,
          -83743978.64685214,
          29954205.82705861,
          24409184.532544788,
          24626057.177244738,
          24246166.113047786,
          24516238.56204636,
          -52611003.58312969,
          -49946050.99455307,
          -59886297.72090313,
          -56634283.6107424,
          -54616371.65280736,
          30028831.266553424,
          -95347876.61462048,
          -91219665.87907183,
          -95173178.59560326,
          -94424030.94679418,
          -89992063.99438459,
          -94537937.79911862,
          -95924945.61560792,
          -89622269.45155434,
          -91661511.24823762,
          -96507281.70777011,
          -95720545.37982251,
          -95720360.10161076,
          -95722398.16194005,
          -95720545.37982251,
          -95722398.16194005,
          -95274119.53271733,
          -95523230.15548173,
          -95345378.21817954,
          -95353878.69260226,
          -95261854.89124545,
          -71939955.40089805,
          -33285003.157512225,
          -38882994.87672221,
          -41670786.730016306,
          -34406936.85556621,
          -34149123.417984776,
          -63372008.384041704,
          -63531351.82769817,
          -64592342.34231359,
          -65472799.98428831,
          -64294009.95062593,
          -79120129.09951863,
          -79342644.17204054,
          -78838396.9915273,
          -79266313.22159083,
          -77061664.99581179,
          -73376714.32343307,
          -73376714.32343307,
          -73376714.32343307,
          -73376714.32343307,
          -73376714.32343307,
          -14468578.52863142,
          -13905441.160397489,
          -10112883.374332216,
          -10112883.374332216,
          -12871107.218743322,
          -79523262.61558802,
          -79208519.86147326,
          -79314051.70688404,
          -79238671.81730492,
          -79566637.76721793,
          -89050982.12655298,
          -89004719.9595658,
          -89034495.6770173,
          -98042734.685181,
          -98265691.11260422,
          -98193287.73668842,
          -98046182.4649865,
          -98170877.93840455,
          -30337865.64697481,
          -68373914.20219478,
          -47474540.691782594,
          -58680704.38236613,
          -71005832.7735764,
          -20273795.0079859,
          -12231298.31672644,
          -13524997.516392838,
          -19909099.683531296,
          -21716572.998829156,
          -93291762.02503785,
          -93291762.02503785,
          -93291762.02503785,
          -93291762.02503785,
          -93291762.02503785,
          -86476885.33093834,
          -86327481.53936605,
          -87911573.03621398,
          -81626973.97294454,
          -87842617.4401037,
          -93298356.7737517,
          -91877301.33262715,
          -91876252.26201224,
          -94011905.0120767,
          -92241638.98987971,
          -94995619.37697984,
          -95803100.43696985,
          -94967478.38816029,
          -95122652.37532045,
          -95803059.29540513,
          -87046102.41689499,
          -86591758.29810941,
          -86593307.69701171,
          -81741935.69826272,
          -86591454.9148942,
          -84361114.20238048,
          -84344466.05354135,
          -84340430.19865884,
          -84348880.49018173,
          -84345325.28860523,
          -96658200.59970897,
          -96653611.26448806,
          -96651746.98977114,
          -96657485.58492722,
          -96650597.72983599,
          -92749219.35332467,
          -93776607.28068717,
          -93794881.38088721,
          -93646735.54677285,
          -93470759.79019119,
          37460996.83237055,
          37460996.83237055,
          37459144.05025301,
          37466555.17872321,
          37457291.268135466,
          -41020681.80613454,
          -42327876.99231322,
          -38443178.83533628,
          -42290210.06444107,
          -42294090.1196766,
          -98492234.80330049,
          -98757008.78523874,
          -98726791.05154921,
          -98631411.7223537,
          -98708973.67029412,
          -58017306.64012238,
          -58492770.89456293,
          -58998572.80990447,
          -54244046.82288211,
          -55147687.38947267,
          -94517535.55417374,
          -94922894.6367359,
          -94232593.86799519,
          -94599199.3605189,
          -94592943.95486939,
          -32494774.040219434,
          -30665889.322953794,
          -32881466.755483113,
          -30294336.384193808,
          -32590988.55296801,
          -86358949.22183482,
          -87443927.44783449,
          -82345949.64810312,
          -89065221.4235455,
          -89070441.22874527,
          -54244604.65612219,
          -54242751.87400465,
          -54244604.65612219,
          -54240899.091887094,
          -54240899.091887094,
          -68192054.36926071,
          -67303579.39731185,
          -66986983.86107955,
          -67827386.08459833,
          -66863573.24635524,
          -46515263.04152773,
          -46515838.4419473,
          -46537400.09527507,
          -46536250.835339904,
          -42237143.70330458,
          -47284759.1524403,
          -47282906.37032275,
          -47294949.45408681,
          -47285500.26528732,
          -47275309.9636408,
          -92015961.20586951,
          -96759524.93797964,
          -96972681.92270936,
          -96222336.38690285,
          -94323058.11194126,
          13407078.205468906,
          12771249.59422015,
          16445131.38836868,
          14203518.780941451,
          15362260.506075334,
          -51990879.2875168,
          -52552982.859469615,
          -47542923.33561625,
          -47961201.49768664,
          -52804149.09402846,
          -79789741.09583342,
          -79789752.58843277,
          -79791779.15616274,
          -79789937.86664455,
          -79789752.58843277,
          -63299360.182465605,
          -63301212.96458315,
          -63299360.182465605,
          -63299360.182465605,
          -63299360.182465605,
          -81397340.94137037,
          -81397340.94137037,
          -81397340.94137037,
          -81399193.72348791,
          -81399193.72348791,
          -41405372.12176992,
          -41647162.44590869,
          -41696580.623121046,
          -41724162.86156514,
          -41644863.92603834,
          -87987406.45242503,
          -87986392.79124844,
          -87981086.29323357,
          -88001197.57164708,
          -87957971.43186335,
          14974854.071226384,
          -967165.48159713,
          -28417726.576471366,
          -67512128.30768847,
          -67511554.44817287,
          -67512128.30768847,
          -67513407.23029043,
          -67511554.44817287,
          -90843877.90901361,
          -90853512.37602484,
          -90868594.0224617,
          -90866296.57263592,
          -90858144.33131872,
          -8761548.699876988,
          -8935086.950087855,
          -8985654.38723539,
          -8691889.581584334,
          -8933937.690152682,
          -20182053.631474767,
          -10371973.091020865,
          -13269656.57505734,
          -19442207.178788684,
          -19358139.751208868,
          -58429115.33872346,
          -58429115.33872346,
          -58429115.33872346,
          -58429115.33872346,
          -58429115.33872346,
          -99880887.78223966,
          -100165904.24616219,
          -28529247.36279589,
          -28529247.36279589,
          -28527394.580678336,
          -28529247.36279589,
          -28529247.36279589,
          -51764072.671984784,
          -54120761.380710416,
          -52669662.11175127,
          -52109059.125229165,
          -56097964.99086723,
          -88205681.56863348,
          -89797955.9594341,
          -96942911.70724715,
          -96950325.51082873,
          -96939018.18968882,
          -96926706.0351804,
          -96948658.00692299,
          14083053.734083114,
          13031746.950828014,
          9867038.7358156,
          14800248.261458222,
          1854594.2551829126,
          -61812621.59993473,
          -59020494.587436065,
          -61420149.332073726,
          -61779293.06181476,
          -61564266.52794422,
          -56595279.58565242,
          -56595297.61053276,
          -56595853.44516803,
          -56595297.61053276,
          -56594000.66305049,
          -80754953.88191022,
          -80795688.60125652,
          -80779488.28300625,
          -80676709.79190183,
          -80759806.23245856,
          -72395512.83549368,
          -83813918.86715147,
          -87871916.35361303,
          -87289620.97982106,
          -83334899.69221273,
          -99495687.85203779,
          -99480027.44968729,
          -99233382.30137824,
          -98428728.89444602,
          -98450290.54777378,
          21350850.132502668,
          13782530.396758357,
          15726892.92885643,
          19115727.511917714,
          13716058.598730177,
          -43719785.465686254,
          -45326896.59280852,
          -41363802.5985851,
          -43719785.465686254,
          -41361949.81646756,
          -80314916.40939443,
          -80326033.1020997,
          -80326736.62428208,
          -80346692.15773268,
          -80315045.3016092,
          95532712.87723035,
          97530254.53110462,
          94737247.83404344,
          95578929.89648755,
          95106585.91662699,
          49542083.894340664,
          -52688870.4813601,
          -51019056.93793784,
          -51630022.69681484,
          -52849509.0878545,
          -52141172.73226533,
          -74114834.9311779,
          -74097619.14570966,
          -43501888.025169596,
          -43190176.734854445,
          -44238044.01130111,
          -43664139.105893716,
          -44289782.2483797,
          -84180161.03067121,
          -84180161.03067121,
          -84180161.03067121,
          -84178308.24855368,
          -84178308.24855368,
          25760117.793929525,
          25758450.29002374,
          25760117.793929525,
          25758265.011811975,
          25760117.793929525,
          -96182077.10034744,
          -94909939.55400883,
          -96805208.88152008,
          -94913948.50145915,
          -94909939.55400883,
          -9624354.991002532,
          -24593465.64660864,
          -13713867.57809479,
          -26900030.33649743,
          -29300834.341070257,
          -29416481.548083767,
          -34384242.64240869,
          -31826017.7212738,
          -32327344.914832145,
          -27587439.26766806,
          -98118774.35815297,
          -98120627.1402705,
          -98122667.87571126,
          -98118774.35815297,
          -98124520.65782881,
          -78686464.15025787,
          -78680832.00612354,
          -78689220.83319834,
          -78694049.26583001,
          -78689338.07054777,
          -8923895.214950424,
          -18331697.744132448,
          -29908638.62420488,
          -62385876.94216512,
          -62385876.94216512,
          -62385876.94216512,
          -62382171.377930015,
          -62385876.94216512,
          -94086339.70576195,
          -94108490.52106424,
          -94053437.12780963,
          -94074365.45172182,
          -94016783.42059745,
          -72760419.37695147,
          -75763235.48918779,
          -76045389.7645664,
          -73968317.70105955,
          -73503413.19175951,
          -58555905.332531296,
          -58579765.50572941,
          -60222773.91294039,
          -58001687.75833824,
          -58412247.84063487,
          -83739146.82051472,
          -86945291.09409623,
          -88310174.40983237,
          -87316974.38765538,
          -85391497.28740005,
          -88940223.48238061,
          -88930959.57179284,
          -88936517.9181455,
          -88945781.82873322,
          -88914284.53273492,
          -65291534.68157487,
          -68282612.55507296,
          -64603127.98040727,
          -67444802.06233308,
          -65149729.97179601,
          -21908233.10345452,
          -27031389.61087595,
          -28027133.330665573,
          -26601121.3763801,
          -20631914.181272894,
          -19868835.171331745,
          -19866982.389214195,
          -19868835.171331745,
          -19866982.389214195,
          -81866251.21536334,
          -80660231.80561584,
          -81235307.5109543,
          -81413442.80090584,
          -81142217.45620541,
          -33715629.277844876,
          -37970871.22127576,
          -26367580.745200545,
          -29134283.83906405,
          -34330268.12447746,
          -60091034.24098107,
          -60091034.24098107,
          -60091034.24098107,
          -60091034.24098107,
          -60091034.24098107,
          -55474832.95689836,
          -58924697.48934209,
          -57003857.561052725,
          -49112292.44308768,
          -53358085.36654149,
          -78759774.1229122,
          -78759774.1229122,
          -78759774.1229122,
          -78759774.1229122,
          -78759774.1229122,
          -73643710.43705064,
          -63174665.85581744,
          -68545032.17240044,
          -65756584.19208346,
          -63223408.990302846,
          44368712.654027835,
          38435227.56559299,
          -78713291.87100385,
          -80966759.24426706,
          -80870617.50149605,
          -80699512.1412,
          -79139203.27695306,
          -55018592.55909614,
          -55214500.22116366,
          -56010428.612173714,
          -55708565.46558488,
          -56182921.8387959,
          -61612863.71773192,
          -68341025.94705597,
          -61613790.10879068,
          -68706091.82793409,
          -63962898.65224746,
          36135036.384781696,
          -100716168.83603203,
          -100717185.04331173,
          -100717243.19971529,
          -100716972.7016251,
          -100714718.2178466,
          -54938774.037069604,
          -46490772.33236291,
          -80762089.79776984,
          -64841055.24300224,
          -71150977.2071852,
          -71147271.6429501,
          -71147271.6429501,
          -71149124.42506762,
          -71149124.42506762,
          5607742.688839618,
          1607520.67031075,
          1731013.7453257253,
          1421483.1896430543,
          1152461.9172349118,
          -93844910.47060288,
          -93734581.51682644,
          -93839164.17092705,
          -93244996.78444348,
          -93726536.69728024,
          -84535315.39541973,
          -79111622.08256474,
          -76646274.18225569,
          -84415001.04564278,
          -82684115.73638396,
          -100112017.2689893,
          -100107879.93322268,
          -100019386.9182145,
          -100045819.89672342,
          -100035476.55730689,
          -62756104.94024158,
          -62752842.031951375,
          -62746841.02965384,
          -62750546.59388894,
          -62763516.06871178,
          -43140449.98533102,
          -49207393.18310029,
          -54952543.5990216,
          -49131799.81180855,
          -46390111.34424265,
          15919492.844226029,
          17859243.48933948,
          19610969.979688123,
          15891763.36148907,
          16355951.603304349,
          -69476385.24756582,
          -69476570.52577756,
          -69476385.24756582,
          -69476385.24756582,
          -69476570.52577756,
          -70357437.82442117,
          -69520793.99262613,
          -71134049.26082766,
          -71946289.98141742,
          -72900325.63878272,
          -84123958.24373086,
          -84157103.06453949,
          -83075523.08174044,
          -86588040.78332987,
          -86329477.09470549,
          -97343069.39954773,
          -97340770.87967737,
          -97336173.83993667,
          -97343069.39954773,
          -97344218.6594829,
          -82586236.41856533,
          -82589941.98280042,
          -82591794.764918,
          -82591794.764918,
          -82591794.764918,
          -93928259.66101913,
          -93928259.66101913,
          -93931965.22525422,
          -93928259.66101913,
          -93930112.44313669,
          -63035339.13895142,
          -63059473.597590014,
          -63073710.45456487,
          -63079456.75424074,
          -63077416.01879998,
          39650651.64270628,
          25768493.523579992,
          40996324.20225735,
          22901386.33415154,
          21235856.114777427,
          -45474856.593777604,
          -37379040.093530715,
          -46486693.03480711,
          -47673428.41702523,
          -87816858.9628824,
          -87818711.74499996,
          -84485857.9330032,
          -87244081.77741432,
          -87818711.74499996,
          -65990682.37466748,
          -65972154.55349199,
          -65972154.55349199,
          -65990682.37466748,
          -65990682.37466748,
          -102451657.95380907,
          -102443169.77204633,
          -96197869.74723582,
          -96197869.74723582,
          -96197869.74723582,
          -96197869.74723582,
          -96197869.74723582,
          -92291040.69550115,
          -92212841.71098293,
          -92029021.75751378,
          -92288040.1943524,
          -92304813.32387574,
          -69467347.55383703,
          -69467347.55383703,
          -69467347.55383703,
          -69467347.55383703,
          -69465494.77171949,
          -11683153.385457227,
          -5057260.894180003,
          -5129480.526427554,
          -11399915.662890948,
          -12051308.781073265,
          -50813584.19339165,
          -51889510.69444754,
          -51697308.59661512,
          -50678352.543857135,
          -54220022.03596459,
          25138182.27440744,
          26992367.377400875,
          31433055.48255777,
          27210134.281270314,
          27873553.091753088,
          -37997957.660991915,
          -37832292.761048816,
          -39217697.05330407,
          -34620531.2430215,
          -40162679.45587423,
          95584392.06561671,
          118179405.26568267,
          -2964657.5908779306,
          -3008661.1661696993,
          -2997822.3907820424,
          -3007827.414216804,
          -2990596.540523604,
          -97206663.98194149,
          -27471257.82698455,
          -31023040.60390914,
          -32436433.032240238,
          -15946458.8720858,
          -21552256.792494565,
          -63843325.41435701,
          -71847448.2529812,
          -59301157.810973115,
          -66345414.71494583,
          -68969819.66955669,
          -92595172.21596944,
          -89517903.11827312,
          -91810308.59078753,
          -92053089.62472092,
          -89913858.2454426,
          -88958534.66696425,
          -89014673.96512595,
          -89014673.96512595,
          -88977062.48813972,
          -88938154.0636712,
          -60242337.34876408,
          -60220243.62556625,
          -3191260.395881309,
          -3483172.419414817,
          -3508456.137988586,
          -3263218.0340443053,
          -3124603.3196413736,
          35134678.52630004,
          7095236.851616719,
          -1992059.0586297715,
          52570027.75533766,
          13980828.838578265,
          53642117.63107727,
          -85477713.41229297,
          -86359888.41661412,
          -86728289.30530383,
          -87614169.87386008,
          -83882151.06603773,
          -89788645.10184874,
          -89645245.39438191,
          -89739226.92463638,
          -89787955.54588766,
          -89773001.20050915,
          -80914258.02933082,
          -80914072.75111908,
          -80912405.2472133,
          -80914258.02933082,
          -80914258.02933082,
          -71326561.18086204,
          -71533997.38734311,
          -70620215.15534133,
          9753424.452766342,
          -9537345.75434155,
          12287436.429564435,
          5322187.277907462,
          -47202585.985705025,
          -98486113.7479312,
          -98095813.34490044,
          -97642234.6546394,
          -97722634.44931693,
          -98504150.21998124,
          -15229154.967588717,
          -16608514.84238307,
          -17979209.52680917,
          -17913354.07123904,
          -17431500.50945039,
          -69726877.3980707,
          -71291408.38086489,
          -71108388.49229062,
          -68384622.67757219,
          -69542815.14637834,
          11983844.34222733,
          33032679.681509282,
          71186710.70341316,
          28073970.761239808,
          42979911.09761213,
          26713456.54596125,
          -82084165.56321467,
          -81969126.79770364,
          -82061528.68003899,
          -82064385.70965609,
          -82039076.47588988,
          -100110267.76310425,
          -99992977.66922076,
          -100013053.53513828,
          -100136354.59417522,
          -100128425.4710745,
          -99457312.6828613,
          -99240109.88392754,
          -99094596.06377211,
          -24814227.484282665,
          -36529525.47898926,
          -24802734.88493096,
          -32523908.867164504,
          -38263312.98340995,
          -82506145.11543992,
          -82541162.69746158,
          -82513000.40927488,
          -82534715.0156925,
          -82493360.91882886,
          -92608608.02456225,
          -94817090.74347652,
          -94793230.5702784,
          -94939119.36607933,
          -92811856.9839936,
          -79499109.9879057,
          -81795777.07613072,
          -83726533.7672185,
          -79384183.99438855,
          -79384183.99438855,
          -99456848.64163768,
          5970433.29759206,
          2695296.960296413,
          6856070.945667182,
          3000920.248428963,
          3761842.327576767,
          -85735941.85197219,
          -86281451.68116488,
          -86598407.98508312,
          -86721309.40905142,
          -85763972.0012983,
          -25388889.685781464,
          -25042403.114609517,
          -25435410.093240306,
          -22746384.403247327,
          -24266775.246662688,
          -49493883.07098983,
          -64871166.28179349,
          -55436706.19576059,
          -51643184.42797191,
          -50933645.31021843,
          -43941280.44789643,
          -43929787.84854473,
          -43929787.84854473,
          -43929787.84854473,
          -43929787.84854473,
          -88009751.16706638,
          -85925042.19802506,
          -85895033.31794783,
          -85922038.61506842,
          -85887562.35791725,
          -10363686.228807835,
          -14185756.300592674,
          3815661.078023844,
          9915095.00611195,
          -20860751.96987008,
          -52192619.614929184,
          -38898075.403333694,
          -44131691.17935728,
          -45323877.18977584,
          -53091078.05383203,
          -4565182.149414408,
          -2185472.137828455,
          -6699946.246725784,
          -6553285.309558327,
          -5603670.19949311,
          -29520464.17937615,
          -29516758.615141053,
          -29518611.397258602,
          -29518611.397258602,
          -29518611.397258602,
          -51079526.2228322,
          -44269716.57618117,
          -96750003.38113283,
          -94791435.25481445,
          -95352704.81209894,
          -94939654.57466187,
          -83590306.44625454,
          -56183689.811036825,
          -61218221.413391724,
          -62286916.62539861,
          -64054972.19827602,
          -59843360.86484879,
          -96019309.97745179,
          -96219409.3279344,
          -96142408.9122779,
          -96230198.40510373,
          -95771773.35363716,
          -88407921.41869926,
          -88762556.73513831,
          -88882082.44350757,
          -88963102.52427357,
          -88827398.61992532,
          46462147.56716711,
          52267744.48317347,
          53225673.601410486,
          42723124.62087526,
          41611831.51644495,
          -97638931.35690394,
          -96808504.32056947,
          -97463978.58173375,
          -97572090.23158787,
          -96769693.34457946,
          -70826771.05592662,
          -70828623.83804417,
          -70828623.83804417,
          -70815278.45657489,
          -70817131.23869245,
          -92900835.00676979,
          -92897129.44253471,
          -92897129.44253471,
          -92900835.00676979,
          -92900835.00676979,
          -83895260.67979407,
          -80476097.44666596,
          -83156171.61548543,
          -81943385.5383417,
          -82825299.68014963,
          20674940.115682397,
          24351659.53550938,
          18338675.950172313,
          24673612.476467386,
          20986380.93414974,
          -98601110.86609924,
          -98599961.60616407,
          -98614456.2475685,
          -98499975.99180414,
          -98506425.8136624,
          -68840021.59953964,
          -68835998.41931455,
          -68820348.58188312,
          -68836573.81973411,
          -68837147.67924975,
          -24188340.158780146,
          -24188340.158780146,
          -24186487.376662597,
          -24188340.158780146,
          -24188340.158780146,
          -59686713.16771445,
          -57690448.6603219,
          -56648515.636874326,
          -60402357.329345606,
          -58971873.488037884,
          -9565631.41449485,
          7702772.464742587,
          -8851925.616223434,
          -18067493.88380295,
          590819.0201437534,
          -54790982.81786747,
          -55128102.75116509,
          -55213147.986367755,
          -54807465.13254583,
          -49293387.429766715,
          -12255533.715179803,
          -13532858.227268308,
          -12977555.614859609,
          -3298151.749804736,
          -6360614.222453461,
          -79311390.15374303,
          -79475258.71903408,
          -79425666.91638023,
          -79369606.617728,
          -79479571.04969965,
          -35159871.37254535,
          -35161724.15466289,
          -35161724.15466289,
          -35161724.15466289,
          -35163576.93678044,
          -72674324.88291039,
          -72672657.37900458,
          -72674324.88291039,
          -72676362.94323967,
          -72676177.66502792,
          -89188677.11175488,
          -89294208.95716566,
          -89264057.00133401,
          -89324360.91299732,
          -89397888.02045888,
          -54151568.59911819,
          -51629415.96373082,
          -54008930.211610325,
          -51730429.196171135,
          -48936551.23682979,
          -83405842.843073,
          -83407695.62519053,
          -83407695.62519053,
          -83407695.62519053,
          -83407695.62519053,
          -84478161.15981291,
          -84478161.15981291,
          -84478161.15981291,
          -84478161.15981291,
          -84478161.15981291,
          -88767397.41640608,
          -89067767.71478741,
          -88965819.24794075,
          -88951892.52996007,
          -88694388.55291516,
          14739054.879252795,
          32406901.219366264,
          24335241.783898924,
          21828577.864178643,
          -18794111.019326802,
          -14302427.807142826,
          -18781505.0344601,
          -21780850.916003115,
          -7518059.734087552,
          8685699.149150686,
          11170005.762285305,
          -11327573.517518694,
          13095181.333558042,
          11982786.126360625,
          -82729640.18067156,
          -82485341.84334336,
          -80277331.81958024,
          -82289339.1744069,
          -82335114.04349831,
          -90960825.56981175,
          -90916932.65850621,
          -90992896.72532572,
          -91033657.93191177,
          -91033084.07239614,
          -30685577.947740283,
          -10960370.717062779,
          -7853639.855745871,
          -25036424.775863677,
          1782566.3996512631,
          -61573364.3347049,
          -60109367.43130809,
          -61337897.02483104,
          -60734497.03626721,
          -61470091.1945509,
          -48423946.4285076,
          -46261368.039298795,
          -51710648.90832247,
          -52109270.756100915,
          -47708118.7019698,
          63734439.004704006,
          28127369.389730345,
          47212603.83978909,
          54100605.64506682,
          43581638.99547275,
          -76784997.05039677,
          -80449863.13943905,
          -74852677.44797081,
          -73431593.94787256,
          -76569342.15349093,
          -51648058.1910665,
          -51649910.97318405,
          -51640647.062596306,
          -51614708.11295063,
          -51667327.12508901,
          -93751551.76736483,
          -91535785.45964174,
          -91684508.44402218,
          -89655410.75340697,
          -92728786.66144451,
          -81129533.74653031,
          -81129533.74653031,
          -81131386.52864784,
          -81131386.52864784,
          -81131386.52864784,
          -81926163.29334702,
          -81911706.24260722,
          -81747480.1940946,
          -81849060.80614243,
          -81916539.52678159,
          -72801746.83090271,
          -71531996.71073686,
          -82164693.719868,
          -84871138.05937615,
          -77724820.62014101,
          -89582824.16865352,
          -89586529.73288862,
          -89584619.56481951,
          -89578659.51680596,
          -89582766.78270195,
          78710474.75286531,
          95288426.8056369,
          93926657.53012836,
          7268813.483754931,
          6852077.865040546,
          6495807.285137445,
          6852781.3872229215,
          6679688.874764851,
          -41952020.27507139,
          -50471532.246432595,
          -42675800.71212007,
          -51886306.22731403,
          -41484807.51486611,
          -67052767.94656834,
          -67052767.94656834,
          -67047086.73736382,
          -67052767.94656834,
          -67052767.94656834,
          -76488372.13842575,
          -74843071.45584099,
          -90399933.42416939,
          -86133181.76077716,
          -84464529.64297876,
          20951355.622579567,
          20608430.424145732,
          20608430.424145732,
          20606577.64202818,
          20870907.42711758,
          -88473546.81560405,
          -88479285.41076013,
          -88479285.41076013,
          -88473546.81560405,
          -88473546.81560405,
          -93155973.30228907,
          -91400338.95934805,
          -38462009.068354495,
          -38463861.85047204,
          -38463861.85047204,
          -38462009.068354495,
          -38463861.85047204,
          -56625563.91978306,
          -39888085.04994816,
          -49548415.8225238,
          -37419179.366312474,
          -57078778.35637205,
          -86717082.34654076,
          -86701009.0363256,
          -86863521.09284787,
          -86850482.65900423,
          -86812487.25003722,
          -39192950.00821381,
          -39156431.405165784,
          -39169086.70956207,
          -39188669.81401112,
          -39162193.8250625,
          -44551727.70090919,
          -44703655.83454814,
          -44555433.26514427,
          -44653630.71737433,
          -44423885.73479836,
          -94888339.7592355,
          -94886486.97711796,
          -94888339.7592355,
          -94886486.97711796,
          -94888339.7592355,
          -88248249.4699394,
          -88245062.14967494,
          -88246526.35048862,
          -88248064.19172764,
          -88246341.07227686,
          -26011738.592293203,
          -57873115.100722425,
          -75847733.29859239,
          -52859508.992608555,
          -68376339.50008474,
          56216572.9062702,
          85379562.69293551,
          -79452487.73645578,
          -78923328.50979505,
          -79479896.86332113,
          -79071026.19417372,
          -79194138.67479675,
          -83589242.07545483,
          -83587389.29333727,
          -83587389.29333727,
          -83588668.21593922,
          -83586815.43382166,
          -82409859.88250095,
          -82409859.88250095,
          -82409859.88250095,
          -82408007.10038342,
          -82409859.88250095,
          -85916643.54354508,
          -86068120.21045528,
          -82792968.40531908,
          -85683240.41287987,
          -85266601.4514471,
          19971214.03379325,
          22037990.925934065,
          15841677.505387807,
          12419811.265120707,
          21259536.52246822,
          30536527.604809843,
          24967822.62985173,
          34746822.76575862,
          28900475.751980614,
          21687562.990112007,
          -89044665.63716105,
          -89047092.27879421,
          -89047092.27879421,
          -89048945.06091174,
          -89045813.35619226,
          -97488829.67674416,
          -97689721.94629985,
          -97576648.19987796,
          -95679448.80103178,
          -95027385.32261282,
          -81473337.15614077,
          -77211938.28577994,
          -77211364.42626433,
          -81472763.29662515,
          -77211364.42626433,
          -66284500.4055849,
          -62640929.46570593,
          -66522682.22664842,
          -65133399.97965199,
          -63036404.15418401,
          -70747610.3040192,
          -70729684.38382015,
          -70747237.0896976,
          -70729684.38382015,
          -70754501.28456406,
          -90106532.90645352,
          -90323258.1690581,
          -90092970.46071899,
          -90522878.14192162,
          -90456957.91624627,
          -97208164.34082812,
          -98136583.04782453,
          -97254396.4269116,
          -98082809.29054087,
          -98102033.93654485,
          -73898800.60405113,
          -70911757.91269456,
          -68734673.18033604,
          -67208973.8520986,
          -73482092.64322095,
          -59587329.99220482,
          -65021153.56056151,
          -69312668.5901587,
          -60367255.07623975,
          -68859873.87027547,
          -92325166.99437556,
          -92312525.1350887,
          -92321719.21457006,
          -92320569.95463488,
          -92307928.095348,
          -22819123.29854285,
          -25284528.63735456,
          -21832433.84124218,
          -25393217.066341452,
          -24596761.962478988,
          -65895009.64124314,
          -63714177.47246174,
          -64822731.32819656,
          -45468656.661484115,
          -45468656.661484115,
          -45468656.661484115,
          -45469230.520999715,
          -45468656.661484115,
          17359945.057357296,
          30755063.394362696,
          1155475.4395063103,
          14300571.366084808,
          34892771.96856333,
          -30301310.80274539,
          -21442841.18387204,
          -37188915.35595023,
          -28673738.407448437,
          -15557820.670929223,
          -19199340.311648652,
          -9437169.955109484,
          -20347659.45003881,
          -34828311.71752272,
          -32179415.42000767,
          -68819214.37563917,
          -68811169.55609298,
          -68818065.115704,
          -68799676.95674129,
          -68428465.99768095,
          -45007852.71309787,
          -45009705.495215416,
          -45005999.93098033,
          -45005999.93098033,
          -45009705.495215416,
          -81844298.39962061,
          -81887970.27715711,
          -81651668.4682646,
          -81848191.9171789,
          -81381592.38349935,
          -92339756.62882097,
          -92328084.10148044,
          -92340312.46345624,
          -92327713.54505692,
          -92326601.87578641,
          -91236272.4042671,
          -95383467.78721651,
          -93413061.00017105,
          -90441274.4597426,
          -88192527.8557145,
          -95669369.45457345,
          -95734458.24099377,
          -95871975.52823065,
          -95845127.27920106,
          -95955548.27080375,
          -17630364.277579248,
          -36671516.061130375,
          -33449047.384425398,
          -33865211.1064524,
          -24579047.77636737,
          -71362262.0194004,
          -64298045.73344664,
          -67658288.6194456,
          -82224594.43777214,
          -46049221.336168475,
          15147978.128639143,
          15069922.862139238,
          23721704.192928992,
          -89726218.83313495,
          -89743023.53485964,
          -89741859.53825122,
          -89752835.66403888,
          -89741055.82674856,
          35601683.168099,
          27278884.9835785,
          -80148800.11851983,
          -80150652.90063739,
          -80148800.11851983,
          -80148800.11851983,
          -80145094.55428474,
          -68026860.40328369,
          -70707727.37915231,
          -67401780.92947121,
          -68561526.86400455,
          -69288970.59018484,
          -84922141.55597457,
          -85582403.75324288,
          -81312956.46916017,
          -86043975.6072215,
          -84105996.95290896,
          -55662813.40977065,
          -55660960.6276531,
          -55662813.40977065,
          -55664480.91367644,
          -55660775.34944135,
          -53656066.205470584,
          -53656066.205470584,
          -53656066.205470584,
          -53656066.205470584,
          -53657918.98758813,
          -18646635.816905357,
          -3086805.554621212,
          -1212808.3381096222,
          -21140975.61397986,
          104243.54759667991,
          -13449761.627423415,
          -7608580.828506908,
          -4215826.435686475,
          -4218665.838162095,
          852107.1065340203,
          -68810930.30131024,
          -72856543.22058065,
          -75609883.82395367,
          -90014334.55851813,
          -58372594.160260126,
          -88511915.05034702,
          -88310794.56169206,
          -88511915.05034702,
          -88513767.83246458,
          -88513767.83246458,
          -62675782.795667484,
          -62692049.687637284,
          -62745893.1410401,
          -97105263.77763133,
          -97092109.02459675,
          -97110451.56756048,
          -97088403.46036166,
          -97104152.10836081,
          -90151702.56404988,
          -90139544.47093554,
          -90147494.87606502,
          -90143637.2329269,
          -90144807.00443885,
          -33588070.23130468,
          -33588070.23130468,
          -33586217.44918714,
          -33588070.23130468,
          -33588070.23130468,
          -91284270.67524414,
          -90942948.33079271,
          -90915438.3670417,
          -91082069.02167293,
          -91332066.71528171,
          64643684.01539223,
          59162068.07458578,
          57861947.851574376,
          64597465.33502084,
          64093527.346660025,
          -35789609.46062503,
          -20843102.916194804,
          -41445410.65701087,
          -34684045.076159485,
          -31773445.034857165,
          -65290778.48827987,
          -66408866.377469674,
          -72194067.7849432,
          -69880918.24697609,
          -60020037.35210865,
          -91928911.24106413,
          -92168387.94754001,
          -91934082.14032045,
          -91925463.46125865,
          -91911672.34203659
         ],
         "xaxis": "x",
         "y": [
          -4829602.243810911,
          -4830011.970951243,
          -4829548.526015359,
          -7701480.539673783,
          -14438434.628709333,
          14190022.038074197,
          8492292.272123698,
          5485730.55835176,
          10539662.062814651,
          5066684.460500847,
          16926942.68821594,
          14906556.386434399,
          15696231.100785753,
          12714753.583059192,
          12422283.952231593,
          -5328600.768486441,
          -5327176.3719140915,
          -5328660.454923475,
          -5327952.295595599,
          -5327104.748189624,
          6186722.944560788,
          -2897162.012721544,
          -2335806.9581525624,
          -2321922.9123006836,
          -2321922.9123006836,
          -2707409.3618350415,
          -2335806.9581525624,
          -2497492.932921712,
          -1552274.2216571071,
          778229.1317744033,
          -987250.3744871292,
          -3500690.761345491,
          72155558.1591381,
          72079245.2212682,
          71486699.80329683,
          71568577.80765899,
          71267112.93406211,
          -3970084.5473460956,
          -3970494.27448879,
          -3970024.8609090396,
          -3970024.8609090396,
          -3970434.588051745,
          -10999183.721540825,
          -10711947.213061018,
          -9355289.343428902,
          -10160232.720595004,
          -11322665.210650872,
          62678460.20175922,
          12937414.775057465,
          9262166.480771523,
          19062788.807909336,
          9262226.167208562,
          9262226.167208562,
          6991322.480392776,
          6979504.075754003,
          7034459.657324282,
          7144961.740696785,
          7060400.461092534,
          9096651.038382066,
          9098959.80682564,
          9098284.455541112,
          9099390.145536311,
          9103941.729160732,
          103905259.76205401,
          103626568.48820072,
          90950809.53429812,
          103420578.26641284,
          98697848.87191917,
          1467098.0908769302,
          1467098.0908769302,
          1467098.0908769302,
          1467098.0908769302,
          1467038.4044398963,
          17023263.712105226,
          14975715.616806595,
          15149674.544244766,
          15065553.560554013,
          18296452.70114295,
          -16507903.462668628,
          -16509258.344789425,
          -16507479.688965656,
          -16502632.905225568,
          -16509198.658352384,
          -337502.1234713282,
          -1070199.916498267,
          -181578.28038337018,
          -731381.2058821715,
          -742447.5973873233,
          14737185.771606185,
          12959501.531691542,
          14244280.159443768,
          16318966.613672495,
          16442005.244921276,
          38208423.589545645,
          16629768.59023997,
          25750525.34892863,
          17723670.151525177,
          41405267.36756137,
          42905176.796346106,
          41855670.605993286,
          40470092.23072657,
          41312046.974458404,
          -23223209.430979908,
          -23213222.51096209,
          -14756751.1095447,
          -16018380.511415597,
          -21779149.707636416,
          23857829.419881705,
          23381772.66147808,
          24616516.355060294,
          27767145.426222846,
          24335208.28290252,
          2785437.516522483,
          2779000.8907685275,
          2784921.981364811,
          2777932.4790402814,
          2773120.585070252,
          -8939664.62820338,
          -9246587.139462074,
          -8224241.4204150485,
          -9240624.21934936,
          -8313289.182348519,
          13778728.33352954,
          12963489.829450708,
          12960794.691138286,
          12961834.42787075,
          12962057.45602369,
          -1287846.4502399783,
          86687.8176248102,
          -158384.44266882067,
          -1688910.0492223103,
          -1666785.5026088795,
          -2014122.583111584,
          -2013000.4290847552,
          -2014122.583111584,
          -2014122.583111584,
          -2013531.6628796423,
          -29272942.0520029,
          -29272882.365565863,
          -29280292.4292186,
          -29272065.65698634,
          -29272882.365565863,
          -5152046.615389092,
          -4005661.3654282694,
          -3424786.777432677,
          -3396422.606299624,
          -3454923.709261555,
          10509263.809652245,
          10052783.400136488,
          7115839.661738421,
          12008800.448091624,
          -2682322.467486356,
          -2381633.7412230205,
          -2522134.3123125876,
          -2587325.860334789,
          -2870227.6098601464,
          -26892812.72629254,
          -27769412.101116367,
          -27007504.667280305,
          -25909848.336402763,
          -26939472.84260613,
          -15240464.124913609,
          -15240464.124913609,
          -15240523.81135065,
          -15240404.43847657,
          -15240464.124913609,
          2104719.926079261,
          3085586.930085151,
          2478712.7690632716,
          -1335316.297304368,
          4360409.336281906,
          -10217974.071942646,
          -10217396.725687658,
          -10215687.287919985,
          -10217647.388510836,
          -10216928.684960855,
          13705986.253822815,
          14409626.677041892,
          14132714.044293849,
          14482287.665974727,
          14060136.705205489,
          -3350329.646496766,
          -3501138.3364527007,
          -3101193.088855393,
          -3190728.908433866,
          -3447573.498214148,
          2889000.0791879003,
          2889000.0791879003,
          2889000.0791879003,
          2889000.0791879003,
          2888940.3927508662,
          -1786674.0048150837,
          -1786580.8939733037,
          -1786688.3295599718,
          -1786616.705835537,
          -1786636.9992241147,
          1139176.7814138688,
          1139236.467850925,
          1139176.7814138688,
          1139236.467850925,
          1139296.154287959,
          -3253549.3171251747,
          -3255597.9528386253,
          -3256827.1342666983,
          -3256827.1342666983,
          -3257646.5885520866,
          3491620.2046296373,
          3485903.2445729827,
          3535782.1543608676,
          3674154.5721527995,
          3476162.42805576,
          -13285088.70822887,
          -13282630.345372718,
          -13284269.253943488,
          -13287956.798227707,
          -13287137.343942331,
          57047472.057479486,
          7140371.725619543,
          5408949.537032954,
          7140371.725619543,
          6323722.832534609,
          9998911.440383513,
          -9032805.77604896,
          -9026956.260166608,
          -9026896.573729565,
          -9026896.573729565,
          -9018729.48793435,
          28150941.10812558,
          27967998.38631265,
          28243229.17761154,
          28222811.463123497,
          28302032.195337128,
          -1663299.3413201645,
          -1992077.3667501495,
          -1920972.2710122839,
          -2037758.852178062,
          -1482459.4502460214,
          -2229217.3396278187,
          -2136703.362217219,
          -2360527.501113817,
          -2330684.2825942687,
          -2306809.707778617,
          -8108162.738567794,
          -8108162.738567794,
          -8108162.738567794,
          -8108162.738567794,
          -8108162.738567794,
          -731843.5480295024,
          1247076.525331904,
          -1862949.7454877882,
          -1965038.317928035,
          -1193308.3967168035,
          -10992519.038848491,
          -10992292.23038774,
          -10992519.038848491,
          -10993611.300646301,
          -10993372.554898145,
          -8962482.191776272,
          -8962947.745985169,
          -8960323.65202833,
          -8963108.899365177,
          -8963317.801894812,
          28382077.706675544,
          29274763.480995275,
          27752372.906516623,
          26451501.03492739,
          28503848.122289043,
          53868066.88546863,
          49521978.547792874,
          61858837.93837824,
          55095470.67547384,
          56975203.16256083,
          -4589496.939517793,
          -4831774.234612604,
          -4979504.292597239,
          -4548132.523282096,
          -4555853.656493954,
          55441210.89310701,
          58716969.31913262,
          21818075.696329672,
          18364996.63693109,
          19131980.864718936,
          -3610876.1297842953,
          -3625985.496780323,
          -3487893.7346053887,
          -3591747.8101405627,
          -3599032.34614645,
          -1925997.2150114793,
          -1926116.5878855586,
          -1926116.5878855586,
          -1926116.5878855586,
          -1926056.9014485131,
          1270068.5260554783,
          2116680.5667726006,
          3933138.4497754495,
          -2931055.623919562,
          -3087383.7076051333,
          -6193797.777047265,
          -6127157.969298809,
          -6069926.93712755,
          -6075836.139446927,
          -6141582.552951391,
          10368948.864593912,
          7510468.836266991,
          10368948.864593912,
          9143885.995310958,
          8024995.2413658425,
          -940211.9685438408,
          -950769.4936405836,
          483311.08556296775,
          28634518.54514228,
          31059932.220599107,
          25281292.012337107,
          26879303.809392072,
          32136049.68843571,
          -4082429.025991881,
          -4081959.6124121635,
          -4082429.025991881,
          -4082429.025991881,
          -4082429.025991881,
          20209671.458313555,
          8758578.123072684,
          6208468.821635904,
          8926902.808218094,
          4444823.381603456,
          1563470.2043358646,
          1808820.7834958164,
          978582.4184430792,
          607303.0397583902,
          634069.6838049412,
          8087401.794765907,
          8199272.262165606,
          7992074.726583999,
          7962927.048357091,
          8345695.18717909,
          -1350539.1134506057,
          -1293608.2586322199,
          -1350598.79988764,
          -1349144.4420397235,
          -1361275.6978584619,
          15168677.813912062,
          16256787.749258526,
          16516852.337748526,
          16256728.062821489,
          16611339.888421655,
          70220.27354110662,
          -370276.1908806799,
          -1050786.6744949094,
          -1081043.6252137078,
          -718863.6636771314,
          12358629.949940745,
          12888008.03294687,
          13331198.206900798,
          13048126.80161673,
          13290710.185681656,
          1646159.0907592282,
          1645860.6585740144,
          1654087.4308062813,
          -1399879.5201477332,
          1646338.1500703418,
          -1112683.054516305,
          -1112623.3680792486,
          -1113091.4088060674,
          -1112623.3680792486,
          -1113325.7374576384,
          1807799.133914282,
          1806249.1665989694,
          1779311.2341720879,
          1805177.137542719,
          1804834.0997269545,
          6647990.21771949,
          3560013.6659837165,
          5244441.6935777655,
          4272410.362993153,
          2879063.995920055,
          -4905781.428541125,
          -4893937.781285128,
          -4893530.799848297,
          -4864945.999565036,
          -4846978.410815541,
          -12864257.410994789,
          -13266216.185944555,
          -16145738.46540588,
          -12080204.985068481,
          -15461931.116866095,
          -27551961.897071812,
          -27494445.001505483,
          -27577399.23591107,
          -27480970.682796296,
          -27594959.84322372,
          -3972027.3097210615,
          -4033771.4728658665,
          -4003194.977600326,
          -4034139.419502622,
          -3929175.833955871,
          19471178.59413451,
          19471118.90769747,
          19471118.90769747,
          19471059.22126043,
          19471059.22126043,
          -811792.876362445,
          -811442.8356568066,
          -811852.5627994792,
          -811912.2492365243,
          -811852.5627994792,
          -2928592.762138476,
          -2954132.5587180997,
          -2729701.50754548,
          -2698511.5411439287,
          -2931030.3686777246,
          -4813649.765478378,
          -4500033.670941925,
          -4811139.953302766,
          -4704210.815822433,
          -4816916.599796457,
          13589851.526522277,
          13589970.899396347,
          13589911.212959314,
          13589911.212959314,
          13589911.212959314,
          -3290441.1688977634,
          -3290028.1387534463,
          -3290387.451104413,
          -3290381.4824607293,
          -3291425.995108891,
          8108942.199817423,
          3809486.4863289287,
          4818551.226402491,
          7716569.646465861,
          7826155.7712529395,
          21768572.972880628,
          21768632.659317665,
          21768632.659317665,
          21768632.659317665,
          21768632.659317665,
          -6756993.028132979,
          -6599479.406380381,
          -6648510.926060773,
          -6682779.188421023,
          -6641193.476908336,
          1383035.3598382785,
          1383905.7862111358,
          1381479.5350473854,
          1383101.014919021,
          1381431.7858977537,
          -2311237.9945017737,
          -2243966.3205826855,
          -2259270.5601760456,
          -2436354.38749486,
          -2175359.887240771,
          729808.478018357,
          729689.1051442776,
          729689.1051442776,
          729689.1051442776,
          812417.9376156898,
          -1376163.9779996646,
          -1373971.499548284,
          -1381180.6205309012,
          -1375187.1116480534,
          -1378633.0052772574,
          304463.9917646007,
          251281.1708901362,
          1125723.7412851157,
          1362151.5204975738,
          127128.23574601082,
          -2820515.2534606163,
          -4204019.587170858,
          -2987183.490120141,
          -3812816.1775798122,
          -4155588.768405215,
          -11474262.548605146,
          -11482557.174360238,
          -11474189.044832988,
          -11473849.916918993,
          -11474240.564184234,
          13307642.51329829,
          13555534.632206047,
          13371590.245026102,
          13776273.234369041,
          13865620.045382505,
          9111876.11770808,
          17924635.38172634,
          12682901.713324754,
          13264199.078472456,
          17280875.52784041,
          103136.57048354216,
          433963.23162697785,
          -288007.1526704486,
          81145.12527347576,
          -297050.6334822303,
          -18849195.455716927,
          -17199139.023187425,
          -8452758.254644802,
          -8452758.254644802,
          -8452877.627518885,
          -8452758.254644802,
          -8452758.254644802,
          55106106.12737362,
          65193273.79304958,
          34952945.532652274,
          47062283.64122464,
          45900167.01900191,
          14560157.303809654,
          14561790.720968697,
          14561790.720968697,
          14560974.012389174,
          14569141.098184397,
          972863.0299837543,
          894716.054536534,
          967284.6815162313,
          975047.5315804643,
          873978.9713069736,
          25356307.228052795,
          22943886.808228757,
          24669390.97327461,
          26962128.58267041,
          21904515.40608737,
          -3086761.6048739343,
          -3086761.6048739343,
          -3086761.6048739343,
          -3086761.6048739343,
          -3086761.6048739343,
          -4233137.417850503,
          -4233197.104287537,
          -4233197.104287537,
          -4233197.104287537,
          -4233256.790724582,
          8065297.267118378,
          8044544.734051701,
          8070477.866746523,
          8049668.899090276,
          8100614.580555644,
          -1991557.9472688804,
          -1975196.3186198338,
          -1994835.7644104043,
          -1989477.0821769868,
          -1988749.5437070746,
          -34265934.2957897,
          -34264442.13486373,
          -34264442.13486373,
          -34277035.97307897,
          -34271186.70224914,
          12364908.853261886,
          11206610.338640098,
          10176770.531144235,
          10888801.102573784,
          14792708.513072165,
          -16034349.84575934,
          -15250778.635335222,
          -14050343.870817952,
          -15060750.037471844,
          -16412770.531664304,
          -23006488.451151006,
          -23006488.451151006,
          -23006488.451151006,
          -23006488.451151006,
          -23006428.76471396,
          6969866.214472437,
          6969866.214472437,
          6969925.90090947,
          6969866.214472437,
          6969806.528035402,
          10946061.887211697,
          10159685.258596456,
          7614031.135783728,
          7159908.479216566,
          10526791.60889831,
          -2410647.9345108722,
          -140492.37380106538,
          -2876038.570121221,
          -2993808.316637778,
          442672.51792204846,
          -3634627.1678168066,
          -3634695.021339633,
          -3634635.3349025985,
          -3634985.375608259,
          -3634627.1678168066,
          924483.0702722876,
          880932.7859617602,
          1425207.994923192,
          275740.9049135466,
          3466860.070854066,
          10352217.906695673,
          10352277.59313272,
          10352217.906695673,
          10352217.906695673,
          10352277.59313272,
          -684105.9952459233,
          -684100.0266022392,
          -684100.0266022392,
          -684105.9952459233,
          -684105.9952459233,
          4100496.6920823143,
          4234044.664500425,
          4100496.6920823143,
          4100496.6920823143,
          4234044.664500425,
          13808462.582594447,
          17588289.17344335,
          14598421.326157663,
          20478808.63079618,
          13920447.278107569,
          -4846901.737760454,
          -3936884.580575082,
          -4356437.945251455,
          -3477088.953689848,
          -4303195.437939945,
          -8108507.496330472,
          -5324742.679055409,
          -8505132.51070595,
          -8381798.841844459,
          -8431949.10071193,
          -7120926.378844081,
          -7357294.471619509,
          -7180018.402037937,
          -8042761.940668216,
          -7103198.771885918,
          -1588531.7584047785,
          -1794171.9991193875,
          -1733307.2152297308,
          -2148133.2180505893,
          -1872173.4697352857,
          -114342.21296464473,
          231882.53831563593,
          -275293.4895675164,
          -3269.846149659296,
          376499.6433280636,
          76830887.09813435,
          51725909.80840397,
          33620661.02009089,
          37215618.05417268,
          40421991.117786594,
          13253868.014358742,
          12924794.143248422,
          15895863.226258775,
          15142038.5637765,
          14060835.77736349,
          -2211432.1291109133,
          -2734296.3920124318,
          4046990.006799109,
          4046990.006799109,
          4046990.006799109,
          4047049.6932361536,
          4046990.006799109,
          -2455437.275632986,
          -2527387.5217814357,
          -2582561.7099404703,
          -2392158.3269339926,
          -2396472.348070262,
          326195.4501989456,
          352512.69835637265,
          369016.1861506356,
          263135.83084328804,
          261668.26799018978,
          -7953597.6152004665,
          -11922312.744017452,
          -11733295.012735207,
          -5132200.337360844,
          -11303539.692681141,
          863996.2952628052,
          863586.5681201214,
          863996.2952628052,
          863996.2952628052,
          863586.5681201214,
          2862950.305235814,
          2883931.073455411,
          2895837.53204435,
          2854842.9058776363,
          2912769.578624424,
          4022152.2297694692,
          4043108.0004837536,
          4011559.0104965395,
          4029527.318337904,
          4027538.369061493,
          3871298.9169722665,
          3871358.603409301,
          3871298.9169722665,
          3871358.603409301,
          3871708.6441149497,
          -3394267.0337513993,
          -2996171.677700952,
          842259.2780801445,
          630138.6246985244,
          394210.50436800194,
          576948.3626095662,
          242854.86714804007,
          3225150.4513467527,
          7337189.407496855,
          5096387.948269722,
          5206428.940732814,
          5204912.158499504,
          34388795.64461519,
          36498264.02125434,
          35220871.617527775,
          33068462.476836607,
          31064094.253641367,
          20287910.33658957,
          18998969.90240622,
          18709259.93984603,
          19557184.799497757,
          17281792.580065463,
          3109543.3314407775,
          8344865.3665256165,
          9548204.814911976,
          56679289.29210517,
          23619091.47694449,
          17606694.165042166,
          97369.24355525523,
          102549.02567856152,
          87788.5848101232,
          97315.52576191591,
          87289.20995481768,
          -7697774.889337572,
          -8024458.321146356,
          -8232719.008924466,
          -5581682.959796128,
          -10952966.978361104,
          -10952966.978361104,
          -10952966.978361104,
          -10952966.978361104,
          -10953086.351235183,
          -8466444.276837775,
          -8466444.276837775,
          -8466384.590400733,
          -8466444.276837775,
          -8466444.276837775,
          20000258.396818105,
          33108260.511844404,
          26041213.647830013,
          25089008.428021763,
          26460366.450530343,
          68610.42423121314,
          150812.5159783092,
          60033.61129330208,
          -289924.6421789344,
          -135385.52756003648,
          -2171752.028212332,
          -2171752.028212332,
          -2171811.7146493876,
          -2171811.7146493876,
          -2171752.028212332,
          -1603164.290874514,
          -1604792.0696769457,
          -1605619.6018789113,
          -1605090.5018621262,
          -1604656.4518004963,
          -19239047.03510433,
          -18790551.77328965,
          -18871558.192850213,
          -20127343.156169683,
          -18794324.988972,
          -17744489.762109675,
          -17744549.448546715,
          -17744549.448546715,
          -17744489.762109675,
          -17744489.762109675,
          -9571294.503588967,
          -9571234.817151926,
          -9607931.557969157,
          -9571175.130714886,
          -9571234.817151926,
          -1903801.905194959,
          -1908815.565906235,
          -1908940.9074240085,
          -1908821.5345499294,
          -1901838.2214163658,
          -1522767.4458867728,
          -509945.8984166505,
          -568804.4930555412,
          -1226997.6627714168,
          -987372.4271334411,
          -9586597.860781504,
          -11100435.186234681,
          -20386134.263516605,
          -19275183.079657204,
          -12550767.491875714,
          -3543962.9762075986,
          -3697261.6138516557,
          -3447480.139763963,
          -3691420.265055117,
          -3318842.7360488377,
          -1979042.0530939072,
          -1149266.136299575,
          -3186954.042206911,
          -1095363.370051123,
          -2653643.3397790515,
          9046618.42704544,
          9046618.42704544,
          9046678.113482485,
          9046618.42704544,
          9046618.42704544,
          -163278.09264801987,
          -187207.65402802892,
          -3150793.590236083,
          -3064009.004485318,
          -3176318.8953743246,
          -3216562.9513917556,
          -3072776.365776029,
          -4443572.1846120665,
          -4443572.1846120665,
          -4443512.498175033,
          -4443572.1846120665,
          -4443922.225317717,
          12155236.374953197,
          12348975.665793017,
          7618822.601354672,
          7902302.149306745,
          10534826.866744557,
          11023221.187230913,
          20006139.166956097,
          20007832.270552196,
          20006955.875535615,
          12958760.834260955,
          -10196678.667786432,
          -10004273.970927922,
          -9128503.593901148,
          -9850596.289933115,
          -8413651.279984802,
          5334696.7371842805,
          5398119.167908207,
          5178364.873579757,
          5279473.395724586,
          5399714.907200021,
          4714873.305942393,
          5516064.422453453,
          4548324.442156928,
          7081694.769397079,
          6382651.911763291,
          854475.1861770554,
          1819116.9315461952,
          1029903.8783877491,
          935370.3787305084,
          1615019.8158245971,
          -5094549.810238145,
          -5316023.622171096,
          -7523448.164237222,
          -5163345.573180733,
          -5599665.333501601,
          -4250542.681701789,
          -4244396.675823511,
          -3949872.6091118515,
          -3024913.5058816164,
          -2968132.4063607305,
          -22186233.82020106,
          -22091687.867239244,
          -22100926.036081374,
          -22096882.707127843,
          -22166362.62282425,
          -3006865.7515864144,
          -3103221.326671735,
          -3005686.4054116216,
          -2109817.046523651,
          -2761446.9475300675,
          -12840584.475286411,
          -11170991.02185119,
          -11555924.686519435,
          -11355452.270493312,
          -11325710.818237768,
          -6854659.056072698,
          -5917645.610503599,
          -1918452.7794596246,
          -5914651.066563051,
          -5243611.312237927,
          -16142332.215207033,
          -1363556.7254614865,
          -2496516.9119982366,
          -1425526.4150080264,
          -1617878.2135426505,
          -2834149.6773086777,
          -4078996.100886546,
          -3661985.845331637,
          -5488889.289187089,
          -4582707.711401762,
          -3482703.8209740124,
          -1358330.704476398,
          -1358336.6731201033,
          -1358271.0180393641,
          -1358330.704476398,
          -1358271.0180393641,
          -1735303.5159612768,
          -1763250.8833572678,
          -1668195.531339614,
          -1688362.6885962985,
          -1740202.18838633,
          -9670394.443196472,
          -6764583.997043527,
          -5585341.372728886,
          -4563992.579807179,
          -6276020.138227631,
          -6877884.510787422,
          8474562.06329788,
          8571904.450455697,
          7311795.3079079855,
          7475782.928590041,
          7525289.744439113,
          82704.93430942013,
          -878439.6582009504,
          305714.8001432368,
          -1036073.8679205274,
          1084398.671482227,
          12918486.124270396,
          12918486.124270396,
          12918486.124270396,
          12918486.124270396,
          12918486.124270396,
          4174549.203221668,
          4574736.407187437,
          7269874.719609964,
          7269874.719609964,
          5309774.128757217,
          6910103.700829825,
          6991981.245107835,
          6964708.625827511,
          6984189.0681706015,
          6898355.748986957,
          -4530466.6533524245,
          -4531999.786992667,
          -4529755.936134939,
          -2198425.613695388,
          -2356867.0781226438,
          -2305414.4376127464,
          -2200875.7394339424,
          -2289487.2474591443,
          -19850891.03567819,
          -9602864.332123926,
          -15616646.596214741,
          -12650952.186110964,
          -9746235.840960234,
          -24117814.42591437,
          -26321946.891045183,
          -25967394.751882043,
          -24218211.17890688,
          -23721957.556952573,
          -1519631.2169025007,
          -1519631.2169025007,
          -1519631.2169025007,
          -1519631.2169025007,
          -1519631.2169025007,
          5344010.809363351,
          5450182.924701218,
          4323089.982152406,
          8790545.59857466,
          4372092.496923736,
          -3258300.672079184,
          -3648362.6779227317,
          -3648995.433218366,
          -3063351.6483035577,
          -3547849.3872869913,
          -2403853.6781804212,
          -2583401.522814785,
          -2372309.894560296,
          -2469724.8819362717,
          -2536073.37887423,
          -3461250.819108962,
          -3584872.52045819,
          -3585344.0678160423,
          -4914914.589677799,
          -3585403.754253098,
          6684749.220646442,
          6700433.805681063,
          6695181.40422541,
          6692892.4318668535,
          6689362.9772257805,
          -758259.4065918892,
          -754978.8437445132,
          -755030.3630957433,
          -759127.6345226554,
          -754213.654516218,
          -920341.938698777,
          -1189671.5189505934,
          -1184701.0746152815,
          -1158801.2433868598,
          -1103040.2916645128,
          31132005.514070522,
          31132005.514070522,
          31132065.200507578,
          31131826.45475941,
          31132124.886944614,
          -9759601.422773516,
          -9427379.102331027,
          -10503339.047239212,
          -9447321.370359607,
          -9447955.512996944,
          -2701868.509623017,
          -2891407.3322150297,
          -2868572.459232775,
          -2800769.1728972737,
          -2855920.340514811,
          -1147375.621863821,
          -2219708.2007819465,
          -2359633.1566837174,
          -980857.2374410932,
          -2779328.0807686215,
          -1068303.8786278465,
          -957210.8750234245,
          -1145323.4155918923,
          -1044907.9488766006,
          -1047580.6977957356,
          -8920361.688675283,
          -8298719.25478048,
          -9748568.035630748,
          -8418231.000116259,
          -9052423.005354801,
          490010.41505106614,
          780570.2795432166,
          -612786.9003504033,
          1227166.6313519934,
          1234210.7440530031,
          19995252.937031824,
          19995193.250594787,
          19995252.937031824,
          19995133.564157758,
          19995133.564157758,
          -7616790.585343272,
          -7399894.198245447,
          -7318076.340404489,
          -7438086.265954672,
          -7223560.417893638,
          -12377141.72044174,
          -12377548.70187857,
          -12371639.499559183,
          -12370822.790979661,
          -9336942.660318255,
          -16755600.88186272,
          -16755660.56829976,
          -16755272.606459003,
          -16755577.007287903,
          -16755905.282691617,
          -3747890.1410300513,
          -2447865.630765223,
          -2389895.7615982103,
          -2595536.0023128185,
          -3115605.4928557994,
          -22209285.924967445,
          -21138036.078778904,
          -23089403.95439463,
          -21612239.903239924,
          -21725336.43912051,
          -9760174.215751136,
          -10309512.033954911,
          -11383570.318169367,
          -11457972.739401715,
          -9996686.272403803,
          -505466.93563059595,
          -505475.10271639994,
          -505401.2805498561,
          -505469.134072694,
          -505475.10271639994,
          11570377.264710631,
          11570436.951147666,
          11570377.264710631,
          11570377.264710631,
          11570377.264710631,
          2356165.254015433,
          2356165.254015433,
          2356165.254015433,
          2356224.9404524784,
          2356224.9404524784,
          -3943129.7518130727,
          -4116331.6571087725,
          -4151450.1260282146,
          -4171051.13193674,
          -4114698.2399497265,
          4838565.66822473,
          4846103.4998694,
          4843058.938265021,
          4828765.165270469,
          4858106.987696209,
          -12978358.10558524,
          784758.2822701943,
          -1597269.4901400637,
          -5698344.028303041,
          -5697934.30116036,
          -5698344.028303041,
          -5697874.614723327,
          -5697934.30116036,
          1080004.466596666,
          1080314.8360692689,
          1080800.6836667731,
          1080726.6724848456,
          1080464.052161865,
          24019106.209533006,
          23895783.214025185,
          23859848.03652621,
          24067232.329287764,
          23896599.92260471,
          -12146203.050413571,
          -15939276.199955499,
          -15215746.941609312,
          -13510065.059428435,
          -13470178.894857552,
          13673244.547334833,
          13673244.547334833,
          13673244.547334833,
          13673244.547334833,
          13673244.547334833,
          -4008434.5982587966,
          -4210978.325980267,
          -16459896.14707265,
          -16459896.14707265,
          -16459955.833509682,
          -16459896.14707265,
          -16459896.14707265,
          -5446353.118483431,
          -4800477.304974594,
          -5198166.621069237,
          -5351805.881373266,
          -4258603.452286939,
          -1206600.452479042,
          -1793354.9551464398,
          -1002193.8530367364,
          -1006223.6781409924,
          -998050.6237020752,
          -997905.9433565366,
          -1006277.3959343424,
          -11558868.259969605,
          -11284090.970139762,
          -10414740.893484643,
          -11766952.456733296,
          -8209107.567020481,
          -6977562.352016059,
          -4993368.858067412,
          -6698656.372109297,
          -6953877.803209918,
          -6801071.6279813545,
          -15055908.215755941,
          -15056335.848829746,
          -15056317.942898637,
          -15056335.848829746,
          -15056377.62933568,
          402110.1775268614,
          375915.1999687423,
          384675.0827712251,
          456337.11037064134,
          400038.2545713469,
          11809877.670849597,
          3611628.2102388074,
          961072.001033917,
          342037.8446628132,
          3518103.838393592,
          -2941063.4691203614,
          -2907326.4886601935,
          -2733427.247659054,
          -2181464.8037278815,
          -2175555.6014084946,
          -4013292.0295458953,
          -9388742.558441773,
          -8006865.673246882,
          -5597527.614507414,
          -9436117.624697747,
          2263679.9893747806,
          1120228.2916069725,
          3937932.5773948375,
          2263679.9893747806,
          3937872.890957797,
          -5581932.956153382,
          -5581574.837531134,
          -5580698.442514574,
          -5581763.047928653,
          -5580648.206847047,
          120080039.0181838,
          120925442.64811015,
          120230763.83727379,
          119993358.45170577,
          120154538.47237408,
          -1706144.1917722225,
          13658563.925244104,
          13446831.418000815,
          12946590.94409406,
          13541655.225498378,
          13961069.397031367,
          7483083.765992502,
          7495375.580273248,
          -13134454.858946858,
          -12922639.411086624,
          -13670047.134223323,
          -13236057.54477292,
          -13682040.115628965,
          5785110.294078183,
          5785110.294078183,
          5785110.294078183,
          5785050.607641139,
          5785050.607641139,
          64308479.155752674,
          64308532.87354601,
          64308479.155752674,
          64308538.8421897,
          64308479.155752674,
          -205712.7044231153,
          -554355.6412668506,
          -34936.757392867745,
          -553705.0345978743,
          -554355.6412668506,
          30188127.661119044,
          19550498.412845287,
          27280585.431583762,
          17911364.293744676,
          16205260.07112327,
          42241589.36515508,
          38615763.24476449,
          40244774.30935772,
          39593390.51719144,
          42847099.44008367,
          -3549431.8718506177,
          -3549372.185413574,
          -3553575.101185257,
          -3549431.8718506177,
          -3553515.414748223,
          -8639072.31535774,
          -8635071.816171013,
          -8641035.16165446,
          -8644462.591982586,
          -8641112.713953622,
          19511090.528036073,
          22303379.721663993,
          -16611.258109480725,
          3711145.6068356517,
          3711145.6068356517,
          3711145.6068356517,
          3711026.2339615785,
          3711145.6068356517,
          -2589740.9271911215,
          -2701025.0173247806,
          -2714981.3145437287,
          -2757455.0630465755,
          -2582775.034500886,
          -9647039.863282766,
          -8829744.283785786,
          -8752864.967196735,
          -9317817.636993257,
          -9451784.258043278,
          -12125164.399699979,
          -12120888.61453963,
          -11653629.407254117,
          -11710084.199040076,
          -12023075.82725972,
          3467373.4352924265,
          2821684.637037071,
          1841129.8661895941,
          2859042.9209396,
          891853.9234121756,
          565740.5274874029,
          565442.0953022214,
          565621.1546133342,
          565919.5867985265,
          564904.9173688604,
          -310494.75966724375,
          -2434694.0885668695,
          178713.67946641895,
          -1839313.5340953472,
          -208346.5007899556,
          -7944766.487782773,
          -6547398.064409047,
          -6241763.955769016,
          -6655873.103690978,
          -8298869.715196782,
          -23169587.024618447,
          -23169646.711055484,
          -23169587.024618447,
          -23169646.711055484,
          6104923.089834848,
          6963343.493349486,
          6553296.099992406,
          6426706.270166502,
          6619449.494933687,
          -18386666.453434527,
          -17249769.903474923,
          -20083656.7894058,
          -19938793.36966199,
          -18491798.932343435,
          2516280.9079836044,
          2516280.9079836044,
          2516280.9079836044,
          2516280.9079836044,
          2516280.9079836044,
          18972655.790264662,
          19918128.161366362,
          19392149.468503997,
          17229381.419608895,
          18393434.59009081,
          -8974738.467998456,
          -8974738.467998456,
          -8974738.467998456,
          -8974738.467998456,
          -8974738.467998456,
          8226429.752615044,
          14576239.726055864,
          11004893.628082266,
          13280266.912548557,
          14588552.47353516,
          -11263915.229564147,
          -10161371.609546464,
          3718248.8297948907,
          4333281.896987365,
          4337033.033940024,
          4281656.789979637,
          3866033.1743906867,
          10601557.672173671,
          10654800.179485185,
          10873380.978865396,
          10790652.146394005,
          10920654.5974205,
          -11151374.387834836,
          -9307673.420968017,
          -11151344.544616306,
          -9207264.730688104,
          -10507277.303665515,
          6902637.352501082,
          -3341768.501502744,
          -3343877.3727944205,
          -3343916.97265576,
          -3342341.2957907636,
          -3342114.173227907,
          -7756198.614721785,
          -10309115.951133778,
          -2341871.675151057,
          -6689293.783401517,
          -534628.7176507644,
          -534748.0905248488,
          -534748.0905248488,
          -534688.4040877986,
          -534688.4040877986,
          42918842.2687795,
          40957234.624676704,
          40216492.10785715,
          38620136.43990598,
          40153041.821173295,
          -1830772.0343611562,
          -1752368.0107270589,
          -1826688.4914635718,
          -1404450.1558506985,
          -1746651.0506704128,
          -3072415.908084108,
          -1866062.129200203,
          -4594699.5531040365,
          -2589376.145760776,
          -3480468.0294773006,
          -2226209.817308397,
          -2223269.666422128,
          -2160383.1057989383,
          -2179167.4031279376,
          -2171817.02591224,
          13743087.956504036,
          13741269.988622162,
          13742789.524318855,
          13742908.89719293,
          13743326.702252192,
          12925646.473827802,
          8614241.882531274,
          4531515.693500907,
          8670714.14739237,
          10617687.714535724,
          -34479706.3194864,
          -33012708.97716549,
          -31808149.0150523,
          -34417715.96336402,
          -34090323.25856238,
          -6694392.980986399,
          -6694387.012342698,
          -6694392.980986399,
          -6694392.980986399,
          -6694387.012342698,
          12632404.420716582,
          12851938.46231625,
          11678527.181220714,
          11034890.123639505,
          10706667.064454926,
          -1089023.8974225195,
          -1057320.8823565154,
          438473.29584360373,
          -2184641.775185131,
          -1816895.6144981422,
          -2479952.741132766,
          -2478319.3239737255,
          -2475052.489655624,
          -2479952.741132766,
          -2480769.4497122914,
          -422606.85483996593,
          -422487.4819658868,
          -422427.7955288527,
          -422427.7955288527,
          -422427.7955288527,
          385284.03721243574,
          385284.03721243574,
          385403.41008651507,
          385284.03721243574,
          385343.723649481,
          18660420.54172308,
          18643269.66155312,
          18631776.05500278,
          18627692.512105167,
          18631895.42787685,
          92212725.94896154,
          82485161.74192251,
          92341829.53336452,
          80033404.55739827,
          78920007.9374807,
          21760119.29178427,
          21485686.18667617,
          16060134.93664831,
          19450539.62708956,
          -2176213.9140427876,
          -2176154.2276057424,
          192300.6530079947,
          -1767799.9378447472,
          -2176154.2276057424,
          9971688.231760101,
          9971091.36738971,
          9971091.36738971,
          9971688.231760101,
          9971688.231760101,
          -3639951.9271767065,
          -3632508.985085432,
          -4796023.892791998,
          -4796023.892791998,
          -4796023.892791998,
          -4796023.892791998,
          -4796023.892791998,
          -2053898.8135816231,
          -1998450.4927616853,
          -1867667.291803756,
          -2053139.0457332896,
          -2063732.2650062249,
          13811453.76256602,
          13811453.76256602,
          13811453.76256602,
          13811453.76256602,
          13811394.076128978,
          -16074048.20051775,
          -17650029.868197218,
          -17064399.50885466,
          -16511097.284824345,
          -16632918.134850465,
          -11626332.646086592,
          -11331463.450349249,
          -11384586.584786676,
          -11662498.153108919,
          -10693209.913418561,
          14752721.843328038,
          14927095.399848733,
          14959737.193602387,
          15209971.200721705,
          12757848.657900482,
          -12454403.846897857,
          -12410010.92461188,
          -11894526.986193335,
          -13421482.96963305,
          -11261637.51850634,
          124363216.64330624,
          140542610.4381888,
          -20924241.462413877,
          -20922823.909534197,
          -20923173.075190876,
          -20922850.768430866,
          -20923405.852295328,
          -1208870.8710929453,
          5377720.496518131,
          1257688.3268935785,
          3626372.1369652688,
          6745928.109387465,
          4886782.289197128,
          -3427795.399877544,
          -1477297.3342995818,
          -3771640.562123971,
          -3640801.178234847,
          -1634534.2610894253,
          96973.01345215947,
          1819571.0662288424,
          58862.20047776294,
          613834.7125912774,
          1386697.7949548026,
          -3084081.0753408275,
          -3082272.5762985363,
          -3082272.5762985363,
          -3083484.210970433,
          -3084737.6261482458,
          -13799415.027713066,
          -13786467.063314795,
          -3024287.3676857697,
          -3231731.346884352,
          -3249698.935633836,
          -3074046.9045995707,
          -2976918.2700734967,
          -20337716.165718958,
          26019786.6142268,
          19207154.75974094,
          25177448.448785454,
          31186214.73908571,
          8486030.792826697,
          -1802760.3338055443,
          -1560542.7251477723,
          -1460026.5992811748,
          -1217689.6177493243,
          -2240041.3054400575,
          1822424.9671757328,
          1927083.0382286147,
          1857543.4360951649,
          1822914.9923234263,
          1832165.7836929497,
          2902836.8686947552,
          2902830.900051061,
          2902777.182257712,
          2902836.8686947552,
          2902836.8686947552,
          -1900929.2203431467,
          -2056834.1142210178,
          -2139822.755826869,
          -15636494.583901858,
          -10606852.838567859,
          -16474514.785986539,
          -17220180.97555643,
          -2750440.388290119,
          -1893032.490907581,
          -1999964.5516310832,
          -2124877.0257541714,
          -2102216.054571742,
          -1886878.9676269465,
          24749666.201493092,
          23579188.604135595,
          23028254.351131976,
          23379939.623502098,
          23469002.585370336,
          3717459.1083942866,
          3327440.945884709,
          3184266.4648338445,
          3062305.0737401126,
          3961371.72050698,
          -26551136.009433188,
          46093291.2830562,
          38380144.68661652,
          47043651.234074384,
          43694271.59905929,
          46446050.86619428,
          -8372171.026788207,
          -8287942.60751078,
          -8351131.459689984,
          -8357015.541770359,
          -8326668.321560264,
          -2952952.4067477756,
          -2951028.997680921,
          -2956056.1561796414,
          -2926904.048599049,
          -2921267.386547424,
          -3474468.048871559,
          -3395763.917569336,
          -3384952.323487173,
          23876011.634922493,
          15547914.87666281,
          23884178.72071771,
          18395837.379892986,
          14317194.73376023,
          -7058324.755460036,
          -7057196.681800004,
          -7058103.915643003,
          -7057404.390600894,
          -7058736.59187562,
          -3620196.966672976,
          -3023991.9987318306,
          -3028267.783892167,
          -2981943.4297422897,
          -3573547.8144346806,
          11115866.328498796,
          9482389.483017806,
          8110319.069420881,
          11197537.186450994,
          11197537.186450994,
          -3440463.846077735,
          -2347925.9019992873,
          -2743773.454511522,
          -4037402.4648946105,
          148502.81688592216,
          -2329806.6827064357,
          -84558.55125197799,
          64944.26742846697,
          151809.54152345163,
          185491.99474394947,
          -76876.58823677531,
          27488161.422604963,
          27248409.986667708,
          27399940.310181137,
          27156731.714041755,
          27227807.633259833,
          24491624.214344252,
          13564069.388983913,
          20268424.14963611,
          22964385.13928186,
          23469987.436443005,
          -17009202.834217574,
          -17001035.748422354,
          -17001035.748422354,
          -17001035.748422354,
          -17001035.748422354,
          3935371.5773118306,
          1287809.211736468,
          1307760.2583506426,
          1288563.4881730855,
          1313067.4912646047,
          10474922.95823775,
          11559294.873100184,
          11549054.878863107,
          13294651.792491484,
          29513899.072000843,
          17685293.22564206,
          21373328.773721475,
          22058577.047336392,
          21242147.171322435,
          16235966.464514244,
          -16314182.07927502,
          -15155238.09646153,
          -17131956.727779586,
          -17240051.26574476,
          -16628913.266470997,
          -22296862.456020117,
          -22296981.828894198,
          -22296922.14245715,
          -22296922.14245715,
          -22296922.14245715,
          -4902102.434111632,
          -10473205.047045274,
          -2693595.6804901864,
          -3229604.0563421226,
          -3076438.4870142136,
          -3186312.207858755,
          -6288925.643027927,
          -8744456.304877216,
          -6799180.312059207,
          -7071682.634911376,
          -6587128.044721757,
          -8309018.35298243,
          -3080680.0089309956,
          -3221503.925314417,
          -3166784.450486449,
          -3230547.406126199,
          -2903394.5607376853,
          -3369482.4638925684,
          -3615031.2200746024,
          -3704237.483197318,
          -3787000.602947344,
          -3663312.524565656,
          22830674.883397784,
          19445797.72223496,
          19733603.990711227,
          23303793.304531187,
          22764108.380198415,
          -1535878.5932330422,
          -1763914.1163243144,
          -1584274.3658149687,
          -1554197.1204231565,
          -1774550.6804991728,
          -2071982.842299043,
          -2071923.155862009,
          -2071923.155862009,
          -2063815.7565038097,
          -2063756.0700667873,
          -3017499.4851269545,
          -3017618.858001034,
          -3017618.858001034,
          -3017499.4851269545,
          -3017499.4851269545,
          -2150305.2318217973,
          279484.46311402967,
          -1625079.9443312308,
          -760474.540033129,
          -1389949.5442868485,
          3727028.1279674717,
          3397520.072294865,
          2249659.601734371,
          3875351.160316748,
          2846494.7074176623,
          -2173541.1208121204,
          -2172724.412232595,
          -2181648.520170298,
          -2101670.765814173,
          -2104877.9136952297,
          2548327.9878882943,
          2551185.0950636906,
          2555490.910675019,
          2550778.11362686,
          2550368.3864841657,
          45261120.33458479,
          45261120.33458479,
          45261060.648147754,
          45261120.33458479,
          45261120.33458479,
          15123856.251578845,
          16542479.054208511,
          17281540.632238872,
          14615291.819110507,
          15631848.98804151,
          13755670.495918969,
          26019008.407398757,
          14223439.58039548,
          7700842.774770679,
          20966080.175045907,
          -10802340.602948273,
          -10905281.058566608,
          -10965717.493451234,
          -10995015.308077833,
          -12485108.87825302,
          -25044077.862622835,
          -24878122.868404325,
          -24854400.643683385,
          -27411230.59072085,
          -26722624.52201503,
          -7301801.106678144,
          -7256891.16905081,
          -7270482.334385419,
          -7285846.2604158055,
          -7255709.328586947,
          -17058640.890532468,
          -17058581.204095434,
          -17058581.204095434,
          -17058581.204095434,
          -17058521.517658394,
          -10244400.946876202,
          -10244454.66466954,
          -10244400.946876202,
          -10244335.291795451,
          -10244341.260439165,
          -5850933.619987667,
          -5878206.239267992,
          -5870414.062330747,
          -5885998.416205235,
          -5905538.544985361,
          16113339.116174398,
          17965984.352696106,
          15539710.526326315,
          15980119.662002755,
          18984428.662122164,
          -2676285.1317797513,
          -2676225.445342716,
          -2676225.445342716,
          -2676225.445342716,
          -2676225.445342716,
          -3162879.2227262296,
          -3162879.2227262296,
          -3162879.2227262296,
          -3162879.2227262296,
          -3162879.2227262296,
          1935548.9841140343,
          1858443.9233212078,
          1889987.5399281327,
          1893066.9198172402,
          1955959.5392670243,
          -8558010.481417585,
          -14086293.825221438,
          -8162586.726262433,
          -9755173.160067711,
          -11055313.849189552,
          -7861835.977319922,
          -11046217.914055772,
          -13178082.058027305,
          -3042803.661691238,
          -15825285.345991554,
          -16201986.625198342,
          -10366710.298032776,
          -17072279.59217547,
          -16693429.213383967,
          1980224.1061913613,
          2134563.126181973,
          3623108.26469001,
          2211914.6773083922,
          2197929.9100651657,
          -3983747.294688056,
          -3985589.496319699,
          -3983142.352401117,
          -3981829.250786248,
          -3981419.5236435523,
          -17131486.116888955,
          -22538286.866252653,
          -23389271.68668121,
          -18679697.12456797,
          -26030625.437009513,
          4519651.815189266,
          5560424.098909736,
          4687310.458989394,
          5116013.820591927,
          4593441.140755711,
          28917388.82096516,
          30253501.781182647,
          26618590.040268984,
          26449430.325214025,
          29363485.698316835,
          31952810.66262617,
          17765461.442761365,
          30653695.39898868,
          33723966.99045772,
          21870102.785464425,
          -6252765.859118967,
          -6020568.621779793,
          -6793535.581619901,
          -7959517.888833817,
          -7003771.279516237,
          -9043906.930411179,
          -9043847.24397415,
          -9044145.67615934,
          -9044981.286277883,
          -9043286.19146598,
          1684277.8229577793,
          3035953.7497567693,
          2289066.6683640387,
          4095461.2285044603,
          2067139.972983621,
          -8679825.024576092,
          -8679825.024576092,
          -8679765.338139059,
          -8679765.338139059,
          -8679765.338139059,
          -207790.03378419974,
          -199718.4462882449,
          -94023.82244670714,
          -167587.28104071793,
          -225174.68666653286,
          11517543.550038483,
          12014350.740351386,
          4415881.327959112,
          2577504.2467845045,
          7486099.95962671,
          -1773307.662005413,
          -1773188.2891313338,
          -1773207.002854118,
          -1773099.2531653512,
          -1773266.6892911417,
          79939311.4728122,
          87368151.57259102,
          90297537.76021019,
          -12037303.13874818,
          -12332075.249518577,
          -12585254.909170387,
          -12332951.644535132,
          -12454581.536446871,
          12727673.370666392,
          14044344.993655922,
          12570152.169435276,
          15692886.317021579,
          12840675.402490407,
          -9628699.573429277,
          -9628699.573429277,
          -9624643.274716632,
          -9628699.573429277,
          -9628699.573429277,
          10921695.49299192,
          5781546.732573608,
          1041397.4472748722,
          2282188.2256853827,
          -587326.3130091856,
          59126554.91250099,
          58881482.65220736,
          58881482.65220736,
          58881542.3386444,
          59069385.31193446,
          -3661873.5758571276,
          -3665970.8472840497,
          -3665970.8472840497,
          -3661873.5758571276,
          -3661873.5758571276,
          -2137049.289287143,
          -2759879.464576892,
          3701648.756007538,
          3701708.442444584,
          3701708.442444584,
          3701648.756007538,
          3701708.442444584,
          -4938565.030855856,
          -9419980.405239323,
          -7269087.805377629,
          -10478917.024976214,
          -4427001.501099168,
          -4992507.882589972,
          -4888870.444606669,
          -5009133.717732926,
          -4988210.459123161,
          -4968091.176820302,
          6700999.65656036,
          6700250.093971557,
          6699377.181080813,
          6701288.637976044,
          6700008.86170551,
          -4181688.8477902985,
          -4176794.5599530907,
          -4181569.474916214,
          -4178406.0937531465,
          -4185807.211945992,
          152281.36150837506,
          152221.67507134101,
          152281.36150837506,
          152221.67507134101,
          152281.36150837506,
          -5159809.61403734,
          -5159058.560538553,
          -5158583.178315129,
          -5159815.582681035,
          -5158589.146958824,
          41882252.5364304,
          10704784.771102838,
          11155373.15311426,
          26682528.712784015,
          15613977.00306953,
          45525235.97025884,
          66121660.01166249,
          10778407.680243503,
          10620647.376071526,
          10758643.14531692,
          10659465.02221804,
          10693410.393943503,
          -2497153.400868325,
          -2497213.0873053693,
          -2497213.0873053693,
          -2496743.67372563,
          -2496803.360162675,
          -4319837.469557216,
          -4319837.469557216,
          -4319837.469557216,
          -4319897.15599425,
          -4319837.469557216,
          6922052.753388253,
          7005297.146744409,
          9263195.55555474,
          7053830.625415628,
          7377180.332042761,
          -9249437.026961787,
          -10662461.719286328,
          -8028253.508554257,
          -8204294.091046554,
          -9356297.277020648,
          22316622.18087531,
          23285698.908778194,
          25017126.503717203,
          26137158.55142623,
          24215837.561605964,
          -4972149.339781367,
          -4972499.380487027,
          -4972499.380487027,
          -4972439.694049982,
          -4972968.794066756,
          -1771284.619652016,
          -1904824.927565451,
          -1822240.6690057295,
          -484092.2118883343,
          -9933.890963563033,
          2355176.4653054923,
          2217897.6601155857,
          2218307.38725828,
          2355586.192448187,
          2218307.38725828,
          15329019.534233704,
          17238866.10938485,
          15858282.80814551,
          15488851.865731994,
          18807111.698986687,
          -2357770.2584709786,
          -2370392.188737656,
          -2365133.59308725,
          -2370392.188737656,
          -2365337.5481582074,
          -560452.9011161859,
          -758074.9792512996,
          -508909.18185584585,
          -712116.3484193523,
          -524604.7015353959,
          -1783938.307566227,
          -2435856.2751825005,
          -1883987.3791455633,
          -2450083.250482947,
          -2411091.0622022864,
          -6436019.459421566,
          -7878411.065618651,
          -8902656.152376646,
          -8789386.101422813,
          -7053184.633116625,
          -12780941.60200806,
          -11292027.48109425,
          -10116628.864822024,
          -12568090.945636105,
          -10240722.113529123,
          -1943781.785823353,
          -1934797.9914486266,
          -1941331.6600847875,
          -1940514.9515052617,
          -1931531.1571305252,
          9306099.967479005,
          5413871.887370112,
          8151449.824320318,
          7068619.219209423,
          6831944.405777265,
          -8927446.146484924,
          -9417840.484911788,
          -8647104.02352691,
          9645180.45673167,
          9645180.45673167,
          9645180.45673167,
          9644770.729588982,
          9645180.45673167,
          -9551430.70329958,
          -1773344.5944653442,
          -9049784.755843364,
          -14931533.898000067,
          6177763.62931208,
          18623062.10314135,
          16288234.679086726,
          19980801.65601932,
          16532062.484528901,
          10457324.659316512,
          12434955.166014858,
          17232760.456427366,
          19341386.518215083,
          12696647.166557852,
          14482947.74517599,
          -4204188.162521588,
          -4198471.202464931,
          -4203371.453942061,
          -4190304.1166697135,
          -3926507.245484107,
          -5848816.406323816,
          -5848756.719886777,
          -5848876.092760855,
          -5848876.092760855,
          -5848756.719886777,
          -6748118.955401524,
          -6779153.881423351,
          -6612605.017637884,
          -6752262.184736152,
          -6420678.501450237,
          1092570.9588628241,
          1092194.9343094702,
          1092588.8647939304,
          1092182.9970220702,
          1092147.185159837,
          2396570.2700952403,
          -675256.4788381218,
          670065.5045460131,
          2467428.3404235635,
          4591926.184240711,
          -1470805.687622933,
          -1350225.413779544,
          -1442906.3252276047,
          -1445058.6680811746,
          -1359712.3091679402,
          29921971.25158216,
          30574775.677577086,
          31292260.950949587,
          30274639.4925685,
          27276996.612397455,
          15236428.059461048,
          20216619.487870973,
          17900270.81675459,
          7561277.3779397085,
          33279908.038583096,
          -17272532.436365116,
          -17263238.93954986,
          -19633008.12893458,
          -973532.2412902997,
          -971708.9411976961,
          -972260.0256353881,
          -980058.3570021761,
          -971686.9567767776,
          -23598740.04587886,
          -21317787.95059604,
          1398585.9433869056,
          1398645.62982395,
          1398585.9433869056,
          1398585.9433869056,
          1398466.5705128263,
          -9540300.475602694,
          -8748996.352064623,
          -9372107.531898107,
          -9495620.201371966,
          -9137821.8646802,
          2953927.875973548,
          2973050.2024477716,
          4012676.726668991,
          2411490.1605851674,
          3724997.5382478437,
          -13410547.885843439,
          -13410607.57228047,
          -13410547.885843439,
          -13410494.1680501,
          -13410613.540924175,
          -11918163.298503473,
          -11918163.298503473,
          -11918163.298503473,
          -11918163.298503473,
          -11918103.612066444,
          31742427.420832854,
          42799844.8789809,
          44130203.46858517,
          29968476.699674077,
          45066151.500717364,
          5007327.364389919,
          2240655.4736286853,
          3204618.917773644,
          709170.0563851746,
          -518788.6766921262,
          8020651.695836831,
          11216575.424706403,
          593283.2823109917,
          -129923.64832477071,
          16390397.011711786,
          -2634323.9588275803,
          -2491399.957411243,
          -2634323.9588275803,
          -2634264.2723905463,
          -2634264.2723905463,
          644589.091880606,
          645966.8529682936,
          645140.1983171952,
          -652383.1199865355,
          -652806.8936895117,
          -652215.9979628439,
          -652926.2665635907,
          -652418.9318487577,
          -2230947.921822851,
          -2221069.19981786,
          -2228095.4104382284,
          -2223840.04034453,
          -2226047.670345709,
          22906168.1979999,
          22906168.1979999,
          22906108.511562854,
          22906168.1979999,
          22906168.1979999,
          -125502.9958234654,
          -133534.06606486437,
          -136869.48791207094,
          -131969.7161187569,
          -123958.98847642774,
          95104892.1053806,
          91091973.1783385,
          90239375.29831232,
          94924338.33672822,
          94178996.24958676,
          8019769.41169218,
          4033802.7783705904,
          10051511.37375529,
          7871285.043478932,
          7262303.928569687,
          1719220.8134319868,
          -2879121.827771824,
          -2147269.1652240823,
          -2730999.892985166,
          1070667.4702900492,
          -1585384.2507951313,
          -1522016.4424409536,
          -1589060.8122559164,
          -1582934.125056565,
          -1573133.6221023146
         ],
         "yaxis": "y"
        },
        {
         "hovertemplate": "color=2<br>PC1=%{x}<br>PC2=%{y}<extra></extra>",
         "legendgroup": "2",
         "marker": {
          "color": "#EF553B",
          "symbol": "circle"
         },
         "mode": "markers",
         "name": "2",
         "showlegend": true,
         "type": "scattergl",
         "x": [
          65108668.613148265,
          64072481.88937655,
          70029353.91779894,
          69475856.36679916,
          64486215.46603822,
          78475869.62797996,
          133237700.66210945,
          116657136.98774366,
          107222134.5965064,
          131921934.65455231,
          215671953.17316192,
          215154648.432829,
          205968132.90880933,
          222819543.29020947,
          203643158.1050321,
          164091822.78059867,
          168039952.56582558,
          131540367.39185967,
          142894643.96272686,
          151925900.89187777,
          244709484.30718437,
          232029219.07625225,
          259497653.91857272,
          234698186.47573256,
          281258928.33145547,
          218627610.4219069,
          256641887.86095586,
          238044549.22324574,
          200541680.40038338,
          258124776.1075899,
          85665352.42611781,
          101652636.17268756,
          77296219.01697774,
          71495786.72995168,
          81771378.50920859,
          146316243.1323363,
          149904586.550501,
          150095984.48047593,
          148477613.00442854,
          148369997.82039252,
          80854974.8624418,
          80471288.45742191,
          91577252.86429136,
          81809505.41746852,
          82543661.90496533,
          241955169.80563694,
          197858042.04019904,
          235145961.2837737,
          207060837.1367021,
          233011051.90755373,
          158348005.75203848,
          194569403.66312498,
          192069270.9672089,
          157385843.23636222,
          151302036.43845835,
          86191987.17979719,
          135798520.58178315,
          128632048.87040389,
          127352562.18593448,
          132330333.17649685,
          129355281.62265126,
          128378575.3542279,
          283209276.4258813,
          281536836.0709129,
          296088045.04784524,
          288295294.7780377,
          312385488.2663474,
          38445469.66494114,
          84300781.48758015,
          67827778.99816112,
          105910992.73286137,
          81758095.76467682,
          98823023.42494248,
          83033270.33970772,
          119410181.43038979,
          93105737.54484844,
          102541390.97443946,
          76995668.67050508,
          77561816.5162548,
          76225374.200933,
          79718355.15123136,
          79233065.06321415,
          115297129.70619959,
          105059101.04323108,
          99371899.63374382,
          103378290.03218418,
          102282666.61366513,
          103505257.4464388,
          103504886.8900153,
          112214127.33052994,
          103505287.78476034,
          44803590.86266378,
          52204983.0002698,
          52098941.72657388,
          81294492.45029195,
          81068941.82418565,
          87691493.9396979,
          82188260.42977859,
          81812138.26451544,
          221395342.8952588,
          242891913.22131178,
          254170365.21753746,
          256383386.31249923,
          246172112.71041998,
          88461726.80319814,
          96020879.91352715,
          100268971.19830298,
          92749845.32155839,
          95974327.05003098,
          62635966.44442661,
          62635966.44442661,
          62635966.44442661,
          62635966.44442661,
          62635966.44442661,
          129693871.6494924,
          122682771.91856895,
          156952792.26406372,
          161762250.05367097,
          108791560.31711057,
          445605422.6006571,
          440547947.9324343,
          49078427.0296563,
          49080279.81177385,
          49078427.0296563,
          49080279.81177385,
          49080279.81177385,
          284590129.2839603,
          296492338.71411157,
          286195967.98663604,
          304048662.48846614,
          207029323.83743066,
          241240598.7078513,
          155548723.5897975,
          58397193.74359881,
          56711369.8432406,
          63578330.40680114,
          327069093.2744126,
          274384973.04196775,
          90699784.37984616,
          93947504.2002122,
          78814678.93013152,
          92816339.15180336,
          83077690.87204202,
          313599871.0640181,
          316624870.7480345,
          310359163.30173326,
          309524840.3120651,
          300420960.84212995,
          249803826.65276906,
          257927554.4013034,
          237143818.23169816,
          232153701.20418122,
          226946271.68535084,
          328162941.454333,
          53821337.15071392,
          62233100.612157,
          193610901.31857845,
          190578010.52428085,
          194260325.65797225,
          192505792.50743082,
          199823127.05046463,
          275111371.39665943,
          282985998.93001103,
          276765742.385675,
          277152846.6966102,
          279266485.0382193,
          120126281.16668235,
          120123504.66861749,
          120130174.68424067,
          120162595.69618629,
          120129245.61807042,
          303743862.1539874,
          310574239.1493214,
          298593921.3698355,
          296839670.3967621,
          348167989.55317473,
          247210943.67400616,
          247984682.10170645,
          246886500.7618099,
          247251827.51828372,
          247110927.84791392,
          96609531.64957985,
          71735531.73105492,
          122015345.85455222,
          121557494.66260126,
          122015345.85455222,
          121555641.88048372,
          119718678.76632717,
          190156492.05273944,
          185856552.12922445,
          196389213.2447664,
          181265983.66671056,
          194819033.8828893,
          58586094.18066533,
          57739314.28325164,
          58538413.17208499,
          78265154.98119299,
          158107459.85923395,
          111985264.11654863,
          153200086.23828027,
          153609572.62615874,
          130303187.05423172,
          54041839.45596296,
          67467754.85705544,
          75545408.25277387,
          75545408.25277387,
          75545408.25277387,
          75525027.64948088,
          75545408.25277387,
          140113008.52572107,
          142941805.6370353,
          140747928.44599164,
          139061341.4190226,
          142211112.28761366,
          50568047.92534377,
          48096928.822971284,
          46635373.69408767,
          178736611.51076666,
          156796717.463269,
          151758296.95935112,
          139831806.2139602,
          131010739.36674508,
          46497162.977307335,
          64998175.14866666,
          89202438.95191556,
          154126420.41899818,
          107638762.0175013,
          88424021.52120559,
          194521683.17950368,
          66612239.436987884,
          181104879.40856695,
          169995018.9661737,
          60674291.11793222,
          139562470.05642447,
          124555636.92856655,
          142830485.68094364,
          133046088.15801279,
          126314601.24855216,
          60252137.05724438,
          48071637.81380816,
          105088516.45193465,
          41932025.522152334,
          91023332.94899519,
          99094886.72086158,
          94084974.34738205,
          93994811.11937231,
          80039684.01669684,
          115819603.98305148,
          93907457.46788931,
          120715052.87356086,
          108501448.82375295,
          248229365.43787262,
          243987681.34838358,
          215129996.2405991,
          212013164.49845207,
          253950731.0867379,
          296302877.42554915,
          162427858.5622406,
          41520147.952530846,
          185152547.56579518,
          185501358.7261176,
          273544871.57000184,
          283221763.23930055,
          301811831.2991549,
          273238367.321763,
          257605373.54158625,
          88717331.76735556,
          92623718.6395989,
          94360223.52983901,
          103880110.10509117,
          76347669.74668144,
          264197806.7987589,
          264580589.36702427,
          268189913.6200608,
          265703886.6593006,
          264991161.41323417,
          81838468.36565314,
          81840321.14777066,
          81840321.14777066,
          81842173.92988822,
          98885916.62921399,
          105818188.98120017,
          107957871.69345622,
          108211541.89409511,
          108206939.1524323,
          107201041.09786743,
          82538447.11631134,
          82534741.55207627,
          82480455.03603208,
          82555825.67755163,
          82510284.82812461,
          376339300.5767324,
          436474563.0791662,
          406803206.6423012,
          511814176.5173625,
          435228888.3174678,
          432547802.7214663,
          256449245.48545974,
          69006015.0460428,
          69006015.0460428,
          68994522.4466911,
          69006015.0460428,
          69006015.0460428,
          244679767.924626,
          268597060.48226255,
          244921586.4363466,
          262407315.34939557,
          268548153.7072521,
          135734660.32986543,
          135006478.88766733,
          76185244.68573362,
          76393237.08268183,
          76535320.25731423,
          85658540.34954248,
          75245345.14119199,
          127228710.4116401,
          124406821.69732797,
          133520991.11810394,
          116508431.51229197,
          112170931.91383521,
          223474459.94868726,
          227817692.06842667,
          217412065.3336664,
          227106771.43469787,
          209136043.5311529,
          156108596.96127352,
          184808390.02570847,
          184257620.05917528,
          176835466.04592627,
          174453055.47839853,
          135229164.93551448,
          135394566.9950769,
          139529298.1662832,
          132802814.21681961,
          135377091.85161567,
          336100580.3270196,
          271527055.16054124,
          296339942.9571515,
          304845919.82840675,
          241289316.02965984,
          178164314.53986555,
          95046848.27987447,
          141339397.63696358,
          88201520.79867867,
          88201520.79867867,
          88205226.36291374,
          88203373.58079623,
          88203373.58079623,
          112257599.47738545,
          99817683.69321406,
          106862763.12096244,
          93593730.49327445,
          118286062.08836439,
          161711458.99738812,
          219398289.0205844,
          177959754.407811,
          184116577.6557077,
          195274526.5351907,
          71061895.95578386,
          72426206.81065378,
          136437738.68635193,
          136437738.68635193,
          136437738.68635193,
          136437738.68635193,
          136437738.68635193
         ],
         "xaxis": "x",
         "y": [
          -26438491.68454839,
          -27173469.719681133,
          -22943038.650631357,
          -23334999.08236488,
          -26879454.631053217,
          -15541791.383239634,
          94274133.12326875,
          92161913.4830316,
          91782807.76484488,
          102345954.95602693,
          -68003110.29111093,
          -68168738.94766438,
          -64974690.76649243,
          -68965145.36853932,
          -64387073.03243404,
          -27691831.476571307,
          -37837434.915327586,
          -33685862.864705965,
          -30263455.559638295,
          -35977115.88232408,
          85735646.99332725,
          95444292.06466922,
          99036730.33491316,
          84761071.5999441,
          92802114.6559044,
          -89326590.30259977,
          -99858461.68801816,
          -94597557.01048811,
          -84263193.19075352,
          -100099968.84640759,
          12946763.313174663,
          7793572.047485657,
          15789276.734468447,
          16555869.207078608,
          13238302.756630668,
          61332837.77582262,
          60967131.52605274,
          60885974.257506505,
          60880632.621872075,
          61369221.191139564,
          -24509425.55570012,
          -24753184.71437889,
          -16745243.682931753,
          -23985249.859959204,
          -23283228.644113414,
          -22559060.845265962,
          -11998340.690326873,
          -21517241.241350904,
          -14661951.925719481,
          -22248460.93829178,
          -45877348.60848346,
          -57240263.601533316,
          -61155609.38804163,
          -41174234.34961993,
          -46065893.057861306,
          -6597157.096633217,
          29140452.038856752,
          19507687.204444855,
          19421013.731027443,
          21824138.472697254,
          20004898.568979323,
          20272366.069403578,
          -14962408.34661205,
          3464008.497591058,
          2772016.173273585,
          -34433277.55577499,
          -5953245.462046442,
          -25751118.835533183,
          -39789155.410196014,
          -33172026.587300695,
          -46086456.65009213,
          -38652426.174827665,
          5041368.954626936,
          5200216.929541354,
          6886554.6469558645,
          5896138.022389815,
          4781899.357724332,
          -13726611.541698987,
          -14539606.511979232,
          -14170147.349109497,
          -13927008.51737441,
          -13814990.199015146,
          43335580.80441243,
          43168454.97133467,
          45553150.2940936,
          42944158.627807595,
          46459013.14798748,
          1542896.1912421212,
          1542908.1285295654,
          -844355.8907088845,
          1542843.0678626464,
          -21791523.791589983,
          -23561401.02649154,
          -23733313.07252357,
          -34830086.932633534,
          -34407358.76264413,
          -35815237.05435769,
          -33919049.229664765,
          -34672341.87581586,
          -1434973.5452347281,
          -10718345.569579266,
          -15973672.242311426,
          -14157380.86328981,
          -12190262.415544247,
          -27468062.98970991,
          -28551174.911304172,
          -33288490.96687427,
          -30587294.783276338,
          -30578286.06043404,
          7691608.831676625,
          7691608.831676625,
          7691608.831676625,
          7691608.831676625,
          7691608.831676625,
          -42906702.842701696,
          -41918234.522001825,
          -51255466.68086193,
          -51465154.28600365,
          -38052456.44740783,
          364150957.615204,
          360750800.0411741,
          -17407232.39873392,
          -17407292.08517096,
          -17407232.39873392,
          -17407292.08517096,
          -17407292.08517096,
          -80476997.99276543,
          -87079016.0960245,
          -84793901.1476201,
          -74459010.88631417,
          -51187630.001058,
          -47827506.90261032,
          -40553753.3153359,
          -6376941.572077495,
          -4174626.0770417713,
          -3296894.4725470576,
          -76250721.49405505,
          -63340046.37067911,
          -12997705.789939463,
          -11343416.236956524,
          -9640322.122879542,
          -10303599.656688673,
          -10271120.263939444,
          -53902596.78286317,
          -52876004.64834495,
          -53049166.70332708,
          -51833277.07952916,
          -49019230.39766124,
          -80898209.54848845,
          -83478284.07558793,
          -76331698.14132407,
          -75673658.46072756,
          -73650076.76290087,
          -113364900.14018515,
          -31856815.96400496,
          -29893041.472660825,
          -27793096.181665,
          -27205457.938730106,
          -20213320.41940644,
          -27535475.564172424,
          -29399254.28643022,
          -84163535.11978804,
          -84337450.98008578,
          -83616230.35351326,
          -83608251.19260736,
          -84267841.71582963,
          -46886726.05090588,
          -46882367.950397864,
          -46882582.821571186,
          -46887895.905071825,
          -46886821.54920509,
          42721441.06616234,
          46876213.68152008,
          42620563.04563832,
          42571462.57531544,
          35439938.81720261,
          241912175.16537383,
          242522218.46653524,
          241787284.1437955,
          242137668.32104105,
          241825725.57755044,
          -16908606.154772002,
          -28264737.10732521,
          -43713955.90461893,
          -44040699.02286474,
          -43713955.90461893,
          -44040639.336427726,
          -45347432.75009992,
          -37429180.6334151,
          -34652558.3240147,
          -36638587.60868306,
          -32498323.78831907,
          -34123144.081321105,
          -1388778.2793429133,
          6317650.366678517,
          -3727494.4531208086,
          17472191.442043226,
          -59323316.519977294,
          -47106753.432699315,
          -58551158.214097396,
          -57730027.22024127,
          -52080317.87540075,
          -26541738.76680283,
          -27708830.41260057,
          -42678570.96704728,
          -42678570.96704728,
          -42678570.96704728,
          -42677914.41623985,
          -42678570.96704728,
          -50545089.814923935,
          -50384950.18783911,
          -50891861.34899551,
          -51184741.302052215,
          -49882455.7220836,
          -11192906.216467924,
          -10709621.471180264,
          -10994066.994565539,
          -57074071.83822831,
          -51711490.276343964,
          -48521598.59031248,
          -45314834.94819078,
          -45475416.08544194,
          -34341919.3042732,
          -47124283.34216912,
          -53676696.936562255,
          -71525295.3780994,
          -58755232.03341301,
          -53506699.419958755,
          -35253625.18337892,
          -605224.3632332992,
          -31581709.387955498,
          -37617735.43973247,
          -7915730.948736737,
          63131389.54449799,
          66867191.97764394,
          66253047.64071655,
          64694660.79594442,
          66215271.86171149,
          -29536152.025007408,
          -25920118.772453543,
          -42175426.727528155,
          -19328978.681230128,
          -34998259.43552662,
          -37131105.15295267,
          -35821760.69354949,
          -35811066.12477554,
          -32060364.65594332,
          36164187.943929315,
          -1969270.7069402577,
          46184895.86945029,
          46350591.63658933,
          -97458234.26335326,
          -96214259.5533662,
          -88308305.4482351,
          -87522920.58176981,
          -98986683.80998898,
          -108190698.21790688,
          -68001167.69606487,
          -38960951.56137529,
          -33619883.00565422,
          -33384391.404105738,
          54694018.153441705,
          60307293.28774187,
          52137286.55580448,
          52140420.265264705,
          58155536.88563909,
          31588901.645656537,
          43262939.23193181,
          44696049.872691184,
          41736887.42402247,
          27186497.54180046,
          -70375394.57218577,
          -69204964.35145138,
          -67135212.60998711,
          -68657992.03972487,
          -69060105.47890837,
          -49887167.87929408,
          -49887227.56573115,
          -49887227.56573115,
          -49887287.25216817,
          -50436342.786490716,
          -41995391.8255289,
          -40310695.120138,
          -41160047.60684832,
          -40107561.04126578,
          -42379654.99219932,
          6250897.875874692,
          6251017.248748779,
          6252766.061354005,
          6249484.30292477,
          6251805.1097176885,
          312787336.9811074,
          239423134.8515161,
          269366108.7476766,
          406155433.4209771,
          309595545.6566797,
          227558743.3844822,
          -58418662.00874383,
          -47491598.3790585,
          -47491598.3790585,
          -47499765.46485373,
          -47491598.3790585,
          -47491598.3790585,
          -91210059.47363585,
          -98433436.08800925,
          -91866007.3641243,
          -96356992.89794208,
          -97991444.21969487,
          117257648.68125108,
          114082612.48338677,
          5926657.3565991605,
          5893310.933342825,
          5980714.896732445,
          6256720.538846403,
          5763650.461046056,
          -57134910.22637808,
          -56358756.98244608,
          -58884274.09470755,
          -54222070.83778453,
          -53037022.27854419,
          59049408.53703791,
          64782431.237427264,
          57061548.92408172,
          64311310.950608514,
          50248232.43478033,
          -42692489.39188943,
          -50082368.82874268,
          -49414187.49702197,
          -48227468.840982534,
          -46483686.35486073,
          -39330391.88302237,
          -39181194.842076965,
          -36258034.678195715,
          -41119338.808977745,
          -39215634.87682999,
          141629374.06189138,
          95522578.26870908,
          77097824.633337,
          129703735.72294463,
          85167450.52470893,
          12511662.385405177,
          59845969.325927295,
          98955968.24277999,
          -45734241.81864884,
          -45734241.81864884,
          -45734361.19152293,
          -45734301.50508585,
          -45734301.50508585,
          -43938955.083258785,
          -40518953.4461798,
          -42435438.99500228,
          -38821860.43228131,
          -45572389.816477455,
          -37879982.30950614,
          -33499914.761553485,
          -48127097.59007347,
          -25686385.98282489,
          -26418098.709833678,
          -32603062.55745533,
          -32969797.164017923,
          -63583185.623555206,
          -63583185.623555206,
          -63583185.623555206,
          -63583185.623555206,
          -63583185.623555206
         ],
         "yaxis": "y"
        },
        {
         "hovertemplate": "color=1<br>PC1=%{x}<br>PC2=%{y}<extra></extra>",
         "legendgroup": "1",
         "marker": {
          "color": "#00cc96",
          "symbol": "circle"
         },
         "mode": "markers",
         "name": "1",
         "showlegend": true,
         "type": "scattergl",
         "x": [
          378942698.00552404,
          360114493.10289043,
          429087286.5816311,
          445701081.68457216,
          447803318.49377364,
          447885900.5207543,
          471824388.30679196,
          458386854.92824453,
          486626203.8170236,
          463352490.0162628,
          460746161.3749995,
          400865748.2515393,
          453441076.8201532,
          490622172.3681586,
          417463515.0165379,
          452070356.8707992,
          339751615.04457796,
          356178448.54897535,
          392298211.4051166,
          625625480.1218574,
          620406440.977791,
          611214539.6624458,
          624189349.3258901,
          628685924.1741002,
          360791275.8591012,
          365104386.543635,
          385783229.2568904,
          368123527.988976,
          503072024.7066629,
          547074593.1246402,
          460147997.9828656,
          595019774.8265643,
          505193245.47496,
          481587941.88331395,
          441236013.2065008,
          464045339.2274247,
          464872326.08256364,
          461091064.7353511,
          459107087.0686604,
          746800846.9987639,
          741582412.1823795,
          742905566.045403,
          337935855.7437671,
          739235356.7354077,
          394583155.8381,
          403157117.7002611,
          402252229.70487124,
          409307608.84763294,
          402015043.8532251,
          716400232.8855774,
          896897212.7915392,
          803885125.7782576,
          750712917.6034846,
          832309820.8276967,
          769258446.1969603,
          563035462.8173898,
          494224479.8265031,
          427790936.05980456,
          399597266.03333896,
          429036487.15467066,
          436578388.5716656,
          438690235.3980916,
          619467855.768738,
          496717704.7045817,
          665575930.698498,
          813939378.4452002,
          771568488.1704777,
          682719939.9572257,
          717071550.8249438,
          760469993.7910026,
          711118436.212125,
          884338482.8681449,
          928443427.2651069,
          946568513.0930309,
          884357644.0691061,
          851814557.8743927,
          649443094.4654794,
          667740737.3976909,
          650990335.6804723,
          666432062.5270315,
          661156937.0982563,
          1212012047.4432316,
          1248616010.834741,
          1209493863.8189049,
          1202749430.4644272,
          1131186953.729292,
          666738080.9420147,
          727275491.4488838
         ],
         "xaxis": "x",
         "y": [
          -97120796.17684345,
          -104232129.8497463,
          -21608453.268935494,
          -133469586.1708567,
          -131871148.29986085,
          -131388545.00159462,
          8167288.911359924,
          15279990.117274333,
          5522784.811388498,
          12973330.052830948,
          13624534.503050186,
          -131621899.93728076,
          -146300970.22399944,
          -156199596.05532792,
          -136541942.89489797,
          -146379050.49331743,
          -100686882.20769961,
          -99163088.3584689,
          -96100480.84239407,
          137924969.80451226,
          145405869.72246635,
          151470345.65966478,
          154256667.78167439,
          170576723.4812376,
          -122289353.95449239,
          -123155946.90828796,
          -129015939.49021117,
          -123953956.64521237,
          -88147672.16151868,
          -104749811.68459843,
          -83607137.21635213,
          -104149149.99898483,
          -91193298.08634205,
          -143898936.54331908,
          -144210750.51382503,
          -150536381.41449228,
          -150661069.95023546,
          -149259767.1912683,
          -149149251.2955403,
          -228034532.3517229,
          -223667730.36093196,
          -225745489.3898381,
          -114816066.7035228,
          -224634685.9772868,
          12630414.731300848,
          12918540.646291252,
          15491821.648876643,
          19647737.086172253,
          17470960.202264924,
          -176371638.04463038,
          269917959.0579084,
          215042788.45520064,
          146841116.95646372,
          226971733.66696203,
          161759950.54271063,
          -178471295.65826932,
          -119233139.21466473,
          -110125158.49084575,
          -100261133.66076185,
          -110096577.71281941,
          -110238636.14926659,
          -110015045.45150544,
          347324850.1133237,
          239690871.3219003,
          374255021.45217544,
          490293636.13939136,
          -184194094.5014268,
          -161905574.57327685,
          -173076773.80702388,
          -183077026.6106406,
          -170405186.71789876,
          133690696.06439434,
          120576288.20640093,
          117966889.8393311,
          133848003.38160051,
          140354733.7657237,
          -81640680.04509915,
          -69321710.48193517,
          -80121365.31264085,
          -71212413.5675555,
          -71923893.1781184,
          614986891.0198556,
          641778659.2785529,
          623998399.8425131,
          614840953.6570519,
          573481821.3747163,
          69381400.17478552,
          53439871.56501114
         ],
         "yaxis": "y"
        },
        {
         "hovertemplate": "color=3<br>PC1=%{x}<br>PC2=%{y}<extra></extra>",
         "legendgroup": "3",
         "marker": {
          "color": "#ab63fa",
          "symbol": "circle"
         },
         "mode": "markers",
         "name": "3",
         "showlegend": true,
         "type": "scattergl",
         "x": [
          1293396771.9262412,
          1275662578.141659,
          1226786636.24887,
          1295367031.449956,
          1305222125.161068,
          1304908974.9318044,
          867075558.8979574,
          1197347864.4739997,
          1121856602.758186,
          1073597328.5919957
         ],
         "xaxis": "x",
         "y": [
          -365808548.7745467,
          -308111558.071995,
          -284692626.5314877,
          -312406698.61116034,
          -306970033.0057379,
          -307987214.64881086,
          -220339067.89481428,
          -311174693.17970943,
          -264986393.28745833,
          -257100910.9356744
         ],
         "yaxis": "y"
        }
       ],
       "layout": {
        "autosize": true,
        "legend": {
         "title": {
          "text": "color"
         },
         "tracegroupgap": 0
        },
        "template": {
         "data": {
          "bar": [
           {
            "error_x": {
             "color": "#2a3f5f"
            },
            "error_y": {
             "color": "#2a3f5f"
            },
            "marker": {
             "line": {
              "color": "#E5ECF6",
              "width": 0.5
             },
             "pattern": {
              "fillmode": "overlay",
              "size": 10,
              "solidity": 0.2
             }
            },
            "type": "bar"
           }
          ],
          "barpolar": [
           {
            "marker": {
             "line": {
              "color": "#E5ECF6",
              "width": 0.5
             },
             "pattern": {
              "fillmode": "overlay",
              "size": 10,
              "solidity": 0.2
             }
            },
            "type": "barpolar"
           }
          ],
          "carpet": [
           {
            "aaxis": {
             "endlinecolor": "#2a3f5f",
             "gridcolor": "white",
             "linecolor": "white",
             "minorgridcolor": "white",
             "startlinecolor": "#2a3f5f"
            },
            "baxis": {
             "endlinecolor": "#2a3f5f",
             "gridcolor": "white",
             "linecolor": "white",
             "minorgridcolor": "white",
             "startlinecolor": "#2a3f5f"
            },
            "type": "carpet"
           }
          ],
          "choropleth": [
           {
            "colorbar": {
             "outlinewidth": 0,
             "ticks": ""
            },
            "type": "choropleth"
           }
          ],
          "contour": [
           {
            "colorbar": {
             "outlinewidth": 0,
             "ticks": ""
            },
            "colorscale": [
             [
              0,
              "#0d0887"
             ],
             [
              0.1111111111111111,
              "#46039f"
             ],
             [
              0.2222222222222222,
              "#7201a8"
             ],
             [
              0.3333333333333333,
              "#9c179e"
             ],
             [
              0.4444444444444444,
              "#bd3786"
             ],
             [
              0.5555555555555556,
              "#d8576b"
             ],
             [
              0.6666666666666666,
              "#ed7953"
             ],
             [
              0.7777777777777778,
              "#fb9f3a"
             ],
             [
              0.8888888888888888,
              "#fdca26"
             ],
             [
              1,
              "#f0f921"
             ]
            ],
            "type": "contour"
           }
          ],
          "contourcarpet": [
           {
            "colorbar": {
             "outlinewidth": 0,
             "ticks": ""
            },
            "type": "contourcarpet"
           }
          ],
          "heatmap": [
           {
            "colorbar": {
             "outlinewidth": 0,
             "ticks": ""
            },
            "colorscale": [
             [
              0,
              "#0d0887"
             ],
             [
              0.1111111111111111,
              "#46039f"
             ],
             [
              0.2222222222222222,
              "#7201a8"
             ],
             [
              0.3333333333333333,
              "#9c179e"
             ],
             [
              0.4444444444444444,
              "#bd3786"
             ],
             [
              0.5555555555555556,
              "#d8576b"
             ],
             [
              0.6666666666666666,
              "#ed7953"
             ],
             [
              0.7777777777777778,
              "#fb9f3a"
             ],
             [
              0.8888888888888888,
              "#fdca26"
             ],
             [
              1,
              "#f0f921"
             ]
            ],
            "type": "heatmap"
           }
          ],
          "heatmapgl": [
           {
            "colorbar": {
             "outlinewidth": 0,
             "ticks": ""
            },
            "colorscale": [
             [
              0,
              "#0d0887"
             ],
             [
              0.1111111111111111,
              "#46039f"
             ],
             [
              0.2222222222222222,
              "#7201a8"
             ],
             [
              0.3333333333333333,
              "#9c179e"
             ],
             [
              0.4444444444444444,
              "#bd3786"
             ],
             [
              0.5555555555555556,
              "#d8576b"
             ],
             [
              0.6666666666666666,
              "#ed7953"
             ],
             [
              0.7777777777777778,
              "#fb9f3a"
             ],
             [
              0.8888888888888888,
              "#fdca26"
             ],
             [
              1,
              "#f0f921"
             ]
            ],
            "type": "heatmapgl"
           }
          ],
          "histogram": [
           {
            "marker": {
             "pattern": {
              "fillmode": "overlay",
              "size": 10,
              "solidity": 0.2
             }
            },
            "type": "histogram"
           }
          ],
          "histogram2d": [
           {
            "colorbar": {
             "outlinewidth": 0,
             "ticks": ""
            },
            "colorscale": [
             [
              0,
              "#0d0887"
             ],
             [
              0.1111111111111111,
              "#46039f"
             ],
             [
              0.2222222222222222,
              "#7201a8"
             ],
             [
              0.3333333333333333,
              "#9c179e"
             ],
             [
              0.4444444444444444,
              "#bd3786"
             ],
             [
              0.5555555555555556,
              "#d8576b"
             ],
             [
              0.6666666666666666,
              "#ed7953"
             ],
             [
              0.7777777777777778,
              "#fb9f3a"
             ],
             [
              0.8888888888888888,
              "#fdca26"
             ],
             [
              1,
              "#f0f921"
             ]
            ],
            "type": "histogram2d"
           }
          ],
          "histogram2dcontour": [
           {
            "colorbar": {
             "outlinewidth": 0,
             "ticks": ""
            },
            "colorscale": [
             [
              0,
              "#0d0887"
             ],
             [
              0.1111111111111111,
              "#46039f"
             ],
             [
              0.2222222222222222,
              "#7201a8"
             ],
             [
              0.3333333333333333,
              "#9c179e"
             ],
             [
              0.4444444444444444,
              "#bd3786"
             ],
             [
              0.5555555555555556,
              "#d8576b"
             ],
             [
              0.6666666666666666,
              "#ed7953"
             ],
             [
              0.7777777777777778,
              "#fb9f3a"
             ],
             [
              0.8888888888888888,
              "#fdca26"
             ],
             [
              1,
              "#f0f921"
             ]
            ],
            "type": "histogram2dcontour"
           }
          ],
          "mesh3d": [
           {
            "colorbar": {
             "outlinewidth": 0,
             "ticks": ""
            },
            "type": "mesh3d"
           }
          ],
          "parcoords": [
           {
            "line": {
             "colorbar": {
              "outlinewidth": 0,
              "ticks": ""
             }
            },
            "type": "parcoords"
           }
          ],
          "pie": [
           {
            "automargin": true,
            "type": "pie"
           }
          ],
          "scatter": [
           {
            "fillpattern": {
             "fillmode": "overlay",
             "size": 10,
             "solidity": 0.2
            },
            "type": "scatter"
           }
          ],
          "scatter3d": [
           {
            "line": {
             "colorbar": {
              "outlinewidth": 0,
              "ticks": ""
             }
            },
            "marker": {
             "colorbar": {
              "outlinewidth": 0,
              "ticks": ""
             }
            },
            "type": "scatter3d"
           }
          ],
          "scattercarpet": [
           {
            "marker": {
             "colorbar": {
              "outlinewidth": 0,
              "ticks": ""
             }
            },
            "type": "scattercarpet"
           }
          ],
          "scattergeo": [
           {
            "marker": {
             "colorbar": {
              "outlinewidth": 0,
              "ticks": ""
             }
            },
            "type": "scattergeo"
           }
          ],
          "scattergl": [
           {
            "marker": {
             "colorbar": {
              "outlinewidth": 0,
              "ticks": ""
             }
            },
            "type": "scattergl"
           }
          ],
          "scattermapbox": [
           {
            "marker": {
             "colorbar": {
              "outlinewidth": 0,
              "ticks": ""
             }
            },
            "type": "scattermapbox"
           }
          ],
          "scatterpolar": [
           {
            "marker": {
             "colorbar": {
              "outlinewidth": 0,
              "ticks": ""
             }
            },
            "type": "scatterpolar"
           }
          ],
          "scatterpolargl": [
           {
            "marker": {
             "colorbar": {
              "outlinewidth": 0,
              "ticks": ""
             }
            },
            "type": "scatterpolargl"
           }
          ],
          "scatterternary": [
           {
            "marker": {
             "colorbar": {
              "outlinewidth": 0,
              "ticks": ""
             }
            },
            "type": "scatterternary"
           }
          ],
          "surface": [
           {
            "colorbar": {
             "outlinewidth": 0,
             "ticks": ""
            },
            "colorscale": [
             [
              0,
              "#0d0887"
             ],
             [
              0.1111111111111111,
              "#46039f"
             ],
             [
              0.2222222222222222,
              "#7201a8"
             ],
             [
              0.3333333333333333,
              "#9c179e"
             ],
             [
              0.4444444444444444,
              "#bd3786"
             ],
             [
              0.5555555555555556,
              "#d8576b"
             ],
             [
              0.6666666666666666,
              "#ed7953"
             ],
             [
              0.7777777777777778,
              "#fb9f3a"
             ],
             [
              0.8888888888888888,
              "#fdca26"
             ],
             [
              1,
              "#f0f921"
             ]
            ],
            "type": "surface"
           }
          ],
          "table": [
           {
            "cells": {
             "fill": {
              "color": "#EBF0F8"
             },
             "line": {
              "color": "white"
             }
            },
            "header": {
             "fill": {
              "color": "#C8D4E3"
             },
             "line": {
              "color": "white"
             }
            },
            "type": "table"
           }
          ]
         },
         "layout": {
          "annotationdefaults": {
           "arrowcolor": "#2a3f5f",
           "arrowhead": 0,
           "arrowwidth": 1
          },
          "autotypenumbers": "strict",
          "coloraxis": {
           "colorbar": {
            "outlinewidth": 0,
            "ticks": ""
           }
          },
          "colorscale": {
           "diverging": [
            [
             0,
             "#8e0152"
            ],
            [
             0.1,
             "#c51b7d"
            ],
            [
             0.2,
             "#de77ae"
            ],
            [
             0.3,
             "#f1b6da"
            ],
            [
             0.4,
             "#fde0ef"
            ],
            [
             0.5,
             "#f7f7f7"
            ],
            [
             0.6,
             "#e6f5d0"
            ],
            [
             0.7,
             "#b8e186"
            ],
            [
             0.8,
             "#7fbc41"
            ],
            [
             0.9,
             "#4d9221"
            ],
            [
             1,
             "#276419"
            ]
           ],
           "sequential": [
            [
             0,
             "#0d0887"
            ],
            [
             0.1111111111111111,
             "#46039f"
            ],
            [
             0.2222222222222222,
             "#7201a8"
            ],
            [
             0.3333333333333333,
             "#9c179e"
            ],
            [
             0.4444444444444444,
             "#bd3786"
            ],
            [
             0.5555555555555556,
             "#d8576b"
            ],
            [
             0.6666666666666666,
             "#ed7953"
            ],
            [
             0.7777777777777778,
             "#fb9f3a"
            ],
            [
             0.8888888888888888,
             "#fdca26"
            ],
            [
             1,
             "#f0f921"
            ]
           ],
           "sequentialminus": [
            [
             0,
             "#0d0887"
            ],
            [
             0.1111111111111111,
             "#46039f"
            ],
            [
             0.2222222222222222,
             "#7201a8"
            ],
            [
             0.3333333333333333,
             "#9c179e"
            ],
            [
             0.4444444444444444,
             "#bd3786"
            ],
            [
             0.5555555555555556,
             "#d8576b"
            ],
            [
             0.6666666666666666,
             "#ed7953"
            ],
            [
             0.7777777777777778,
             "#fb9f3a"
            ],
            [
             0.8888888888888888,
             "#fdca26"
            ],
            [
             1,
             "#f0f921"
            ]
           ]
          },
          "colorway": [
           "#636efa",
           "#EF553B",
           "#00cc96",
           "#ab63fa",
           "#FFA15A",
           "#19d3f3",
           "#FF6692",
           "#B6E880",
           "#FF97FF",
           "#FECB52"
          ],
          "font": {
           "color": "#2a3f5f"
          },
          "geo": {
           "bgcolor": "white",
           "lakecolor": "white",
           "landcolor": "#E5ECF6",
           "showlakes": true,
           "showland": true,
           "subunitcolor": "white"
          },
          "hoverlabel": {
           "align": "left"
          },
          "hovermode": "closest",
          "mapbox": {
           "style": "light"
          },
          "paper_bgcolor": "white",
          "plot_bgcolor": "#E5ECF6",
          "polar": {
           "angularaxis": {
            "gridcolor": "white",
            "linecolor": "white",
            "ticks": ""
           },
           "bgcolor": "#E5ECF6",
           "radialaxis": {
            "gridcolor": "white",
            "linecolor": "white",
            "ticks": ""
           }
          },
          "scene": {
           "xaxis": {
            "backgroundcolor": "#E5ECF6",
            "gridcolor": "white",
            "gridwidth": 2,
            "linecolor": "white",
            "showbackground": true,
            "ticks": "",
            "zerolinecolor": "white"
           },
           "yaxis": {
            "backgroundcolor": "#E5ECF6",
            "gridcolor": "white",
            "gridwidth": 2,
            "linecolor": "white",
            "showbackground": true,
            "ticks": "",
            "zerolinecolor": "white"
           },
           "zaxis": {
            "backgroundcolor": "#E5ECF6",
            "gridcolor": "white",
            "gridwidth": 2,
            "linecolor": "white",
            "showbackground": true,
            "ticks": "",
            "zerolinecolor": "white"
           }
          },
          "shapedefaults": {
           "line": {
            "color": "#2a3f5f"
           }
          },
          "ternary": {
           "aaxis": {
            "gridcolor": "white",
            "linecolor": "white",
            "ticks": ""
           },
           "baxis": {
            "gridcolor": "white",
            "linecolor": "white",
            "ticks": ""
           },
           "bgcolor": "#E5ECF6",
           "caxis": {
            "gridcolor": "white",
            "linecolor": "white",
            "ticks": ""
           }
          },
          "title": {
           "x": 0.05
          },
          "xaxis": {
           "automargin": true,
           "gridcolor": "white",
           "linecolor": "white",
           "ticks": "",
           "title": {
            "standoff": 15
           },
           "zerolinecolor": "white",
           "zerolinewidth": 2
          },
          "yaxis": {
           "automargin": true,
           "gridcolor": "white",
           "linecolor": "white",
           "ticks": "",
           "title": {
            "standoff": 15
           },
           "zerolinecolor": "white",
           "zerolinewidth": 2
          }
         }
        },
        "title": {
         "text": "Cluster Representation"
        },
        "xaxis": {
         "anchor": "y",
         "autorange": true,
         "domain": [
          0,
          1
         ],
         "range": [
          -187510955.04011008,
          1390281422.247369
         ],
         "title": {
          "text": "Principal Component 1"
         },
         "type": "linear"
        },
        "yaxis": {
         "anchor": "x",
         "autorange": true,
         "domain": [
          0,
          1
         ],
         "range": [
          -448958949.43912286,
          724929059.9431291
         ],
         "title": {
          "text": "Principal Component 2"
         },
         "type": "linear"
        }
       }
      },
      "image/png": "[encoded data removed]",
      "text/html": [
       "<div>                            <div id=\"3fe7b268-63b5-4da1-987c-c125a7dd2ce3\" class=\"plotly-graph-div\" style=\"height:525px; width:100%;\"></div>            <script type=\"text/javascript\">                require([\"plotly\"], function(Plotly) {                    window.PLOTLYENV=window.PLOTLYENV || {};                                    if (document.getElementById(\"3fe7b268-63b5-4da1-987c-c125a7dd2ce3\")) {                    Plotly.newPlot(                        \"3fe7b268-63b5-4da1-987c-c125a7dd2ce3\",                        [{\"hovertemplate\":\"color=0<br>PC1=%{x}<br>PC2=%{y}<extra></extra>\",\"legendgroup\":\"0\",\"marker\":{\"color\":\"#636efa\",\"symbol\":\"circle\"},\"mode\":\"markers\",\"name\":\"0\",\"showlegend\":true,\"x\":[-89715535.8157864,-89716109.67530152,-89717203.3196917,-79236387.02027632,-54655008.58222453,-34123656.13226867,-38647806.43368043,-44362030.126978576,-36489578.11762849,-37977124.35221942,-43068165.62180444,-45930089.75280763,-45273041.40992828,-48134189.66902647,-50315520.15061471,-89760032.53383419,-89790955.97031689,-89758179.75171663,-89766869.8027888,-89793179.30885793,-9202596.937232679,-4329895.429350907,-84450797.0309993,-84431259.61210138,-84431259.61210138,-84973710.30150223,-84450797.0309993,-82024998.88095273,-79246364.81683898,-76679450.43549314,-80353808.11966291,-82768330.13743511,88461473.56640175,89398675.94222438,88082947.76180144,88227004.9696494,89089544.77236511,-88870311.19668339,-88870885.056199,-88872163.97880092,-88872163.97880092,-88872737.83831653,-68302036.46610132,-67948197.67583464,-65101731.65092322,-66960725.25933232,-67726872.02840887,62261980.25871927,-6942945.026019696,-12112761.95217297,1674651.705647462,-12114614.734290522,-12114614.734290522,-84292458.96276198,-84249335.65610643,-84449859.03205474,-84853061.9492841,-84542877.52457939,-65575590.18558639,-65570404.549656846,-65573291.665716045,-65567862.211578205,-65563394.064052306,56040320.807821594,55113872.80382478,37257549.993551195,54662221.626089446,48026333.05621231,-82888652.5229172,-82888652.5229172,-82888652.5229172,-82888652.5229172,-82886799.74079965,-69463559.83951066,-72342901.71486755,-72098109.34867606,-72216483.12199868,-67670010.81846105,-32190991.595895626,-32148933.44182729,-32204146.34893022,-32192728.480565634,-32150786.223944835,-89844502.44623631,-92120756.86922479,-88807707.797368,-90926403.49135078,-90611924.72259377,-62896851.164168715,-55626667.91214785,-63592397.24315566,-56428460.09179016,-60495918.26738109,-24281267.022099692,-58641719.71059694,-42427966.05269628,-51304786.91359822,41345774.474150084,39887564.619390115,42640139.13530645,44606010.3433026,43402188.375934325,31662789.963795826,35656891.99179084,1427743.161168673,8037473.189512778,25498257.346108183,18671859.293193113,16463071.165134693,16787945.846399743,10333465.173935875,20656595.323243495,-88557657.29799595,-88554992.2387999,-88609297.2038131,-88538013.81652673,-88475451.84632342,-74653504.32017478,-73530056.9837092,-77261890.51331978,-73553286.14094277,-76939039.57291879,-68605326.13623783,-69752517.40352581,-69756309.96131189,-69756783.63150723,-69758406.56163776,-81698088.85975483,-79763892.09338132,-80106817.29181516,-82260522.70580639,-82231353.17419408,-98941899.75218119,-98944359.30072922,-98941899.75218119,-98941899.75218119,-98944055.91751397,21849896.037508074,21848043.255390525,21839552.698091537,21849192.515325695,21848043.255390525,-87677597.67235313,-91860558.41794112,-93980068.94006126,-94083564.87603456,-93870104.50808963,-61626633.64251267,-62270922.72839098,-66401808.6731494,-59518445.183655724,-97815068.11318964,-97894332.42129391,-98292771.51906602,-98361307.83641909,-98413225.27359194,-1458187.5384828018,-2691995.1240869854,-1619850.530565685,-75245.17769546609,-1524117.1779659167,-22523692.601033457,-22523692.601033457,-22521839.81891591,-22525545.383151006,-22523692.601033457,-87640240.28064395,-86259979.09850325,-87112026.44821799,-92479070.34546795,-84464131.55758332,-25844593.98545935,-25841844.78059237,-25841376.057640873,-25844134.28148528,-25843122.932742327,-67854107.41648817,-66842810.097569354,-67663132.86923803,-67531443.81441227,-67346270.07468323,-95836748.73180072,-95834956.0366896,-95351076.95689043,-95628375.92967841,-95970480.24102451,-71853322.29783504,-71853322.29783504,-71853322.29783504,-71853322.29783504,-71851469.51571748,-66451965.680845656,-66454856.020949036,-66451521.01313745,-66453744.35167851,-66453114.40575854,-90183399.10697228,-90185251.88908982,-90183399.10697228,-90185251.88908982,-90187104.67120737,-100604090.83234301,-100606960.12992103,-100608681.70846786,-100608681.70846786,-100609829.42749909,32102441.92548763,32094397.10594143,32162649.17986933,32359301.520998407,32078753.20460182,-61283569.37366792,-61280126.21657429,-61282421.65463671,-61287586.39027719,-61286438.67124598,49360633.30121253,-59311561.50633732,-61747992.56890046,-59311561.50633732,-60462674.22362615,-55291004.515355326,-74072100.31635392,-74091809.18756413,-74093661.96968168,-74093661.96968168,-74082169.37032998,-36302470.62187487,-36559904.84735324,-36172604.249200515,-36201335.74757979,-36089857.533868186,-86704754.22704838,-87165482.42109714,-87067344.96614292,-87231690.67777638,-86448339.59883842,-83420026.42530686,-86291838.70750655,-79343905.76670088,-80270296.82547495,-81011409.6724942,-75290432.28205092,-75290432.28205092,-75290432.28205092,-75290432.28205092,-75290432.28205092,-20632872.648903158,-17850103.085898716,-22226484.919030998,-22370142.41092741,-21282238.99007299,-66224257.40324779,-66231297.97529447,-66224257.40324779,-66190351.49049666,-66197762.618966855,-55256631.37192332,-55242179.67140643,-55310344.02845187,-55237177.15968906,-55230692.422277644,-43811283.654414386,-42664529.02578382,-45775291.90033232,-47169311.03178687,-44207652.50848719,55404453.841211215,68948657.1862385,70026155.27385712,65297124.66527129,73631349.44195452,-75816603.61781085,-74932575.83137213,-74393534.4981778,-75967535.19110528,-75918673.28929365,8273522.566827932,12885056.948917534,-39038506.922121525,-43895690.668110155,-42820275.63101745,-97940775.80784757,-97903334.42090386,-98387221.5333581,-97974663.6402564,-97950998.70896055,-98365506.22933747,-98361800.66510236,-98361800.66510236,-98361800.66510236,-98363653.44721992,-87937769.55443369,-81963123.29895619,-83966260.46938255,-71349164.15306033,-71389884.70349906,-74083031.98623393,-73987350.6824266,-73936692.76438302,-73915131.11105523,-74007645.76538454,-80798140.20399645,-84820549.97709596,-80798140.20399645,-82522030.10675335,-84096516.21793805,-68180797.83109015,-68197590.99236493,-66177637.76408659,49030216.07516137,4047826.256585124,46136276.75091034,-2041508.7739379965,26095857.23088815,-96411042.44792582,-96412321.3705278,-96411042.44792582,-96411042.44792582,-96411042.44792582,-28642903.81833085,-46041547.00450674,-35829027.06507468,-33359436.187933713,-58310808.75423208,-73243945.78749773,-73986035.63084745,-71474406.90066698,-71378752.21628715,-70484624.37236477,-33977532.2891283,-34433379.14354336,-35143318.14124433,-33545121.74833386,-34931844.54836337,-96262609.17870483,-96174749.85477264,-96260756.39658727,-96252899.53036429,-96273843.99362694,6450695.547357282,2484500.59498216,1533935.0664425842,2486353.377099708,1190801.395315759,-87450766.41661406,-87069841.43351252,-88353538.02389632,-89823802.09989962,-89164646.5273807,-59735559.453974985,-61679556.033280104,-63296680.03286311,-59811004.69876082,-63146451.98175108,-81745754.9445455,-81736491.03395778,-81726851.2167236,-70635539.88758397,-81751313.29089814,-77150899.91316397,-77152752.69528154,-77151474.54313157,-77152752.69528154,-77153741.05882578,-75124666.94494976,-75074167.8379583,-74238784.0082138,-75041976.54877031,-75032388.05215646,-85615324.0376201,-89401978.06604469,-87115332.05575567,-88802843.64018595,-89538582.8063777,-80911971.73448458,-80895308.2358766,-80894732.83545703,-80854508.73772603,-80829225.01915225,21878858.308125187,14724727.555220628,29061429.160211816,15698133.521682335,22999398.473746393,-7891004.595792518,-7808128.217793417,-7922926.089547732,-7789164.658411113,-7947634.407701937,-90216682.62012054,-90300676.4243095,-90255731.7877869,-90302547.23130742,-90155422.3938212,-30111338.750403553,-30109485.968286004,-30109485.968286004,-30107633.186168455,-30107633.186168455,-86014088.40362537,-86011661.76199222,-86012235.6215078,-86010382.83939025,-86012235.6215078,-95508679.00416149,-95571447.08193383,-96905787.41226262,-96271818.64223571,-95925402.1708181,-93663490.10066475,-93222174.28555897,-93661895.1029768,-93509489.26935181,-93668087.14040546,-69518661.70100084,-69522367.26523595,-69520514.48311837,-69520514.48311837,-69520514.48311837,-91890489.35878965,-91903310.61104308,-91892156.86269546,-91892342.14090718,-91859918.45385008,-45451245.53271333,-26071522.921565745,-35966954.829717584,-44300708.44073111,-45917036.216936335,22290413.115016818,22288560.332899272,22288560.332899272,22288560.332899272,22288560.332899272,-61644370.58275154,-61832425.20565883,-62123397.21186103,-61533467.345370814,-62097275.86707277,3355049.8835434974,3354531.6395728756,3350342.746920342,3353011.8232141943,3351824.9726143815,-97780079.25444621,-98056941.21840721,-98002733.70187254,-97385490.57491332,-98308909.17912692,-77090785.15530019,-77087079.59106506,-77087079.59106506,-77087079.59106506,-77388942.7376539,-97071105.95577465,-97033158.83791813,-96994884.1045256,-97048426.83261131,-97047465.52599935,-51287677.07792743,-51093622.19797747,-54281041.32625283,-55145360.241481304,-50638974.69597667,-90387957.1249226,-92334803.45510277,-90620553.36958002,-91784307.94615571,-92266652.34094714,-11465126.504260963,-11472925.031976933,-11465023.070866799,-11462606.380929038,-11463158.796149898,-76151446.82421832,-74520322.41991036,-74629875.29596254,-75340753.8015699,-75410850.18297842,-61340487.57749835,-48939306.30623768,-56315394.481359266,-55501275.18312711,-49847132.18785011,-88317066.11787939,-87853468.62625259,-88869414.40894401,-88349948.91824657,-88880203.48611334,32583323.532107633,30930488.022058528,-72144413.52860753,-72144413.52860753,-72140707.96437247,-72144413.52860753,-72144413.52860753,-11850918.080437839,2343591.3788628113,-40208203.45860715,-23168126.399822365,-24805376.06968867,-61825269.31455175,-61822970.79468139,-61822970.79468139,-61824120.05461658,-61812627.45526485,-88820622.01452507,-88544127.81572336,-88830403.14929135,-88819487.49126317,-88491581.80883008,-52254858.41316683,-53629352.14846907,-51501761.34476257,-50694034.708503276,-55707860.8096452,-51403105.85072854,-51403105.85072854,-51403105.85072854,-51403105.85072854,-51403105.85072854,-85696223.91907133,-85694371.13695379,-85694371.13695379,-85694371.13695379,-85692518.35483623,37572002.15220426,38083191.30874808,38315081.80393389,37751491.18266634,37485920.72716207,-57635907.3643834,-57612937.574719526,-57640498.24050825,-57634875.43988334,-57630037.56565659,30195351.040867575,30149031.48792887,30149031.48792887,30539968.514731545,30358395.867211822,-56904497.59746323,-55996542.32231179,-48618789.13795871,-60537061.47538266,-62903684.53349676,-43929419.68825904,-42130921.82127995,-40409486.27936202,-41571464.84010209,-44159933.51030572,-18253351.852639914,-18253351.852639914,-18253351.852639914,-18253351.852639914,-18255204.634757455,-70939818.50578025,-70939818.50578025,-70941671.28789778,-70939818.50578025,-70937965.72366267,-75878009.2824887,-72998995.38327025,-81125492.23025663,-79341502.32532252,-74394536.73061322,-49798381.08136474,-52265044.8072544,-52553448.297707096,-50465061.33085542,-49529193.03666088,-96049621.91531444,-96047780.62579623,-96049633.40791379,-96052060.04954696,-96049621.91531444,-91941964.40529135,-91981364.88441154,-91213529.58505034,-92819421.62113106,-88336674.182887,-41151143.834010005,-41152996.616127566,-41151143.834010005,-41151143.834010005,-41152996.616127566,-96789698.68215403,-96789883.96036583,-96789883.96036583,-96789698.68215403,-96789698.68215403,-88427044.92762272,-88914338.2928304,-88427044.92762272,-88427044.92762272,-88914338.2928304,-72633100.50370817,-66521329.723469295,-70607065.24561733,-62783597.24387695,-71487972.93798421,-48731891.968716554,-52052386.58119364,-50521509.19492172,-53731735.99221196,-50717416.85698924,-19071905.146952987,-29374618.942536503,-19538036.573414184,-18913124.7472179,-18624994.842840523,-70853942.43633287,-69991476.30322194,-70638325.90305516,-67490324.51720025,-70918627.3963162,-96050062.4439364,-95299716.90812989,-95521801.93740594,-94008173.87379625,-95015103.08420329,-37062068.32154851,-36572929.326918334,-37286619.74665971,-36905768.97036521,-36371363.10051057,31918775.83124816,-2977051.127470468,-30881101.941448957,-25996246.91563798,-20017064.007717498,-74379978.18324713,-74844982.71923871,-70661286.47977987,-71721036.43101357,-73246362.14941546,-95012644.676312,-94825574.97059648,-89561480.08741136,-89561480.08741136,-89561480.08741136,-89563332.86952887,-89561480.08741136,-94682902.4029241,-94800540.03008407,-94954955.54130599,-95068118.88682225,-94715973.1279071,-92314431.4290518,-92068278.8203017,-92074734.7583246,-92539415.90176214,-92445543.71894291,-60066774.452203035,-45113083.8184869,-44952202.433937624,-69202927.7251802,-49360930.082567215,-93832007.03569959,-93832580.89521518,-93832007.03569959,-93832007.03569959,-93832580.89521518,-86807434.90116806,-87167202.24750839,-87828317.84793714,-86820780.28263736,-88327419.75973997,-56977479.44151623,-56950065.388337776,-56994252.571039565,-56967149.97023529,-56971872.04993087,-89871469.79835829,-89873322.58047585,-89871469.79835829,-89873322.58047585,-89870895.93884267,-96054151.67944196,-95492040.07209222,-94718169.4292451,-95018600.25070098,-95352531.76813143,-95095384.47241089,-95563579.0037784,-79045745.82382523,-75486991.36199452,-62702965.1451672,-76390183.46273877,-76091617.49105985,-17551563.253533665,-13704389.891059758,5220329.601700565,-1777778.7357093017,-5146032.8349025715,12789752.533029707,10186938.528689843,10551226.960464884,11201889.705413327,4501621.947278189,-83006250.0716436,-74610555.06084014,-73323561.13523735,-6908794.692547275,-53474368.5644094,-62685886.39708398,-71776533.95335704,-71751814.0947529,-71770647.99146841,-71774866.44945124,-71808149.3715722,-77859984.55399904,-78319688.52806754,-78612749.81153625,-74882252.06197023,14130413.374411928,14130413.374411928,14130413.374411928,14130413.374411928,14134118.938647022,-42369800.312335946,-42369800.312335946,-42371653.0944535,-42369800.312335946,-42369800.312335946,-55307478.65615202,-24697039.907616522,-43979659.67112476,-43620162.43880275,-47376719.314743765,-62365459.40828497,-62250836.79798307,-62377525.867152296,-62869984.51982518,-62655504.4169262,-94943228.6906412,-94943228.6906412,-94941375.90852365,-94941375.90852365,-94943228.6906412,-94417724.6024042,-94354167.6434913,-94341772.02818407,-94344903.73290353,-94371405.0494655,-30816739.314630833,-39178595.8522521,-38784702.29329069,-36159881.5293114,-28099554.47162958,-26668787.722667117,-26666934.940549564,-26666934.940549564,-26668787.722667117,-26668787.722667117,21955390.590495784,21953537.80837824,22089072.841127973,21951685.02626068,21953537.80837824,-83381569.82279342,-83225936.12491937,-83222045.28247252,-83225750.84670761,-83442526.35446078,-97621496.18776762,-96222778.55836716,-96277756.14125676,-97503638.85593472,-96824710.168635,-57410729.90346326,-52317963.23362825,-17802440.553655773,-22092338.50536314,-46621533.02926375,-94520177.35071145,-93988974.74072695,-94862440.05790944,-94008695.10453655,-95336783.23535115,-89377880.23983145,-88210232.1456974,-91077635.68394978,-88134380.9899761,-90327168.94628292,-73808799.5343709,-73808799.5343709,-73810652.31648846,-73808799.5343709,-73808799.5343709,-95139311.33575216,-95172984.6518527,-100014584.67610762,-99942836.898957,-100128011.1287393,-100203998.86486544,-99951238.22959724,-80793770.06281456,-80793770.06281456,-80795622.84493211,-80793770.06281456,-80796196.70444769,-66065071.748685166,-65790314.305739716,-72448450.78038235,-72049542.6568844,-68343350.67794745,-63664418.54347694,-51021855.73441034,-51021409.996657535,-51020706.47447515,-60938819.715003416,-67309691.96877944,-67434177.61154413,-71170980.68386637,-67936233.27308682,-73717039.62433642,-80692992.20103984,-80603738.9024349,-80911037.04287842,-80768758.66290422,-80601499.61760084,-86808978.82123189,-85681554.82482886,-87045280.63012442,-83478423.5291055,-84464042.81572968,-82369322.45383152,-82566355.34618738,-83165132.38841417,-83434267.61274594,-86876790.43601954,-95328873.04704794,-94983233.7865761,-87005120.9403209,-95395804.40872836,-93948274.426843,-89378432.0566095,-89371954.04172719,-90451154.09100452,-93868330.5100711,-94057157.42757107,-23264180.350319166,-23101259.72496532,-23076016.714527674,-23085346.615982525,-23181180.92835453,-83160854.9373984,-82144573.65402953,-83206644.64480284,-82244179.7734526,-83743978.64685214,29954205.82705861,24409184.532544788,24626057.177244738,24246166.113047786,24516238.56204636,-52611003.58312969,-49946050.99455307,-59886297.72090313,-56634283.6107424,-54616371.65280736,30028831.266553424,-95347876.61462048,-91219665.87907183,-95173178.59560326,-94424030.94679418,-89992063.99438459,-94537937.79911862,-95924945.61560792,-89622269.45155434,-91661511.24823762,-96507281.70777011,-95720545.37982251,-95720360.10161076,-95722398.16194005,-95720545.37982251,-95722398.16194005,-95274119.53271733,-95523230.15548173,-95345378.21817954,-95353878.69260226,-95261854.89124545,-71939955.40089805,-33285003.157512225,-38882994.87672221,-41670786.730016306,-34406936.85556621,-34149123.417984776,-63372008.384041704,-63531351.82769817,-64592342.34231359,-65472799.98428831,-64294009.95062593,-79120129.09951863,-79342644.17204054,-78838396.9915273,-79266313.22159083,-77061664.99581179,-73376714.32343307,-73376714.32343307,-73376714.32343307,-73376714.32343307,-73376714.32343307,-14468578.52863142,-13905441.160397489,-10112883.374332216,-10112883.374332216,-12871107.218743322,-79523262.61558802,-79208519.86147326,-79314051.70688404,-79238671.81730492,-79566637.76721793,-89050982.12655298,-89004719.9595658,-89034495.6770173,-98042734.685181,-98265691.11260422,-98193287.73668842,-98046182.4649865,-98170877.93840455,-30337865.64697481,-68373914.20219478,-47474540.691782594,-58680704.38236613,-71005832.7735764,-20273795.0079859,-12231298.31672644,-13524997.516392838,-19909099.683531296,-21716572.998829156,-93291762.02503785,-93291762.02503785,-93291762.02503785,-93291762.02503785,-93291762.02503785,-86476885.33093834,-86327481.53936605,-87911573.03621398,-81626973.97294454,-87842617.4401037,-93298356.7737517,-91877301.33262715,-91876252.26201224,-94011905.0120767,-92241638.98987971,-94995619.37697984,-95803100.43696985,-94967478.38816029,-95122652.37532045,-95803059.29540513,-87046102.41689499,-86591758.29810941,-86593307.69701171,-81741935.69826272,-86591454.9148942,-84361114.20238048,-84344466.05354135,-84340430.19865884,-84348880.49018173,-84345325.28860523,-96658200.59970897,-96653611.26448806,-96651746.98977114,-96657485.58492722,-96650597.72983599,-92749219.35332467,-93776607.28068717,-93794881.38088721,-93646735.54677285,-93470759.79019119,37460996.83237055,37460996.83237055,37459144.05025301,37466555.17872321,37457291.268135466,-41020681.80613454,-42327876.99231322,-38443178.83533628,-42290210.06444107,-42294090.1196766,-98492234.80330049,-98757008.78523874,-98726791.05154921,-98631411.7223537,-98708973.67029412,-58017306.64012238,-58492770.89456293,-58998572.80990447,-54244046.82288211,-55147687.38947267,-94517535.55417374,-94922894.6367359,-94232593.86799519,-94599199.3605189,-94592943.95486939,-32494774.040219434,-30665889.322953794,-32881466.755483113,-30294336.384193808,-32590988.55296801,-86358949.22183482,-87443927.44783449,-82345949.64810312,-89065221.4235455,-89070441.22874527,-54244604.65612219,-54242751.87400465,-54244604.65612219,-54240899.091887094,-54240899.091887094,-68192054.36926071,-67303579.39731185,-66986983.86107955,-67827386.08459833,-66863573.24635524,-46515263.04152773,-46515838.4419473,-46537400.09527507,-46536250.835339904,-42237143.70330458,-47284759.1524403,-47282906.37032275,-47294949.45408681,-47285500.26528732,-47275309.9636408,-92015961.20586951,-96759524.93797964,-96972681.92270936,-96222336.38690285,-94323058.11194126,13407078.205468906,12771249.59422015,16445131.38836868,14203518.780941451,15362260.506075334,-51990879.2875168,-52552982.859469615,-47542923.33561625,-47961201.49768664,-52804149.09402846,-79789741.09583342,-79789752.58843277,-79791779.15616274,-79789937.86664455,-79789752.58843277,-63299360.182465605,-63301212.96458315,-63299360.182465605,-63299360.182465605,-63299360.182465605,-81397340.94137037,-81397340.94137037,-81397340.94137037,-81399193.72348791,-81399193.72348791,-41405372.12176992,-41647162.44590869,-41696580.623121046,-41724162.86156514,-41644863.92603834,-87987406.45242503,-87986392.79124844,-87981086.29323357,-88001197.57164708,-87957971.43186335,14974854.071226384,-967165.48159713,-28417726.576471366,-67512128.30768847,-67511554.44817287,-67512128.30768847,-67513407.23029043,-67511554.44817287,-90843877.90901361,-90853512.37602484,-90868594.0224617,-90866296.57263592,-90858144.33131872,-8761548.699876988,-8935086.950087855,-8985654.38723539,-8691889.581584334,-8933937.690152682,-20182053.631474767,-10371973.091020865,-13269656.57505734,-19442207.178788684,-19358139.751208868,-58429115.33872346,-58429115.33872346,-58429115.33872346,-58429115.33872346,-58429115.33872346,-99880887.78223966,-100165904.24616219,-28529247.36279589,-28529247.36279589,-28527394.580678336,-28529247.36279589,-28529247.36279589,-51764072.671984784,-54120761.380710416,-52669662.11175127,-52109059.125229165,-56097964.99086723,-88205681.56863348,-89797955.9594341,-96942911.70724715,-96950325.51082873,-96939018.18968882,-96926706.0351804,-96948658.00692299,14083053.734083114,13031746.950828014,9867038.7358156,14800248.261458222,1854594.2551829126,-61812621.59993473,-59020494.587436065,-61420149.332073726,-61779293.06181476,-61564266.52794422,-56595279.58565242,-56595297.61053276,-56595853.44516803,-56595297.61053276,-56594000.66305049,-80754953.88191022,-80795688.60125652,-80779488.28300625,-80676709.79190183,-80759806.23245856,-72395512.83549368,-83813918.86715147,-87871916.35361303,-87289620.97982106,-83334899.69221273,-99495687.85203779,-99480027.44968729,-99233382.30137824,-98428728.89444602,-98450290.54777378,21350850.132502668,13782530.396758357,15726892.92885643,19115727.511917714,13716058.598730177,-43719785.465686254,-45326896.59280852,-41363802.5985851,-43719785.465686254,-41361949.81646756,-80314916.40939443,-80326033.1020997,-80326736.62428208,-80346692.15773268,-80315045.3016092,95532712.87723035,97530254.53110462,94737247.83404344,95578929.89648755,95106585.91662699,49542083.894340664,-52688870.4813601,-51019056.93793784,-51630022.69681484,-52849509.0878545,-52141172.73226533,-74114834.9311779,-74097619.14570966,-43501888.025169596,-43190176.734854445,-44238044.01130111,-43664139.105893716,-44289782.2483797,-84180161.03067121,-84180161.03067121,-84180161.03067121,-84178308.24855368,-84178308.24855368,25760117.793929525,25758450.29002374,25760117.793929525,25758265.011811975,25760117.793929525,-96182077.10034744,-94909939.55400883,-96805208.88152008,-94913948.50145915,-94909939.55400883,-9624354.991002532,-24593465.64660864,-13713867.57809479,-26900030.33649743,-29300834.341070257,-29416481.548083767,-34384242.64240869,-31826017.7212738,-32327344.914832145,-27587439.26766806,-98118774.35815297,-98120627.1402705,-98122667.87571126,-98118774.35815297,-98124520.65782881,-78686464.15025787,-78680832.00612354,-78689220.83319834,-78694049.26583001,-78689338.07054777,-8923895.214950424,-18331697.744132448,-29908638.62420488,-62385876.94216512,-62385876.94216512,-62385876.94216512,-62382171.377930015,-62385876.94216512,-94086339.70576195,-94108490.52106424,-94053437.12780963,-94074365.45172182,-94016783.42059745,-72760419.37695147,-75763235.48918779,-76045389.7645664,-73968317.70105955,-73503413.19175951,-58555905.332531296,-58579765.50572941,-60222773.91294039,-58001687.75833824,-58412247.84063487,-83739146.82051472,-86945291.09409623,-88310174.40983237,-87316974.38765538,-85391497.28740005,-88940223.48238061,-88930959.57179284,-88936517.9181455,-88945781.82873322,-88914284.53273492,-65291534.68157487,-68282612.55507296,-64603127.98040727,-67444802.06233308,-65149729.97179601,-21908233.10345452,-27031389.61087595,-28027133.330665573,-26601121.3763801,-20631914.181272894,-19868835.171331745,-19866982.389214195,-19868835.171331745,-19866982.389214195,-81866251.21536334,-80660231.80561584,-81235307.5109543,-81413442.80090584,-81142217.45620541,-33715629.277844876,-37970871.22127576,-26367580.745200545,-29134283.83906405,-34330268.12447746,-60091034.24098107,-60091034.24098107,-60091034.24098107,-60091034.24098107,-60091034.24098107,-55474832.95689836,-58924697.48934209,-57003857.561052725,-49112292.44308768,-53358085.36654149,-78759774.1229122,-78759774.1229122,-78759774.1229122,-78759774.1229122,-78759774.1229122,-73643710.43705064,-63174665.85581744,-68545032.17240044,-65756584.19208346,-63223408.990302846,44368712.654027835,38435227.56559299,-78713291.87100385,-80966759.24426706,-80870617.50149605,-80699512.1412,-79139203.27695306,-55018592.55909614,-55214500.22116366,-56010428.612173714,-55708565.46558488,-56182921.8387959,-61612863.71773192,-68341025.94705597,-61613790.10879068,-68706091.82793409,-63962898.65224746,36135036.384781696,-100716168.83603203,-100717185.04331173,-100717243.19971529,-100716972.7016251,-100714718.2178466,-54938774.037069604,-46490772.33236291,-80762089.79776984,-64841055.24300224,-71150977.2071852,-71147271.6429501,-71147271.6429501,-71149124.42506762,-71149124.42506762,5607742.688839618,1607520.67031075,1731013.7453257253,1421483.1896430543,1152461.9172349118,-93844910.47060288,-93734581.51682644,-93839164.17092705,-93244996.78444348,-93726536.69728024,-84535315.39541973,-79111622.08256474,-76646274.18225569,-84415001.04564278,-82684115.73638396,-100112017.2689893,-100107879.93322268,-100019386.9182145,-100045819.89672342,-100035476.55730689,-62756104.94024158,-62752842.031951375,-62746841.02965384,-62750546.59388894,-62763516.06871178,-43140449.98533102,-49207393.18310029,-54952543.5990216,-49131799.81180855,-46390111.34424265,15919492.844226029,17859243.48933948,19610969.979688123,15891763.36148907,16355951.603304349,-69476385.24756582,-69476570.52577756,-69476385.24756582,-69476385.24756582,-69476570.52577756,-70357437.82442117,-69520793.99262613,-71134049.26082766,-71946289.98141742,-72900325.63878272,-84123958.24373086,-84157103.06453949,-83075523.08174044,-86588040.78332987,-86329477.09470549,-97343069.39954773,-97340770.87967737,-97336173.83993667,-97343069.39954773,-97344218.6594829,-82586236.41856533,-82589941.98280042,-82591794.764918,-82591794.764918,-82591794.764918,-93928259.66101913,-93928259.66101913,-93931965.22525422,-93928259.66101913,-93930112.44313669,-63035339.13895142,-63059473.597590014,-63073710.45456487,-63079456.75424074,-63077416.01879998,39650651.64270628,25768493.523579992,40996324.20225735,22901386.33415154,21235856.114777427,-45474856.593777604,-37379040.093530715,-46486693.03480711,-47673428.41702523,-87816858.9628824,-87818711.74499996,-84485857.9330032,-87244081.77741432,-87818711.74499996,-65990682.37466748,-65972154.55349199,-65972154.55349199,-65990682.37466748,-65990682.37466748,-102451657.95380907,-102443169.77204633,-96197869.74723582,-96197869.74723582,-96197869.74723582,-96197869.74723582,-96197869.74723582,-92291040.69550115,-92212841.71098293,-92029021.75751378,-92288040.1943524,-92304813.32387574,-69467347.55383703,-69467347.55383703,-69467347.55383703,-69467347.55383703,-69465494.77171949,-11683153.385457227,-5057260.894180003,-5129480.526427554,-11399915.662890948,-12051308.781073265,-50813584.19339165,-51889510.69444754,-51697308.59661512,-50678352.543857135,-54220022.03596459,25138182.27440744,26992367.377400875,31433055.48255777,27210134.281270314,27873553.091753088,-37997957.660991915,-37832292.761048816,-39217697.05330407,-34620531.2430215,-40162679.45587423,95584392.06561671,118179405.26568267,-2964657.5908779306,-3008661.1661696993,-2997822.3907820424,-3007827.414216804,-2990596.540523604,-97206663.98194149,-27471257.82698455,-31023040.60390914,-32436433.032240238,-15946458.8720858,-21552256.792494565,-63843325.41435701,-71847448.2529812,-59301157.810973115,-66345414.71494583,-68969819.66955669,-92595172.21596944,-89517903.11827312,-91810308.59078753,-92053089.62472092,-89913858.2454426,-88958534.66696425,-89014673.96512595,-89014673.96512595,-88977062.48813972,-88938154.0636712,-60242337.34876408,-60220243.62556625,-3191260.395881309,-3483172.419414817,-3508456.137988586,-3263218.0340443053,-3124603.3196413736,35134678.52630004,7095236.851616719,-1992059.0586297715,52570027.75533766,13980828.838578265,53642117.63107727,-85477713.41229297,-86359888.41661412,-86728289.30530383,-87614169.87386008,-83882151.06603773,-89788645.10184874,-89645245.39438191,-89739226.92463638,-89787955.54588766,-89773001.20050915,-80914258.02933082,-80914072.75111908,-80912405.2472133,-80914258.02933082,-80914258.02933082,-71326561.18086204,-71533997.38734311,-70620215.15534133,9753424.452766342,-9537345.75434155,12287436.429564435,5322187.277907462,-47202585.985705025,-98486113.7479312,-98095813.34490044,-97642234.6546394,-97722634.44931693,-98504150.21998124,-15229154.967588717,-16608514.84238307,-17979209.52680917,-17913354.07123904,-17431500.50945039,-69726877.3980707,-71291408.38086489,-71108388.49229062,-68384622.67757219,-69542815.14637834,11983844.34222733,33032679.681509282,71186710.70341316,28073970.761239808,42979911.09761213,26713456.54596125,-82084165.56321467,-81969126.79770364,-82061528.68003899,-82064385.70965609,-82039076.47588988,-100110267.76310425,-99992977.66922076,-100013053.53513828,-100136354.59417522,-100128425.4710745,-99457312.6828613,-99240109.88392754,-99094596.06377211,-24814227.484282665,-36529525.47898926,-24802734.88493096,-32523908.867164504,-38263312.98340995,-82506145.11543992,-82541162.69746158,-82513000.40927488,-82534715.0156925,-82493360.91882886,-92608608.02456225,-94817090.74347652,-94793230.5702784,-94939119.36607933,-92811856.9839936,-79499109.9879057,-81795777.07613072,-83726533.7672185,-79384183.99438855,-79384183.99438855,-99456848.64163768,5970433.29759206,2695296.960296413,6856070.945667182,3000920.248428963,3761842.327576767,-85735941.85197219,-86281451.68116488,-86598407.98508312,-86721309.40905142,-85763972.0012983,-25388889.685781464,-25042403.114609517,-25435410.093240306,-22746384.403247327,-24266775.246662688,-49493883.07098983,-64871166.28179349,-55436706.19576059,-51643184.42797191,-50933645.31021843,-43941280.44789643,-43929787.84854473,-43929787.84854473,-43929787.84854473,-43929787.84854473,-88009751.16706638,-85925042.19802506,-85895033.31794783,-85922038.61506842,-85887562.35791725,-10363686.228807835,-14185756.300592674,3815661.078023844,9915095.00611195,-20860751.96987008,-52192619.614929184,-38898075.403333694,-44131691.17935728,-45323877.18977584,-53091078.05383203,-4565182.149414408,-2185472.137828455,-6699946.246725784,-6553285.309558327,-5603670.19949311,-29520464.17937615,-29516758.615141053,-29518611.397258602,-29518611.397258602,-29518611.397258602,-51079526.2228322,-44269716.57618117,-96750003.38113283,-94791435.25481445,-95352704.81209894,-94939654.57466187,-83590306.44625454,-56183689.811036825,-61218221.413391724,-62286916.62539861,-64054972.19827602,-59843360.86484879,-96019309.97745179,-96219409.3279344,-96142408.9122779,-96230198.40510373,-95771773.35363716,-88407921.41869926,-88762556.73513831,-88882082.44350757,-88963102.52427357,-88827398.61992532,46462147.56716711,52267744.48317347,53225673.601410486,42723124.62087526,41611831.51644495,-97638931.35690394,-96808504.32056947,-97463978.58173375,-97572090.23158787,-96769693.34457946,-70826771.05592662,-70828623.83804417,-70828623.83804417,-70815278.45657489,-70817131.23869245,-92900835.00676979,-92897129.44253471,-92897129.44253471,-92900835.00676979,-92900835.00676979,-83895260.67979407,-80476097.44666596,-83156171.61548543,-81943385.5383417,-82825299.68014963,20674940.115682397,24351659.53550938,18338675.950172313,24673612.476467386,20986380.93414974,-98601110.86609924,-98599961.60616407,-98614456.2475685,-98499975.99180414,-98506425.8136624,-68840021.59953964,-68835998.41931455,-68820348.58188312,-68836573.81973411,-68837147.67924975,-24188340.158780146,-24188340.158780146,-24186487.376662597,-24188340.158780146,-24188340.158780146,-59686713.16771445,-57690448.6603219,-56648515.636874326,-60402357.329345606,-58971873.488037884,-9565631.41449485,7702772.464742587,-8851925.616223434,-18067493.88380295,590819.0201437534,-54790982.81786747,-55128102.75116509,-55213147.986367755,-54807465.13254583,-49293387.429766715,-12255533.715179803,-13532858.227268308,-12977555.614859609,-3298151.749804736,-6360614.222453461,-79311390.15374303,-79475258.71903408,-79425666.91638023,-79369606.617728,-79479571.04969965,-35159871.37254535,-35161724.15466289,-35161724.15466289,-35161724.15466289,-35163576.93678044,-72674324.88291039,-72672657.37900458,-72674324.88291039,-72676362.94323967,-72676177.66502792,-89188677.11175488,-89294208.95716566,-89264057.00133401,-89324360.91299732,-89397888.02045888,-54151568.59911819,-51629415.96373082,-54008930.211610325,-51730429.196171135,-48936551.23682979,-83405842.843073,-83407695.62519053,-83407695.62519053,-83407695.62519053,-83407695.62519053,-84478161.15981291,-84478161.15981291,-84478161.15981291,-84478161.15981291,-84478161.15981291,-88767397.41640608,-89067767.71478741,-88965819.24794075,-88951892.52996007,-88694388.55291516,14739054.879252795,32406901.219366264,24335241.783898924,21828577.864178643,-18794111.019326802,-14302427.807142826,-18781505.0344601,-21780850.916003115,-7518059.734087552,8685699.149150686,11170005.762285305,-11327573.517518694,13095181.333558042,11982786.126360625,-82729640.18067156,-82485341.84334336,-80277331.81958024,-82289339.1744069,-82335114.04349831,-90960825.56981175,-90916932.65850621,-90992896.72532572,-91033657.93191177,-91033084.07239614,-30685577.947740283,-10960370.717062779,-7853639.855745871,-25036424.775863677,1782566.3996512631,-61573364.3347049,-60109367.43130809,-61337897.02483104,-60734497.03626721,-61470091.1945509,-48423946.4285076,-46261368.039298795,-51710648.90832247,-52109270.756100915,-47708118.7019698,63734439.004704006,28127369.389730345,47212603.83978909,54100605.64506682,43581638.99547275,-76784997.05039677,-80449863.13943905,-74852677.44797081,-73431593.94787256,-76569342.15349093,-51648058.1910665,-51649910.97318405,-51640647.062596306,-51614708.11295063,-51667327.12508901,-93751551.76736483,-91535785.45964174,-91684508.44402218,-89655410.75340697,-92728786.66144451,-81129533.74653031,-81129533.74653031,-81131386.52864784,-81131386.52864784,-81131386.52864784,-81926163.29334702,-81911706.24260722,-81747480.1940946,-81849060.80614243,-81916539.52678159,-72801746.83090271,-71531996.71073686,-82164693.719868,-84871138.05937615,-77724820.62014101,-89582824.16865352,-89586529.73288862,-89584619.56481951,-89578659.51680596,-89582766.78270195,78710474.75286531,95288426.8056369,93926657.53012836,7268813.483754931,6852077.865040546,6495807.285137445,6852781.3872229215,6679688.874764851,-41952020.27507139,-50471532.246432595,-42675800.71212007,-51886306.22731403,-41484807.51486611,-67052767.94656834,-67052767.94656834,-67047086.73736382,-67052767.94656834,-67052767.94656834,-76488372.13842575,-74843071.45584099,-90399933.42416939,-86133181.76077716,-84464529.64297876,20951355.622579567,20608430.424145732,20608430.424145732,20606577.64202818,20870907.42711758,-88473546.81560405,-88479285.41076013,-88479285.41076013,-88473546.81560405,-88473546.81560405,-93155973.30228907,-91400338.95934805,-38462009.068354495,-38463861.85047204,-38463861.85047204,-38462009.068354495,-38463861.85047204,-56625563.91978306,-39888085.04994816,-49548415.8225238,-37419179.366312474,-57078778.35637205,-86717082.34654076,-86701009.0363256,-86863521.09284787,-86850482.65900423,-86812487.25003722,-39192950.00821381,-39156431.405165784,-39169086.70956207,-39188669.81401112,-39162193.8250625,-44551727.70090919,-44703655.83454814,-44555433.26514427,-44653630.71737433,-44423885.73479836,-94888339.7592355,-94886486.97711796,-94888339.7592355,-94886486.97711796,-94888339.7592355,-88248249.4699394,-88245062.14967494,-88246526.35048862,-88248064.19172764,-88246341.07227686,-26011738.592293203,-57873115.100722425,-75847733.29859239,-52859508.992608555,-68376339.50008474,56216572.9062702,85379562.69293551,-79452487.73645578,-78923328.50979505,-79479896.86332113,-79071026.19417372,-79194138.67479675,-83589242.07545483,-83587389.29333727,-83587389.29333727,-83588668.21593922,-83586815.43382166,-82409859.88250095,-82409859.88250095,-82409859.88250095,-82408007.10038342,-82409859.88250095,-85916643.54354508,-86068120.21045528,-82792968.40531908,-85683240.41287987,-85266601.4514471,19971214.03379325,22037990.925934065,15841677.505387807,12419811.265120707,21259536.52246822,30536527.604809843,24967822.62985173,34746822.76575862,28900475.751980614,21687562.990112007,-89044665.63716105,-89047092.27879421,-89047092.27879421,-89048945.06091174,-89045813.35619226,-97488829.67674416,-97689721.94629985,-97576648.19987796,-95679448.80103178,-95027385.32261282,-81473337.15614077,-77211938.28577994,-77211364.42626433,-81472763.29662515,-77211364.42626433,-66284500.4055849,-62640929.46570593,-66522682.22664842,-65133399.97965199,-63036404.15418401,-70747610.3040192,-70729684.38382015,-70747237.0896976,-70729684.38382015,-70754501.28456406,-90106532.90645352,-90323258.1690581,-90092970.46071899,-90522878.14192162,-90456957.91624627,-97208164.34082812,-98136583.04782453,-97254396.4269116,-98082809.29054087,-98102033.93654485,-73898800.60405113,-70911757.91269456,-68734673.18033604,-67208973.8520986,-73482092.64322095,-59587329.99220482,-65021153.56056151,-69312668.5901587,-60367255.07623975,-68859873.87027547,-92325166.99437556,-92312525.1350887,-92321719.21457006,-92320569.95463488,-92307928.095348,-22819123.29854285,-25284528.63735456,-21832433.84124218,-25393217.066341452,-24596761.962478988,-65895009.64124314,-63714177.47246174,-64822731.32819656,-45468656.661484115,-45468656.661484115,-45468656.661484115,-45469230.520999715,-45468656.661484115,17359945.057357296,30755063.394362696,1155475.4395063103,14300571.366084808,34892771.96856333,-30301310.80274539,-21442841.18387204,-37188915.35595023,-28673738.407448437,-15557820.670929223,-19199340.311648652,-9437169.955109484,-20347659.45003881,-34828311.71752272,-32179415.42000767,-68819214.37563917,-68811169.55609298,-68818065.115704,-68799676.95674129,-68428465.99768095,-45007852.71309787,-45009705.495215416,-45005999.93098033,-45005999.93098033,-45009705.495215416,-81844298.39962061,-81887970.27715711,-81651668.4682646,-81848191.9171789,-81381592.38349935,-92339756.62882097,-92328084.10148044,-92340312.46345624,-92327713.54505692,-92326601.87578641,-91236272.4042671,-95383467.78721651,-93413061.00017105,-90441274.4597426,-88192527.8557145,-95669369.45457345,-95734458.24099377,-95871975.52823065,-95845127.27920106,-95955548.27080375,-17630364.277579248,-36671516.061130375,-33449047.384425398,-33865211.1064524,-24579047.77636737,-71362262.0194004,-64298045.73344664,-67658288.6194456,-82224594.43777214,-46049221.336168475,15147978.128639143,15069922.862139238,23721704.192928992,-89726218.83313495,-89743023.53485964,-89741859.53825122,-89752835.66403888,-89741055.82674856,35601683.168099,27278884.9835785,-80148800.11851983,-80150652.90063739,-80148800.11851983,-80148800.11851983,-80145094.55428474,-68026860.40328369,-70707727.37915231,-67401780.92947121,-68561526.86400455,-69288970.59018484,-84922141.55597457,-85582403.75324288,-81312956.46916017,-86043975.6072215,-84105996.95290896,-55662813.40977065,-55660960.6276531,-55662813.40977065,-55664480.91367644,-55660775.34944135,-53656066.205470584,-53656066.205470584,-53656066.205470584,-53656066.205470584,-53657918.98758813,-18646635.816905357,-3086805.554621212,-1212808.3381096222,-21140975.61397986,104243.54759667991,-13449761.627423415,-7608580.828506908,-4215826.435686475,-4218665.838162095,852107.1065340203,-68810930.30131024,-72856543.22058065,-75609883.82395367,-90014334.55851813,-58372594.160260126,-88511915.05034702,-88310794.56169206,-88511915.05034702,-88513767.83246458,-88513767.83246458,-62675782.795667484,-62692049.687637284,-62745893.1410401,-97105263.77763133,-97092109.02459675,-97110451.56756048,-97088403.46036166,-97104152.10836081,-90151702.56404988,-90139544.47093554,-90147494.87606502,-90143637.2329269,-90144807.00443885,-33588070.23130468,-33588070.23130468,-33586217.44918714,-33588070.23130468,-33588070.23130468,-91284270.67524414,-90942948.33079271,-90915438.3670417,-91082069.02167293,-91332066.71528171,64643684.01539223,59162068.07458578,57861947.851574376,64597465.33502084,64093527.346660025,-35789609.46062503,-20843102.916194804,-41445410.65701087,-34684045.076159485,-31773445.034857165,-65290778.48827987,-66408866.377469674,-72194067.7849432,-69880918.24697609,-60020037.35210865,-91928911.24106413,-92168387.94754001,-91934082.14032045,-91925463.46125865,-91911672.34203659],\"xaxis\":\"x\",\"y\":[-4829602.243810911,-4830011.970951243,-4829548.526015359,-7701480.539673783,-14438434.628709333,14190022.038074197,8492292.272123698,5485730.55835176,10539662.062814651,5066684.460500847,16926942.68821594,14906556.386434399,15696231.100785753,12714753.583059192,12422283.952231593,-5328600.768486441,-5327176.3719140915,-5328660.454923475,-5327952.295595599,-5327104.748189624,6186722.944560788,-2897162.012721544,-2335806.9581525624,-2321922.9123006836,-2321922.9123006836,-2707409.3618350415,-2335806.9581525624,-2497492.932921712,-1552274.2216571071,778229.1317744033,-987250.3744871292,-3500690.761345491,72155558.1591381,72079245.2212682,71486699.80329683,71568577.80765899,71267112.93406211,-3970084.5473460956,-3970494.27448879,-3970024.8609090396,-3970024.8609090396,-3970434.588051745,-10999183.721540825,-10711947.213061018,-9355289.343428902,-10160232.720595004,-11322665.210650872,62678460.20175922,12937414.775057465,9262166.480771523,19062788.807909336,9262226.167208562,9262226.167208562,6991322.480392776,6979504.075754003,7034459.657324282,7144961.740696785,7060400.461092534,9096651.038382066,9098959.80682564,9098284.455541112,9099390.145536311,9103941.729160732,103905259.76205401,103626568.48820072,90950809.53429812,103420578.26641284,98697848.87191917,1467098.0908769302,1467098.0908769302,1467098.0908769302,1467098.0908769302,1467038.4044398963,17023263.712105226,14975715.616806595,15149674.544244766,15065553.560554013,18296452.70114295,-16507903.462668628,-16509258.344789425,-16507479.688965656,-16502632.905225568,-16509198.658352384,-337502.1234713282,-1070199.916498267,-181578.28038337018,-731381.2058821715,-742447.5973873233,14737185.771606185,12959501.531691542,14244280.159443768,16318966.613672495,16442005.244921276,38208423.589545645,16629768.59023997,25750525.34892863,17723670.151525177,41405267.36756137,42905176.796346106,41855670.605993286,40470092.23072657,41312046.974458404,-23223209.430979908,-23213222.51096209,-14756751.1095447,-16018380.511415597,-21779149.707636416,23857829.419881705,23381772.66147808,24616516.355060294,27767145.426222846,24335208.28290252,2785437.516522483,2779000.8907685275,2784921.981364811,2777932.4790402814,2773120.585070252,-8939664.62820338,-9246587.139462074,-8224241.4204150485,-9240624.21934936,-8313289.182348519,13778728.33352954,12963489.829450708,12960794.691138286,12961834.42787075,12962057.45602369,-1287846.4502399783,86687.8176248102,-158384.44266882067,-1688910.0492223103,-1666785.5026088795,-2014122.583111584,-2013000.4290847552,-2014122.583111584,-2014122.583111584,-2013531.6628796423,-29272942.0520029,-29272882.365565863,-29280292.4292186,-29272065.65698634,-29272882.365565863,-5152046.615389092,-4005661.3654282694,-3424786.777432677,-3396422.606299624,-3454923.709261555,10509263.809652245,10052783.400136488,7115839.661738421,12008800.448091624,-2682322.467486356,-2381633.7412230205,-2522134.3123125876,-2587325.860334789,-2870227.6098601464,-26892812.72629254,-27769412.101116367,-27007504.667280305,-25909848.336402763,-26939472.84260613,-15240464.124913609,-15240464.124913609,-15240523.81135065,-15240404.43847657,-15240464.124913609,2104719.926079261,3085586.930085151,2478712.7690632716,-1335316.297304368,4360409.336281906,-10217974.071942646,-10217396.725687658,-10215687.287919985,-10217647.388510836,-10216928.684960855,13705986.253822815,14409626.677041892,14132714.044293849,14482287.665974727,14060136.705205489,-3350329.646496766,-3501138.3364527007,-3101193.088855393,-3190728.908433866,-3447573.498214148,2889000.0791879003,2889000.0791879003,2889000.0791879003,2889000.0791879003,2888940.3927508662,-1786674.0048150837,-1786580.8939733037,-1786688.3295599718,-1786616.705835537,-1786636.9992241147,1139176.7814138688,1139236.467850925,1139176.7814138688,1139236.467850925,1139296.154287959,-3253549.3171251747,-3255597.9528386253,-3256827.1342666983,-3256827.1342666983,-3257646.5885520866,3491620.2046296373,3485903.2445729827,3535782.1543608676,3674154.5721527995,3476162.42805576,-13285088.70822887,-13282630.345372718,-13284269.253943488,-13287956.798227707,-13287137.343942331,57047472.057479486,7140371.725619543,5408949.537032954,7140371.725619543,6323722.832534609,9998911.440383513,-9032805.77604896,-9026956.260166608,-9026896.573729565,-9026896.573729565,-9018729.48793435,28150941.10812558,27967998.38631265,28243229.17761154,28222811.463123497,28302032.195337128,-1663299.3413201645,-1992077.3667501495,-1920972.2710122839,-2037758.852178062,-1482459.4502460214,-2229217.3396278187,-2136703.362217219,-2360527.501113817,-2330684.2825942687,-2306809.707778617,-8108162.738567794,-8108162.738567794,-8108162.738567794,-8108162.738567794,-8108162.738567794,-731843.5480295024,1247076.525331904,-1862949.7454877882,-1965038.317928035,-1193308.3967168035,-10992519.038848491,-10992292.23038774,-10992519.038848491,-10993611.300646301,-10993372.554898145,-8962482.191776272,-8962947.745985169,-8960323.65202833,-8963108.899365177,-8963317.801894812,28382077.706675544,29274763.480995275,27752372.906516623,26451501.03492739,28503848.122289043,53868066.88546863,49521978.547792874,61858837.93837824,55095470.67547384,56975203.16256083,-4589496.939517793,-4831774.234612604,-4979504.292597239,-4548132.523282096,-4555853.656493954,55441210.89310701,58716969.31913262,21818075.696329672,18364996.63693109,19131980.864718936,-3610876.1297842953,-3625985.496780323,-3487893.7346053887,-3591747.8101405627,-3599032.34614645,-1925997.2150114793,-1926116.5878855586,-1926116.5878855586,-1926116.5878855586,-1926056.9014485131,1270068.5260554783,2116680.5667726006,3933138.4497754495,-2931055.623919562,-3087383.7076051333,-6193797.777047265,-6127157.969298809,-6069926.93712755,-6075836.139446927,-6141582.552951391,10368948.864593912,7510468.836266991,10368948.864593912,9143885.995310958,8024995.2413658425,-940211.9685438408,-950769.4936405836,483311.08556296775,28634518.54514228,31059932.220599107,25281292.012337107,26879303.809392072,32136049.68843571,-4082429.025991881,-4081959.6124121635,-4082429.025991881,-4082429.025991881,-4082429.025991881,20209671.458313555,8758578.123072684,6208468.821635904,8926902.808218094,4444823.381603456,1563470.2043358646,1808820.7834958164,978582.4184430792,607303.0397583902,634069.6838049412,8087401.794765907,8199272.262165606,7992074.726583999,7962927.048357091,8345695.18717909,-1350539.1134506057,-1293608.2586322199,-1350598.79988764,-1349144.4420397235,-1361275.6978584619,15168677.813912062,16256787.749258526,16516852.337748526,16256728.062821489,16611339.888421655,70220.27354110662,-370276.1908806799,-1050786.6744949094,-1081043.6252137078,-718863.6636771314,12358629.949940745,12888008.03294687,13331198.206900798,13048126.80161673,13290710.185681656,1646159.0907592282,1645860.6585740144,1654087.4308062813,-1399879.5201477332,1646338.1500703418,-1112683.054516305,-1112623.3680792486,-1113091.4088060674,-1112623.3680792486,-1113325.7374576384,1807799.133914282,1806249.1665989694,1779311.2341720879,1805177.137542719,1804834.0997269545,6647990.21771949,3560013.6659837165,5244441.6935777655,4272410.362993153,2879063.995920055,-4905781.428541125,-4893937.781285128,-4893530.799848297,-4864945.999565036,-4846978.410815541,-12864257.410994789,-13266216.185944555,-16145738.46540588,-12080204.985068481,-15461931.116866095,-27551961.897071812,-27494445.001505483,-27577399.23591107,-27480970.682796296,-27594959.84322372,-3972027.3097210615,-4033771.4728658665,-4003194.977600326,-4034139.419502622,-3929175.833955871,19471178.59413451,19471118.90769747,19471118.90769747,19471059.22126043,19471059.22126043,-811792.876362445,-811442.8356568066,-811852.5627994792,-811912.2492365243,-811852.5627994792,-2928592.762138476,-2954132.5587180997,-2729701.50754548,-2698511.5411439287,-2931030.3686777246,-4813649.765478378,-4500033.670941925,-4811139.953302766,-4704210.815822433,-4816916.599796457,13589851.526522277,13589970.899396347,13589911.212959314,13589911.212959314,13589911.212959314,-3290441.1688977634,-3290028.1387534463,-3290387.451104413,-3290381.4824607293,-3291425.995108891,8108942.199817423,3809486.4863289287,4818551.226402491,7716569.646465861,7826155.7712529395,21768572.972880628,21768632.659317665,21768632.659317665,21768632.659317665,21768632.659317665,-6756993.028132979,-6599479.406380381,-6648510.926060773,-6682779.188421023,-6641193.476908336,1383035.3598382785,1383905.7862111358,1381479.5350473854,1383101.014919021,1381431.7858977537,-2311237.9945017737,-2243966.3205826855,-2259270.5601760456,-2436354.38749486,-2175359.887240771,729808.478018357,729689.1051442776,729689.1051442776,729689.1051442776,812417.9376156898,-1376163.9779996646,-1373971.499548284,-1381180.6205309012,-1375187.1116480534,-1378633.0052772574,304463.9917646007,251281.1708901362,1125723.7412851157,1362151.5204975738,127128.23574601082,-2820515.2534606163,-4204019.587170858,-2987183.490120141,-3812816.1775798122,-4155588.768405215,-11474262.548605146,-11482557.174360238,-11474189.044832988,-11473849.916918993,-11474240.564184234,13307642.51329829,13555534.632206047,13371590.245026102,13776273.234369041,13865620.045382505,9111876.11770808,17924635.38172634,12682901.713324754,13264199.078472456,17280875.52784041,103136.57048354216,433963.23162697785,-288007.1526704486,81145.12527347576,-297050.6334822303,-18849195.455716927,-17199139.023187425,-8452758.254644802,-8452758.254644802,-8452877.627518885,-8452758.254644802,-8452758.254644802,55106106.12737362,65193273.79304958,34952945.532652274,47062283.64122464,45900167.01900191,14560157.303809654,14561790.720968697,14561790.720968697,14560974.012389174,14569141.098184397,972863.0299837543,894716.054536534,967284.6815162313,975047.5315804643,873978.9713069736,25356307.228052795,22943886.808228757,24669390.97327461,26962128.58267041,21904515.40608737,-3086761.6048739343,-3086761.6048739343,-3086761.6048739343,-3086761.6048739343,-3086761.6048739343,-4233137.417850503,-4233197.104287537,-4233197.104287537,-4233197.104287537,-4233256.790724582,8065297.267118378,8044544.734051701,8070477.866746523,8049668.899090276,8100614.580555644,-1991557.9472688804,-1975196.3186198338,-1994835.7644104043,-1989477.0821769868,-1988749.5437070746,-34265934.2957897,-34264442.13486373,-34264442.13486373,-34277035.97307897,-34271186.70224914,12364908.853261886,11206610.338640098,10176770.531144235,10888801.102573784,14792708.513072165,-16034349.84575934,-15250778.635335222,-14050343.870817952,-15060750.037471844,-16412770.531664304,-23006488.451151006,-23006488.451151006,-23006488.451151006,-23006488.451151006,-23006428.76471396,6969866.214472437,6969866.214472437,6969925.90090947,6969866.214472437,6969806.528035402,10946061.887211697,10159685.258596456,7614031.135783728,7159908.479216566,10526791.60889831,-2410647.9345108722,-140492.37380106538,-2876038.570121221,-2993808.316637778,442672.51792204846,-3634627.1678168066,-3634695.021339633,-3634635.3349025985,-3634985.375608259,-3634627.1678168066,924483.0702722876,880932.7859617602,1425207.994923192,275740.9049135466,3466860.070854066,10352217.906695673,10352277.59313272,10352217.906695673,10352217.906695673,10352277.59313272,-684105.9952459233,-684100.0266022392,-684100.0266022392,-684105.9952459233,-684105.9952459233,4100496.6920823143,4234044.664500425,4100496.6920823143,4100496.6920823143,4234044.664500425,13808462.582594447,17588289.17344335,14598421.326157663,20478808.63079618,13920447.278107569,-4846901.737760454,-3936884.580575082,-4356437.945251455,-3477088.953689848,-4303195.437939945,-8108507.496330472,-5324742.679055409,-8505132.51070595,-8381798.841844459,-8431949.10071193,-7120926.378844081,-7357294.471619509,-7180018.402037937,-8042761.940668216,-7103198.771885918,-1588531.7584047785,-1794171.9991193875,-1733307.2152297308,-2148133.2180505893,-1872173.4697352857,-114342.21296464473,231882.53831563593,-275293.4895675164,-3269.846149659296,376499.6433280636,76830887.09813435,51725909.80840397,33620661.02009089,37215618.05417268,40421991.117786594,13253868.014358742,12924794.143248422,15895863.226258775,15142038.5637765,14060835.77736349,-2211432.1291109133,-2734296.3920124318,4046990.006799109,4046990.006799109,4046990.006799109,4047049.6932361536,4046990.006799109,-2455437.275632986,-2527387.5217814357,-2582561.7099404703,-2392158.3269339926,-2396472.348070262,326195.4501989456,352512.69835637265,369016.1861506356,263135.83084328804,261668.26799018978,-7953597.6152004665,-11922312.744017452,-11733295.012735207,-5132200.337360844,-11303539.692681141,863996.2952628052,863586.5681201214,863996.2952628052,863996.2952628052,863586.5681201214,2862950.305235814,2883931.073455411,2895837.53204435,2854842.9058776363,2912769.578624424,4022152.2297694692,4043108.0004837536,4011559.0104965395,4029527.318337904,4027538.369061493,3871298.9169722665,3871358.603409301,3871298.9169722665,3871358.603409301,3871708.6441149497,-3394267.0337513993,-2996171.677700952,842259.2780801445,630138.6246985244,394210.50436800194,576948.3626095662,242854.86714804007,3225150.4513467527,7337189.407496855,5096387.948269722,5206428.940732814,5204912.158499504,34388795.64461519,36498264.02125434,35220871.617527775,33068462.476836607,31064094.253641367,20287910.33658957,18998969.90240622,18709259.93984603,19557184.799497757,17281792.580065463,3109543.3314407775,8344865.3665256165,9548204.814911976,56679289.29210517,23619091.47694449,17606694.165042166,97369.24355525523,102549.02567856152,87788.5848101232,97315.52576191591,87289.20995481768,-7697774.889337572,-8024458.321146356,-8232719.008924466,-5581682.959796128,-10952966.978361104,-10952966.978361104,-10952966.978361104,-10952966.978361104,-10953086.351235183,-8466444.276837775,-8466444.276837775,-8466384.590400733,-8466444.276837775,-8466444.276837775,20000258.396818105,33108260.511844404,26041213.647830013,25089008.428021763,26460366.450530343,68610.42423121314,150812.5159783092,60033.61129330208,-289924.6421789344,-135385.52756003648,-2171752.028212332,-2171752.028212332,-2171811.7146493876,-2171811.7146493876,-2171752.028212332,-1603164.290874514,-1604792.0696769457,-1605619.6018789113,-1605090.5018621262,-1604656.4518004963,-19239047.03510433,-18790551.77328965,-18871558.192850213,-20127343.156169683,-18794324.988972,-17744489.762109675,-17744549.448546715,-17744549.448546715,-17744489.762109675,-17744489.762109675,-9571294.503588967,-9571234.817151926,-9607931.557969157,-9571175.130714886,-9571234.817151926,-1903801.905194959,-1908815.565906235,-1908940.9074240085,-1908821.5345499294,-1901838.2214163658,-1522767.4458867728,-509945.8984166505,-568804.4930555412,-1226997.6627714168,-987372.4271334411,-9586597.860781504,-11100435.186234681,-20386134.263516605,-19275183.079657204,-12550767.491875714,-3543962.9762075986,-3697261.6138516557,-3447480.139763963,-3691420.265055117,-3318842.7360488377,-1979042.0530939072,-1149266.136299575,-3186954.042206911,-1095363.370051123,-2653643.3397790515,9046618.42704544,9046618.42704544,9046678.113482485,9046618.42704544,9046618.42704544,-163278.09264801987,-187207.65402802892,-3150793.590236083,-3064009.004485318,-3176318.8953743246,-3216562.9513917556,-3072776.365776029,-4443572.1846120665,-4443572.1846120665,-4443512.498175033,-4443572.1846120665,-4443922.225317717,12155236.374953197,12348975.665793017,7618822.601354672,7902302.149306745,10534826.866744557,11023221.187230913,20006139.166956097,20007832.270552196,20006955.875535615,12958760.834260955,-10196678.667786432,-10004273.970927922,-9128503.593901148,-9850596.289933115,-8413651.279984802,5334696.7371842805,5398119.167908207,5178364.873579757,5279473.395724586,5399714.907200021,4714873.305942393,5516064.422453453,4548324.442156928,7081694.769397079,6382651.911763291,854475.1861770554,1819116.9315461952,1029903.8783877491,935370.3787305084,1615019.8158245971,-5094549.810238145,-5316023.622171096,-7523448.164237222,-5163345.573180733,-5599665.333501601,-4250542.681701789,-4244396.675823511,-3949872.6091118515,-3024913.5058816164,-2968132.4063607305,-22186233.82020106,-22091687.867239244,-22100926.036081374,-22096882.707127843,-22166362.62282425,-3006865.7515864144,-3103221.326671735,-3005686.4054116216,-2109817.046523651,-2761446.9475300675,-12840584.475286411,-11170991.02185119,-11555924.686519435,-11355452.270493312,-11325710.818237768,-6854659.056072698,-5917645.610503599,-1918452.7794596246,-5914651.066563051,-5243611.312237927,-16142332.215207033,-1363556.7254614865,-2496516.9119982366,-1425526.4150080264,-1617878.2135426505,-2834149.6773086777,-4078996.100886546,-3661985.845331637,-5488889.289187089,-4582707.711401762,-3482703.8209740124,-1358330.704476398,-1358336.6731201033,-1358271.0180393641,-1358330.704476398,-1358271.0180393641,-1735303.5159612768,-1763250.8833572678,-1668195.531339614,-1688362.6885962985,-1740202.18838633,-9670394.443196472,-6764583.997043527,-5585341.372728886,-4563992.579807179,-6276020.138227631,-6877884.510787422,8474562.06329788,8571904.450455697,7311795.3079079855,7475782.928590041,7525289.744439113,82704.93430942013,-878439.6582009504,305714.8001432368,-1036073.8679205274,1084398.671482227,12918486.124270396,12918486.124270396,12918486.124270396,12918486.124270396,12918486.124270396,4174549.203221668,4574736.407187437,7269874.719609964,7269874.719609964,5309774.128757217,6910103.700829825,6991981.245107835,6964708.625827511,6984189.0681706015,6898355.748986957,-4530466.6533524245,-4531999.786992667,-4529755.936134939,-2198425.613695388,-2356867.0781226438,-2305414.4376127464,-2200875.7394339424,-2289487.2474591443,-19850891.03567819,-9602864.332123926,-15616646.596214741,-12650952.186110964,-9746235.840960234,-24117814.42591437,-26321946.891045183,-25967394.751882043,-24218211.17890688,-23721957.556952573,-1519631.2169025007,-1519631.2169025007,-1519631.2169025007,-1519631.2169025007,-1519631.2169025007,5344010.809363351,5450182.924701218,4323089.982152406,8790545.59857466,4372092.496923736,-3258300.672079184,-3648362.6779227317,-3648995.433218366,-3063351.6483035577,-3547849.3872869913,-2403853.6781804212,-2583401.522814785,-2372309.894560296,-2469724.8819362717,-2536073.37887423,-3461250.819108962,-3584872.52045819,-3585344.0678160423,-4914914.589677799,-3585403.754253098,6684749.220646442,6700433.805681063,6695181.40422541,6692892.4318668535,6689362.9772257805,-758259.4065918892,-754978.8437445132,-755030.3630957433,-759127.6345226554,-754213.654516218,-920341.938698777,-1189671.5189505934,-1184701.0746152815,-1158801.2433868598,-1103040.2916645128,31132005.514070522,31132005.514070522,31132065.200507578,31131826.45475941,31132124.886944614,-9759601.422773516,-9427379.102331027,-10503339.047239212,-9447321.370359607,-9447955.512996944,-2701868.509623017,-2891407.3322150297,-2868572.459232775,-2800769.1728972737,-2855920.340514811,-1147375.621863821,-2219708.2007819465,-2359633.1566837174,-980857.2374410932,-2779328.0807686215,-1068303.8786278465,-957210.8750234245,-1145323.4155918923,-1044907.9488766006,-1047580.6977957356,-8920361.688675283,-8298719.25478048,-9748568.035630748,-8418231.000116259,-9052423.005354801,490010.41505106614,780570.2795432166,-612786.9003504033,1227166.6313519934,1234210.7440530031,19995252.937031824,19995193.250594787,19995252.937031824,19995133.564157758,19995133.564157758,-7616790.585343272,-7399894.198245447,-7318076.340404489,-7438086.265954672,-7223560.417893638,-12377141.72044174,-12377548.70187857,-12371639.499559183,-12370822.790979661,-9336942.660318255,-16755600.88186272,-16755660.56829976,-16755272.606459003,-16755577.007287903,-16755905.282691617,-3747890.1410300513,-2447865.630765223,-2389895.7615982103,-2595536.0023128185,-3115605.4928557994,-22209285.924967445,-21138036.078778904,-23089403.95439463,-21612239.903239924,-21725336.43912051,-9760174.215751136,-10309512.033954911,-11383570.318169367,-11457972.739401715,-9996686.272403803,-505466.93563059595,-505475.10271639994,-505401.2805498561,-505469.134072694,-505475.10271639994,11570377.264710631,11570436.951147666,11570377.264710631,11570377.264710631,11570377.264710631,2356165.254015433,2356165.254015433,2356165.254015433,2356224.9404524784,2356224.9404524784,-3943129.7518130727,-4116331.6571087725,-4151450.1260282146,-4171051.13193674,-4114698.2399497265,4838565.66822473,4846103.4998694,4843058.938265021,4828765.165270469,4858106.987696209,-12978358.10558524,784758.2822701943,-1597269.4901400637,-5698344.028303041,-5697934.30116036,-5698344.028303041,-5697874.614723327,-5697934.30116036,1080004.466596666,1080314.8360692689,1080800.6836667731,1080726.6724848456,1080464.052161865,24019106.209533006,23895783.214025185,23859848.03652621,24067232.329287764,23896599.92260471,-12146203.050413571,-15939276.199955499,-15215746.941609312,-13510065.059428435,-13470178.894857552,13673244.547334833,13673244.547334833,13673244.547334833,13673244.547334833,13673244.547334833,-4008434.5982587966,-4210978.325980267,-16459896.14707265,-16459896.14707265,-16459955.833509682,-16459896.14707265,-16459896.14707265,-5446353.118483431,-4800477.304974594,-5198166.621069237,-5351805.881373266,-4258603.452286939,-1206600.452479042,-1793354.9551464398,-1002193.8530367364,-1006223.6781409924,-998050.6237020752,-997905.9433565366,-1006277.3959343424,-11558868.259969605,-11284090.970139762,-10414740.893484643,-11766952.456733296,-8209107.567020481,-6977562.352016059,-4993368.858067412,-6698656.372109297,-6953877.803209918,-6801071.6279813545,-15055908.215755941,-15056335.848829746,-15056317.942898637,-15056335.848829746,-15056377.62933568,402110.1775268614,375915.1999687423,384675.0827712251,456337.11037064134,400038.2545713469,11809877.670849597,3611628.2102388074,961072.001033917,342037.8446628132,3518103.838393592,-2941063.4691203614,-2907326.4886601935,-2733427.247659054,-2181464.8037278815,-2175555.6014084946,-4013292.0295458953,-9388742.558441773,-8006865.673246882,-5597527.614507414,-9436117.624697747,2263679.9893747806,1120228.2916069725,3937932.5773948375,2263679.9893747806,3937872.890957797,-5581932.956153382,-5581574.837531134,-5580698.442514574,-5581763.047928653,-5580648.206847047,120080039.0181838,120925442.64811015,120230763.83727379,119993358.45170577,120154538.47237408,-1706144.1917722225,13658563.925244104,13446831.418000815,12946590.94409406,13541655.225498378,13961069.397031367,7483083.765992502,7495375.580273248,-13134454.858946858,-12922639.411086624,-13670047.134223323,-13236057.54477292,-13682040.115628965,5785110.294078183,5785110.294078183,5785110.294078183,5785050.607641139,5785050.607641139,64308479.155752674,64308532.87354601,64308479.155752674,64308538.8421897,64308479.155752674,-205712.7044231153,-554355.6412668506,-34936.757392867745,-553705.0345978743,-554355.6412668506,30188127.661119044,19550498.412845287,27280585.431583762,17911364.293744676,16205260.07112327,42241589.36515508,38615763.24476449,40244774.30935772,39593390.51719144,42847099.44008367,-3549431.8718506177,-3549372.185413574,-3553575.101185257,-3549431.8718506177,-3553515.414748223,-8639072.31535774,-8635071.816171013,-8641035.16165446,-8644462.591982586,-8641112.713953622,19511090.528036073,22303379.721663993,-16611.258109480725,3711145.6068356517,3711145.6068356517,3711145.6068356517,3711026.2339615785,3711145.6068356517,-2589740.9271911215,-2701025.0173247806,-2714981.3145437287,-2757455.0630465755,-2582775.034500886,-9647039.863282766,-8829744.283785786,-8752864.967196735,-9317817.636993257,-9451784.258043278,-12125164.399699979,-12120888.61453963,-11653629.407254117,-11710084.199040076,-12023075.82725972,3467373.4352924265,2821684.637037071,1841129.8661895941,2859042.9209396,891853.9234121756,565740.5274874029,565442.0953022214,565621.1546133342,565919.5867985265,564904.9173688604,-310494.75966724375,-2434694.0885668695,178713.67946641895,-1839313.5340953472,-208346.5007899556,-7944766.487782773,-6547398.064409047,-6241763.955769016,-6655873.103690978,-8298869.715196782,-23169587.024618447,-23169646.711055484,-23169587.024618447,-23169646.711055484,6104923.089834848,6963343.493349486,6553296.099992406,6426706.270166502,6619449.494933687,-18386666.453434527,-17249769.903474923,-20083656.7894058,-19938793.36966199,-18491798.932343435,2516280.9079836044,2516280.9079836044,2516280.9079836044,2516280.9079836044,2516280.9079836044,18972655.790264662,19918128.161366362,19392149.468503997,17229381.419608895,18393434.59009081,-8974738.467998456,-8974738.467998456,-8974738.467998456,-8974738.467998456,-8974738.467998456,8226429.752615044,14576239.726055864,11004893.628082266,13280266.912548557,14588552.47353516,-11263915.229564147,-10161371.609546464,3718248.8297948907,4333281.896987365,4337033.033940024,4281656.789979637,3866033.1743906867,10601557.672173671,10654800.179485185,10873380.978865396,10790652.146394005,10920654.5974205,-11151374.387834836,-9307673.420968017,-11151344.544616306,-9207264.730688104,-10507277.303665515,6902637.352501082,-3341768.501502744,-3343877.3727944205,-3343916.97265576,-3342341.2957907636,-3342114.173227907,-7756198.614721785,-10309115.951133778,-2341871.675151057,-6689293.783401517,-534628.7176507644,-534748.0905248488,-534748.0905248488,-534688.4040877986,-534688.4040877986,42918842.2687795,40957234.624676704,40216492.10785715,38620136.43990598,40153041.821173295,-1830772.0343611562,-1752368.0107270589,-1826688.4914635718,-1404450.1558506985,-1746651.0506704128,-3072415.908084108,-1866062.129200203,-4594699.5531040365,-2589376.145760776,-3480468.0294773006,-2226209.817308397,-2223269.666422128,-2160383.1057989383,-2179167.4031279376,-2171817.02591224,13743087.956504036,13741269.988622162,13742789.524318855,13742908.89719293,13743326.702252192,12925646.473827802,8614241.882531274,4531515.693500907,8670714.14739237,10617687.714535724,-34479706.3194864,-33012708.97716549,-31808149.0150523,-34417715.96336402,-34090323.25856238,-6694392.980986399,-6694387.012342698,-6694392.980986399,-6694392.980986399,-6694387.012342698,12632404.420716582,12851938.46231625,11678527.181220714,11034890.123639505,10706667.064454926,-1089023.8974225195,-1057320.8823565154,438473.29584360373,-2184641.775185131,-1816895.6144981422,-2479952.741132766,-2478319.3239737255,-2475052.489655624,-2479952.741132766,-2480769.4497122914,-422606.85483996593,-422487.4819658868,-422427.7955288527,-422427.7955288527,-422427.7955288527,385284.03721243574,385284.03721243574,385403.41008651507,385284.03721243574,385343.723649481,18660420.54172308,18643269.66155312,18631776.05500278,18627692.512105167,18631895.42787685,92212725.94896154,82485161.74192251,92341829.53336452,80033404.55739827,78920007.9374807,21760119.29178427,21485686.18667617,16060134.93664831,19450539.62708956,-2176213.9140427876,-2176154.2276057424,192300.6530079947,-1767799.9378447472,-2176154.2276057424,9971688.231760101,9971091.36738971,9971091.36738971,9971688.231760101,9971688.231760101,-3639951.9271767065,-3632508.985085432,-4796023.892791998,-4796023.892791998,-4796023.892791998,-4796023.892791998,-4796023.892791998,-2053898.8135816231,-1998450.4927616853,-1867667.291803756,-2053139.0457332896,-2063732.2650062249,13811453.76256602,13811453.76256602,13811453.76256602,13811453.76256602,13811394.076128978,-16074048.20051775,-17650029.868197218,-17064399.50885466,-16511097.284824345,-16632918.134850465,-11626332.646086592,-11331463.450349249,-11384586.584786676,-11662498.153108919,-10693209.913418561,14752721.843328038,14927095.399848733,14959737.193602387,15209971.200721705,12757848.657900482,-12454403.846897857,-12410010.92461188,-11894526.986193335,-13421482.96963305,-11261637.51850634,124363216.64330624,140542610.4381888,-20924241.462413877,-20922823.909534197,-20923173.075190876,-20922850.768430866,-20923405.852295328,-1208870.8710929453,5377720.496518131,1257688.3268935785,3626372.1369652688,6745928.109387465,4886782.289197128,-3427795.399877544,-1477297.3342995818,-3771640.562123971,-3640801.178234847,-1634534.2610894253,96973.01345215947,1819571.0662288424,58862.20047776294,613834.7125912774,1386697.7949548026,-3084081.0753408275,-3082272.5762985363,-3082272.5762985363,-3083484.210970433,-3084737.6261482458,-13799415.027713066,-13786467.063314795,-3024287.3676857697,-3231731.346884352,-3249698.935633836,-3074046.9045995707,-2976918.2700734967,-20337716.165718958,26019786.6142268,19207154.75974094,25177448.448785454,31186214.73908571,8486030.792826697,-1802760.3338055443,-1560542.7251477723,-1460026.5992811748,-1217689.6177493243,-2240041.3054400575,1822424.9671757328,1927083.0382286147,1857543.4360951649,1822914.9923234263,1832165.7836929497,2902836.8686947552,2902830.900051061,2902777.182257712,2902836.8686947552,2902836.8686947552,-1900929.2203431467,-2056834.1142210178,-2139822.755826869,-15636494.583901858,-10606852.838567859,-16474514.785986539,-17220180.97555643,-2750440.388290119,-1893032.490907581,-1999964.5516310832,-2124877.0257541714,-2102216.054571742,-1886878.9676269465,24749666.201493092,23579188.604135595,23028254.351131976,23379939.623502098,23469002.585370336,3717459.1083942866,3327440.945884709,3184266.4648338445,3062305.0737401126,3961371.72050698,-26551136.009433188,46093291.2830562,38380144.68661652,47043651.234074384,43694271.59905929,46446050.86619428,-8372171.026788207,-8287942.60751078,-8351131.459689984,-8357015.541770359,-8326668.321560264,-2952952.4067477756,-2951028.997680921,-2956056.1561796414,-2926904.048599049,-2921267.386547424,-3474468.048871559,-3395763.917569336,-3384952.323487173,23876011.634922493,15547914.87666281,23884178.72071771,18395837.379892986,14317194.73376023,-7058324.755460036,-7057196.681800004,-7058103.915643003,-7057404.390600894,-7058736.59187562,-3620196.966672976,-3023991.9987318306,-3028267.783892167,-2981943.4297422897,-3573547.8144346806,11115866.328498796,9482389.483017806,8110319.069420881,11197537.186450994,11197537.186450994,-3440463.846077735,-2347925.9019992873,-2743773.454511522,-4037402.4648946105,148502.81688592216,-2329806.6827064357,-84558.55125197799,64944.26742846697,151809.54152345163,185491.99474394947,-76876.58823677531,27488161.422604963,27248409.986667708,27399940.310181137,27156731.714041755,27227807.633259833,24491624.214344252,13564069.388983913,20268424.14963611,22964385.13928186,23469987.436443005,-17009202.834217574,-17001035.748422354,-17001035.748422354,-17001035.748422354,-17001035.748422354,3935371.5773118306,1287809.211736468,1307760.2583506426,1288563.4881730855,1313067.4912646047,10474922.95823775,11559294.873100184,11549054.878863107,13294651.792491484,29513899.072000843,17685293.22564206,21373328.773721475,22058577.047336392,21242147.171322435,16235966.464514244,-16314182.07927502,-15155238.09646153,-17131956.727779586,-17240051.26574476,-16628913.266470997,-22296862.456020117,-22296981.828894198,-22296922.14245715,-22296922.14245715,-22296922.14245715,-4902102.434111632,-10473205.047045274,-2693595.6804901864,-3229604.0563421226,-3076438.4870142136,-3186312.207858755,-6288925.643027927,-8744456.304877216,-6799180.312059207,-7071682.634911376,-6587128.044721757,-8309018.35298243,-3080680.0089309956,-3221503.925314417,-3166784.450486449,-3230547.406126199,-2903394.5607376853,-3369482.4638925684,-3615031.2200746024,-3704237.483197318,-3787000.602947344,-3663312.524565656,22830674.883397784,19445797.72223496,19733603.990711227,23303793.304531187,22764108.380198415,-1535878.5932330422,-1763914.1163243144,-1584274.3658149687,-1554197.1204231565,-1774550.6804991728,-2071982.842299043,-2071923.155862009,-2071923.155862009,-2063815.7565038097,-2063756.0700667873,-3017499.4851269545,-3017618.858001034,-3017618.858001034,-3017499.4851269545,-3017499.4851269545,-2150305.2318217973,279484.46311402967,-1625079.9443312308,-760474.540033129,-1389949.5442868485,3727028.1279674717,3397520.072294865,2249659.601734371,3875351.160316748,2846494.7074176623,-2173541.1208121204,-2172724.412232595,-2181648.520170298,-2101670.765814173,-2104877.9136952297,2548327.9878882943,2551185.0950636906,2555490.910675019,2550778.11362686,2550368.3864841657,45261120.33458479,45261120.33458479,45261060.648147754,45261120.33458479,45261120.33458479,15123856.251578845,16542479.054208511,17281540.632238872,14615291.819110507,15631848.98804151,13755670.495918969,26019008.407398757,14223439.58039548,7700842.774770679,20966080.175045907,-10802340.602948273,-10905281.058566608,-10965717.493451234,-10995015.308077833,-12485108.87825302,-25044077.862622835,-24878122.868404325,-24854400.643683385,-27411230.59072085,-26722624.52201503,-7301801.106678144,-7256891.16905081,-7270482.334385419,-7285846.2604158055,-7255709.328586947,-17058640.890532468,-17058581.204095434,-17058581.204095434,-17058581.204095434,-17058521.517658394,-10244400.946876202,-10244454.66466954,-10244400.946876202,-10244335.291795451,-10244341.260439165,-5850933.619987667,-5878206.239267992,-5870414.062330747,-5885998.416205235,-5905538.544985361,16113339.116174398,17965984.352696106,15539710.526326315,15980119.662002755,18984428.662122164,-2676285.1317797513,-2676225.445342716,-2676225.445342716,-2676225.445342716,-2676225.445342716,-3162879.2227262296,-3162879.2227262296,-3162879.2227262296,-3162879.2227262296,-3162879.2227262296,1935548.9841140343,1858443.9233212078,1889987.5399281327,1893066.9198172402,1955959.5392670243,-8558010.481417585,-14086293.825221438,-8162586.726262433,-9755173.160067711,-11055313.849189552,-7861835.977319922,-11046217.914055772,-13178082.058027305,-3042803.661691238,-15825285.345991554,-16201986.625198342,-10366710.298032776,-17072279.59217547,-16693429.213383967,1980224.1061913613,2134563.126181973,3623108.26469001,2211914.6773083922,2197929.9100651657,-3983747.294688056,-3985589.496319699,-3983142.352401117,-3981829.250786248,-3981419.5236435523,-17131486.116888955,-22538286.866252653,-23389271.68668121,-18679697.12456797,-26030625.437009513,4519651.815189266,5560424.098909736,4687310.458989394,5116013.820591927,4593441.140755711,28917388.82096516,30253501.781182647,26618590.040268984,26449430.325214025,29363485.698316835,31952810.66262617,17765461.442761365,30653695.39898868,33723966.99045772,21870102.785464425,-6252765.859118967,-6020568.621779793,-6793535.581619901,-7959517.888833817,-7003771.279516237,-9043906.930411179,-9043847.24397415,-9044145.67615934,-9044981.286277883,-9043286.19146598,1684277.8229577793,3035953.7497567693,2289066.6683640387,4095461.2285044603,2067139.972983621,-8679825.024576092,-8679825.024576092,-8679765.338139059,-8679765.338139059,-8679765.338139059,-207790.03378419974,-199718.4462882449,-94023.82244670714,-167587.28104071793,-225174.68666653286,11517543.550038483,12014350.740351386,4415881.327959112,2577504.2467845045,7486099.95962671,-1773307.662005413,-1773188.2891313338,-1773207.002854118,-1773099.2531653512,-1773266.6892911417,79939311.4728122,87368151.57259102,90297537.76021019,-12037303.13874818,-12332075.249518577,-12585254.909170387,-12332951.644535132,-12454581.536446871,12727673.370666392,14044344.993655922,12570152.169435276,15692886.317021579,12840675.402490407,-9628699.573429277,-9628699.573429277,-9624643.274716632,-9628699.573429277,-9628699.573429277,10921695.49299192,5781546.732573608,1041397.4472748722,2282188.2256853827,-587326.3130091856,59126554.91250099,58881482.65220736,58881482.65220736,58881542.3386444,59069385.31193446,-3661873.5758571276,-3665970.8472840497,-3665970.8472840497,-3661873.5758571276,-3661873.5758571276,-2137049.289287143,-2759879.464576892,3701648.756007538,3701708.442444584,3701708.442444584,3701648.756007538,3701708.442444584,-4938565.030855856,-9419980.405239323,-7269087.805377629,-10478917.024976214,-4427001.501099168,-4992507.882589972,-4888870.444606669,-5009133.717732926,-4988210.459123161,-4968091.176820302,6700999.65656036,6700250.093971557,6699377.181080813,6701288.637976044,6700008.86170551,-4181688.8477902985,-4176794.5599530907,-4181569.474916214,-4178406.0937531465,-4185807.211945992,152281.36150837506,152221.67507134101,152281.36150837506,152221.67507134101,152281.36150837506,-5159809.61403734,-5159058.560538553,-5158583.178315129,-5159815.582681035,-5158589.146958824,41882252.5364304,10704784.771102838,11155373.15311426,26682528.712784015,15613977.00306953,45525235.97025884,66121660.01166249,10778407.680243503,10620647.376071526,10758643.14531692,10659465.02221804,10693410.393943503,-2497153.400868325,-2497213.0873053693,-2497213.0873053693,-2496743.67372563,-2496803.360162675,-4319837.469557216,-4319837.469557216,-4319837.469557216,-4319897.15599425,-4319837.469557216,6922052.753388253,7005297.146744409,9263195.55555474,7053830.625415628,7377180.332042761,-9249437.026961787,-10662461.719286328,-8028253.508554257,-8204294.091046554,-9356297.277020648,22316622.18087531,23285698.908778194,25017126.503717203,26137158.55142623,24215837.561605964,-4972149.339781367,-4972499.380487027,-4972499.380487027,-4972439.694049982,-4972968.794066756,-1771284.619652016,-1904824.927565451,-1822240.6690057295,-484092.2118883343,-9933.890963563033,2355176.4653054923,2217897.6601155857,2218307.38725828,2355586.192448187,2218307.38725828,15329019.534233704,17238866.10938485,15858282.80814551,15488851.865731994,18807111.698986687,-2357770.2584709786,-2370392.188737656,-2365133.59308725,-2370392.188737656,-2365337.5481582074,-560452.9011161859,-758074.9792512996,-508909.18185584585,-712116.3484193523,-524604.7015353959,-1783938.307566227,-2435856.2751825005,-1883987.3791455633,-2450083.250482947,-2411091.0622022864,-6436019.459421566,-7878411.065618651,-8902656.152376646,-8789386.101422813,-7053184.633116625,-12780941.60200806,-11292027.48109425,-10116628.864822024,-12568090.945636105,-10240722.113529123,-1943781.785823353,-1934797.9914486266,-1941331.6600847875,-1940514.9515052617,-1931531.1571305252,9306099.967479005,5413871.887370112,8151449.824320318,7068619.219209423,6831944.405777265,-8927446.146484924,-9417840.484911788,-8647104.02352691,9645180.45673167,9645180.45673167,9645180.45673167,9644770.729588982,9645180.45673167,-9551430.70329958,-1773344.5944653442,-9049784.755843364,-14931533.898000067,6177763.62931208,18623062.10314135,16288234.679086726,19980801.65601932,16532062.484528901,10457324.659316512,12434955.166014858,17232760.456427366,19341386.518215083,12696647.166557852,14482947.74517599,-4204188.162521588,-4198471.202464931,-4203371.453942061,-4190304.1166697135,-3926507.245484107,-5848816.406323816,-5848756.719886777,-5848876.092760855,-5848876.092760855,-5848756.719886777,-6748118.955401524,-6779153.881423351,-6612605.017637884,-6752262.184736152,-6420678.501450237,1092570.9588628241,1092194.9343094702,1092588.8647939304,1092182.9970220702,1092147.185159837,2396570.2700952403,-675256.4788381218,670065.5045460131,2467428.3404235635,4591926.184240711,-1470805.687622933,-1350225.413779544,-1442906.3252276047,-1445058.6680811746,-1359712.3091679402,29921971.25158216,30574775.677577086,31292260.950949587,30274639.4925685,27276996.612397455,15236428.059461048,20216619.487870973,17900270.81675459,7561277.3779397085,33279908.038583096,-17272532.436365116,-17263238.93954986,-19633008.12893458,-973532.2412902997,-971708.9411976961,-972260.0256353881,-980058.3570021761,-971686.9567767776,-23598740.04587886,-21317787.95059604,1398585.9433869056,1398645.62982395,1398585.9433869056,1398585.9433869056,1398466.5705128263,-9540300.475602694,-8748996.352064623,-9372107.531898107,-9495620.201371966,-9137821.8646802,2953927.875973548,2973050.2024477716,4012676.726668991,2411490.1605851674,3724997.5382478437,-13410547.885843439,-13410607.57228047,-13410547.885843439,-13410494.1680501,-13410613.540924175,-11918163.298503473,-11918163.298503473,-11918163.298503473,-11918163.298503473,-11918103.612066444,31742427.420832854,42799844.8789809,44130203.46858517,29968476.699674077,45066151.500717364,5007327.364389919,2240655.4736286853,3204618.917773644,709170.0563851746,-518788.6766921262,8020651.695836831,11216575.424706403,593283.2823109917,-129923.64832477071,16390397.011711786,-2634323.9588275803,-2491399.957411243,-2634323.9588275803,-2634264.2723905463,-2634264.2723905463,644589.091880606,645966.8529682936,645140.1983171952,-652383.1199865355,-652806.8936895117,-652215.9979628439,-652926.2665635907,-652418.9318487577,-2230947.921822851,-2221069.19981786,-2228095.4104382284,-2223840.04034453,-2226047.670345709,22906168.1979999,22906168.1979999,22906108.511562854,22906168.1979999,22906168.1979999,-125502.9958234654,-133534.06606486437,-136869.48791207094,-131969.7161187569,-123958.98847642774,95104892.1053806,91091973.1783385,90239375.29831232,94924338.33672822,94178996.24958676,8019769.41169218,4033802.7783705904,10051511.37375529,7871285.043478932,7262303.928569687,1719220.8134319868,-2879121.827771824,-2147269.1652240823,-2730999.892985166,1070667.4702900492,-1585384.2507951313,-1522016.4424409536,-1589060.8122559164,-1582934.125056565,-1573133.6221023146],\"yaxis\":\"y\",\"type\":\"scattergl\"},{\"hovertemplate\":\"color=2<br>PC1=%{x}<br>PC2=%{y}<extra></extra>\",\"legendgroup\":\"2\",\"marker\":{\"color\":\"#EF553B\",\"symbol\":\"circle\"},\"mode\":\"markers\",\"name\":\"2\",\"showlegend\":true,\"x\":[65108668.613148265,64072481.88937655,70029353.91779894,69475856.36679916,64486215.46603822,78475869.62797996,133237700.66210945,116657136.98774366,107222134.5965064,131921934.65455231,215671953.17316192,215154648.432829,205968132.90880933,222819543.29020947,203643158.1050321,164091822.78059867,168039952.56582558,131540367.39185967,142894643.96272686,151925900.89187777,244709484.30718437,232029219.07625225,259497653.91857272,234698186.47573256,281258928.33145547,218627610.4219069,256641887.86095586,238044549.22324574,200541680.40038338,258124776.1075899,85665352.42611781,101652636.17268756,77296219.01697774,71495786.72995168,81771378.50920859,146316243.1323363,149904586.550501,150095984.48047593,148477613.00442854,148369997.82039252,80854974.8624418,80471288.45742191,91577252.86429136,81809505.41746852,82543661.90496533,241955169.80563694,197858042.04019904,235145961.2837737,207060837.1367021,233011051.90755373,158348005.75203848,194569403.66312498,192069270.9672089,157385843.23636222,151302036.43845835,86191987.17979719,135798520.58178315,128632048.87040389,127352562.18593448,132330333.17649685,129355281.62265126,128378575.3542279,283209276.4258813,281536836.0709129,296088045.04784524,288295294.7780377,312385488.2663474,38445469.66494114,84300781.48758015,67827778.99816112,105910992.73286137,81758095.76467682,98823023.42494248,83033270.33970772,119410181.43038979,93105737.54484844,102541390.97443946,76995668.67050508,77561816.5162548,76225374.200933,79718355.15123136,79233065.06321415,115297129.70619959,105059101.04323108,99371899.63374382,103378290.03218418,102282666.61366513,103505257.4464388,103504886.8900153,112214127.33052994,103505287.78476034,44803590.86266378,52204983.0002698,52098941.72657388,81294492.45029195,81068941.82418565,87691493.9396979,82188260.42977859,81812138.26451544,221395342.8952588,242891913.22131178,254170365.21753746,256383386.31249923,246172112.71041998,88461726.80319814,96020879.91352715,100268971.19830298,92749845.32155839,95974327.05003098,62635966.44442661,62635966.44442661,62635966.44442661,62635966.44442661,62635966.44442661,129693871.6494924,122682771.91856895,156952792.26406372,161762250.05367097,108791560.31711057,445605422.6006571,440547947.9324343,49078427.0296563,49080279.81177385,49078427.0296563,49080279.81177385,49080279.81177385,284590129.2839603,296492338.71411157,286195967.98663604,304048662.48846614,207029323.83743066,241240598.7078513,155548723.5897975,58397193.74359881,56711369.8432406,63578330.40680114,327069093.2744126,274384973.04196775,90699784.37984616,93947504.2002122,78814678.93013152,92816339.15180336,83077690.87204202,313599871.0640181,316624870.7480345,310359163.30173326,309524840.3120651,300420960.84212995,249803826.65276906,257927554.4013034,237143818.23169816,232153701.20418122,226946271.68535084,328162941.454333,53821337.15071392,62233100.612157,193610901.31857845,190578010.52428085,194260325.65797225,192505792.50743082,199823127.05046463,275111371.39665943,282985998.93001103,276765742.385675,277152846.6966102,279266485.0382193,120126281.16668235,120123504.66861749,120130174.68424067,120162595.69618629,120129245.61807042,303743862.1539874,310574239.1493214,298593921.3698355,296839670.3967621,348167989.55317473,247210943.67400616,247984682.10170645,246886500.7618099,247251827.51828372,247110927.84791392,96609531.64957985,71735531.73105492,122015345.85455222,121557494.66260126,122015345.85455222,121555641.88048372,119718678.76632717,190156492.05273944,185856552.12922445,196389213.2447664,181265983.66671056,194819033.8828893,58586094.18066533,57739314.28325164,58538413.17208499,78265154.98119299,158107459.85923395,111985264.11654863,153200086.23828027,153609572.62615874,130303187.05423172,54041839.45596296,67467754.85705544,75545408.25277387,75545408.25277387,75545408.25277387,75525027.64948088,75545408.25277387,140113008.52572107,142941805.6370353,140747928.44599164,139061341.4190226,142211112.28761366,50568047.92534377,48096928.822971284,46635373.69408767,178736611.51076666,156796717.463269,151758296.95935112,139831806.2139602,131010739.36674508,46497162.977307335,64998175.14866666,89202438.95191556,154126420.41899818,107638762.0175013,88424021.52120559,194521683.17950368,66612239.436987884,181104879.40856695,169995018.9661737,60674291.11793222,139562470.05642447,124555636.92856655,142830485.68094364,133046088.15801279,126314601.24855216,60252137.05724438,48071637.81380816,105088516.45193465,41932025.522152334,91023332.94899519,99094886.72086158,94084974.34738205,93994811.11937231,80039684.01669684,115819603.98305148,93907457.46788931,120715052.87356086,108501448.82375295,248229365.43787262,243987681.34838358,215129996.2405991,212013164.49845207,253950731.0867379,296302877.42554915,162427858.5622406,41520147.952530846,185152547.56579518,185501358.7261176,273544871.57000184,283221763.23930055,301811831.2991549,273238367.321763,257605373.54158625,88717331.76735556,92623718.6395989,94360223.52983901,103880110.10509117,76347669.74668144,264197806.7987589,264580589.36702427,268189913.6200608,265703886.6593006,264991161.41323417,81838468.36565314,81840321.14777066,81840321.14777066,81842173.92988822,98885916.62921399,105818188.98120017,107957871.69345622,108211541.89409511,108206939.1524323,107201041.09786743,82538447.11631134,82534741.55207627,82480455.03603208,82555825.67755163,82510284.82812461,376339300.5767324,436474563.0791662,406803206.6423012,511814176.5173625,435228888.3174678,432547802.7214663,256449245.48545974,69006015.0460428,69006015.0460428,68994522.4466911,69006015.0460428,69006015.0460428,244679767.924626,268597060.48226255,244921586.4363466,262407315.34939557,268548153.7072521,135734660.32986543,135006478.88766733,76185244.68573362,76393237.08268183,76535320.25731423,85658540.34954248,75245345.14119199,127228710.4116401,124406821.69732797,133520991.11810394,116508431.51229197,112170931.91383521,223474459.94868726,227817692.06842667,217412065.3336664,227106771.43469787,209136043.5311529,156108596.96127352,184808390.02570847,184257620.05917528,176835466.04592627,174453055.47839853,135229164.93551448,135394566.9950769,139529298.1662832,132802814.21681961,135377091.85161567,336100580.3270196,271527055.16054124,296339942.9571515,304845919.82840675,241289316.02965984,178164314.53986555,95046848.27987447,141339397.63696358,88201520.79867867,88201520.79867867,88205226.36291374,88203373.58079623,88203373.58079623,112257599.47738545,99817683.69321406,106862763.12096244,93593730.49327445,118286062.08836439,161711458.99738812,219398289.0205844,177959754.407811,184116577.6557077,195274526.5351907,71061895.95578386,72426206.81065378,136437738.68635193,136437738.68635193,136437738.68635193,136437738.68635193,136437738.68635193],\"xaxis\":\"x\",\"y\":[-26438491.68454839,-27173469.719681133,-22943038.650631357,-23334999.08236488,-26879454.631053217,-15541791.383239634,94274133.12326875,92161913.4830316,91782807.76484488,102345954.95602693,-68003110.29111093,-68168738.94766438,-64974690.76649243,-68965145.36853932,-64387073.03243404,-27691831.476571307,-37837434.915327586,-33685862.864705965,-30263455.559638295,-35977115.88232408,85735646.99332725,95444292.06466922,99036730.33491316,84761071.5999441,92802114.6559044,-89326590.30259977,-99858461.68801816,-94597557.01048811,-84263193.19075352,-100099968.84640759,12946763.313174663,7793572.047485657,15789276.734468447,16555869.207078608,13238302.756630668,61332837.77582262,60967131.52605274,60885974.257506505,60880632.621872075,61369221.191139564,-24509425.55570012,-24753184.71437889,-16745243.682931753,-23985249.859959204,-23283228.644113414,-22559060.845265962,-11998340.690326873,-21517241.241350904,-14661951.925719481,-22248460.93829178,-45877348.60848346,-57240263.601533316,-61155609.38804163,-41174234.34961993,-46065893.057861306,-6597157.096633217,29140452.038856752,19507687.204444855,19421013.731027443,21824138.472697254,20004898.568979323,20272366.069403578,-14962408.34661205,3464008.497591058,2772016.173273585,-34433277.55577499,-5953245.462046442,-25751118.835533183,-39789155.410196014,-33172026.587300695,-46086456.65009213,-38652426.174827665,5041368.954626936,5200216.929541354,6886554.6469558645,5896138.022389815,4781899.357724332,-13726611.541698987,-14539606.511979232,-14170147.349109497,-13927008.51737441,-13814990.199015146,43335580.80441243,43168454.97133467,45553150.2940936,42944158.627807595,46459013.14798748,1542896.1912421212,1542908.1285295654,-844355.8907088845,1542843.0678626464,-21791523.791589983,-23561401.02649154,-23733313.07252357,-34830086.932633534,-34407358.76264413,-35815237.05435769,-33919049.229664765,-34672341.87581586,-1434973.5452347281,-10718345.569579266,-15973672.242311426,-14157380.86328981,-12190262.415544247,-27468062.98970991,-28551174.911304172,-33288490.96687427,-30587294.783276338,-30578286.06043404,7691608.831676625,7691608.831676625,7691608.831676625,7691608.831676625,7691608.831676625,-42906702.842701696,-41918234.522001825,-51255466.68086193,-51465154.28600365,-38052456.44740783,364150957.615204,360750800.0411741,-17407232.39873392,-17407292.08517096,-17407232.39873392,-17407292.08517096,-17407292.08517096,-80476997.99276543,-87079016.0960245,-84793901.1476201,-74459010.88631417,-51187630.001058,-47827506.90261032,-40553753.3153359,-6376941.572077495,-4174626.0770417713,-3296894.4725470576,-76250721.49405505,-63340046.37067911,-12997705.789939463,-11343416.236956524,-9640322.122879542,-10303599.656688673,-10271120.263939444,-53902596.78286317,-52876004.64834495,-53049166.70332708,-51833277.07952916,-49019230.39766124,-80898209.54848845,-83478284.07558793,-76331698.14132407,-75673658.46072756,-73650076.76290087,-113364900.14018515,-31856815.96400496,-29893041.472660825,-27793096.181665,-27205457.938730106,-20213320.41940644,-27535475.564172424,-29399254.28643022,-84163535.11978804,-84337450.98008578,-83616230.35351326,-83608251.19260736,-84267841.71582963,-46886726.05090588,-46882367.950397864,-46882582.821571186,-46887895.905071825,-46886821.54920509,42721441.06616234,46876213.68152008,42620563.04563832,42571462.57531544,35439938.81720261,241912175.16537383,242522218.46653524,241787284.1437955,242137668.32104105,241825725.57755044,-16908606.154772002,-28264737.10732521,-43713955.90461893,-44040699.02286474,-43713955.90461893,-44040639.336427726,-45347432.75009992,-37429180.6334151,-34652558.3240147,-36638587.60868306,-32498323.78831907,-34123144.081321105,-1388778.2793429133,6317650.366678517,-3727494.4531208086,17472191.442043226,-59323316.519977294,-47106753.432699315,-58551158.214097396,-57730027.22024127,-52080317.87540075,-26541738.76680283,-27708830.41260057,-42678570.96704728,-42678570.96704728,-42678570.96704728,-42677914.41623985,-42678570.96704728,-50545089.814923935,-50384950.18783911,-50891861.34899551,-51184741.302052215,-49882455.7220836,-11192906.216467924,-10709621.471180264,-10994066.994565539,-57074071.83822831,-51711490.276343964,-48521598.59031248,-45314834.94819078,-45475416.08544194,-34341919.3042732,-47124283.34216912,-53676696.936562255,-71525295.3780994,-58755232.03341301,-53506699.419958755,-35253625.18337892,-605224.3632332992,-31581709.387955498,-37617735.43973247,-7915730.948736737,63131389.54449799,66867191.97764394,66253047.64071655,64694660.79594442,66215271.86171149,-29536152.025007408,-25920118.772453543,-42175426.727528155,-19328978.681230128,-34998259.43552662,-37131105.15295267,-35821760.69354949,-35811066.12477554,-32060364.65594332,36164187.943929315,-1969270.7069402577,46184895.86945029,46350591.63658933,-97458234.26335326,-96214259.5533662,-88308305.4482351,-87522920.58176981,-98986683.80998898,-108190698.21790688,-68001167.69606487,-38960951.56137529,-33619883.00565422,-33384391.404105738,54694018.153441705,60307293.28774187,52137286.55580448,52140420.265264705,58155536.88563909,31588901.645656537,43262939.23193181,44696049.872691184,41736887.42402247,27186497.54180046,-70375394.57218577,-69204964.35145138,-67135212.60998711,-68657992.03972487,-69060105.47890837,-49887167.87929408,-49887227.56573115,-49887227.56573115,-49887287.25216817,-50436342.786490716,-41995391.8255289,-40310695.120138,-41160047.60684832,-40107561.04126578,-42379654.99219932,6250897.875874692,6251017.248748779,6252766.061354005,6249484.30292477,6251805.1097176885,312787336.9811074,239423134.8515161,269366108.7476766,406155433.4209771,309595545.6566797,227558743.3844822,-58418662.00874383,-47491598.3790585,-47491598.3790585,-47499765.46485373,-47491598.3790585,-47491598.3790585,-91210059.47363585,-98433436.08800925,-91866007.3641243,-96356992.89794208,-97991444.21969487,117257648.68125108,114082612.48338677,5926657.3565991605,5893310.933342825,5980714.896732445,6256720.538846403,5763650.461046056,-57134910.22637808,-56358756.98244608,-58884274.09470755,-54222070.83778453,-53037022.27854419,59049408.53703791,64782431.237427264,57061548.92408172,64311310.950608514,50248232.43478033,-42692489.39188943,-50082368.82874268,-49414187.49702197,-48227468.840982534,-46483686.35486073,-39330391.88302237,-39181194.842076965,-36258034.678195715,-41119338.808977745,-39215634.87682999,141629374.06189138,95522578.26870908,77097824.633337,129703735.72294463,85167450.52470893,12511662.385405177,59845969.325927295,98955968.24277999,-45734241.81864884,-45734241.81864884,-45734361.19152293,-45734301.50508585,-45734301.50508585,-43938955.083258785,-40518953.4461798,-42435438.99500228,-38821860.43228131,-45572389.816477455,-37879982.30950614,-33499914.761553485,-48127097.59007347,-25686385.98282489,-26418098.709833678,-32603062.55745533,-32969797.164017923,-63583185.623555206,-63583185.623555206,-63583185.623555206,-63583185.623555206,-63583185.623555206],\"yaxis\":\"y\",\"type\":\"scattergl\"},{\"hovertemplate\":\"color=1<br>PC1=%{x}<br>PC2=%{y}<extra></extra>\",\"legendgroup\":\"1\",\"marker\":{\"color\":\"#00cc96\",\"symbol\":\"circle\"},\"mode\":\"markers\",\"name\":\"1\",\"showlegend\":true,\"x\":[378942698.00552404,360114493.10289043,429087286.5816311,445701081.68457216,447803318.49377364,447885900.5207543,471824388.30679196,458386854.92824453,486626203.8170236,463352490.0162628,460746161.3749995,400865748.2515393,453441076.8201532,490622172.3681586,417463515.0165379,452070356.8707992,339751615.04457796,356178448.54897535,392298211.4051166,625625480.1218574,620406440.977791,611214539.6624458,624189349.3258901,628685924.1741002,360791275.8591012,365104386.543635,385783229.2568904,368123527.988976,503072024.7066629,547074593.1246402,460147997.9828656,595019774.8265643,505193245.47496,481587941.88331395,441236013.2065008,464045339.2274247,464872326.08256364,461091064.7353511,459107087.0686604,746800846.9987639,741582412.1823795,742905566.045403,337935855.7437671,739235356.7354077,394583155.8381,403157117.7002611,402252229.70487124,409307608.84763294,402015043.8532251,716400232.8855774,896897212.7915392,803885125.7782576,750712917.6034846,832309820.8276967,769258446.1969603,563035462.8173898,494224479.8265031,427790936.05980456,399597266.03333896,429036487.15467066,436578388.5716656,438690235.3980916,619467855.768738,496717704.7045817,665575930.698498,813939378.4452002,771568488.1704777,682719939.9572257,717071550.8249438,760469993.7910026,711118436.212125,884338482.8681449,928443427.2651069,946568513.0930309,884357644.0691061,851814557.8743927,649443094.4654794,667740737.3976909,650990335.6804723,666432062.5270315,661156937.0982563,1212012047.4432316,1248616010.834741,1209493863.8189049,1202749430.4644272,1131186953.729292,666738080.9420147,727275491.4488838],\"xaxis\":\"x\",\"y\":[-97120796.17684345,-104232129.8497463,-21608453.268935494,-133469586.1708567,-131871148.29986085,-131388545.00159462,8167288.911359924,15279990.117274333,5522784.811388498,12973330.052830948,13624534.503050186,-131621899.93728076,-146300970.22399944,-156199596.05532792,-136541942.89489797,-146379050.49331743,-100686882.20769961,-99163088.3584689,-96100480.84239407,137924969.80451226,145405869.72246635,151470345.65966478,154256667.78167439,170576723.4812376,-122289353.95449239,-123155946.90828796,-129015939.49021117,-123953956.64521237,-88147672.16151868,-104749811.68459843,-83607137.21635213,-104149149.99898483,-91193298.08634205,-143898936.54331908,-144210750.51382503,-150536381.41449228,-150661069.95023546,-149259767.1912683,-149149251.2955403,-228034532.3517229,-223667730.36093196,-225745489.3898381,-114816066.7035228,-224634685.9772868,12630414.731300848,12918540.646291252,15491821.648876643,19647737.086172253,17470960.202264924,-176371638.04463038,269917959.0579084,215042788.45520064,146841116.95646372,226971733.66696203,161759950.54271063,-178471295.65826932,-119233139.21466473,-110125158.49084575,-100261133.66076185,-110096577.71281941,-110238636.14926659,-110015045.45150544,347324850.1133237,239690871.3219003,374255021.45217544,490293636.13939136,-184194094.5014268,-161905574.57327685,-173076773.80702388,-183077026.6106406,-170405186.71789876,133690696.06439434,120576288.20640093,117966889.8393311,133848003.38160051,140354733.7657237,-81640680.04509915,-69321710.48193517,-80121365.31264085,-71212413.5675555,-71923893.1781184,614986891.0198556,641778659.2785529,623998399.8425131,614840953.6570519,573481821.3747163,69381400.17478552,53439871.56501114],\"yaxis\":\"y\",\"type\":\"scattergl\"},{\"hovertemplate\":\"color=3<br>PC1=%{x}<br>PC2=%{y}<extra></extra>\",\"legendgroup\":\"3\",\"marker\":{\"color\":\"#ab63fa\",\"symbol\":\"circle\"},\"mode\":\"markers\",\"name\":\"3\",\"showlegend\":true,\"x\":[1293396771.9262412,1275662578.141659,1226786636.24887,1295367031.449956,1305222125.161068,1304908974.9318044,867075558.8979574,1197347864.4739997,1121856602.758186,1073597328.5919957],\"xaxis\":\"x\",\"y\":[-365808548.7745467,-308111558.071995,-284692626.5314877,-312406698.61116034,-306970033.0057379,-307987214.64881086,-220339067.89481428,-311174693.17970943,-264986393.28745833,-257100910.9356744],\"yaxis\":\"y\",\"type\":\"scattergl\"}],                        {\"template\":{\"data\":{\"histogram2dcontour\":[{\"type\":\"histogram2dcontour\",\"colorbar\":{\"outlinewidth\":0,\"ticks\":\"\"},\"colorscale\":[[0.0,\"#0d0887\"],[0.1111111111111111,\"#46039f\"],[0.2222222222222222,\"#7201a8\"],[0.3333333333333333,\"#9c179e\"],[0.4444444444444444,\"#bd3786\"],[0.5555555555555556,\"#d8576b\"],[0.6666666666666666,\"#ed7953\"],[0.7777777777777778,\"#fb9f3a\"],[0.8888888888888888,\"#fdca26\"],[1.0,\"#f0f921\"]]}],\"choropleth\":[{\"type\":\"choropleth\",\"colorbar\":{\"outlinewidth\":0,\"ticks\":\"\"}}],\"histogram2d\":[{\"type\":\"histogram2d\",\"colorbar\":{\"outlinewidth\":0,\"ticks\":\"\"},\"colorscale\":[[0.0,\"#0d0887\"],[0.1111111111111111,\"#46039f\"],[0.2222222222222222,\"#7201a8\"],[0.3333333333333333,\"#9c179e\"],[0.4444444444444444,\"#bd3786\"],[0.5555555555555556,\"#d8576b\"],[0.6666666666666666,\"#ed7953\"],[0.7777777777777778,\"#fb9f3a\"],[0.8888888888888888,\"#fdca26\"],[1.0,\"#f0f921\"]]}],\"heatmap\":[{\"type\":\"heatmap\",\"colorbar\":{\"outlinewidth\":0,\"ticks\":\"\"},\"colorscale\":[[0.0,\"#0d0887\"],[0.1111111111111111,\"#46039f\"],[0.2222222222222222,\"#7201a8\"],[0.3333333333333333,\"#9c179e\"],[0.4444444444444444,\"#bd3786\"],[0.5555555555555556,\"#d8576b\"],[0.6666666666666666,\"#ed7953\"],[0.7777777777777778,\"#fb9f3a\"],[0.8888888888888888,\"#fdca26\"],[1.0,\"#f0f921\"]]}],\"heatmapgl\":[{\"type\":\"heatmapgl\",\"colorbar\":{\"outlinewidth\":0,\"ticks\":\"\"},\"colorscale\":[[0.0,\"#0d0887\"],[0.1111111111111111,\"#46039f\"],[0.2222222222222222,\"#7201a8\"],[0.3333333333333333,\"#9c179e\"],[0.4444444444444444,\"#bd3786\"],[0.5555555555555556,\"#d8576b\"],[0.6666666666666666,\"#ed7953\"],[0.7777777777777778,\"#fb9f3a\"],[0.8888888888888888,\"#fdca26\"],[1.0,\"#f0f921\"]]}],\"contourcarpet\":[{\"type\":\"contourcarpet\",\"colorbar\":{\"outlinewidth\":0,\"ticks\":\"\"}}],\"contour\":[{\"type\":\"contour\",\"colorbar\":{\"outlinewidth\":0,\"ticks\":\"\"},\"colorscale\":[[0.0,\"#0d0887\"],[0.1111111111111111,\"#46039f\"],[0.2222222222222222,\"#7201a8\"],[0.3333333333333333,\"#9c179e\"],[0.4444444444444444,\"#bd3786\"],[0.5555555555555556,\"#d8576b\"],[0.6666666666666666,\"#ed7953\"],[0.7777777777777778,\"#fb9f3a\"],[0.8888888888888888,\"#fdca26\"],[1.0,\"#f0f921\"]]}],\"surface\":[{\"type\":\"surface\",\"colorbar\":{\"outlinewidth\":0,\"ticks\":\"\"},\"colorscale\":[[0.0,\"#0d0887\"],[0.1111111111111111,\"#46039f\"],[0.2222222222222222,\"#7201a8\"],[0.3333333333333333,\"#9c179e\"],[0.4444444444444444,\"#bd3786\"],[0.5555555555555556,\"#d8576b\"],[0.6666666666666666,\"#ed7953\"],[0.7777777777777778,\"#fb9f3a\"],[0.8888888888888888,\"#fdca26\"],[1.0,\"#f0f921\"]]}],\"mesh3d\":[{\"type\":\"mesh3d\",\"colorbar\":{\"outlinewidth\":0,\"ticks\":\"\"}}],\"scatter\":[{\"fillpattern\":{\"fillmode\":\"overlay\",\"size\":10,\"solidity\":0.2},\"type\":\"scatter\"}],\"parcoords\":[{\"type\":\"parcoords\",\"line\":{\"colorbar\":{\"outlinewidth\":0,\"ticks\":\"\"}}}],\"scatterpolargl\":[{\"type\":\"scatterpolargl\",\"marker\":{\"colorbar\":{\"outlinewidth\":0,\"ticks\":\"\"}}}],\"bar\":[{\"error_x\":{\"color\":\"#2a3f5f\"},\"error_y\":{\"color\":\"#2a3f5f\"},\"marker\":{\"line\":{\"color\":\"#E5ECF6\",\"width\":0.5},\"pattern\":{\"fillmode\":\"overlay\",\"size\":10,\"solidity\":0.2}},\"type\":\"bar\"}],\"scattergeo\":[{\"type\":\"scattergeo\",\"marker\":{\"colorbar\":{\"outlinewidth\":0,\"ticks\":\"\"}}}],\"scatterpolar\":[{\"type\":\"scatterpolar\",\"marker\":{\"colorbar\":{\"outlinewidth\":0,\"ticks\":\"\"}}}],\"histogram\":[{\"marker\":{\"pattern\":{\"fillmode\":\"overlay\",\"size\":10,\"solidity\":0.2}},\"type\":\"histogram\"}],\"scattergl\":[{\"type\":\"scattergl\",\"marker\":{\"colorbar\":{\"outlinewidth\":0,\"ticks\":\"\"}}}],\"scatter3d\":[{\"type\":\"scatter3d\",\"line\":{\"colorbar\":{\"outlinewidth\":0,\"ticks\":\"\"}},\"marker\":{\"colorbar\":{\"outlinewidth\":0,\"ticks\":\"\"}}}],\"scattermapbox\":[{\"type\":\"scattermapbox\",\"marker\":{\"colorbar\":{\"outlinewidth\":0,\"ticks\":\"\"}}}],\"scatterternary\":[{\"type\":\"scatterternary\",\"marker\":{\"colorbar\":{\"outlinewidth\":0,\"ticks\":\"\"}}}],\"scattercarpet\":[{\"type\":\"scattercarpet\",\"marker\":{\"colorbar\":{\"outlinewidth\":0,\"ticks\":\"\"}}}],\"carpet\":[{\"aaxis\":{\"endlinecolor\":\"#2a3f5f\",\"gridcolor\":\"white\",\"linecolor\":\"white\",\"minorgridcolor\":\"white\",\"startlinecolor\":\"#2a3f5f\"},\"baxis\":{\"endlinecolor\":\"#2a3f5f\",\"gridcolor\":\"white\",\"linecolor\":\"white\",\"minorgridcolor\":\"white\",\"startlinecolor\":\"#2a3f5f\"},\"type\":\"carpet\"}],\"table\":[{\"cells\":{\"fill\":{\"color\":\"#EBF0F8\"},\"line\":{\"color\":\"white\"}},\"header\":{\"fill\":{\"color\":\"#C8D4E3\"},\"line\":{\"color\":\"white\"}},\"type\":\"table\"}],\"barpolar\":[{\"marker\":{\"line\":{\"color\":\"#E5ECF6\",\"width\":0.5},\"pattern\":{\"fillmode\":\"overlay\",\"size\":10,\"solidity\":0.2}},\"type\":\"barpolar\"}],\"pie\":[{\"automargin\":true,\"type\":\"pie\"}]},\"layout\":{\"autotypenumbers\":\"strict\",\"colorway\":[\"#636efa\",\"#EF553B\",\"#00cc96\",\"#ab63fa\",\"#FFA15A\",\"#19d3f3\",\"#FF6692\",\"#B6E880\",\"#FF97FF\",\"#FECB52\"],\"font\":{\"color\":\"#2a3f5f\"},\"hovermode\":\"closest\",\"hoverlabel\":{\"align\":\"left\"},\"paper_bgcolor\":\"white\",\"plot_bgcolor\":\"#E5ECF6\",\"polar\":{\"bgcolor\":\"#E5ECF6\",\"angularaxis\":{\"gridcolor\":\"white\",\"linecolor\":\"white\",\"ticks\":\"\"},\"radialaxis\":{\"gridcolor\":\"white\",\"linecolor\":\"white\",\"ticks\":\"\"}},\"ternary\":{\"bgcolor\":\"#E5ECF6\",\"aaxis\":{\"gridcolor\":\"white\",\"linecolor\":\"white\",\"ticks\":\"\"},\"baxis\":{\"gridcolor\":\"white\",\"linecolor\":\"white\",\"ticks\":\"\"},\"caxis\":{\"gridcolor\":\"white\",\"linecolor\":\"white\",\"ticks\":\"\"}},\"coloraxis\":{\"colorbar\":{\"outlinewidth\":0,\"ticks\":\"\"}},\"colorscale\":{\"sequential\":[[0.0,\"#0d0887\"],[0.1111111111111111,\"#46039f\"],[0.2222222222222222,\"#7201a8\"],[0.3333333333333333,\"#9c179e\"],[0.4444444444444444,\"#bd3786\"],[0.5555555555555556,\"#d8576b\"],[0.6666666666666666,\"#ed7953\"],[0.7777777777777778,\"#fb9f3a\"],[0.8888888888888888,\"#fdca26\"],[1.0,\"#f0f921\"]],\"sequentialminus\":[[0.0,\"#0d0887\"],[0.1111111111111111,\"#46039f\"],[0.2222222222222222,\"#7201a8\"],[0.3333333333333333,\"#9c179e\"],[0.4444444444444444,\"#bd3786\"],[0.5555555555555556,\"#d8576b\"],[0.6666666666666666,\"#ed7953\"],[0.7777777777777778,\"#fb9f3a\"],[0.8888888888888888,\"#fdca26\"],[1.0,\"#f0f921\"]],\"diverging\":[[0,\"#8e0152\"],[0.1,\"#c51b7d\"],[0.2,\"#de77ae\"],[0.3,\"#f1b6da\"],[0.4,\"#fde0ef\"],[0.5,\"#f7f7f7\"],[0.6,\"#e6f5d0\"],[0.7,\"#b8e186\"],[0.8,\"#7fbc41\"],[0.9,\"#4d9221\"],[1,\"#276419\"]]},\"xaxis\":{\"gridcolor\":\"white\",\"linecolor\":\"white\",\"ticks\":\"\",\"title\":{\"standoff\":15},\"zerolinecolor\":\"white\",\"automargin\":true,\"zerolinewidth\":2},\"yaxis\":{\"gridcolor\":\"white\",\"linecolor\":\"white\",\"ticks\":\"\",\"title\":{\"standoff\":15},\"zerolinecolor\":\"white\",\"automargin\":true,\"zerolinewidth\":2},\"scene\":{\"xaxis\":{\"backgroundcolor\":\"#E5ECF6\",\"gridcolor\":\"white\",\"linecolor\":\"white\",\"showbackground\":true,\"ticks\":\"\",\"zerolinecolor\":\"white\",\"gridwidth\":2},\"yaxis\":{\"backgroundcolor\":\"#E5ECF6\",\"gridcolor\":\"white\",\"linecolor\":\"white\",\"showbackground\":true,\"ticks\":\"\",\"zerolinecolor\":\"white\",\"gridwidth\":2},\"zaxis\":{\"backgroundcolor\":\"#E5ECF6\",\"gridcolor\":\"white\",\"linecolor\":\"white\",\"showbackground\":true,\"ticks\":\"\",\"zerolinecolor\":\"white\",\"gridwidth\":2}},\"shapedefaults\":{\"line\":{\"color\":\"#2a3f5f\"}},\"annotationdefaults\":{\"arrowcolor\":\"#2a3f5f\",\"arrowhead\":0,\"arrowwidth\":1},\"geo\":{\"bgcolor\":\"white\",\"landcolor\":\"#E5ECF6\",\"subunitcolor\":\"white\",\"showland\":true,\"showlakes\":true,\"lakecolor\":\"white\"},\"title\":{\"x\":0.05},\"mapbox\":{\"style\":\"light\"}}},\"xaxis\":{\"anchor\":\"y\",\"domain\":[0.0,1.0],\"title\":{\"text\":\"Principal Component 1\"}},\"yaxis\":{\"anchor\":\"x\",\"domain\":[0.0,1.0],\"title\":{\"text\":\"Principal Component 2\"}},\"legend\":{\"title\":{\"text\":\"color\"},\"tracegroupgap\":0},\"title\":{\"text\":\"Cluster Representation\"}},                        {\"responsive\": true}                    ).then(function(){\n",
       "                            \n",
       "var gd = document.getElementById('3fe7b268-63b5-4da1-987c-c125a7dd2ce3');\n",
       "var x = new MutationObserver(function (mutations, observer) {{\n",
       "        var display = window.getComputedStyle(gd).display;\n",
       "        if (!display || display === 'none') {{\n",
       "            console.log([gd, 'removed!']);\n",
       "            Plotly.purge(gd);\n",
       "            observer.disconnect();\n",
       "        }}\n",
       "}});\n",
       "\n",
       "// Listen for the removal of the full notebook cells\n",
       "var notebookContainer = gd.closest('#notebook-container');\n",
       "if (notebookContainer) {{\n",
       "    x.observe(notebookContainer, {childList: true});\n",
       "}}\n",
       "\n",
       "// Listen for the clearing of the current output cell\n",
       "var outputEl = gd.closest('.output');\n",
       "if (outputEl) {{\n",
       "    x.observe(outputEl, {childList: true});\n",
       "}}\n",
       "\n",
       "                        })                };                });            </script>        </div>"
      ]
     },
     "metadata": {},
     "output_type": "display_data"
    }
   ],
   "source": [
    "# plot the scatterplot\n",
    "fig = px.scatter(data_frame= df_PCA, x = \"PC1\", y = \"PC2\", color = labels.astype(str), title = \"Cluster Representation\")\n",
    "fig.update_layout(xaxis_title = \"Principal Component 1\", yaxis_title = \"Principal Component 2\")\n",
    "fig.show();"
   ]
  },
  {
   "cell_type": "code",
   "execution_count": null,
   "id": "d346d48e-3e0b-4147-b380-f4dab6198156",
   "metadata": {},
   "outputs": [],
   "source": []
  },
  {
   "cell_type": "code",
   "execution_count": null,
   "id": "bee548c8-a6c3-43a7-a04e-c65b2e2015ab",
   "metadata": {},
   "outputs": [],
   "source": []
  }
 ],
 "metadata": {
  "kernelspec": {
   "display_name": "Python 3 (ipykernel)",
   "language": "python",
   "name": "python3"
  },
  "language_info": {
   "codemirror_mode": {
    "name": "ipython",
    "version": 3
   },
   "file_extension": ".py",
   "mimetype": "text/x-python",
   "name": "python",
   "nbconvert_exporter": "python",
   "pygments_lexer": "ipython3",
   "version": "3.11.7"
  }
 },
 "nbformat": 4,
 "nbformat_minor": 5
}
