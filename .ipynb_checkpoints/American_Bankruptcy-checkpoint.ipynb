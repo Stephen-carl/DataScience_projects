{
 "cells": [
  {
   "cell_type": "markdown",
   "id": "c9dab776-5caf-40f6-80e7-9d09ec6229b7",
   "metadata": {},
   "source": [
    "# Bankruptcy Prediction of American businesses\n"
   ]
  },
  {
   "cell_type": "markdown",
   "id": "88430c8c-3786-4429-b206-e908a5535471",
   "metadata": {
    "jp-MarkdownHeadingCollapsed": true
   },
   "source": [
    "#### In this project, i will be doing mostly build a model and less or exploration.\n",
    "#### The Aim of this work is to build/train a classification model to predict whether a company would go bankrupt or not, based on the features given to it. I will be using two Ensemble models (RandomForestclassifier and GradientBoostingClassifier). \n",
    "\n",
    "##### Credits to Kaggle for this dataset\n",
    "##### Kindly check the Dataset Dictionary to know the meaning of the columns i.e X1, X2, etc\n",
    "As i go further in the process, there will be more explanation on each process. \n",
    "If you are interested in just the end result, kindly skip to the end of this project. "
   ]
  },
  {
   "cell_type": "markdown",
   "id": "d16aa04b-b8d5-4aac-a21c-86817461d506",
   "metadata": {},
   "source": [
    "### Exploratory Analysis\n"
   ]
  },
  {
   "cell_type": "markdown",
   "id": "2d40cbf0-d510-4730-8d85-370e7b31f626",
   "metadata": {},
   "source": [
    "**Library Imports**"
   ]
  },
  {
   "cell_type": "code",
   "execution_count": 6,
   "id": "fd412399-13f3-4553-aa0d-ca7bb25bc573",
   "metadata": {},
   "outputs": [],
   "source": [
    "import pandas as pd\n",
    "import matplotlib.pyplot as plt\n",
    "import pickle\n",
    "\n",
    "# import other useful libraries\n",
    "from sklearn.ensemble import GradientBoostingClassifier, RandomForestClassifier\n",
    "from sklearn.model_selection import GridSearchCV, train_test_split\n",
    "from sklearn.metrics import classification_report, accuracy_score, confusion_matrix, ConfusionMatrixDisplay\n",
    "from imblearn.over_sampling import RandomOverSampler\n",
    "import ipywidgets as widgets\n",
    "from ipywidgets import interact\n",
    "import seaborn as sns"
   ]
  },
  {
   "cell_type": "markdown",
   "id": "0dafc7cb-d070-4ff6-a46d-82d4f65203b1",
   "metadata": {},
   "source": [
    "##### Let's see what the dataset entails"
   ]
  },
  {
   "cell_type": "code",
   "execution_count": 8,
   "id": "e72ea893-fe7d-45a8-9a1a-552f43cbdf86",
   "metadata": {},
   "outputs": [
    {
     "data": {
      "text/html": [
       "<div>\n",
       "<style scoped>\n",
       "    .dataframe tbody tr th:only-of-type {\n",
       "        vertical-align: middle;\n",
       "    }\n",
       "\n",
       "    .dataframe tbody tr th {\n",
       "        vertical-align: top;\n",
       "    }\n",
       "\n",
       "    .dataframe thead th {\n",
       "        text-align: right;\n",
       "    }\n",
       "</style>\n",
       "<table border=\"1\" class=\"dataframe\">\n",
       "  <thead>\n",
       "    <tr style=\"text-align: right;\">\n",
       "      <th></th>\n",
       "      <th>status_label</th>\n",
       "      <th>year</th>\n",
       "      <th>X1</th>\n",
       "      <th>X2</th>\n",
       "      <th>X3</th>\n",
       "      <th>X4</th>\n",
       "      <th>X5</th>\n",
       "      <th>X6</th>\n",
       "      <th>X7</th>\n",
       "      <th>X8</th>\n",
       "      <th>X9</th>\n",
       "      <th>X10</th>\n",
       "      <th>X11</th>\n",
       "      <th>X12</th>\n",
       "      <th>X13</th>\n",
       "      <th>X14</th>\n",
       "      <th>X15</th>\n",
       "      <th>X16</th>\n",
       "      <th>X17</th>\n",
       "      <th>X18</th>\n",
       "    </tr>\n",
       "    <tr>\n",
       "      <th>company_name</th>\n",
       "      <th></th>\n",
       "      <th></th>\n",
       "      <th></th>\n",
       "      <th></th>\n",
       "      <th></th>\n",
       "      <th></th>\n",
       "      <th></th>\n",
       "      <th></th>\n",
       "      <th></th>\n",
       "      <th></th>\n",
       "      <th></th>\n",
       "      <th></th>\n",
       "      <th></th>\n",
       "      <th></th>\n",
       "      <th></th>\n",
       "      <th></th>\n",
       "      <th></th>\n",
       "      <th></th>\n",
       "      <th></th>\n",
       "      <th></th>\n",
       "    </tr>\n",
       "  </thead>\n",
       "  <tbody>\n",
       "    <tr>\n",
       "      <th>C_1</th>\n",
       "      <td>alive</td>\n",
       "      <td>1999</td>\n",
       "      <td>511.267</td>\n",
       "      <td>833.107</td>\n",
       "      <td>18.373</td>\n",
       "      <td>89.031</td>\n",
       "      <td>336.018</td>\n",
       "      <td>35.163</td>\n",
       "      <td>128.348</td>\n",
       "      <td>372.7519</td>\n",
       "      <td>1024.333</td>\n",
       "      <td>740.998</td>\n",
       "      <td>180.447</td>\n",
       "      <td>70.658</td>\n",
       "      <td>191.226</td>\n",
       "      <td>163.816</td>\n",
       "      <td>201.026</td>\n",
       "      <td>1024.333</td>\n",
       "      <td>401.483</td>\n",
       "      <td>935.302</td>\n",
       "    </tr>\n",
       "    <tr>\n",
       "      <th>C_1</th>\n",
       "      <td>alive</td>\n",
       "      <td>2000</td>\n",
       "      <td>485.856</td>\n",
       "      <td>713.811</td>\n",
       "      <td>18.577</td>\n",
       "      <td>64.367</td>\n",
       "      <td>320.590</td>\n",
       "      <td>18.531</td>\n",
       "      <td>115.187</td>\n",
       "      <td>377.1180</td>\n",
       "      <td>874.255</td>\n",
       "      <td>701.854</td>\n",
       "      <td>179.987</td>\n",
       "      <td>45.790</td>\n",
       "      <td>160.444</td>\n",
       "      <td>125.392</td>\n",
       "      <td>204.065</td>\n",
       "      <td>874.255</td>\n",
       "      <td>361.642</td>\n",
       "      <td>809.888</td>\n",
       "    </tr>\n",
       "    <tr>\n",
       "      <th>C_1</th>\n",
       "      <td>alive</td>\n",
       "      <td>2001</td>\n",
       "      <td>436.656</td>\n",
       "      <td>526.477</td>\n",
       "      <td>22.496</td>\n",
       "      <td>27.207</td>\n",
       "      <td>286.588</td>\n",
       "      <td>-58.939</td>\n",
       "      <td>77.528</td>\n",
       "      <td>364.5928</td>\n",
       "      <td>638.721</td>\n",
       "      <td>710.199</td>\n",
       "      <td>217.699</td>\n",
       "      <td>4.711</td>\n",
       "      <td>112.244</td>\n",
       "      <td>150.464</td>\n",
       "      <td>139.603</td>\n",
       "      <td>638.721</td>\n",
       "      <td>399.964</td>\n",
       "      <td>611.514</td>\n",
       "    </tr>\n",
       "    <tr>\n",
       "      <th>C_1</th>\n",
       "      <td>alive</td>\n",
       "      <td>2002</td>\n",
       "      <td>396.412</td>\n",
       "      <td>496.747</td>\n",
       "      <td>27.172</td>\n",
       "      <td>30.745</td>\n",
       "      <td>259.954</td>\n",
       "      <td>-12.410</td>\n",
       "      <td>66.322</td>\n",
       "      <td>143.3295</td>\n",
       "      <td>606.337</td>\n",
       "      <td>686.621</td>\n",
       "      <td>164.658</td>\n",
       "      <td>3.573</td>\n",
       "      <td>109.590</td>\n",
       "      <td>203.575</td>\n",
       "      <td>124.106</td>\n",
       "      <td>606.337</td>\n",
       "      <td>391.633</td>\n",
       "      <td>575.592</td>\n",
       "    </tr>\n",
       "    <tr>\n",
       "      <th>C_1</th>\n",
       "      <td>alive</td>\n",
       "      <td>2003</td>\n",
       "      <td>432.204</td>\n",
       "      <td>523.302</td>\n",
       "      <td>26.680</td>\n",
       "      <td>47.491</td>\n",
       "      <td>247.245</td>\n",
       "      <td>3.504</td>\n",
       "      <td>104.661</td>\n",
       "      <td>308.9071</td>\n",
       "      <td>651.958</td>\n",
       "      <td>709.292</td>\n",
       "      <td>248.666</td>\n",
       "      <td>20.811</td>\n",
       "      <td>128.656</td>\n",
       "      <td>131.261</td>\n",
       "      <td>131.884</td>\n",
       "      <td>651.958</td>\n",
       "      <td>407.608</td>\n",
       "      <td>604.467</td>\n",
       "    </tr>\n",
       "    <tr>\n",
       "      <th>C_1</th>\n",
       "      <td>alive</td>\n",
       "      <td>2004</td>\n",
       "      <td>474.542</td>\n",
       "      <td>598.172</td>\n",
       "      <td>27.950</td>\n",
       "      <td>61.774</td>\n",
       "      <td>255.477</td>\n",
       "      <td>15.453</td>\n",
       "      <td>127.121</td>\n",
       "      <td>522.6794</td>\n",
       "      <td>747.848</td>\n",
       "      <td>732.230</td>\n",
       "      <td>227.159</td>\n",
       "      <td>33.824</td>\n",
       "      <td>149.676</td>\n",
       "      <td>160.025</td>\n",
       "      <td>142.450</td>\n",
       "      <td>747.848</td>\n",
       "      <td>417.486</td>\n",
       "      <td>686.074</td>\n",
       "    </tr>\n",
       "    <tr>\n",
       "      <th>C_1</th>\n",
       "      <td>alive</td>\n",
       "      <td>2005</td>\n",
       "      <td>624.454</td>\n",
       "      <td>704.081</td>\n",
       "      <td>29.222</td>\n",
       "      <td>91.877</td>\n",
       "      <td>323.592</td>\n",
       "      <td>35.163</td>\n",
       "      <td>136.272</td>\n",
       "      <td>882.6283</td>\n",
       "      <td>897.284</td>\n",
       "      <td>978.819</td>\n",
       "      <td>318.576</td>\n",
       "      <td>62.655</td>\n",
       "      <td>193.203</td>\n",
       "      <td>187.788</td>\n",
       "      <td>183.550</td>\n",
       "      <td>897.284</td>\n",
       "      <td>556.102</td>\n",
       "      <td>805.407</td>\n",
       "    </tr>\n",
       "    <tr>\n",
       "      <th>C_1</th>\n",
       "      <td>alive</td>\n",
       "      <td>2006</td>\n",
       "      <td>645.721</td>\n",
       "      <td>837.171</td>\n",
       "      <td>32.199</td>\n",
       "      <td>118.907</td>\n",
       "      <td>342.593</td>\n",
       "      <td>58.660</td>\n",
       "      <td>181.691</td>\n",
       "      <td>1226.1925</td>\n",
       "      <td>1061.169</td>\n",
       "      <td>1067.633</td>\n",
       "      <td>253.611</td>\n",
       "      <td>86.708</td>\n",
       "      <td>223.998</td>\n",
       "      <td>256.506</td>\n",
       "      <td>242.153</td>\n",
       "      <td>1061.169</td>\n",
       "      <td>573.390</td>\n",
       "      <td>942.262</td>\n",
       "    </tr>\n",
       "    <tr>\n",
       "      <th>C_1</th>\n",
       "      <td>alive</td>\n",
       "      <td>2007</td>\n",
       "      <td>783.431</td>\n",
       "      <td>1080.895</td>\n",
       "      <td>39.952</td>\n",
       "      <td>168.522</td>\n",
       "      <td>435.608</td>\n",
       "      <td>75.144</td>\n",
       "      <td>202.472</td>\n",
       "      <td>747.5434</td>\n",
       "      <td>1384.919</td>\n",
       "      <td>1362.010</td>\n",
       "      <td>507.918</td>\n",
       "      <td>128.570</td>\n",
       "      <td>304.024</td>\n",
       "      <td>218.499</td>\n",
       "      <td>318.184</td>\n",
       "      <td>1384.919</td>\n",
       "      <td>776.755</td>\n",
       "      <td>1216.397</td>\n",
       "    </tr>\n",
       "    <tr>\n",
       "      <th>C_1</th>\n",
       "      <td>alive</td>\n",
       "      <td>2008</td>\n",
       "      <td>851.312</td>\n",
       "      <td>1110.677</td>\n",
       "      <td>40.551</td>\n",
       "      <td>166.080</td>\n",
       "      <td>477.424</td>\n",
       "      <td>78.651</td>\n",
       "      <td>227.300</td>\n",
       "      <td>571.5948</td>\n",
       "      <td>1423.976</td>\n",
       "      <td>1377.511</td>\n",
       "      <td>392.984</td>\n",
       "      <td>125.529</td>\n",
       "      <td>313.299</td>\n",
       "      <td>254.418</td>\n",
       "      <td>385.851</td>\n",
       "      <td>1423.976</td>\n",
       "      <td>720.616</td>\n",
       "      <td>1257.896</td>\n",
       "    </tr>\n",
       "  </tbody>\n",
       "</table>\n",
       "</div>"
      ],
      "text/plain": [
       "             status_label  year       X1        X2      X3       X4       X5  \\\n",
       "company_name                                                                   \n",
       "C_1                 alive  1999  511.267   833.107  18.373   89.031  336.018   \n",
       "C_1                 alive  2000  485.856   713.811  18.577   64.367  320.590   \n",
       "C_1                 alive  2001  436.656   526.477  22.496   27.207  286.588   \n",
       "C_1                 alive  2002  396.412   496.747  27.172   30.745  259.954   \n",
       "C_1                 alive  2003  432.204   523.302  26.680   47.491  247.245   \n",
       "C_1                 alive  2004  474.542   598.172  27.950   61.774  255.477   \n",
       "C_1                 alive  2005  624.454   704.081  29.222   91.877  323.592   \n",
       "C_1                 alive  2006  645.721   837.171  32.199  118.907  342.593   \n",
       "C_1                 alive  2007  783.431  1080.895  39.952  168.522  435.608   \n",
       "C_1                 alive  2008  851.312  1110.677  40.551  166.080  477.424   \n",
       "\n",
       "                  X6       X7         X8        X9       X10      X11  \\\n",
       "company_name                                                            \n",
       "C_1           35.163  128.348   372.7519  1024.333   740.998  180.447   \n",
       "C_1           18.531  115.187   377.1180   874.255   701.854  179.987   \n",
       "C_1          -58.939   77.528   364.5928   638.721   710.199  217.699   \n",
       "C_1          -12.410   66.322   143.3295   606.337   686.621  164.658   \n",
       "C_1            3.504  104.661   308.9071   651.958   709.292  248.666   \n",
       "C_1           15.453  127.121   522.6794   747.848   732.230  227.159   \n",
       "C_1           35.163  136.272   882.6283   897.284   978.819  318.576   \n",
       "C_1           58.660  181.691  1226.1925  1061.169  1067.633  253.611   \n",
       "C_1           75.144  202.472   747.5434  1384.919  1362.010  507.918   \n",
       "C_1           78.651  227.300   571.5948  1423.976  1377.511  392.984   \n",
       "\n",
       "                  X12      X13      X14      X15       X16      X17       X18  \n",
       "company_name                                                                   \n",
       "C_1            70.658  191.226  163.816  201.026  1024.333  401.483   935.302  \n",
       "C_1            45.790  160.444  125.392  204.065   874.255  361.642   809.888  \n",
       "C_1             4.711  112.244  150.464  139.603   638.721  399.964   611.514  \n",
       "C_1             3.573  109.590  203.575  124.106   606.337  391.633   575.592  \n",
       "C_1            20.811  128.656  131.261  131.884   651.958  407.608   604.467  \n",
       "C_1            33.824  149.676  160.025  142.450   747.848  417.486   686.074  \n",
       "C_1            62.655  193.203  187.788  183.550   897.284  556.102   805.407  \n",
       "C_1            86.708  223.998  256.506  242.153  1061.169  573.390   942.262  \n",
       "C_1           128.570  304.024  218.499  318.184  1384.919  776.755  1216.397  \n",
       "C_1           125.529  313.299  254.418  385.851  1423.976  720.616  1257.896  "
      ]
     },
     "execution_count": 8,
     "metadata": {},
     "output_type": "execute_result"
    }
   ],
   "source": [
    "df = pd.read_csv(\"C:/Users/HP/Documents/Stephen/DataScience_projects/american_bankruptcy.csv\").set_index(\"company_name\")\n",
    "df.head(10)"
   ]
  },
  {
   "cell_type": "code",
   "execution_count": 9,
   "id": "9a64c21a-bf56-4bcb-88f1-dc1c38714457",
   "metadata": {},
   "outputs": [
    {
     "data": {
      "text/plain": [
       "78682"
      ]
     },
     "execution_count": 9,
     "metadata": {},
     "output_type": "execute_result"
    }
   ],
   "source": [
    "# Number of observations\n",
    "len(df)"
   ]
  },
  {
   "cell_type": "code",
   "execution_count": 10,
   "id": "dbcf2087-595e-4f90-a1e9-db17f5650159",
   "metadata": {},
   "outputs": [
    {
     "data": {
      "text/plain": [
       "company_name\n",
       "C_4081    20\n",
       "C_6487    20\n",
       "C_1153    20\n",
       "C_4047    20\n",
       "C_4056    20\n",
       "          ..\n",
       "C_1498     1\n",
       "C_5908     1\n",
       "C_2814     1\n",
       "C_3997     1\n",
       "C_3408     1\n",
       "Name: count, Length: 8971, dtype: int64"
      ]
     },
     "execution_count": 10,
     "metadata": {},
     "output_type": "execute_result"
    }
   ],
   "source": [
    "# Number of observations per company\n",
    "df.index.value_counts()"
   ]
  },
  {
   "cell_type": "markdown",
   "id": "72dd9612-49da-4aaa-adab-33620b399108",
   "metadata": {},
   "source": [
    "It seems like the different companies have varying number of observations, But i would like to work with just one observation of each company"
   ]
  },
  {
   "cell_type": "markdown",
   "id": "5925013e-851a-4e26-bf66-c1e7cd1764e4",
   "metadata": {},
   "source": [
    "##### Masking the dataset to be just one of the observation per company and should be the last one"
   ]
  },
  {
   "cell_type": "code",
   "execution_count": 13,
   "id": "41a94c9e-ca64-4c3b-877d-377e2007ff70",
   "metadata": {},
   "outputs": [
    {
     "data": {
      "text/html": [
       "<div>\n",
       "<style scoped>\n",
       "    .dataframe tbody tr th:only-of-type {\n",
       "        vertical-align: middle;\n",
       "    }\n",
       "\n",
       "    .dataframe tbody tr th {\n",
       "        vertical-align: top;\n",
       "    }\n",
       "\n",
       "    .dataframe thead th {\n",
       "        text-align: right;\n",
       "    }\n",
       "</style>\n",
       "<table border=\"1\" class=\"dataframe\">\n",
       "  <thead>\n",
       "    <tr style=\"text-align: right;\">\n",
       "      <th></th>\n",
       "      <th>status_label</th>\n",
       "      <th>year</th>\n",
       "      <th>X1</th>\n",
       "      <th>X2</th>\n",
       "      <th>X3</th>\n",
       "      <th>X4</th>\n",
       "      <th>X5</th>\n",
       "      <th>X6</th>\n",
       "      <th>X7</th>\n",
       "      <th>X8</th>\n",
       "      <th>X9</th>\n",
       "      <th>X10</th>\n",
       "      <th>X11</th>\n",
       "      <th>X12</th>\n",
       "      <th>X13</th>\n",
       "      <th>X14</th>\n",
       "      <th>X15</th>\n",
       "      <th>X16</th>\n",
       "      <th>X17</th>\n",
       "      <th>X18</th>\n",
       "    </tr>\n",
       "    <tr>\n",
       "      <th>company_name</th>\n",
       "      <th></th>\n",
       "      <th></th>\n",
       "      <th></th>\n",
       "      <th></th>\n",
       "      <th></th>\n",
       "      <th></th>\n",
       "      <th></th>\n",
       "      <th></th>\n",
       "      <th></th>\n",
       "      <th></th>\n",
       "      <th></th>\n",
       "      <th></th>\n",
       "      <th></th>\n",
       "      <th></th>\n",
       "      <th></th>\n",
       "      <th></th>\n",
       "      <th></th>\n",
       "      <th></th>\n",
       "      <th></th>\n",
       "      <th></th>\n",
       "    </tr>\n",
       "  </thead>\n",
       "  <tbody>\n",
       "    <tr>\n",
       "      <th>C_995</th>\n",
       "      <td>alive</td>\n",
       "      <td>2005</td>\n",
       "      <td>1496.536</td>\n",
       "      <td>4245.911</td>\n",
       "      <td>167.547</td>\n",
       "      <td>201.550</td>\n",
       "      <td>633.657</td>\n",
       "      <td>-81.947</td>\n",
       "      <td>672.734</td>\n",
       "      <td>1512.8081</td>\n",
       "      <td>4901.115</td>\n",
       "      <td>2953.571</td>\n",
       "      <td>563.368</td>\n",
       "      <td>34.003</td>\n",
       "      <td>655.204</td>\n",
       "      <td>1346.399</td>\n",
       "      <td>654.274</td>\n",
       "      <td>4901.115</td>\n",
       "      <td>3140.893</td>\n",
       "      <td>4699.565</td>\n",
       "    </tr>\n",
       "    <tr>\n",
       "      <th>C_996</th>\n",
       "      <td>alive</td>\n",
       "      <td>2001</td>\n",
       "      <td>62.788</td>\n",
       "      <td>74.934</td>\n",
       "      <td>3.346</td>\n",
       "      <td>-0.613</td>\n",
       "      <td>36.729</td>\n",
       "      <td>-4.989</td>\n",
       "      <td>25.152</td>\n",
       "      <td>7.0076</td>\n",
       "      <td>91.550</td>\n",
       "      <td>102.646</td>\n",
       "      <td>0.000</td>\n",
       "      <td>-3.959</td>\n",
       "      <td>16.616</td>\n",
       "      <td>75.197</td>\n",
       "      <td>20.945</td>\n",
       "      <td>91.550</td>\n",
       "      <td>77.640</td>\n",
       "      <td>92.163</td>\n",
       "    </tr>\n",
       "    <tr>\n",
       "      <th>C_997</th>\n",
       "      <td>alive</td>\n",
       "      <td>2018</td>\n",
       "      <td>1479.900</td>\n",
       "      <td>2897.900</td>\n",
       "      <td>139.400</td>\n",
       "      <td>1081.500</td>\n",
       "      <td>786.300</td>\n",
       "      <td>933.400</td>\n",
       "      <td>518.100</td>\n",
       "      <td>19814.1360</td>\n",
       "      <td>5408.900</td>\n",
       "      <td>10256.400</td>\n",
       "      <td>4052.900</td>\n",
       "      <td>942.100</td>\n",
       "      <td>2511.000</td>\n",
       "      <td>2001.700</td>\n",
       "      <td>1400.300</td>\n",
       "      <td>5408.900</td>\n",
       "      <td>7074.200</td>\n",
       "      <td>4327.400</td>\n",
       "    </tr>\n",
       "    <tr>\n",
       "      <th>C_998</th>\n",
       "      <td>failed</td>\n",
       "      <td>2018</td>\n",
       "      <td>3033.000</td>\n",
       "      <td>6072.000</td>\n",
       "      <td>177.000</td>\n",
       "      <td>331.000</td>\n",
       "      <td>805.000</td>\n",
       "      <td>-2687.000</td>\n",
       "      <td>1107.000</td>\n",
       "      <td>1183.7400</td>\n",
       "      <td>6705.000</td>\n",
       "      <td>9440.000</td>\n",
       "      <td>3459.000</td>\n",
       "      <td>154.000</td>\n",
       "      <td>633.000</td>\n",
       "      <td>4217.000</td>\n",
       "      <td>-2826.000</td>\n",
       "      <td>6705.000</td>\n",
       "      <td>8387.000</td>\n",
       "      <td>6374.000</td>\n",
       "    </tr>\n",
       "    <tr>\n",
       "      <th>C_999</th>\n",
       "      <td>alive</td>\n",
       "      <td>2018</td>\n",
       "      <td>4053.200</td>\n",
       "      <td>8936.300</td>\n",
       "      <td>1302.900</td>\n",
       "      <td>9888.700</td>\n",
       "      <td>51.100</td>\n",
       "      <td>5924.300</td>\n",
       "      <td>2441.500</td>\n",
       "      <td>136213.9470</td>\n",
       "      <td>21025.200</td>\n",
       "      <td>32811.200</td>\n",
       "      <td>31075.300</td>\n",
       "      <td>8585.800</td>\n",
       "      <td>12088.900</td>\n",
       "      <td>2973.500</td>\n",
       "      <td>47877.500</td>\n",
       "      <td>21025.200</td>\n",
       "      <td>39069.600</td>\n",
       "      <td>11136.500</td>\n",
       "    </tr>\n",
       "  </tbody>\n",
       "</table>\n",
       "</div>"
      ],
      "text/plain": [
       "             status_label  year        X1        X2        X3        X4  \\\n",
       "company_name                                                              \n",
       "C_995               alive  2005  1496.536  4245.911   167.547   201.550   \n",
       "C_996               alive  2001    62.788    74.934     3.346    -0.613   \n",
       "C_997               alive  2018  1479.900  2897.900   139.400  1081.500   \n",
       "C_998              failed  2018  3033.000  6072.000   177.000   331.000   \n",
       "C_999               alive  2018  4053.200  8936.300  1302.900  9888.700   \n",
       "\n",
       "                   X5        X6        X7           X8         X9        X10  \\\n",
       "company_name                                                                   \n",
       "C_995         633.657   -81.947   672.734    1512.8081   4901.115   2953.571   \n",
       "C_996          36.729    -4.989    25.152       7.0076     91.550    102.646   \n",
       "C_997         786.300   933.400   518.100   19814.1360   5408.900  10256.400   \n",
       "C_998         805.000 -2687.000  1107.000    1183.7400   6705.000   9440.000   \n",
       "C_999          51.100  5924.300  2441.500  136213.9470  21025.200  32811.200   \n",
       "\n",
       "                    X11       X12        X13       X14        X15        X16  \\\n",
       "company_name                                                                   \n",
       "C_995           563.368    34.003    655.204  1346.399    654.274   4901.115   \n",
       "C_996             0.000    -3.959     16.616    75.197     20.945     91.550   \n",
       "C_997          4052.900   942.100   2511.000  2001.700   1400.300   5408.900   \n",
       "C_998          3459.000   154.000    633.000  4217.000  -2826.000   6705.000   \n",
       "C_999         31075.300  8585.800  12088.900  2973.500  47877.500  21025.200   \n",
       "\n",
       "                    X17        X18  \n",
       "company_name                        \n",
       "C_995          3140.893   4699.565  \n",
       "C_996            77.640     92.163  \n",
       "C_997          7074.200   4327.400  \n",
       "C_998          8387.000   6374.000  \n",
       "C_999         39069.600  11136.500  "
      ]
     },
     "execution_count": 13,
     "metadata": {},
     "output_type": "execute_result"
    }
   ],
   "source": [
    "df_cut = df.groupby(df.index).last()#.reset_index(drop = True, inplace = True)\n",
    "df_cut.tail()"
   ]
  },
  {
   "cell_type": "code",
   "execution_count": 14,
   "id": "9e346b6e-600c-4f84-9935-a8ebb2cfc4bb",
   "metadata": {},
   "outputs": [
    {
     "data": {
      "text/plain": [
       "8971"
      ]
     },
     "execution_count": 14,
     "metadata": {},
     "output_type": "execute_result"
    }
   ],
   "source": [
    "# Number of unique observations\n",
    "df_cut.index.nunique()"
   ]
  },
  {
   "cell_type": "code",
   "execution_count": 15,
   "id": "667e9597-09e3-4641-969d-bb21f7f42646",
   "metadata": {},
   "outputs": [
    {
     "data": {
      "text/html": [
       "<div>\n",
       "<style scoped>\n",
       "    .dataframe tbody tr th:only-of-type {\n",
       "        vertical-align: middle;\n",
       "    }\n",
       "\n",
       "    .dataframe tbody tr th {\n",
       "        vertical-align: top;\n",
       "    }\n",
       "\n",
       "    .dataframe thead th {\n",
       "        text-align: right;\n",
       "    }\n",
       "</style>\n",
       "<table border=\"1\" class=\"dataframe\">\n",
       "  <thead>\n",
       "    <tr style=\"text-align: right;\">\n",
       "      <th></th>\n",
       "      <th>status_label</th>\n",
       "      <th>year</th>\n",
       "      <th>X1</th>\n",
       "      <th>X2</th>\n",
       "      <th>X3</th>\n",
       "      <th>X4</th>\n",
       "      <th>X5</th>\n",
       "      <th>X6</th>\n",
       "      <th>X7</th>\n",
       "      <th>X8</th>\n",
       "      <th>X9</th>\n",
       "      <th>X10</th>\n",
       "      <th>X11</th>\n",
       "      <th>X12</th>\n",
       "      <th>X13</th>\n",
       "      <th>X14</th>\n",
       "      <th>X15</th>\n",
       "      <th>X16</th>\n",
       "      <th>X17</th>\n",
       "      <th>X18</th>\n",
       "    </tr>\n",
       "    <tr>\n",
       "      <th>company_name</th>\n",
       "      <th></th>\n",
       "      <th></th>\n",
       "      <th></th>\n",
       "      <th></th>\n",
       "      <th></th>\n",
       "      <th></th>\n",
       "      <th></th>\n",
       "      <th></th>\n",
       "      <th></th>\n",
       "      <th></th>\n",
       "      <th></th>\n",
       "      <th></th>\n",
       "      <th></th>\n",
       "      <th></th>\n",
       "      <th></th>\n",
       "      <th></th>\n",
       "      <th></th>\n",
       "      <th></th>\n",
       "      <th></th>\n",
       "      <th></th>\n",
       "    </tr>\n",
       "  </thead>\n",
       "  <tbody>\n",
       "    <tr>\n",
       "      <th>C_1</th>\n",
       "      <td>False</td>\n",
       "      <td>2017</td>\n",
       "      <td>942.700</td>\n",
       "      <td>1413.200</td>\n",
       "      <td>40.500</td>\n",
       "      <td>126.500</td>\n",
       "      <td>547.900</td>\n",
       "      <td>15.600</td>\n",
       "      <td>203.000</td>\n",
       "      <td>1551.4580</td>\n",
       "      <td>1748.300</td>\n",
       "      <td>1524.700</td>\n",
       "      <td>177.200</td>\n",
       "      <td>86.000</td>\n",
       "      <td>335.100</td>\n",
       "      <td>333.300</td>\n",
       "      <td>701.200</td>\n",
       "      <td>1748.300</td>\n",
       "      <td>588.400</td>\n",
       "      <td>1621.800</td>\n",
       "    </tr>\n",
       "    <tr>\n",
       "      <th>C_10</th>\n",
       "      <td>False</td>\n",
       "      <td>2018</td>\n",
       "      <td>924.991</td>\n",
       "      <td>2335.206</td>\n",
       "      <td>582.354</td>\n",
       "      <td>1356.041</td>\n",
       "      <td>294.094</td>\n",
       "      <td>511.047</td>\n",
       "      <td>400.988</td>\n",
       "      <td>9551.0904</td>\n",
       "      <td>3691.247</td>\n",
       "      <td>17664.202</td>\n",
       "      <td>4638.232</td>\n",
       "      <td>773.687</td>\n",
       "      <td>1356.041</td>\n",
       "      <td>1648.964</td>\n",
       "      <td>2593.475</td>\n",
       "      <td>3691.247</td>\n",
       "      <td>12315.497</td>\n",
       "      <td>2335.206</td>\n",
       "    </tr>\n",
       "    <tr>\n",
       "      <th>C_100</th>\n",
       "      <td>False</td>\n",
       "      <td>2013</td>\n",
       "      <td>87.342</td>\n",
       "      <td>62.127</td>\n",
       "      <td>33.174</td>\n",
       "      <td>65.532</td>\n",
       "      <td>5.295</td>\n",
       "      <td>18.496</td>\n",
       "      <td>25.753</td>\n",
       "      <td>459.0008</td>\n",
       "      <td>149.023</td>\n",
       "      <td>375.254</td>\n",
       "      <td>5.000</td>\n",
       "      <td>32.358</td>\n",
       "      <td>86.896</td>\n",
       "      <td>37.227</td>\n",
       "      <td>305.803</td>\n",
       "      <td>149.023</td>\n",
       "      <td>59.796</td>\n",
       "      <td>83.491</td>\n",
       "    </tr>\n",
       "    <tr>\n",
       "      <th>C_1000</th>\n",
       "      <td>False</td>\n",
       "      <td>2018</td>\n",
       "      <td>3604.000</td>\n",
       "      <td>1701.000</td>\n",
       "      <td>206.000</td>\n",
       "      <td>3162.000</td>\n",
       "      <td>0.000</td>\n",
       "      <td>1958.000</td>\n",
       "      <td>1449.000</td>\n",
       "      <td>42213.0960</td>\n",
       "      <td>6258.000</td>\n",
       "      <td>9458.000</td>\n",
       "      <td>3662.000</td>\n",
       "      <td>2956.000</td>\n",
       "      <td>4557.000</td>\n",
       "      <td>2629.000</td>\n",
       "      <td>10542.000</td>\n",
       "      <td>6258.000</td>\n",
       "      <td>7154.000</td>\n",
       "      <td>3096.000</td>\n",
       "    </tr>\n",
       "    <tr>\n",
       "      <th>C_1001</th>\n",
       "      <td>False</td>\n",
       "      <td>2018</td>\n",
       "      <td>38465.000</td>\n",
       "      <td>202446.000</td>\n",
       "      <td>802.000</td>\n",
       "      <td>3816.000</td>\n",
       "      <td>16709.000</td>\n",
       "      <td>34.000</td>\n",
       "      <td>18246.000</td>\n",
       "      <td>22241.4000</td>\n",
       "      <td>214319.000</td>\n",
       "      <td>59672.000</td>\n",
       "      <td>7265.000</td>\n",
       "      <td>3014.000</td>\n",
       "      <td>11873.000</td>\n",
       "      <td>37626.000</td>\n",
       "      <td>10558.000</td>\n",
       "      <td>214319.000</td>\n",
       "      <td>49992.000</td>\n",
       "      <td>210503.000</td>\n",
       "    </tr>\n",
       "  </tbody>\n",
       "</table>\n",
       "</div>"
      ],
      "text/plain": [
       "              status_label  year         X1          X2       X3        X4  \\\n",
       "company_name                                                                 \n",
       "C_1                  False  2017    942.700    1413.200   40.500   126.500   \n",
       "C_10                 False  2018    924.991    2335.206  582.354  1356.041   \n",
       "C_100                False  2013     87.342      62.127   33.174    65.532   \n",
       "C_1000               False  2018   3604.000    1701.000  206.000  3162.000   \n",
       "C_1001               False  2018  38465.000  202446.000  802.000  3816.000   \n",
       "\n",
       "                     X5        X6         X7          X8          X9  \\\n",
       "company_name                                                           \n",
       "C_1             547.900    15.600    203.000   1551.4580    1748.300   \n",
       "C_10            294.094   511.047    400.988   9551.0904    3691.247   \n",
       "C_100             5.295    18.496     25.753    459.0008     149.023   \n",
       "C_1000            0.000  1958.000   1449.000  42213.0960    6258.000   \n",
       "C_1001        16709.000    34.000  18246.000  22241.4000  214319.000   \n",
       "\n",
       "                    X10       X11       X12        X13        X14        X15  \\\n",
       "company_name                                                                   \n",
       "C_1            1524.700   177.200    86.000    335.100    333.300    701.200   \n",
       "C_10          17664.202  4638.232   773.687   1356.041   1648.964   2593.475   \n",
       "C_100           375.254     5.000    32.358     86.896     37.227    305.803   \n",
       "C_1000         9458.000  3662.000  2956.000   4557.000   2629.000  10542.000   \n",
       "C_1001        59672.000  7265.000  3014.000  11873.000  37626.000  10558.000   \n",
       "\n",
       "                     X16        X17         X18  \n",
       "company_name                                     \n",
       "C_1             1748.300    588.400    1621.800  \n",
       "C_10            3691.247  12315.497    2335.206  \n",
       "C_100            149.023     59.796      83.491  \n",
       "C_1000          6258.000   7154.000    3096.000  \n",
       "C_1001        214319.000  49992.000  210503.000  "
      ]
     },
     "execution_count": 15,
     "metadata": {},
     "output_type": "execute_result"
    }
   ],
   "source": [
    "# Renaming the \"alive\" in the status label to \"False\" meaning the company didn't go bankrupt and \"Failed\" to \"True\" meaning the company went bankrupt\n",
    "df_cut[\"status_label\"] = df_cut[\"status_label\"].apply(lambda x: False if x == 'alive' else True)\n",
    "df_cut.head()"
   ]
  },
  {
   "cell_type": "code",
   "execution_count": 16,
   "id": "2726cf1f-0996-4e63-ac96-0a5736a0f655",
   "metadata": {},
   "outputs": [
    {
     "name": "stdout",
     "output_type": "stream",
     "text": [
      "status_label\n",
      "False    0.932115\n",
      "True     0.067885\n",
      "Name: proportion, dtype: float64\n"
     ]
    },
    {
     "data": {
      "image/png": "[encoded data removed]",
      "text/plain": [
       "<Figure size 640x480 with 1 Axes>"
      ]
     },
     "metadata": {},
     "output_type": "display_data"
    }
   ],
   "source": [
    "# to know the average counts of each Class, bankrupt or not\n",
    "\n",
    "print(df_cut[\"status_label\"].value_counts(normalize=True))\n",
    "vals=df_cut[\"status_label\"].value_counts(normalize=True)\n",
    "vals.plot(kind = \"bar\", xlabel = \"Status\", ylabel = \"Distribution\",title = \"Distribution of classes\");"
   ]
  },
  {
   "cell_type": "code",
   "execution_count": 17,
   "id": "3c1b8efa-a00e-4627-a5bc-6bf4303495a5",
   "metadata": {},
   "outputs": [
    {
     "name": "stdout",
     "output_type": "stream",
     "text": [
      "<class 'pandas.core.frame.DataFrame'>\n",
      "Index: 8971 entries, C_1 to C_999\n",
      "Data columns (total 20 columns):\n",
      " #   Column        Non-Null Count  Dtype  \n",
      "---  ------        --------------  -----  \n",
      " 0   status_label  8971 non-null   bool   \n",
      " 1   year          8971 non-null   int64  \n",
      " 2   X1            8971 non-null   float64\n",
      " 3   X2            8971 non-null   float64\n",
      " 4   X3            8971 non-null   float64\n",
      " 5   X4            8971 non-null   float64\n",
      " 6   X5            8971 non-null   float64\n",
      " 7   X6            8971 non-null   float64\n",
      " 8   X7            8971 non-null   float64\n",
      " 9   X8            8971 non-null   float64\n",
      " 10  X9            8971 non-null   float64\n",
      " 11  X10           8971 non-null   float64\n",
      " 12  X11           8971 non-null   float64\n",
      " 13  X12           8971 non-null   float64\n",
      " 14  X13           8971 non-null   float64\n",
      " 15  X14           8971 non-null   float64\n",
      " 16  X15           8971 non-null   float64\n",
      " 17  X16           8971 non-null   float64\n",
      " 18  X17           8971 non-null   float64\n",
      " 19  X18           8971 non-null   float64\n",
      "dtypes: bool(1), float64(18), int64(1)\n",
      "memory usage: 1.6+ MB\n"
     ]
    }
   ],
   "source": [
    "df_cut.info()"
   ]
  },
  {
   "cell_type": "markdown",
   "id": "7726a2eb-bab3-4680-b8c7-0150daf3ed89",
   "metadata": {},
   "source": [
    "##### Let's see into one of the important features \n",
    "##### X6: Net Income: The overall profitability of a company after all expenses and costs have been deducted"
   ]
  },
  {
   "cell_type": "code",
   "execution_count": 19,
   "id": "9e7cd95a-c941-445f-97ef-c8ef303cbc15",
   "metadata": {},
   "outputs": [
    {
     "data": {
      "text/plain": [
       "count      8,971\n",
       "mean          97\n",
       "std        1,123\n",
       "min      -10,192\n",
       "25%          -15\n",
       "50%           -1\n",
       "75%           21\n",
       "max       59,531\n",
       "Name: X6, dtype: object"
      ]
     },
     "execution_count": 19,
     "metadata": {},
     "output_type": "execute_result"
    }
   ],
   "source": [
    "df_cut[\"X6\"].describe().apply(\"{0:,.0f}\".format)"
   ]
  },
  {
   "cell_type": "code",
   "execution_count": 20,
   "id": "364a5f7a-d6d6-4e5f-ab74-58969548cf68",
   "metadata": {},
   "outputs": [
    {
     "data": {
      "image/png": "[encoded data removed]",
      "text/plain": [
       "<Figure size 640x480 with 1 Axes>"
      ]
     },
     "metadata": {},
     "output_type": "display_data"
    }
   ],
   "source": [
    "# Display on seasborn\n",
    "\n",
    "sns.boxplot(x = \"status_label\", y = \"X6\", data = df_cut);"
   ]
  },
  {
   "cell_type": "code",
   "execution_count": 21,
   "id": "a915a261-9688-4eba-8804-25db54b0f2e8",
   "metadata": {},
   "outputs": [
    {
     "data": {
      "image/png": "[encoded data removed]",
      "text/plain": [
       "<Figure size 640x480 with 1 Axes>"
      ]
     },
     "metadata": {},
     "output_type": "display_data"
    }
   ],
   "source": [
    "# check for skewed data\n",
    "plt.hist(df_cut[\"X6\"]);"
   ]
  },
  {
   "cell_type": "code",
   "execution_count": 22,
   "id": "2582b085-d58b-4d65-8b3b-34fb4aae527e",
   "metadata": {},
   "outputs": [
    {
     "data": {
      "text/plain": [
       "company_name\n",
       "C_1        True\n",
       "C_10       True\n",
       "C_100      True\n",
       "C_1000    False\n",
       "C_1001     True\n",
       "Name: X6, dtype: bool"
      ]
     },
     "execution_count": 22,
     "metadata": {},
     "output_type": "execute_result"
    }
   ],
   "source": [
    "# mask to remove outliers\n",
    "q1, q9 = df_cut[\"X6\"].quantile([0.02,0.98])\n",
    "mask  = df_cut[\"X6\"].between(q1, q9)\n",
    "mask.head()"
   ]
  },
  {
   "cell_type": "code",
   "execution_count": 23,
   "id": "12ece7be-1850-4e80-95d8-959809911817",
   "metadata": {},
   "outputs": [
    {
     "data": {
      "image/png": "[encoded data removed]",
      "text/plain": [
       "<Figure size 640x480 with 1 Axes>"
      ]
     },
     "metadata": {},
     "output_type": "display_data"
    }
   ],
   "source": [
    "sns.boxplot(x = \"status_label\", y = \"X6\", data = df_cut[mask]);"
   ]
  },
  {
   "cell_type": "markdown",
   "id": "63e78cc1-00f5-45cc-b5e3-f7d1087d5cbb",
   "metadata": {},
   "source": [
    "**After removing outliers to balance the X6 feature, we can see from the chart that most companies that went bankrupt (Orange colour) due to this feature had lower profitability, unlike the companies that didin't.**"
   ]
  },
  {
   "cell_type": "code",
   "execution_count": 25,
   "id": "a5dc3e44-5357-4784-9248-d0d5b10c3dc2",
   "metadata": {},
   "outputs": [
    {
     "data": {
      "text/html": [
       "<div>\n",
       "<style scoped>\n",
       "    .dataframe tbody tr th:only-of-type {\n",
       "        vertical-align: middle;\n",
       "    }\n",
       "\n",
       "    .dataframe tbody tr th {\n",
       "        vertical-align: top;\n",
       "    }\n",
       "\n",
       "    .dataframe thead th {\n",
       "        text-align: right;\n",
       "    }\n",
       "</style>\n",
       "<table border=\"1\" class=\"dataframe\">\n",
       "  <thead>\n",
       "    <tr style=\"text-align: right;\">\n",
       "      <th></th>\n",
       "      <th>status_label</th>\n",
       "      <th>year</th>\n",
       "      <th>X1</th>\n",
       "      <th>X2</th>\n",
       "      <th>X3</th>\n",
       "      <th>X4</th>\n",
       "      <th>X5</th>\n",
       "      <th>X6</th>\n",
       "      <th>X7</th>\n",
       "      <th>X8</th>\n",
       "      <th>X9</th>\n",
       "      <th>X10</th>\n",
       "      <th>X11</th>\n",
       "      <th>X12</th>\n",
       "      <th>X13</th>\n",
       "      <th>X14</th>\n",
       "      <th>X15</th>\n",
       "      <th>X16</th>\n",
       "      <th>X17</th>\n",
       "      <th>X18</th>\n",
       "    </tr>\n",
       "    <tr>\n",
       "      <th>company_name</th>\n",
       "      <th></th>\n",
       "      <th></th>\n",
       "      <th></th>\n",
       "      <th></th>\n",
       "      <th></th>\n",
       "      <th></th>\n",
       "      <th></th>\n",
       "      <th></th>\n",
       "      <th></th>\n",
       "      <th></th>\n",
       "      <th></th>\n",
       "      <th></th>\n",
       "      <th></th>\n",
       "      <th></th>\n",
       "      <th></th>\n",
       "      <th></th>\n",
       "      <th></th>\n",
       "      <th></th>\n",
       "      <th></th>\n",
       "      <th></th>\n",
       "    </tr>\n",
       "  </thead>\n",
       "  <tbody>\n",
       "    <tr>\n",
       "      <th>C_1</th>\n",
       "      <td>False</td>\n",
       "      <td>2017</td>\n",
       "      <td>942.700</td>\n",
       "      <td>1413.200</td>\n",
       "      <td>40.500</td>\n",
       "      <td>126.500</td>\n",
       "      <td>547.900</td>\n",
       "      <td>15.600</td>\n",
       "      <td>203.000</td>\n",
       "      <td>1551.4580</td>\n",
       "      <td>1748.300</td>\n",
       "      <td>1524.700</td>\n",
       "      <td>177.200</td>\n",
       "      <td>86.000</td>\n",
       "      <td>335.100</td>\n",
       "      <td>333.300</td>\n",
       "      <td>701.200</td>\n",
       "      <td>1748.300</td>\n",
       "      <td>588.400</td>\n",
       "      <td>1621.800</td>\n",
       "    </tr>\n",
       "    <tr>\n",
       "      <th>C_10</th>\n",
       "      <td>False</td>\n",
       "      <td>2018</td>\n",
       "      <td>924.991</td>\n",
       "      <td>2335.206</td>\n",
       "      <td>582.354</td>\n",
       "      <td>1356.041</td>\n",
       "      <td>294.094</td>\n",
       "      <td>511.047</td>\n",
       "      <td>400.988</td>\n",
       "      <td>9551.0904</td>\n",
       "      <td>3691.247</td>\n",
       "      <td>17664.202</td>\n",
       "      <td>4638.232</td>\n",
       "      <td>773.687</td>\n",
       "      <td>1356.041</td>\n",
       "      <td>1648.964</td>\n",
       "      <td>2593.475</td>\n",
       "      <td>3691.247</td>\n",
       "      <td>12315.497</td>\n",
       "      <td>2335.206</td>\n",
       "    </tr>\n",
       "    <tr>\n",
       "      <th>C_100</th>\n",
       "      <td>False</td>\n",
       "      <td>2013</td>\n",
       "      <td>87.342</td>\n",
       "      <td>62.127</td>\n",
       "      <td>33.174</td>\n",
       "      <td>65.532</td>\n",
       "      <td>5.295</td>\n",
       "      <td>18.496</td>\n",
       "      <td>25.753</td>\n",
       "      <td>459.0008</td>\n",
       "      <td>149.023</td>\n",
       "      <td>375.254</td>\n",
       "      <td>5.000</td>\n",
       "      <td>32.358</td>\n",
       "      <td>86.896</td>\n",
       "      <td>37.227</td>\n",
       "      <td>305.803</td>\n",
       "      <td>149.023</td>\n",
       "      <td>59.796</td>\n",
       "      <td>83.491</td>\n",
       "    </tr>\n",
       "    <tr>\n",
       "      <th>C_1001</th>\n",
       "      <td>False</td>\n",
       "      <td>2018</td>\n",
       "      <td>38465.000</td>\n",
       "      <td>202446.000</td>\n",
       "      <td>802.000</td>\n",
       "      <td>3816.000</td>\n",
       "      <td>16709.000</td>\n",
       "      <td>34.000</td>\n",
       "      <td>18246.000</td>\n",
       "      <td>22241.4000</td>\n",
       "      <td>214319.000</td>\n",
       "      <td>59672.000</td>\n",
       "      <td>7265.000</td>\n",
       "      <td>3014.000</td>\n",
       "      <td>11873.000</td>\n",
       "      <td>37626.000</td>\n",
       "      <td>10558.000</td>\n",
       "      <td>214319.000</td>\n",
       "      <td>49992.000</td>\n",
       "      <td>210503.000</td>\n",
       "    </tr>\n",
       "    <tr>\n",
       "      <th>C_1002</th>\n",
       "      <td>False</td>\n",
       "      <td>2018</td>\n",
       "      <td>60.189</td>\n",
       "      <td>53.948</td>\n",
       "      <td>1.234</td>\n",
       "      <td>3.513</td>\n",
       "      <td>18.427</td>\n",
       "      <td>2.190</td>\n",
       "      <td>11.792</td>\n",
       "      <td>72.2314</td>\n",
       "      <td>73.892</td>\n",
       "      <td>80.364</td>\n",
       "      <td>0.000</td>\n",
       "      <td>2.279</td>\n",
       "      <td>19.944</td>\n",
       "      <td>4.754</td>\n",
       "      <td>72.594</td>\n",
       "      <td>73.892</td>\n",
       "      <td>5.375</td>\n",
       "      <td>70.379</td>\n",
       "    </tr>\n",
       "  </tbody>\n",
       "</table>\n",
       "</div>"
      ],
      "text/plain": [
       "              status_label  year         X1          X2       X3        X4  \\\n",
       "company_name                                                                 \n",
       "C_1                  False  2017    942.700    1413.200   40.500   126.500   \n",
       "C_10                 False  2018    924.991    2335.206  582.354  1356.041   \n",
       "C_100                False  2013     87.342      62.127   33.174    65.532   \n",
       "C_1001               False  2018  38465.000  202446.000  802.000  3816.000   \n",
       "C_1002               False  2018     60.189      53.948    1.234     3.513   \n",
       "\n",
       "                     X5       X6         X7          X8          X9  \\\n",
       "company_name                                                          \n",
       "C_1             547.900   15.600    203.000   1551.4580    1748.300   \n",
       "C_10            294.094  511.047    400.988   9551.0904    3691.247   \n",
       "C_100             5.295   18.496     25.753    459.0008     149.023   \n",
       "C_1001        16709.000   34.000  18246.000  22241.4000  214319.000   \n",
       "C_1002           18.427    2.190     11.792     72.2314      73.892   \n",
       "\n",
       "                    X10       X11       X12        X13        X14        X15  \\\n",
       "company_name                                                                   \n",
       "C_1            1524.700   177.200    86.000    335.100    333.300    701.200   \n",
       "C_10          17664.202  4638.232   773.687   1356.041   1648.964   2593.475   \n",
       "C_100           375.254     5.000    32.358     86.896     37.227    305.803   \n",
       "C_1001        59672.000  7265.000  3014.000  11873.000  37626.000  10558.000   \n",
       "C_1002           80.364     0.000     2.279     19.944      4.754     72.594   \n",
       "\n",
       "                     X16        X17         X18  \n",
       "company_name                                     \n",
       "C_1             1748.300    588.400    1621.800  \n",
       "C_10            3691.247  12315.497    2335.206  \n",
       "C_100            149.023     59.796      83.491  \n",
       "C_1001        214319.000  49992.000  210503.000  \n",
       "C_1002            73.892      5.375      70.379  "
      ]
     },
     "execution_count": 25,
     "metadata": {},
     "output_type": "execute_result"
    }
   ],
   "source": [
    "df_cut = df_cut[mask]\n",
    "df_cut.head()"
   ]
  },
  {
   "cell_type": "code",
   "execution_count": 26,
   "id": "9b86856a-c832-4e04-8e33-cf4d17b91e1c",
   "metadata": {},
   "outputs": [
    {
     "data": {
      "text/plain": [
       "count    8,611\n",
       "mean        31\n",
       "std        163\n",
       "min       -356\n",
       "25%        -14\n",
       "50%         -1\n",
       "75%         18\n",
       "max      1,382\n",
       "Name: X6, dtype: object"
      ]
     },
     "execution_count": 26,
     "metadata": {},
     "output_type": "execute_result"
    }
   ],
   "source": [
    "df_cut[\"X6\"].describe().apply(\"{0:,.0f}\".format)"
   ]
  },
  {
   "cell_type": "code",
   "execution_count": 27,
   "id": "7a8518e5-faed-42a3-87a3-b04d051bd890",
   "metadata": {},
   "outputs": [
    {
     "data": {
      "text/html": [
       "<div>\n",
       "<style scoped>\n",
       "    .dataframe tbody tr th:only-of-type {\n",
       "        vertical-align: middle;\n",
       "    }\n",
       "\n",
       "    .dataframe tbody tr th {\n",
       "        vertical-align: top;\n",
       "    }\n",
       "\n",
       "    .dataframe thead th {\n",
       "        text-align: right;\n",
       "    }\n",
       "</style>\n",
       "<table border=\"1\" class=\"dataframe\">\n",
       "  <thead>\n",
       "    <tr style=\"text-align: right;\">\n",
       "      <th></th>\n",
       "      <th>status_label</th>\n",
       "      <th>year</th>\n",
       "      <th>X1</th>\n",
       "      <th>X2</th>\n",
       "      <th>X3</th>\n",
       "      <th>X4</th>\n",
       "      <th>X5</th>\n",
       "      <th>X6</th>\n",
       "      <th>X7</th>\n",
       "      <th>X8</th>\n",
       "      <th>X9</th>\n",
       "      <th>X10</th>\n",
       "      <th>X11</th>\n",
       "      <th>X12</th>\n",
       "      <th>X13</th>\n",
       "      <th>X14</th>\n",
       "      <th>X15</th>\n",
       "      <th>X16</th>\n",
       "      <th>X17</th>\n",
       "      <th>X18</th>\n",
       "    </tr>\n",
       "    <tr>\n",
       "      <th>company_name</th>\n",
       "      <th></th>\n",
       "      <th></th>\n",
       "      <th></th>\n",
       "      <th></th>\n",
       "      <th></th>\n",
       "      <th></th>\n",
       "      <th></th>\n",
       "      <th></th>\n",
       "      <th></th>\n",
       "      <th></th>\n",
       "      <th></th>\n",
       "      <th></th>\n",
       "      <th></th>\n",
       "      <th></th>\n",
       "      <th></th>\n",
       "      <th></th>\n",
       "      <th></th>\n",
       "      <th></th>\n",
       "      <th></th>\n",
       "      <th></th>\n",
       "    </tr>\n",
       "  </thead>\n",
       "  <tbody>\n",
       "    <tr>\n",
       "      <th>C_993</th>\n",
       "      <td>False</td>\n",
       "      <td>2001</td>\n",
       "      <td>22.953</td>\n",
       "      <td>21.335</td>\n",
       "      <td>14.080</td>\n",
       "      <td>27.801</td>\n",
       "      <td>0.000</td>\n",
       "      <td>7.954</td>\n",
       "      <td>8.228</td>\n",
       "      <td>95.0751</td>\n",
       "      <td>53.363</td>\n",
       "      <td>107.234</td>\n",
       "      <td>17.213</td>\n",
       "      <td>13.721</td>\n",
       "      <td>32.028</td>\n",
       "      <td>14.873</td>\n",
       "      <td>52.719</td>\n",
       "      <td>53.363</td>\n",
       "      <td>35.196</td>\n",
       "      <td>25.562</td>\n",
       "    </tr>\n",
       "    <tr>\n",
       "      <th>C_994</th>\n",
       "      <td>False</td>\n",
       "      <td>2018</td>\n",
       "      <td>7.568</td>\n",
       "      <td>11.074</td>\n",
       "      <td>1.776</td>\n",
       "      <td>3.629</td>\n",
       "      <td>0.000</td>\n",
       "      <td>2.974</td>\n",
       "      <td>0.261</td>\n",
       "      <td>79.7328</td>\n",
       "      <td>19.301</td>\n",
       "      <td>66.562</td>\n",
       "      <td>5.264</td>\n",
       "      <td>1.853</td>\n",
       "      <td>8.227</td>\n",
       "      <td>2.457</td>\n",
       "      <td>48.857</td>\n",
       "      <td>19.301</td>\n",
       "      <td>13.469</td>\n",
       "      <td>15.672</td>\n",
       "    </tr>\n",
       "    <tr>\n",
       "      <th>C_995</th>\n",
       "      <td>False</td>\n",
       "      <td>2005</td>\n",
       "      <td>1496.536</td>\n",
       "      <td>4245.911</td>\n",
       "      <td>167.547</td>\n",
       "      <td>201.550</td>\n",
       "      <td>633.657</td>\n",
       "      <td>-81.947</td>\n",
       "      <td>672.734</td>\n",
       "      <td>1512.8081</td>\n",
       "      <td>4901.115</td>\n",
       "      <td>2953.571</td>\n",
       "      <td>563.368</td>\n",
       "      <td>34.003</td>\n",
       "      <td>655.204</td>\n",
       "      <td>1346.399</td>\n",
       "      <td>654.274</td>\n",
       "      <td>4901.115</td>\n",
       "      <td>3140.893</td>\n",
       "      <td>4699.565</td>\n",
       "    </tr>\n",
       "    <tr>\n",
       "      <th>C_996</th>\n",
       "      <td>False</td>\n",
       "      <td>2001</td>\n",
       "      <td>62.788</td>\n",
       "      <td>74.934</td>\n",
       "      <td>3.346</td>\n",
       "      <td>-0.613</td>\n",
       "      <td>36.729</td>\n",
       "      <td>-4.989</td>\n",
       "      <td>25.152</td>\n",
       "      <td>7.0076</td>\n",
       "      <td>91.550</td>\n",
       "      <td>102.646</td>\n",
       "      <td>0.000</td>\n",
       "      <td>-3.959</td>\n",
       "      <td>16.616</td>\n",
       "      <td>75.197</td>\n",
       "      <td>20.945</td>\n",
       "      <td>91.550</td>\n",
       "      <td>77.640</td>\n",
       "      <td>92.163</td>\n",
       "    </tr>\n",
       "    <tr>\n",
       "      <th>C_997</th>\n",
       "      <td>False</td>\n",
       "      <td>2018</td>\n",
       "      <td>1479.900</td>\n",
       "      <td>2897.900</td>\n",
       "      <td>139.400</td>\n",
       "      <td>1081.500</td>\n",
       "      <td>786.300</td>\n",
       "      <td>933.400</td>\n",
       "      <td>518.100</td>\n",
       "      <td>19814.1360</td>\n",
       "      <td>5408.900</td>\n",
       "      <td>10256.400</td>\n",
       "      <td>4052.900</td>\n",
       "      <td>942.100</td>\n",
       "      <td>2511.000</td>\n",
       "      <td>2001.700</td>\n",
       "      <td>1400.300</td>\n",
       "      <td>5408.900</td>\n",
       "      <td>7074.200</td>\n",
       "      <td>4327.400</td>\n",
       "    </tr>\n",
       "  </tbody>\n",
       "</table>\n",
       "</div>"
      ],
      "text/plain": [
       "              status_label  year        X1        X2       X3        X4  \\\n",
       "company_name                                                              \n",
       "C_993                False  2001    22.953    21.335   14.080    27.801   \n",
       "C_994                False  2018     7.568    11.074    1.776     3.629   \n",
       "C_995                False  2005  1496.536  4245.911  167.547   201.550   \n",
       "C_996                False  2001    62.788    74.934    3.346    -0.613   \n",
       "C_997                False  2018  1479.900  2897.900  139.400  1081.500   \n",
       "\n",
       "                   X5       X6       X7          X8        X9        X10  \\\n",
       "company_name                                                               \n",
       "C_993           0.000    7.954    8.228     95.0751    53.363    107.234   \n",
       "C_994           0.000    2.974    0.261     79.7328    19.301     66.562   \n",
       "C_995         633.657  -81.947  672.734   1512.8081  4901.115   2953.571   \n",
       "C_996          36.729   -4.989   25.152      7.0076    91.550    102.646   \n",
       "C_997         786.300  933.400  518.100  19814.1360  5408.900  10256.400   \n",
       "\n",
       "                   X11      X12       X13       X14       X15       X16  \\\n",
       "company_name                                                              \n",
       "C_993           17.213   13.721    32.028    14.873    52.719    53.363   \n",
       "C_994            5.264    1.853     8.227     2.457    48.857    19.301   \n",
       "C_995          563.368   34.003   655.204  1346.399   654.274  4901.115   \n",
       "C_996            0.000   -3.959    16.616    75.197    20.945    91.550   \n",
       "C_997         4052.900  942.100  2511.000  2001.700  1400.300  5408.900   \n",
       "\n",
       "                   X17       X18  \n",
       "company_name                      \n",
       "C_993           35.196    25.562  \n",
       "C_994           13.469    15.672  \n",
       "C_995         3140.893  4699.565  \n",
       "C_996           77.640    92.163  \n",
       "C_997         7074.200  4327.400  "
      ]
     },
     "execution_count": 27,
     "metadata": {},
     "output_type": "execute_result"
    }
   ],
   "source": [
    "df_cut.tail()"
   ]
  },
  {
   "cell_type": "code",
   "execution_count": 28,
   "id": "3c2cd22c-b919-4292-8733-7d44f18e4097",
   "metadata": {},
   "outputs": [
    {
     "name": "stdout",
     "output_type": "stream",
     "text": [
      "<class 'pandas.core.frame.DataFrame'>\n",
      "Index: 8611 entries, C_1 to C_997\n",
      "Data columns (total 20 columns):\n",
      " #   Column        Non-Null Count  Dtype  \n",
      "---  ------        --------------  -----  \n",
      " 0   status_label  8611 non-null   bool   \n",
      " 1   year          8611 non-null   int64  \n",
      " 2   X1            8611 non-null   float64\n",
      " 3   X2            8611 non-null   float64\n",
      " 4   X3            8611 non-null   float64\n",
      " 5   X4            8611 non-null   float64\n",
      " 6   X5            8611 non-null   float64\n",
      " 7   X6            8611 non-null   float64\n",
      " 8   X7            8611 non-null   float64\n",
      " 9   X8            8611 non-null   float64\n",
      " 10  X9            8611 non-null   float64\n",
      " 11  X10           8611 non-null   float64\n",
      " 12  X11           8611 non-null   float64\n",
      " 13  X12           8611 non-null   float64\n",
      " 14  X13           8611 non-null   float64\n",
      " 15  X14           8611 non-null   float64\n",
      " 16  X15           8611 non-null   float64\n",
      " 17  X16           8611 non-null   float64\n",
      " 18  X17           8611 non-null   float64\n",
      " 19  X18           8611 non-null   float64\n",
      "dtypes: bool(1), float64(18), int64(1)\n",
      "memory usage: 1.3+ MB\n"
     ]
    }
   ],
   "source": [
    "df_cut.info()"
   ]
  },
  {
   "cell_type": "markdown",
   "id": "0c1f9698-4b5d-449d-8537-7b1d379a1eab",
   "metadata": {},
   "source": [
    "### Data wrangling "
   ]
  },
  {
   "cell_type": "markdown",
   "id": "7f0ac4ef-4845-4fc0-bfd3-762de11f2347",
   "metadata": {},
   "source": [
    "##### In this section, i will bring all that we have done above into one function for cleaning. This will also be helpful for anyone who would use the model to for testing/evaulation or to build a dashboard"
   ]
  },
  {
   "cell_type": "code",
   "execution_count": 31,
   "id": "bbbc84bc-138e-4daf-8229-975a455f3762",
   "metadata": {},
   "outputs": [],
   "source": [
    "# Bring All into one function\n",
    "def wrangle(filename):\n",
    "    # read the file\n",
    "    df = pd.read_csv(filename).set_index(\"company_name\")\n",
    "    # to get only the last entry of that year\n",
    "    df = df.groupby(df.index).last()\n",
    "    # to turn alive to False (meaning the company didn't bankrupt, which will be the negative class)\n",
    "    df[\"status_label\"] = df[\"status_label\"].apply(lambda x: False if x == 'alive' else True)\n",
    "    # removing outliers on the X6 column\n",
    "    q1, q9 = df[\"X6\"].quantile([0.02,0.98])\n",
    "    mask  = df[\"X6\"].between(q1, q9)\n",
    "    df = df[mask]\n",
    "    \n",
    "    # drop the year column\n",
    "    df.drop(columns = \"year\", inplace = True)\n",
    "    return df"
   ]
  },
  {
   "cell_type": "code",
   "execution_count": 32,
   "id": "3c1ec2ef-150b-4076-90b8-279789ad956f",
   "metadata": {},
   "outputs": [
    {
     "data": {
      "text/html": [
       "<div>\n",
       "<style scoped>\n",
       "    .dataframe tbody tr th:only-of-type {\n",
       "        vertical-align: middle;\n",
       "    }\n",
       "\n",
       "    .dataframe tbody tr th {\n",
       "        vertical-align: top;\n",
       "    }\n",
       "\n",
       "    .dataframe thead th {\n",
       "        text-align: right;\n",
       "    }\n",
       "</style>\n",
       "<table border=\"1\" class=\"dataframe\">\n",
       "  <thead>\n",
       "    <tr style=\"text-align: right;\">\n",
       "      <th></th>\n",
       "      <th>status_label</th>\n",
       "      <th>X1</th>\n",
       "      <th>X2</th>\n",
       "      <th>X3</th>\n",
       "      <th>X4</th>\n",
       "      <th>X5</th>\n",
       "      <th>X6</th>\n",
       "      <th>X7</th>\n",
       "      <th>X8</th>\n",
       "      <th>X9</th>\n",
       "      <th>X10</th>\n",
       "      <th>X11</th>\n",
       "      <th>X12</th>\n",
       "      <th>X13</th>\n",
       "      <th>X14</th>\n",
       "      <th>X15</th>\n",
       "      <th>X16</th>\n",
       "      <th>X17</th>\n",
       "      <th>X18</th>\n",
       "    </tr>\n",
       "    <tr>\n",
       "      <th>company_name</th>\n",
       "      <th></th>\n",
       "      <th></th>\n",
       "      <th></th>\n",
       "      <th></th>\n",
       "      <th></th>\n",
       "      <th></th>\n",
       "      <th></th>\n",
       "      <th></th>\n",
       "      <th></th>\n",
       "      <th></th>\n",
       "      <th></th>\n",
       "      <th></th>\n",
       "      <th></th>\n",
       "      <th></th>\n",
       "      <th></th>\n",
       "      <th></th>\n",
       "      <th></th>\n",
       "      <th></th>\n",
       "      <th></th>\n",
       "    </tr>\n",
       "  </thead>\n",
       "  <tbody>\n",
       "    <tr>\n",
       "      <th>C_1</th>\n",
       "      <td>False</td>\n",
       "      <td>942.700</td>\n",
       "      <td>1413.200</td>\n",
       "      <td>40.500</td>\n",
       "      <td>126.500</td>\n",
       "      <td>547.900</td>\n",
       "      <td>15.600</td>\n",
       "      <td>203.000</td>\n",
       "      <td>1551.4580</td>\n",
       "      <td>1748.300</td>\n",
       "      <td>1524.700</td>\n",
       "      <td>177.200</td>\n",
       "      <td>86.000</td>\n",
       "      <td>335.100</td>\n",
       "      <td>333.300</td>\n",
       "      <td>701.200</td>\n",
       "      <td>1748.300</td>\n",
       "      <td>588.400</td>\n",
       "      <td>1621.800</td>\n",
       "    </tr>\n",
       "    <tr>\n",
       "      <th>C_10</th>\n",
       "      <td>False</td>\n",
       "      <td>924.991</td>\n",
       "      <td>2335.206</td>\n",
       "      <td>582.354</td>\n",
       "      <td>1356.041</td>\n",
       "      <td>294.094</td>\n",
       "      <td>511.047</td>\n",
       "      <td>400.988</td>\n",
       "      <td>9551.0904</td>\n",
       "      <td>3691.247</td>\n",
       "      <td>17664.202</td>\n",
       "      <td>4638.232</td>\n",
       "      <td>773.687</td>\n",
       "      <td>1356.041</td>\n",
       "      <td>1648.964</td>\n",
       "      <td>2593.475</td>\n",
       "      <td>3691.247</td>\n",
       "      <td>12315.497</td>\n",
       "      <td>2335.206</td>\n",
       "    </tr>\n",
       "    <tr>\n",
       "      <th>C_100</th>\n",
       "      <td>False</td>\n",
       "      <td>87.342</td>\n",
       "      <td>62.127</td>\n",
       "      <td>33.174</td>\n",
       "      <td>65.532</td>\n",
       "      <td>5.295</td>\n",
       "      <td>18.496</td>\n",
       "      <td>25.753</td>\n",
       "      <td>459.0008</td>\n",
       "      <td>149.023</td>\n",
       "      <td>375.254</td>\n",
       "      <td>5.000</td>\n",
       "      <td>32.358</td>\n",
       "      <td>86.896</td>\n",
       "      <td>37.227</td>\n",
       "      <td>305.803</td>\n",
       "      <td>149.023</td>\n",
       "      <td>59.796</td>\n",
       "      <td>83.491</td>\n",
       "    </tr>\n",
       "    <tr>\n",
       "      <th>C_1001</th>\n",
       "      <td>False</td>\n",
       "      <td>38465.000</td>\n",
       "      <td>202446.000</td>\n",
       "      <td>802.000</td>\n",
       "      <td>3816.000</td>\n",
       "      <td>16709.000</td>\n",
       "      <td>34.000</td>\n",
       "      <td>18246.000</td>\n",
       "      <td>22241.4000</td>\n",
       "      <td>214319.000</td>\n",
       "      <td>59672.000</td>\n",
       "      <td>7265.000</td>\n",
       "      <td>3014.000</td>\n",
       "      <td>11873.000</td>\n",
       "      <td>37626.000</td>\n",
       "      <td>10558.000</td>\n",
       "      <td>214319.000</td>\n",
       "      <td>49992.000</td>\n",
       "      <td>210503.000</td>\n",
       "    </tr>\n",
       "    <tr>\n",
       "      <th>C_1002</th>\n",
       "      <td>False</td>\n",
       "      <td>60.189</td>\n",
       "      <td>53.948</td>\n",
       "      <td>1.234</td>\n",
       "      <td>3.513</td>\n",
       "      <td>18.427</td>\n",
       "      <td>2.190</td>\n",
       "      <td>11.792</td>\n",
       "      <td>72.2314</td>\n",
       "      <td>73.892</td>\n",
       "      <td>80.364</td>\n",
       "      <td>0.000</td>\n",
       "      <td>2.279</td>\n",
       "      <td>19.944</td>\n",
       "      <td>4.754</td>\n",
       "      <td>72.594</td>\n",
       "      <td>73.892</td>\n",
       "      <td>5.375</td>\n",
       "      <td>70.379</td>\n",
       "    </tr>\n",
       "  </tbody>\n",
       "</table>\n",
       "</div>"
      ],
      "text/plain": [
       "              status_label         X1          X2       X3        X4  \\\n",
       "company_name                                                           \n",
       "C_1                  False    942.700    1413.200   40.500   126.500   \n",
       "C_10                 False    924.991    2335.206  582.354  1356.041   \n",
       "C_100                False     87.342      62.127   33.174    65.532   \n",
       "C_1001               False  38465.000  202446.000  802.000  3816.000   \n",
       "C_1002               False     60.189      53.948    1.234     3.513   \n",
       "\n",
       "                     X5       X6         X7          X8          X9  \\\n",
       "company_name                                                          \n",
       "C_1             547.900   15.600    203.000   1551.4580    1748.300   \n",
       "C_10            294.094  511.047    400.988   9551.0904    3691.247   \n",
       "C_100             5.295   18.496     25.753    459.0008     149.023   \n",
       "C_1001        16709.000   34.000  18246.000  22241.4000  214319.000   \n",
       "C_1002           18.427    2.190     11.792     72.2314      73.892   \n",
       "\n",
       "                    X10       X11       X12        X13        X14        X15  \\\n",
       "company_name                                                                   \n",
       "C_1            1524.700   177.200    86.000    335.100    333.300    701.200   \n",
       "C_10          17664.202  4638.232   773.687   1356.041   1648.964   2593.475   \n",
       "C_100           375.254     5.000    32.358     86.896     37.227    305.803   \n",
       "C_1001        59672.000  7265.000  3014.000  11873.000  37626.000  10558.000   \n",
       "C_1002           80.364     0.000     2.279     19.944      4.754     72.594   \n",
       "\n",
       "                     X16        X17         X18  \n",
       "company_name                                     \n",
       "C_1             1748.300    588.400    1621.800  \n",
       "C_10            3691.247  12315.497    2335.206  \n",
       "C_100            149.023     59.796      83.491  \n",
       "C_1001        214319.000  49992.000  210503.000  \n",
       "C_1002            73.892      5.375      70.379  "
      ]
     },
     "execution_count": 32,
     "metadata": {},
     "output_type": "execute_result"
    }
   ],
   "source": [
    "df = wrangle(\"C:/Users/HP/Documents/Stephen/Data Science/American_Backruptcy/american_bankruptcy.csv\")\n",
    "df.head()"
   ]
  },
  {
   "cell_type": "markdown",
   "id": "80c77481-2b47-42f7-a806-a4816d39bde6",
   "metadata": {},
   "source": [
    "### Split\n",
    "##### Here, i will split the dataset into training and testing data, then over-resample to the training data.\n",
    "##### The target is the bankruptcy status."
   ]
  },
  {
   "cell_type": "code",
   "execution_count": 34,
   "id": "b581a904-650b-4bd7-9cd6-aa55d9c6c3bd",
   "metadata": {},
   "outputs": [
    {
     "data": {
      "text/plain": [
       "(8611,)"
      ]
     },
     "execution_count": 34,
     "metadata": {},
     "output_type": "execute_result"
    }
   ],
   "source": [
    "target = \"status_label\"\n",
    "X = df.drop(columns = target)\n",
    "y = df[target]\n",
    "y.shape"
   ]
  },
  {
   "cell_type": "code",
   "execution_count": 35,
   "id": "ebd1fd4e-425d-42fd-9809-33e82fee1b70",
   "metadata": {},
   "outputs": [
    {
     "name": "stdout",
     "output_type": "stream",
     "text": [
      "(6888, 18)\n",
      "(1723, 18)\n",
      "(6888,)\n",
      "(1723,)\n"
     ]
    }
   ],
   "source": [
    "X_train, X_test, y_train, y_test = train_test_split(X, y, test_size=0.2, random_state=42)\n",
    "print(X_train.shape)\n",
    "print(X_test.shape)\n",
    "print(y_train.shape)\n",
    "print(y_test.shape)"
   ]
  },
  {
   "cell_type": "code",
   "execution_count": 36,
   "id": "47987fa7-fa4d-42b4-8ea4-d07970712735",
   "metadata": {},
   "outputs": [
    {
     "name": "stdout",
     "output_type": "stream",
     "text": [
      "(12878, 18)\n",
      "(12878,)\n"
     ]
    }
   ],
   "source": [
    "over_sample = RandomOverSampler(random_state=42)\n",
    "X_over_train, y_over_train = over_sample.fit_resample(X_train, y_train)\n",
    "print(X_over_train.shape)\n",
    "print(y_over_train.shape)"
   ]
  },
  {
   "cell_type": "markdown",
   "id": "e98cf74e-a25e-445e-8998-d8a68bcdf955",
   "metadata": {},
   "source": [
    "**To get the status fraction of each class (False - True)**"
   ]
  },
  {
   "cell_type": "code",
   "execution_count": 38,
   "id": "7cf3cc3b-8bd9-44bf-8063-eb0782921621",
   "metadata": {},
   "outputs": [
    {
     "data": {
      "text/plain": [
       "status_label\n",
       "False    0.934814\n",
       "True     0.065186\n",
       "Name: proportion, dtype: float64"
      ]
     },
     "execution_count": 38,
     "metadata": {},
     "output_type": "execute_result"
    }
   ],
   "source": [
    "y_train.value_counts(normalize=True)"
   ]
  },
  {
   "cell_type": "code",
   "execution_count": 39,
   "id": "1a812995-fe43-4837-a15c-a233d6dc646c",
   "metadata": {},
   "outputs": [
    {
     "data": {
      "image/png": "[encoded data removed]",
      "text/plain": [
       "<Figure size 640x480 with 1 Axes>"
      ]
     },
     "metadata": {},
     "output_type": "display_data"
    }
   ],
   "source": [
    "y_train.value_counts(normalize=True).plot(kind = \"bar\", title = \"Class Frequency\", xlabel = \"Class\", ylabel = \"Frequency\");"
   ]
  },
  {
   "cell_type": "markdown",
   "id": "2f89d78b-a9f8-4891-a962-75a603ec8c2a",
   "metadata": {},
   "source": [
    "### Baseline\n",
    "##### The baseline model score "
   ]
  },
  {
   "cell_type": "code",
   "execution_count": 41,
   "id": "8d88adc2-0023-4303-8f60-4e426e2b5452",
   "metadata": {},
   "outputs": [
    {
     "name": "stdout",
     "output_type": "stream",
     "text": [
      "Baseline score: 0.9348\n"
     ]
    }
   ],
   "source": [
    "baseline = y_train.value_counts(normalize=True).max()\n",
    "print(f\"Baseline score: {baseline:.4f}\")"
   ]
  },
  {
   "cell_type": "markdown",
   "id": "c9f07675-5fe3-4c46-98e7-944713e0d0d1",
   "metadata": {},
   "source": [
    "### Iterate\n",
    "##### In this section, i will build the two models, and their hyper params for tuning the data using GridSearchCV."
   ]
  },
  {
   "cell_type": "code",
   "execution_count": 43,
   "id": "6c38a3e4-3c35-461b-9337-4934a026e4e5",
   "metadata": {},
   "outputs": [],
   "source": [
    "# Classifier one\n",
    "clf1 = RandomForestClassifier()\n",
    "\n",
    "# classifier two\n",
    "clf2 = GradientBoostingClassifier()\n",
    "\n",
    "# hyperparameters for both classifiers\n",
    "params = {\n",
    "    \"n_estimators\" : range(10,100,10),\n",
    "    \"max_depth\" : range(2,13, 2)\n",
    "          }\n",
    "\n",
    "# defining the models\n",
    "model1 = GridSearchCV(clf1, param_grid= params, n_jobs=-1, cv = 5, verbose=2)\n",
    "model2 = GridSearchCV(clf2, param_grid= params, n_jobs=-1, cv = 5, verbose=2)"
   ]
  },
  {
   "cell_type": "code",
   "execution_count": 44,
   "id": "99f922d3-93cd-45d7-ab62-4b942cbcf9d5",
   "metadata": {},
   "outputs": [
    {
     "name": "stdout",
     "output_type": "stream",
     "text": [
      "Fitting 5 folds for each of 54 candidates, totalling 270 fits\n"
     ]
    },
    {
     "data": {
      "text/html": [
       "<style>#sk-container-id-1 {color: black;background-color: white;}#sk-container-id-1 pre{padding: 0;}#sk-container-id-1 div.sk-toggleable {background-color: white;}#sk-container-id-1 label.sk-toggleable__label {cursor: pointer;display: block;width: 100%;margin-bottom: 0;padding: 0.3em;box-sizing: border-box;text-align: center;}#sk-container-id-1 label.sk-toggleable__label-arrow:before {content: \"▸\";float: left;margin-right: 0.25em;color: #696969;}#sk-container-id-1 label.sk-toggleable__label-arrow:hover:before {color: black;}#sk-container-id-1 div.sk-estimator:hover label.sk-toggleable__label-arrow:before {color: black;}#sk-container-id-1 div.sk-toggleable__content {max-height: 0;max-width: 0;overflow: hidden;text-align: left;background-color: #f0f8ff;}#sk-container-id-1 div.sk-toggleable__content pre {margin: 0.2em;color: black;border-radius: 0.25em;background-color: #f0f8ff;}#sk-container-id-1 input.sk-toggleable__control:checked~div.sk-toggleable__content {max-height: 200px;max-width: 100%;overflow: auto;}#sk-container-id-1 input.sk-toggleable__control:checked~label.sk-toggleable__label-arrow:before {content: \"▾\";}#sk-container-id-1 div.sk-estimator input.sk-toggleable__control:checked~label.sk-toggleable__label {background-color: #d4ebff;}#sk-container-id-1 div.sk-label input.sk-toggleable__control:checked~label.sk-toggleable__label {background-color: #d4ebff;}#sk-container-id-1 input.sk-hidden--visually {border: 0;clip: rect(1px 1px 1px 1px);clip: rect(1px, 1px, 1px, 1px);height: 1px;margin: -1px;overflow: hidden;padding: 0;position: absolute;width: 1px;}#sk-container-id-1 div.sk-estimator {font-family: monospace;background-color: #f0f8ff;border: 1px dotted black;border-radius: 0.25em;box-sizing: border-box;margin-bottom: 0.5em;}#sk-container-id-1 div.sk-estimator:hover {background-color: #d4ebff;}#sk-container-id-1 div.sk-parallel-item::after {content: \"\";width: 100%;border-bottom: 1px solid gray;flex-grow: 1;}#sk-container-id-1 div.sk-label:hover label.sk-toggleable__label {background-color: #d4ebff;}#sk-container-id-1 div.sk-serial::before {content: \"\";position: absolute;border-left: 1px solid gray;box-sizing: border-box;top: 0;bottom: 0;left: 50%;z-index: 0;}#sk-container-id-1 div.sk-serial {display: flex;flex-direction: column;align-items: center;background-color: white;padding-right: 0.2em;padding-left: 0.2em;position: relative;}#sk-container-id-1 div.sk-item {position: relative;z-index: 1;}#sk-container-id-1 div.sk-parallel {display: flex;align-items: stretch;justify-content: center;background-color: white;position: relative;}#sk-container-id-1 div.sk-item::before, #sk-container-id-1 div.sk-parallel-item::before {content: \"\";position: absolute;border-left: 1px solid gray;box-sizing: border-box;top: 0;bottom: 0;left: 50%;z-index: -1;}#sk-container-id-1 div.sk-parallel-item {display: flex;flex-direction: column;z-index: 1;position: relative;background-color: white;}#sk-container-id-1 div.sk-parallel-item:first-child::after {align-self: flex-end;width: 50%;}#sk-container-id-1 div.sk-parallel-item:last-child::after {align-self: flex-start;width: 50%;}#sk-container-id-1 div.sk-parallel-item:only-child::after {width: 0;}#sk-container-id-1 div.sk-dashed-wrapped {border: 1px dashed gray;margin: 0 0.4em 0.5em 0.4em;box-sizing: border-box;padding-bottom: 0.4em;background-color: white;}#sk-container-id-1 div.sk-label label {font-family: monospace;font-weight: bold;display: inline-block;line-height: 1.2em;}#sk-container-id-1 div.sk-label-container {text-align: center;}#sk-container-id-1 div.sk-container {/* jupyter's `normalize.less` sets `[hidden] { display: none; }` but bootstrap.min.css set `[hidden] { display: none !important; }` so we also need the `!important` here to be able to override the default hidden behavior on the sphinx rendered scikit-learn.org. See: https://github.com/scikit-learn/scikit-learn/issues/21755 */display: inline-block !important;position: relative;}#sk-container-id-1 div.sk-text-repr-fallback {display: none;}</style><div id=\"sk-container-id-1\" class=\"sk-top-container\"><div class=\"sk-text-repr-fallback\"><pre>GridSearchCV(cv=5, estimator=RandomForestClassifier(), n_jobs=-1,\n",
       "             param_grid={&#x27;max_depth&#x27;: range(2, 13, 2),\n",
       "                         &#x27;n_estimators&#x27;: range(10, 100, 10)},\n",
       "             verbose=2)</pre><b>In a Jupyter environment, please rerun this cell to show the HTML representation or trust the notebook. <br />On GitHub, the HTML representation is unable to render, please try loading this page with nbviewer.org.</b></div><div class=\"sk-container\" hidden><div class=\"sk-item sk-dashed-wrapped\"><div class=\"sk-label-container\"><div class=\"sk-label sk-toggleable\"><input class=\"sk-toggleable__control sk-hidden--visually\" id=\"sk-estimator-id-1\" type=\"checkbox\" ><label for=\"sk-estimator-id-1\" class=\"sk-toggleable__label sk-toggleable__label-arrow\">GridSearchCV</label><div class=\"sk-toggleable__content\"><pre>GridSearchCV(cv=5, estimator=RandomForestClassifier(), n_jobs=-1,\n",
       "             param_grid={&#x27;max_depth&#x27;: range(2, 13, 2),\n",
       "                         &#x27;n_estimators&#x27;: range(10, 100, 10)},\n",
       "             verbose=2)</pre></div></div></div><div class=\"sk-parallel\"><div class=\"sk-parallel-item\"><div class=\"sk-item\"><div class=\"sk-label-container\"><div class=\"sk-label sk-toggleable\"><input class=\"sk-toggleable__control sk-hidden--visually\" id=\"sk-estimator-id-2\" type=\"checkbox\" ><label for=\"sk-estimator-id-2\" class=\"sk-toggleable__label sk-toggleable__label-arrow\">estimator: RandomForestClassifier</label><div class=\"sk-toggleable__content\"><pre>RandomForestClassifier()</pre></div></div></div><div class=\"sk-serial\"><div class=\"sk-item\"><div class=\"sk-estimator sk-toggleable\"><input class=\"sk-toggleable__control sk-hidden--visually\" id=\"sk-estimator-id-3\" type=\"checkbox\" ><label for=\"sk-estimator-id-3\" class=\"sk-toggleable__label sk-toggleable__label-arrow\">RandomForestClassifier</label><div class=\"sk-toggleable__content\"><pre>RandomForestClassifier()</pre></div></div></div></div></div></div></div></div></div></div>"
      ],
      "text/plain": [
       "GridSearchCV(cv=5, estimator=RandomForestClassifier(), n_jobs=-1,\n",
       "             param_grid={'max_depth': range(2, 13, 2),\n",
       "                         'n_estimators': range(10, 100, 10)},\n",
       "             verbose=2)"
      ]
     },
     "execution_count": 44,
     "metadata": {},
     "output_type": "execute_result"
    }
   ],
   "source": [
    "# trianing the first classifier model\n",
    "model1.fit(X_over_train, y_over_train)"
   ]
  },
  {
   "cell_type": "code",
   "execution_count": 45,
   "id": "33de77b6-9c09-43b0-8843-1df9a4faad03",
   "metadata": {},
   "outputs": [
    {
     "name": "stdout",
     "output_type": "stream",
     "text": [
      "Fitting 5 folds for each of 54 candidates, totalling 270 fits\n"
     ]
    },
    {
     "data": {
      "text/html": [
       "<style>#sk-container-id-2 {color: black;background-color: white;}#sk-container-id-2 pre{padding: 0;}#sk-container-id-2 div.sk-toggleable {background-color: white;}#sk-container-id-2 label.sk-toggleable__label {cursor: pointer;display: block;width: 100%;margin-bottom: 0;padding: 0.3em;box-sizing: border-box;text-align: center;}#sk-container-id-2 label.sk-toggleable__label-arrow:before {content: \"▸\";float: left;margin-right: 0.25em;color: #696969;}#sk-container-id-2 label.sk-toggleable__label-arrow:hover:before {color: black;}#sk-container-id-2 div.sk-estimator:hover label.sk-toggleable__label-arrow:before {color: black;}#sk-container-id-2 div.sk-toggleable__content {max-height: 0;max-width: 0;overflow: hidden;text-align: left;background-color: #f0f8ff;}#sk-container-id-2 div.sk-toggleable__content pre {margin: 0.2em;color: black;border-radius: 0.25em;background-color: #f0f8ff;}#sk-container-id-2 input.sk-toggleable__control:checked~div.sk-toggleable__content {max-height: 200px;max-width: 100%;overflow: auto;}#sk-container-id-2 input.sk-toggleable__control:checked~label.sk-toggleable__label-arrow:before {content: \"▾\";}#sk-container-id-2 div.sk-estimator input.sk-toggleable__control:checked~label.sk-toggleable__label {background-color: #d4ebff;}#sk-container-id-2 div.sk-label input.sk-toggleable__control:checked~label.sk-toggleable__label {background-color: #d4ebff;}#sk-container-id-2 input.sk-hidden--visually {border: 0;clip: rect(1px 1px 1px 1px);clip: rect(1px, 1px, 1px, 1px);height: 1px;margin: -1px;overflow: hidden;padding: 0;position: absolute;width: 1px;}#sk-container-id-2 div.sk-estimator {font-family: monospace;background-color: #f0f8ff;border: 1px dotted black;border-radius: 0.25em;box-sizing: border-box;margin-bottom: 0.5em;}#sk-container-id-2 div.sk-estimator:hover {background-color: #d4ebff;}#sk-container-id-2 div.sk-parallel-item::after {content: \"\";width: 100%;border-bottom: 1px solid gray;flex-grow: 1;}#sk-container-id-2 div.sk-label:hover label.sk-toggleable__label {background-color: #d4ebff;}#sk-container-id-2 div.sk-serial::before {content: \"\";position: absolute;border-left: 1px solid gray;box-sizing: border-box;top: 0;bottom: 0;left: 50%;z-index: 0;}#sk-container-id-2 div.sk-serial {display: flex;flex-direction: column;align-items: center;background-color: white;padding-right: 0.2em;padding-left: 0.2em;position: relative;}#sk-container-id-2 div.sk-item {position: relative;z-index: 1;}#sk-container-id-2 div.sk-parallel {display: flex;align-items: stretch;justify-content: center;background-color: white;position: relative;}#sk-container-id-2 div.sk-item::before, #sk-container-id-2 div.sk-parallel-item::before {content: \"\";position: absolute;border-left: 1px solid gray;box-sizing: border-box;top: 0;bottom: 0;left: 50%;z-index: -1;}#sk-container-id-2 div.sk-parallel-item {display: flex;flex-direction: column;z-index: 1;position: relative;background-color: white;}#sk-container-id-2 div.sk-parallel-item:first-child::after {align-self: flex-end;width: 50%;}#sk-container-id-2 div.sk-parallel-item:last-child::after {align-self: flex-start;width: 50%;}#sk-container-id-2 div.sk-parallel-item:only-child::after {width: 0;}#sk-container-id-2 div.sk-dashed-wrapped {border: 1px dashed gray;margin: 0 0.4em 0.5em 0.4em;box-sizing: border-box;padding-bottom: 0.4em;background-color: white;}#sk-container-id-2 div.sk-label label {font-family: monospace;font-weight: bold;display: inline-block;line-height: 1.2em;}#sk-container-id-2 div.sk-label-container {text-align: center;}#sk-container-id-2 div.sk-container {/* jupyter's `normalize.less` sets `[hidden] { display: none; }` but bootstrap.min.css set `[hidden] { display: none !important; }` so we also need the `!important` here to be able to override the default hidden behavior on the sphinx rendered scikit-learn.org. See: https://github.com/scikit-learn/scikit-learn/issues/21755 */display: inline-block !important;position: relative;}#sk-container-id-2 div.sk-text-repr-fallback {display: none;}</style><div id=\"sk-container-id-2\" class=\"sk-top-container\"><div class=\"sk-text-repr-fallback\"><pre>GridSearchCV(cv=5, estimator=GradientBoostingClassifier(), n_jobs=-1,\n",
       "             param_grid={&#x27;max_depth&#x27;: range(2, 13, 2),\n",
       "                         &#x27;n_estimators&#x27;: range(10, 100, 10)},\n",
       "             verbose=2)</pre><b>In a Jupyter environment, please rerun this cell to show the HTML representation or trust the notebook. <br />On GitHub, the HTML representation is unable to render, please try loading this page with nbviewer.org.</b></div><div class=\"sk-container\" hidden><div class=\"sk-item sk-dashed-wrapped\"><div class=\"sk-label-container\"><div class=\"sk-label sk-toggleable\"><input class=\"sk-toggleable__control sk-hidden--visually\" id=\"sk-estimator-id-4\" type=\"checkbox\" ><label for=\"sk-estimator-id-4\" class=\"sk-toggleable__label sk-toggleable__label-arrow\">GridSearchCV</label><div class=\"sk-toggleable__content\"><pre>GridSearchCV(cv=5, estimator=GradientBoostingClassifier(), n_jobs=-1,\n",
       "             param_grid={&#x27;max_depth&#x27;: range(2, 13, 2),\n",
       "                         &#x27;n_estimators&#x27;: range(10, 100, 10)},\n",
       "             verbose=2)</pre></div></div></div><div class=\"sk-parallel\"><div class=\"sk-parallel-item\"><div class=\"sk-item\"><div class=\"sk-label-container\"><div class=\"sk-label sk-toggleable\"><input class=\"sk-toggleable__control sk-hidden--visually\" id=\"sk-estimator-id-5\" type=\"checkbox\" ><label for=\"sk-estimator-id-5\" class=\"sk-toggleable__label sk-toggleable__label-arrow\">estimator: GradientBoostingClassifier</label><div class=\"sk-toggleable__content\"><pre>GradientBoostingClassifier()</pre></div></div></div><div class=\"sk-serial\"><div class=\"sk-item\"><div class=\"sk-estimator sk-toggleable\"><input class=\"sk-toggleable__control sk-hidden--visually\" id=\"sk-estimator-id-6\" type=\"checkbox\" ><label for=\"sk-estimator-id-6\" class=\"sk-toggleable__label sk-toggleable__label-arrow\">GradientBoostingClassifier</label><div class=\"sk-toggleable__content\"><pre>GradientBoostingClassifier()</pre></div></div></div></div></div></div></div></div></div></div>"
      ],
      "text/plain": [
       "GridSearchCV(cv=5, estimator=GradientBoostingClassifier(), n_jobs=-1,\n",
       "             param_grid={'max_depth': range(2, 13, 2),\n",
       "                         'n_estimators': range(10, 100, 10)},\n",
       "             verbose=2)"
      ]
     },
     "execution_count": 45,
     "metadata": {},
     "output_type": "execute_result"
    }
   ],
   "source": [
    "# training the second model\n",
    "model2.fit(X_over_train, y_over_train)"
   ]
  },
  {
   "cell_type": "code",
   "execution_count": 46,
   "id": "a2b0a12d-9936-407e-b8f9-1ae4a60fcbdd",
   "metadata": {},
   "outputs": [
    {
     "data": {
      "text/html": [
       "<style>#sk-container-id-3 {color: black;background-color: white;}#sk-container-id-3 pre{padding: 0;}#sk-container-id-3 div.sk-toggleable {background-color: white;}#sk-container-id-3 label.sk-toggleable__label {cursor: pointer;display: block;width: 100%;margin-bottom: 0;padding: 0.3em;box-sizing: border-box;text-align: center;}#sk-container-id-3 label.sk-toggleable__label-arrow:before {content: \"▸\";float: left;margin-right: 0.25em;color: #696969;}#sk-container-id-3 label.sk-toggleable__label-arrow:hover:before {color: black;}#sk-container-id-3 div.sk-estimator:hover label.sk-toggleable__label-arrow:before {color: black;}#sk-container-id-3 div.sk-toggleable__content {max-height: 0;max-width: 0;overflow: hidden;text-align: left;background-color: #f0f8ff;}#sk-container-id-3 div.sk-toggleable__content pre {margin: 0.2em;color: black;border-radius: 0.25em;background-color: #f0f8ff;}#sk-container-id-3 input.sk-toggleable__control:checked~div.sk-toggleable__content {max-height: 200px;max-width: 100%;overflow: auto;}#sk-container-id-3 input.sk-toggleable__control:checked~label.sk-toggleable__label-arrow:before {content: \"▾\";}#sk-container-id-3 div.sk-estimator input.sk-toggleable__control:checked~label.sk-toggleable__label {background-color: #d4ebff;}#sk-container-id-3 div.sk-label input.sk-toggleable__control:checked~label.sk-toggleable__label {background-color: #d4ebff;}#sk-container-id-3 input.sk-hidden--visually {border: 0;clip: rect(1px 1px 1px 1px);clip: rect(1px, 1px, 1px, 1px);height: 1px;margin: -1px;overflow: hidden;padding: 0;position: absolute;width: 1px;}#sk-container-id-3 div.sk-estimator {font-family: monospace;background-color: #f0f8ff;border: 1px dotted black;border-radius: 0.25em;box-sizing: border-box;margin-bottom: 0.5em;}#sk-container-id-3 div.sk-estimator:hover {background-color: #d4ebff;}#sk-container-id-3 div.sk-parallel-item::after {content: \"\";width: 100%;border-bottom: 1px solid gray;flex-grow: 1;}#sk-container-id-3 div.sk-label:hover label.sk-toggleable__label {background-color: #d4ebff;}#sk-container-id-3 div.sk-serial::before {content: \"\";position: absolute;border-left: 1px solid gray;box-sizing: border-box;top: 0;bottom: 0;left: 50%;z-index: 0;}#sk-container-id-3 div.sk-serial {display: flex;flex-direction: column;align-items: center;background-color: white;padding-right: 0.2em;padding-left: 0.2em;position: relative;}#sk-container-id-3 div.sk-item {position: relative;z-index: 1;}#sk-container-id-3 div.sk-parallel {display: flex;align-items: stretch;justify-content: center;background-color: white;position: relative;}#sk-container-id-3 div.sk-item::before, #sk-container-id-3 div.sk-parallel-item::before {content: \"\";position: absolute;border-left: 1px solid gray;box-sizing: border-box;top: 0;bottom: 0;left: 50%;z-index: -1;}#sk-container-id-3 div.sk-parallel-item {display: flex;flex-direction: column;z-index: 1;position: relative;background-color: white;}#sk-container-id-3 div.sk-parallel-item:first-child::after {align-self: flex-end;width: 50%;}#sk-container-id-3 div.sk-parallel-item:last-child::after {align-self: flex-start;width: 50%;}#sk-container-id-3 div.sk-parallel-item:only-child::after {width: 0;}#sk-container-id-3 div.sk-dashed-wrapped {border: 1px dashed gray;margin: 0 0.4em 0.5em 0.4em;box-sizing: border-box;padding-bottom: 0.4em;background-color: white;}#sk-container-id-3 div.sk-label label {font-family: monospace;font-weight: bold;display: inline-block;line-height: 1.2em;}#sk-container-id-3 div.sk-label-container {text-align: center;}#sk-container-id-3 div.sk-container {/* jupyter's `normalize.less` sets `[hidden] { display: none; }` but bootstrap.min.css set `[hidden] { display: none !important; }` so we also need the `!important` here to be able to override the default hidden behavior on the sphinx rendered scikit-learn.org. See: https://github.com/scikit-learn/scikit-learn/issues/21755 */display: inline-block !important;position: relative;}#sk-container-id-3 div.sk-text-repr-fallback {display: none;}</style><div id=\"sk-container-id-3\" class=\"sk-top-container\"><div class=\"sk-text-repr-fallback\"><pre>RandomForestClassifier(max_depth=12, n_estimators=80)</pre><b>In a Jupyter environment, please rerun this cell to show the HTML representation or trust the notebook. <br />On GitHub, the HTML representation is unable to render, please try loading this page with nbviewer.org.</b></div><div class=\"sk-container\" hidden><div class=\"sk-item\"><div class=\"sk-estimator sk-toggleable\"><input class=\"sk-toggleable__control sk-hidden--visually\" id=\"sk-estimator-id-7\" type=\"checkbox\" checked><label for=\"sk-estimator-id-7\" class=\"sk-toggleable__label sk-toggleable__label-arrow\">RandomForestClassifier</label><div class=\"sk-toggleable__content\"><pre>RandomForestClassifier(max_depth=12, n_estimators=80)</pre></div></div></div></div></div>"
      ],
      "text/plain": [
       "RandomForestClassifier(max_depth=12, n_estimators=80)"
      ]
     },
     "execution_count": 46,
     "metadata": {},
     "output_type": "execute_result"
    }
   ],
   "source": [
    "# Getting the best parameters of the first model\n",
    "model1.best_estimator_"
   ]
  },
  {
   "cell_type": "code",
   "execution_count": 47,
   "id": "aa31090f-e974-492d-86cf-bc3beec94be9",
   "metadata": {},
   "outputs": [
    {
     "data": {
      "text/html": [
       "<style>#sk-container-id-4 {color: black;background-color: white;}#sk-container-id-4 pre{padding: 0;}#sk-container-id-4 div.sk-toggleable {background-color: white;}#sk-container-id-4 label.sk-toggleable__label {cursor: pointer;display: block;width: 100%;margin-bottom: 0;padding: 0.3em;box-sizing: border-box;text-align: center;}#sk-container-id-4 label.sk-toggleable__label-arrow:before {content: \"▸\";float: left;margin-right: 0.25em;color: #696969;}#sk-container-id-4 label.sk-toggleable__label-arrow:hover:before {color: black;}#sk-container-id-4 div.sk-estimator:hover label.sk-toggleable__label-arrow:before {color: black;}#sk-container-id-4 div.sk-toggleable__content {max-height: 0;max-width: 0;overflow: hidden;text-align: left;background-color: #f0f8ff;}#sk-container-id-4 div.sk-toggleable__content pre {margin: 0.2em;color: black;border-radius: 0.25em;background-color: #f0f8ff;}#sk-container-id-4 input.sk-toggleable__control:checked~div.sk-toggleable__content {max-height: 200px;max-width: 100%;overflow: auto;}#sk-container-id-4 input.sk-toggleable__control:checked~label.sk-toggleable__label-arrow:before {content: \"▾\";}#sk-container-id-4 div.sk-estimator input.sk-toggleable__control:checked~label.sk-toggleable__label {background-color: #d4ebff;}#sk-container-id-4 div.sk-label input.sk-toggleable__control:checked~label.sk-toggleable__label {background-color: #d4ebff;}#sk-container-id-4 input.sk-hidden--visually {border: 0;clip: rect(1px 1px 1px 1px);clip: rect(1px, 1px, 1px, 1px);height: 1px;margin: -1px;overflow: hidden;padding: 0;position: absolute;width: 1px;}#sk-container-id-4 div.sk-estimator {font-family: monospace;background-color: #f0f8ff;border: 1px dotted black;border-radius: 0.25em;box-sizing: border-box;margin-bottom: 0.5em;}#sk-container-id-4 div.sk-estimator:hover {background-color: #d4ebff;}#sk-container-id-4 div.sk-parallel-item::after {content: \"\";width: 100%;border-bottom: 1px solid gray;flex-grow: 1;}#sk-container-id-4 div.sk-label:hover label.sk-toggleable__label {background-color: #d4ebff;}#sk-container-id-4 div.sk-serial::before {content: \"\";position: absolute;border-left: 1px solid gray;box-sizing: border-box;top: 0;bottom: 0;left: 50%;z-index: 0;}#sk-container-id-4 div.sk-serial {display: flex;flex-direction: column;align-items: center;background-color: white;padding-right: 0.2em;padding-left: 0.2em;position: relative;}#sk-container-id-4 div.sk-item {position: relative;z-index: 1;}#sk-container-id-4 div.sk-parallel {display: flex;align-items: stretch;justify-content: center;background-color: white;position: relative;}#sk-container-id-4 div.sk-item::before, #sk-container-id-4 div.sk-parallel-item::before {content: \"\";position: absolute;border-left: 1px solid gray;box-sizing: border-box;top: 0;bottom: 0;left: 50%;z-index: -1;}#sk-container-id-4 div.sk-parallel-item {display: flex;flex-direction: column;z-index: 1;position: relative;background-color: white;}#sk-container-id-4 div.sk-parallel-item:first-child::after {align-self: flex-end;width: 50%;}#sk-container-id-4 div.sk-parallel-item:last-child::after {align-self: flex-start;width: 50%;}#sk-container-id-4 div.sk-parallel-item:only-child::after {width: 0;}#sk-container-id-4 div.sk-dashed-wrapped {border: 1px dashed gray;margin: 0 0.4em 0.5em 0.4em;box-sizing: border-box;padding-bottom: 0.4em;background-color: white;}#sk-container-id-4 div.sk-label label {font-family: monospace;font-weight: bold;display: inline-block;line-height: 1.2em;}#sk-container-id-4 div.sk-label-container {text-align: center;}#sk-container-id-4 div.sk-container {/* jupyter's `normalize.less` sets `[hidden] { display: none; }` but bootstrap.min.css set `[hidden] { display: none !important; }` so we also need the `!important` here to be able to override the default hidden behavior on the sphinx rendered scikit-learn.org. See: https://github.com/scikit-learn/scikit-learn/issues/21755 */display: inline-block !important;position: relative;}#sk-container-id-4 div.sk-text-repr-fallback {display: none;}</style><div id=\"sk-container-id-4\" class=\"sk-top-container\"><div class=\"sk-text-repr-fallback\"><pre>GradientBoostingClassifier(max_depth=12, n_estimators=90)</pre><b>In a Jupyter environment, please rerun this cell to show the HTML representation or trust the notebook. <br />On GitHub, the HTML representation is unable to render, please try loading this page with nbviewer.org.</b></div><div class=\"sk-container\" hidden><div class=\"sk-item\"><div class=\"sk-estimator sk-toggleable\"><input class=\"sk-toggleable__control sk-hidden--visually\" id=\"sk-estimator-id-8\" type=\"checkbox\" checked><label for=\"sk-estimator-id-8\" class=\"sk-toggleable__label sk-toggleable__label-arrow\">GradientBoostingClassifier</label><div class=\"sk-toggleable__content\"><pre>GradientBoostingClassifier(max_depth=12, n_estimators=90)</pre></div></div></div></div></div>"
      ],
      "text/plain": [
       "GradientBoostingClassifier(max_depth=12, n_estimators=90)"
      ]
     },
     "execution_count": 47,
     "metadata": {},
     "output_type": "execute_result"
    }
   ],
   "source": [
    "# Getting the best parameters of the first model\n",
    "model2.best_estimator_"
   ]
  },
  {
   "cell_type": "markdown",
   "id": "500938c5-e099-4fcc-8092-0f5bbe2532a6",
   "metadata": {},
   "source": [
    "### Evaluation\n",
    "\n",
    "##### Let's see how the model performed by looking at the score and how our model is making its correct and incorrect predictions"
   ]
  },
  {
   "cell_type": "code",
   "execution_count": null,
   "id": "1275bbee-36f1-4bfe-8211-15d02c61fd42",
   "metadata": {},
   "outputs": [],
   "source": []
  },
  {
   "cell_type": "code",
   "execution_count": 49,
   "id": "6c3119f5-a97c-497f-a58f-62d5a462ee82",
   "metadata": {},
   "outputs": [
    {
     "name": "stdout",
     "output_type": "stream",
     "text": [
      "Training data accuracy score: 0.9844\n",
      "Testing data accuracy score: 0.8932\n"
     ]
    }
   ],
   "source": [
    "# Getting the accuracy score for the first model seeing how it will perform on the training and test data\n",
    "model1_acc_train = model1.score(X_over_train, y_over_train) \n",
    "model1_acc_test = model1.score(X_test, y_test) \n",
    "\n",
    "print(f\"Training data accuracy score: {model1_acc_train:.4f}\")\n",
    "print(f\"Testing data accuracy score: {model1_acc_test:.4f}\")"
   ]
  },
  {
   "cell_type": "code",
   "execution_count": 50,
   "id": "c217b428-35ed-434f-94b9-4f9ddab6c1f8",
   "metadata": {},
   "outputs": [
    {
     "name": "stdout",
     "output_type": "stream",
     "text": [
      "Training data accuracy score: 1.0000\n",
      "Testing data accuracy score: 0.9327\n"
     ]
    }
   ],
   "source": [
    "# Getting the accuracy score for the Second model seeing how it will perform on the training and test data\n",
    "model2_acc_train = model2.score(X_over_train, y_over_train) \n",
    "model2_acc_test = model2.score(X_test, y_test) \n",
    "\n",
    "print(f\"Training data accuracy score: {model2_acc_train:.4f}\")\n",
    "print(f\"Testing data accuracy score: {model2_acc_test:.4f}\")"
   ]
  },
  {
   "cell_type": "markdown",
   "id": "5de3afc7-96fd-4851-a6de-a53f1e9a20f7",
   "metadata": {},
   "source": [
    "##### It can be seen that the GradientBoostingClassifier model gave a good accuracy score almost beating the baseline model score, but that doesn't tell the whole story about the result though. Yes, it really learnt the training data, and generalized well on the test data (data it has not seen).\n",
    "\n",
    "##### I will use Confusion matrix to try to get more information about the model result and to see how our model is making its correct and incorrect predictions."
   ]
  },
  {
   "cell_type": "markdown",
   "id": "f8ee0c3a-dd15-4e88-958c-3f322a510426",
   "metadata": {},
   "source": [
    "##### To better understand the values we'll see in the matrix, let's first count how many observations in our test set belong to the True and False classes."
   ]
  },
  {
   "cell_type": "code",
   "execution_count": 53,
   "id": "de931797-3458-4f2f-9b97-6a0b174ae908",
   "metadata": {},
   "outputs": [
    {
     "data": {
      "text/plain": [
       "status_label\n",
       "False    1621\n",
       "True      102\n",
       "Name: count, dtype: int64"
      ]
     },
     "execution_count": 53,
     "metadata": {},
     "output_type": "execute_result"
    }
   ],
   "source": [
    "y_test.value_counts()"
   ]
  },
  {
   "cell_type": "code",
   "execution_count": 54,
   "id": "a33da919-233d-48ea-969e-c8f856ad5d34",
   "metadata": {},
   "outputs": [
    {
     "data": {
      "image/png": "[encoded data removed]",
      "text/plain": [
       "<Figure size 640x480 with 2 Axes>"
      ]
     },
     "metadata": {},
     "output_type": "display_data"
    }
   ],
   "source": [
    "# the confusion matrix for the first model\n",
    "ConfusionMatrixDisplay.from_estimator(model1, X_test, y_test);"
   ]
  },
  {
   "cell_type": "code",
   "execution_count": 55,
   "id": "41fb4ed5-285e-4371-8e4a-8d5a001bdcc8",
   "metadata": {},
   "outputs": [
    {
     "name": "stdout",
     "output_type": "stream",
     "text": [
      "              precision    recall  f1-score   support\n",
      "\n",
      "       False       0.95      0.93      0.94      1621\n",
      "        True       0.21      0.29      0.25       102\n",
      "\n",
      "    accuracy                           0.89      1723\n",
      "   macro avg       0.58      0.61      0.59      1723\n",
      "weighted avg       0.91      0.89      0.90      1723\n",
      "\n"
     ]
    }
   ],
   "source": [
    "model_report = classification_report(y_test, model1.predict(X_test))\n",
    "print(model_report)"
   ]
  },
  {
   "cell_type": "code",
   "execution_count": 56,
   "id": "f248db90-feba-4850-9663-d517bae2239b",
   "metadata": {},
   "outputs": [
    {
     "data": {
      "image/png": "[encoded data removed]",
      "text/plain": [
       "<Figure size 640x480 with 2 Axes>"
      ]
     },
     "metadata": {},
     "output_type": "display_data"
    }
   ],
   "source": [
    "ConfusionMatrixDisplay.from_estimator(model2, X_test, y_test);"
   ]
  },
  {
   "cell_type": "code",
   "execution_count": 57,
   "id": "5f3c83bb-5898-4b80-8d29-4809ce103da4",
   "metadata": {},
   "outputs": [
    {
     "name": "stdout",
     "output_type": "stream",
     "text": [
      "              precision    recall  f1-score   support\n",
      "\n",
      "       False       0.95      0.98      0.96      1621\n",
      "        True       0.34      0.15      0.21       102\n",
      "\n",
      "    accuracy                           0.93      1723\n",
      "   macro avg       0.64      0.56      0.59      1723\n",
      "weighted avg       0.91      0.93      0.92      1723\n",
      "\n"
     ]
    }
   ],
   "source": [
    "class_report = classification_report(y_test, model2.predict(X_test))\n",
    "print(class_report)"
   ]
  },
  {
   "cell_type": "markdown",
   "id": "db67976d-6288-447f-9aea-61acef5aa20f",
   "metadata": {},
   "source": [
    "#### These matrix is a great reminder of how imbalanced our data is, and of why accuracy isn't always the best metric for judging whether or not a model is giving us what we want. Given that most of the data in the dataset indicates that companies didn't go bankrupt, after all having an accuracy score of 89% and 93% is good enough, but it still doesn't tell the whole story\n",
    "##### From the figures in the matrix above, the sum of the top row will give the number of companies that didn't go bankrupt which is **1509 + 112 = 1621\"**, **\"1592 + 29 = 1621\"**, and the bottom row will give the number of companies that went/would go bankrupt which is **72 + 30 = 102**, **\"87 + 15 = 102\"** for the first and second model respectively, and .\n",
    "##### This means that from the test dataset, the models could correctly predict that 1509/1621, 1592/1621 of the companies didn't go bankrupt and 112/1621, 29/1621 that it predicted would go bankrupt but didn't actually go bankrupt. Furthermore, the model correctly predicted that 30/102, 15/102 of the companies went bankrupt, and 72/102, 87/102 that it predicted would not go bankrupt, but actually went bankrupt\n",
    "\n",
    "##### The result of the first model shows a better **recall percentage of 29%, which isc better than the second model**. It favours a *regulatory agency* who help companies and investors navigate bankrupty/insolvency proceedings. The recall tries measure how well the model identifies observations that belong to potentially-bankrupt companies. So that the agency can send debtors information about filing for legal protection before their company becomes insolvent. The administrative cost of sending the mails is a lot cheaper than the legal cost if the company doesn't file for protection before bankruptcy.\n",
    "\n",
    "##### For example: If the Administrative cost of sending information is $$500\" and legal cost if bankruptcy protection was not filed is $40000\"\n",
    "For the first model, that would be:\n",
    "(Companies the model predicted would go bankrupt, but they did not): 117 * 500 = 56,000.\n",
    "(Companies the model predicted would not go bankrupt, but they did): 72 * 40,000 = 2,880,000.\n",
    "Total = $2,936,000\n",
    "\n",
    "For the second model, that would be:\n",
    "(Companies the model predicted would go bankrupt, but they did not): 29 * 500 = 14,500.\n",
    "(Companies the model predicted would not go bankrupt, but they did): 87 * 40,000 = 3,480,000.\n",
    "Total = $3,494,500."
   ]
  },
  {
   "cell_type": "code",
   "execution_count": null,
   "id": "12e544f9-a316-4e57-88c0-8777a95ec644",
   "metadata": {},
   "outputs": [],
   "source": []
  },
  {
   "cell_type": "markdown",
   "id": "eb09bff2-8eda-4b7e-8015-78be5be3184a",
   "metadata": {},
   "source": [
    "## Communication\n",
    "\n",
    "##### In this session, i will display the importance features that the models used to make it's prediction. Also visit the data dictionary to know the meaning of each column/features\n",
    "##### I will also save the model for develops to use to make predictions."
   ]
  },
  {
   "cell_type": "code",
   "execution_count": 60,
   "id": "dc363fcc-1409-4a14-8ada-34c821033b90",
   "metadata": {},
   "outputs": [],
   "source": [
    "# Gini importances for  model 1\n",
    "features1 = X_over_train.columns\n",
    "impt1 = model1.best_estimator_.feature_importances_\n",
    "feat_imp1 = pd.Series(impt1, index = features1).sort_values()\n",
    "\n",
    "# Gini importances for model 2\n",
    "features2 = X_over_train.columns\n",
    "impt2 = model2.best_estimator_.feature_importances_\n",
    "feat_imp2 = pd.Series(impt2, index = features2).sort_values()"
   ]
  },
  {
   "cell_type": "code",
   "execution_count": 61,
   "id": "815192e3-b601-4cf7-be38-df054ba4b935",
   "metadata": {},
   "outputs": [
    {
     "data": {
      "image/png": "[encoded data removed]",
      "text/plain": [
       "<Figure size 640x480 with 1 Axes>"
      ]
     },
     "metadata": {},
     "output_type": "display_data"
    }
   ],
   "source": [
    "feat_imp1.tail(10).plot(kind = \"barh\", title = \"Gini Importances\", xlabel = \"Importance\", ylabel = \"Features\");"
   ]
  },
  {
   "cell_type": "code",
   "execution_count": 62,
   "id": "b3ca9b9e-15df-46f8-a205-7963735c1223",
   "metadata": {},
   "outputs": [
    {
     "data": {
      "image/png": "[encoded data removed]",
      "text/plain": [
       "<Figure size 640x480 with 1 Axes>"
      ]
     },
     "metadata": {},
     "output_type": "display_data"
    }
   ],
   "source": [
    "feat_imp2.tail(10).plot(kind = \"barh\", title = \"Gini Importances\", xlabel = \"Importance\", ylabel = \"Features\");"
   ]
  },
  {
   "cell_type": "markdown",
   "id": "8dc7f110-000c-44a4-a6e4-c802e8ebafa6",
   "metadata": {},
   "source": [
    "**Saving the model1**"
   ]
  },
  {
   "cell_type": "code",
   "execution_count": 64,
   "id": "46a2720a-21d5-422e-ad3a-d1e3f7d7250a",
   "metadata": {},
   "outputs": [],
   "source": [
    "with open(\"American_bankrupcy_model-rfc-0-1.pkl\", \"wb\") as f:\n",
    "    pickle.dump(model1, f)"
   ]
  },
  {
   "cell_type": "markdown",
   "id": "a8c55b79-a3ac-410b-9ad0-aa24140e72eb",
   "metadata": {},
   "source": [
    "**Testing running the module for developers**"
   ]
  },
  {
   "cell_type": "code",
   "execution_count": 66,
   "id": "36a94ebd-5ebd-4e7d-ad32-64810c7a082e",
   "metadata": {},
   "outputs": [],
   "source": [
    "X_test.to_csv(\"American_bankruptcy_testset.csv\", index = True)"
   ]
  },
  {
   "cell_type": "code",
   "execution_count": 70,
   "id": "63107b37-521b-46cb-b687-91a80e79bfb2",
   "metadata": {},
   "outputs": [
    {
     "name": "stdout",
     "output_type": "stream",
     "text": [
      "predictions shape: (1723,)\n"
     ]
    },
    {
     "data": {
      "text/plain": [
       "company_name\n",
       "C_238     False\n",
       "C_2808    False\n",
       "C_8519    False\n",
       "C_3555    False\n",
       "C_7186    False\n",
       "Name: bankrupt, dtype: bool"
      ]
     },
     "execution_count": 70,
     "metadata": {},
     "output_type": "execute_result"
    }
   ],
   "source": [
    "from American_bankrupcy_test_model import make_predictions\n",
    "# Generate predictions\n",
    "y_test_pred = make_predictions(\n",
    "    data_filepath=\"C:/Users/HP/Documents/Stephen/DataScience_projects/American_bankruptcy_testset.csv\",\n",
    "    model_filepath=\"model-rfc-0-1.pkl\",\n",
    ")\n",
    "\n",
    "print(\"predictions shape:\", y_test_pred.shape)\n",
    "y_test_pred.head()"
   ]
  },
  {
   "cell_type": "code",
   "execution_count": null,
   "id": "0809707c-2f23-4015-a72d-f496dabef773",
   "metadata": {},
   "outputs": [],
   "source": []
  }
 ],
 "metadata": {
  "kernelspec": {
   "display_name": "Python 3 (ipykernel)",
   "language": "python",
   "name": "python3"
  },
  "language_info": {
   "codemirror_mode": {
    "name": "ipython",
    "version": 3
   },
   "file_extension": ".py",
   "mimetype": "text/x-python",
   "name": "python",
   "nbconvert_exporter": "python",
   "pygments_lexer": "ipython3",
   "version": "3.11.7"
  }
 },
 "nbformat": 4,
 "nbformat_minor": 5
}
